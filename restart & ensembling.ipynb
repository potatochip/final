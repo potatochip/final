{
 "cells": [
  {
   "cell_type": "code",
   "execution_count": 1,
   "metadata": {
    "collapsed": true
   },
   "outputs": [],
   "source": [
    "%matplotlib inline\n",
    "import matplotlib.pyplot as plt\n",
    "import seaborn as sns\n",
    "import numpy as np\n",
    "import pandas as pd\n",
    "from sklearn.cross_validation import cross_val_score\n",
    "import metrics\n",
    "from sklearn.cross_validation import train_test_split\n",
    "from sklearn.pipeline import Pipeline\n",
    "from sklearn.preprocessing import Normalizer\n",
    "from sklearn.preprocessing import StandardScaler\n",
    "from progressbar import ProgressBar\n",
    "import data_grab\n",
    "from time import time\n",
    "from sklearn.decomposition import TruncatedSVD\n",
    "\n",
    "from sklearn.externals import joblib\n",
    "from scipy.sparse import csr_matrix, hstack\n",
    "from sklearn.feature_selection import VarianceThreshold\n",
    "from sklearn.preprocessing import OneHotEncoder, LabelEncoder, LabelBinarizer\n",
    "from multiprocessing import Pool, Process, Manager\n",
    "\n",
    "plt.rcParams[\"figure.figsize\"] = (10, 8)"
   ]
  },
  {
   "cell_type": "code",
   "execution_count": 2,
   "metadata": {
    "collapsed": true
   },
   "outputs": [],
   "source": [
    "def contest_metric(numpy_array_predictions, numpy_array_actual_values):\n",
    "    return metrics.weighted_rmsle(numpy_array_predictions, numpy_array_actual_values,\n",
    "            weights=metrics.KEEPING_IT_CLEAN_WEIGHTS)"
   ]
  },
  {
   "cell_type": "code",
   "execution_count": 3,
   "metadata": {
    "collapsed": true
   },
   "outputs": [],
   "source": [
    "def contest_scoring(X, y, pipeline):\n",
    "    X_train, X_test, y_train, y_test = train_test_split(X, y, random_state=42)\n",
    "    s1 = pipeline.fit(X_train, y_train['score_lvl_1']).predict(X_test)\n",
    "    s2 = pipeline.fit(X_train, y_train['score_lvl_2']).predict(X_test)\n",
    "    s3 = pipeline.fit(X_train, y_train['score_lvl_3']).predict(X_test)\n",
    "    results = np.dstack((s1, s2, s3))\n",
    "    score = contest_metric(np.round(results[0]), np.array(y_test))\n",
    "    print(\"Contest score of {}\".format(score))\n",
    "    return score"
   ]
  },
  {
   "cell_type": "code",
   "execution_count": 4,
   "metadata": {
    "collapsed": true
   },
   "outputs": [],
   "source": [
    "from sklearn.metrics import accuracy_score\n",
    "\n",
    "def raw_scoring(p1, p2, p3, ytrue):\n",
    "    '''since cross_val_score doesn't allow you to round the results beforehand. also for pymc3 and other non-sklearn models'''\n",
    "    score1 = accuracy_score(ytrue['score_lvl_1'], np.clip(np.round(p1), 0, np.inf))\n",
    "    print(\"Level 1 accuracy score of {}\".format(score1))\n",
    "    score2 = accuracy_score(ytrue['score_lvl_2'],np.clip(np.round(p2), 0, np.inf))\n",
    "    print(\"Level 2 accuracy score of {}\".format(score2))\n",
    "    score3 = accuracy_score(ytrue['score_lvl_3'], np.clip(np.round(p3), 0, np.inf))\n",
    "    print(\"Level 3 accuracy score of {}\".format(score3))\n",
    "    \n",
    "    results = np.dstack((p1, p2, p3))[0]\n",
    "    rounded = np.clip(np.round(results), 0, np.inf)\n",
    "    score = contest_metric(rounded, np.array(ytrue))\n",
    "    print(\"Contest score of {}\".format(score))\n",
    "    \n",
    "    compare = pd.concat([pd.DataFrame(np.concatenate((results, rounded), axis=1)), ytrue.reset_index(drop=True)], axis=1)\n",
    "    compare.columns = ['pred1','pred2','pred3','round1','round2','round3','true1','true2','true3']\n",
    "    compare['offset1'] = compare.round1-compare.true1\n",
    "    compare['offset2'] = compare.round2-compare.true2\n",
    "    compare['offset3'] = compare.round3-compare.true3\n",
    "        \n",
    "    return score1, score2, score3, score, compare.head(10)\n",
    "\n",
    "    \n",
    "def raw_fit(X, y, pipeline):\n",
    "    xtrain, xtest, ytrain, ytest = train_test_split(X, y, random_state=42)\n",
    "    \n",
    "    p1 = pipeline.fit(xtrain, ytrain['score_lvl_1']).predict(xtest)\n",
    "    p2 = pipeline.fit(xtrain, ytrain['score_lvl_2']).predict(xtest)\n",
    "    p3 = pipeline.fit(xtrain, ytrain['score_lvl_3']).predict(xtest)\n",
    "        \n",
    "    return p1, p2, p3, ytest"
   ]
  },
  {
   "cell_type": "code",
   "execution_count": 5,
   "metadata": {
    "collapsed": true
   },
   "outputs": [],
   "source": [
    "def extract_features(df):\n",
    "    features = df.drop(['score_lvl_1', 'score_lvl_2', 'score_lvl_3'], axis=1)\n",
    "    response = df[['score_lvl_1', 'score_lvl_2', 'score_lvl_3']].astype(np.int8)\n",
    "    \n",
    "    return features, response"
   ]
  },
  {
   "cell_type": "code",
   "execution_count": 6,
   "metadata": {
    "collapsed": true
   },
   "outputs": [],
   "source": [
    "final = pd.read_pickle('pickle_jar/final_no_tfidf_or_restaurant_id')\n",
    "# df = pd.read_pickle('pickle_jar/pre-pivot_365')\n",
    "# df = pd.read_pickle('pickle_jar/pre-pivot_all_non_review')\n",
    "df = pd.read_pickle('pickle_jar/post-pivot_non_review_data_365')"
   ]
  },
  {
   "cell_type": "code",
   "execution_count": 347,
   "metadata": {
    "collapsed": false
   },
   "outputs": [],
   "source": [
    "combo = pd.read_pickle('pickle_jar/pre-pivot_all_review_combo_365')"
   ]
  },
  {
   "cell_type": "code",
   "execution_count": null,
   "metadata": {
    "collapsed": true
   },
   "outputs": [],
   "source": []
  },
  {
   "cell_type": "code",
   "execution_count": null,
   "metadata": {
    "collapsed": false
   },
   "outputs": [],
   "source": []
  },
  {
   "cell_type": "markdown",
   "metadata": {},
   "source": [
    "## convert train dataframe to 365 days and prepare for pivot"
   ]
  },
  {
   "cell_type": "code",
   "execution_count": 267,
   "metadata": {
    "collapsed": true
   },
   "outputs": [],
   "source": [
    "df = data_grab.get_selects('train')"
   ]
  },
  {
   "cell_type": "code",
   "execution_count": 268,
   "metadata": {
    "collapsed": false
   },
   "outputs": [],
   "source": [
    "# not getting rid of everything. not getting rid of ancient reviews if they correspond with an ancient inspection.\n",
    "# just getting rid of ancient reviews in relation to a specific inspection\n",
    "df = df[df.review_delta <= 365]"
   ]
  },
  {
   "cell_type": "code",
   "execution_count": 269,
   "metadata": {
    "collapsed": false
   },
   "outputs": [],
   "source": [
    "# making a column that enumerates the sorted review delta.\n",
    "# removes any nans (usually marked as such because the reviews happend after an inspection date) beforehand.\n",
    "# this can completely remove a restaurant if it has no reviews left after nan drop. might add back in later\n",
    "df = df.sort('review_delta')\n",
    "df2 = df.dropna(subset=['review_delta']).groupby('inspection_id').cumcount()"
   ]
  },
  {
   "cell_type": "code",
   "execution_count": 270,
   "metadata": {
    "collapsed": false
   },
   "outputs": [],
   "source": [
    "# df3 = pd.concat([df.dropna(subset=['review_delta']), df2], axis=1)\n",
    "df = pd.concat([df.dropna(subset=['review_delta']), df2], axis=1)"
   ]
  },
  {
   "cell_type": "code",
   "execution_count": 271,
   "metadata": {
    "collapsed": false
   },
   "outputs": [],
   "source": [
    "df = df.rename(columns={0:'enumerated_review_delta'})\n",
    "del df2"
   ]
  },
  {
   "cell_type": "code",
   "execution_count": 272,
   "metadata": {
    "collapsed": false
   },
   "outputs": [],
   "source": [
    "# add back in the restaurants that were completely removed because none of their reviews were\n",
    "# not a significant loss in the number of restaurants. going to just leave it out for now\n",
    "# mask = list(set(df.restaurant_id) - set(df3.restaurant_id))\n",
    "# pd.concat([df[df.restaurant_id.isin(mask)], df3])"
   ]
  },
  {
   "cell_type": "code",
   "execution_count": 273,
   "metadata": {
    "collapsed": false
   },
   "outputs": [
    {
     "data": {
      "text/plain": [
       "(500936, 138)"
      ]
     },
     "execution_count": 273,
     "metadata": {},
     "output_type": "execute_result"
    }
   ],
   "source": [
    "df.shape"
   ]
  },
  {
   "cell_type": "code",
   "execution_count": 86,
   "metadata": {
    "collapsed": false
   },
   "outputs": [],
   "source": [
    "just_review_data = df[[ \n",
    " 'inspection_id',\n",
    " 'enumerated_review_delta',\n",
    "#  'review_id',\n",
    " 'review_delta', \n",
    "#  'review_date', \n",
    " 'review_stars',\n",
    " 'review_text',\n",
    "#  'user_id',\n",
    " 'review_votes_cool',\n",
    " 'review_votes_funny',\n",
    " 'review_votes_useful',\n",
    " 'user_average_stars',\n",
    "#  'user_fans',\n",
    " 'user_review_count',\n",
    "#  'user_votes_cool',\n",
    "#  'user_votes_funny',\n",
    "#  'user_votes_useful',\n",
    " 'user_yelping_since_delta',\n",
    "#  'review_year',\n",
    "#  'review_month',\n",
    "#  'review_day',\n",
    "#  'review_dayofweek',\n",
    "#  'review_quarter',\n",
    "#  'review_dayofyear',\n",
    " 'user_ever_elite',\n",
    " ]]"
   ]
  },
  {
   "cell_type": "code",
   "execution_count": 88,
   "metadata": {
    "collapsed": false
   },
   "outputs": [],
   "source": [
    "df.drop([ 'review_delta',\n",
    " 'review_stars',\n",
    " 'review_text',\n",
    " 'review_votes_cool',\n",
    " 'review_votes_funny',\n",
    " 'review_votes_useful',\n",
    " 'user_average_stars',\n",
    " 'user_fans',\n",
    " 'user_review_count',\n",
    " 'user_votes_cool',\n",
    " 'user_votes_funny',\n",
    " 'user_votes_useful',\n",
    " 'user_yelping_since_delta',\n",
    " 'user_ever_elite'], axis=1, inplace=True)\n",
    "df.drop(['review_date',\n",
    " 'review_id',\n",
    " 'user_id',\n",
    " 'user_compliments_cool',\n",
    " 'user_compliments_cute',\n",
    " 'user_compliments_funny',\n",
    " 'user_compliments_hot',\n",
    " 'user_compliments_list',\n",
    " 'user_compliments_more',\n",
    " 'user_compliments_note',\n",
    " 'user_compliments_photos',\n",
    " 'user_compliments_plain',\n",
    " 'user_compliments_profile',\n",
    " 'user_compliments_writer',\n",
    " 'user_name', 'review_year',\n",
    " 'review_month',\n",
    " 'review_day',\n",
    " 'review_dayofweek',\n",
    " 'review_quarter',\n",
    " 'review_dayofyear','user_most_recent_elite_year_delta',], axis=1, inplace=True)\n",
    "df.drop('enumerated_review_delta', axis=1, inplace=True)"
   ]
  },
  {
   "cell_type": "code",
   "execution_count": 274,
   "metadata": {
    "collapsed": false
   },
   "outputs": [],
   "source": [
    "g = df.groupby('inspection_id').first()"
   ]
  },
  {
   "cell_type": "code",
   "execution_count": 275,
   "metadata": {
    "collapsed": true
   },
   "outputs": [],
   "source": [
    "# g.reset_index().sort('inspection_id').to_pickle('pickle_jar/post-pivot_full_365')"
   ]
  },
  {
   "cell_type": "code",
   "execution_count": 92,
   "metadata": {
    "collapsed": false
   },
   "outputs": [],
   "source": [
    "g.reset_index().sort('inspection_id').to_pickle('pickle_jar/post-pivot_non_review_data_365')"
   ]
  },
  {
   "cell_type": "code",
   "execution_count": 33,
   "metadata": {
    "collapsed": false
   },
   "outputs": [],
   "source": [
    "df.sort('inspection_id').to_pickle('pickle_jar/pre-pivot_all_non_review')"
   ]
  },
  {
   "cell_type": "code",
   "execution_count": 44,
   "metadata": {
    "collapsed": false
   },
   "outputs": [],
   "source": [
    "# this removes all the nans left. review stars as nans because reviews and tips combined and tips didnt give a star rating\n",
    "# planning to treat this as a categorical variable later so making it zero shouldnt affect anything\n",
    "just_review_data.review_stars = just_review_data.review_stars.fillna(0)"
   ]
  },
  {
   "cell_type": "code",
   "execution_count": 45,
   "metadata": {
    "collapsed": false
   },
   "outputs": [],
   "source": [
    "just_review_data.sort(['inspection_id', 'enumerated_review_delta']).to_pickle('pickle_jar/pre-pivot_365')"
   ]
  },
  {
   "cell_type": "code",
   "execution_count": 108,
   "metadata": {
    "collapsed": false
   },
   "outputs": [],
   "source": []
  },
  {
   "cell_type": "code",
   "execution_count": null,
   "metadata": {
    "collapsed": false
   },
   "outputs": [],
   "source": []
  },
  {
   "cell_type": "code",
   "execution_count": 293,
   "metadata": {
    "collapsed": false
   },
   "outputs": [],
   "source": []
  },
  {
   "cell_type": "markdown",
   "metadata": {},
   "source": [
    "## combine sentiment and similarity with pre-pivot 365 review related data into one dataframe for pivoting"
   ]
  },
  {
   "cell_type": "code",
   "execution_count": 46,
   "metadata": {
    "collapsed": false
   },
   "outputs": [],
   "source": [
    "sentiment = pd.read_pickle('pickle_jar/review_text_sentiment_pivot')\n",
    "similarity = pd.read_pickle('pickle_jar/similarity_length_pivot')"
   ]
  },
  {
   "cell_type": "code",
   "execution_count": 47,
   "metadata": {
    "collapsed": false
   },
   "outputs": [],
   "source": [
    "sentiment = sentiment[['inspection_id', 'enumerated_review_delta', 'polarity', 'subjectivity', 'neg', 'neu', 'pos', 'compound']]"
   ]
  },
  {
   "cell_type": "code",
   "execution_count": 48,
   "metadata": {
    "collapsed": false
   },
   "outputs": [],
   "source": [
    "similarity.drop(['review_delta', 'review_stars', 'review_text', 'review_votes_cool', 'review_votes_funny',\n",
    "                 'review_votes_useful', 'user_average_stars', 'user_fans', 'user_review_count', 'user_votes_cool', \n",
    "                 'user_votes_funny', 'user_votes_useful', 'user_yelping_since_delta', 'user_ever_elite',\n",
    "                 'preprocessed_review_text'], axis=1, inplace=True)"
   ]
  },
  {
   "cell_type": "code",
   "execution_count": 49,
   "metadata": {
    "collapsed": false
   },
   "outputs": [],
   "source": [
    "combo = pd.merge(sentiment, similarity, on=['inspection_id', 'enumerated_review_delta'])"
   ]
  },
  {
   "cell_type": "code",
   "execution_count": 50,
   "metadata": {
    "collapsed": false
   },
   "outputs": [
    {
     "name": "stderr",
     "output_type": "stream",
     "text": [
      "/Users/amangum/anaconda/envs/datasci/lib/python2.7/site-packages/IPython/kernel/__main__.py:1: SettingWithCopyWarning: \n",
      "A value is trying to be set on a copy of a slice from a DataFrame\n",
      "\n",
      "See the the caveats in the documentation: http://pandas.pydata.org/pandas-docs/stable/indexing.html#indexing-view-versus-copy\n",
      "  if __name__ == '__main__':\n"
     ]
    }
   ],
   "source": [
    "just_review_data.drop('review_text', axis=1, inplace=True)"
   ]
  },
  {
   "cell_type": "code",
   "execution_count": 51,
   "metadata": {
    "collapsed": false
   },
   "outputs": [],
   "source": [
    "combo = pd.merge(combo, just_review_data, on=['inspection_id', 'enumerated_review_delta'])"
   ]
  },
  {
   "cell_type": "code",
   "execution_count": 56,
   "metadata": {
    "collapsed": true
   },
   "outputs": [],
   "source": [
    "combo.sort(['inspection_id', 'enumerated_review_delta']).reset_index(drop=True).to_pickle('pickle_jar/pre-pivot_all_review_combo_365')"
   ]
  },
  {
   "cell_type": "code",
   "execution_count": null,
   "metadata": {
    "collapsed": false
   },
   "outputs": [],
   "source": []
  },
  {
   "cell_type": "code",
   "execution_count": null,
   "metadata": {
    "collapsed": true
   },
   "outputs": [],
   "source": []
  },
  {
   "cell_type": "code",
   "execution_count": null,
   "metadata": {
    "collapsed": true
   },
   "outputs": [],
   "source": []
  },
  {
   "cell_type": "code",
   "execution_count": null,
   "metadata": {
    "collapsed": false
   },
   "outputs": [],
   "source": []
  },
  {
   "cell_type": "code",
   "execution_count": null,
   "metadata": {
    "collapsed": true
   },
   "outputs": [],
   "source": []
  },
  {
   "cell_type": "markdown",
   "metadata": {
    "collapsed": true
   },
   "source": [
    "## trustworthiness index"
   ]
  },
  {
   "cell_type": "code",
   "execution_count": 7,
   "metadata": {
    "collapsed": false
   },
   "outputs": [],
   "source": [
    "def log_it(x):\n",
    "#     second_min = x[x != x.min()].min()\n",
    "#     x.replace(x.min(), second_min/2, inplace=True)\n",
    "#     return np.log(x)\n",
    "    x = x + 1\n",
    "    return np.log(x)\n",
    "\n",
    "norm = Normalizer()"
   ]
  },
  {
   "cell_type": "code",
   "execution_count": 8,
   "metadata": {
    "collapsed": false
   },
   "outputs": [],
   "source": [
    "# making trustworthiness feature\n",
    "trust = combo[['inspection_id', 'enumerated_review_delta', 'subjectivity',\n",
    " 'review_votes_cool',\n",
    " 'review_votes_funny',\n",
    " 'review_votes_useful',\n",
    " 'user_average_stars',\n",
    " 'user_review_count',\n",
    " 'user_yelping_since_delta',\n",
    " 'user_ever_elite']]"
   ]
  },
  {
   "cell_type": "code",
   "execution_count": 9,
   "metadata": {
    "collapsed": false
   },
   "outputs": [
    {
     "name": "stderr",
     "output_type": "stream",
     "text": [
      "/Users/amangum/anaconda/envs/datasci/lib/python2.7/site-packages/IPython/kernel/__main__.py:1: SettingWithCopyWarning: \n",
      "A value is trying to be set on a copy of a slice from a DataFrame.\n",
      "Try using .loc[row_indexer,col_indexer] = value instead\n",
      "\n",
      "See the the caveats in the documentation: http://pandas.pydata.org/pandas-docs/stable/indexing.html#indexing-view-versus-copy\n",
      "  if __name__ == '__main__':\n",
      "/Users/amangum/anaconda/envs/datasci/lib/python2.7/site-packages/IPython/kernel/__main__.py:2: SettingWithCopyWarning: \n",
      "A value is trying to be set on a copy of a slice from a DataFrame\n",
      "\n",
      "See the the caveats in the documentation: http://pandas.pydata.org/pandas-docs/stable/indexing.html#indexing-view-versus-copy\n",
      "  from IPython.kernel.zmq import kernelapp as app\n",
      "/Users/amangum/anaconda/envs/datasci/lib/python2.7/site-packages/IPython/kernel/__main__.py:5: SettingWithCopyWarning: \n",
      "A value is trying to be set on a copy of a slice from a DataFrame.\n",
      "Try using .loc[row_indexer,col_indexer] = value instead\n",
      "\n",
      "See the the caveats in the documentation: http://pandas.pydata.org/pandas-docs/stable/indexing.html#indexing-view-versus-copy\n",
      "/Users/amangum/anaconda/envs/datasci/lib/python2.7/site-packages/IPython/kernel/__main__.py:7: SettingWithCopyWarning: \n",
      "A value is trying to be set on a copy of a slice from a DataFrame\n",
      "\n",
      "See the the caveats in the documentation: http://pandas.pydata.org/pandas-docs/stable/indexing.html#indexing-view-versus-copy\n",
      "/Users/amangum/anaconda/envs/datasci/lib/python2.7/site-packages/pandas/core/generic.py:2859: SettingWithCopyWarning: \n",
      "A value is trying to be set on a copy of a slice from a DataFrame\n",
      "\n",
      "See the the caveats in the documentation: http://pandas.pydata.org/pandas-docs/stable/indexing.html#indexing-view-versus-copy\n",
      "  self._update_inplace(new_data)\n",
      "/Users/amangum/anaconda/envs/datasci/lib/python2.7/site-packages/IPython/kernel/__main__.py:13: SettingWithCopyWarning: \n",
      "A value is trying to be set on a copy of a slice from a DataFrame.\n",
      "Try using .loc[row_indexer,col_indexer] = value instead\n",
      "\n",
      "See the the caveats in the documentation: http://pandas.pydata.org/pandas-docs/stable/indexing.html#indexing-view-versus-copy\n",
      "/Users/amangum/anaconda/envs/datasci/lib/python2.7/site-packages/IPython/kernel/__main__.py:14: SettingWithCopyWarning: \n",
      "A value is trying to be set on a copy of a slice from a DataFrame\n",
      "\n",
      "See the the caveats in the documentation: http://pandas.pydata.org/pandas-docs/stable/indexing.html#indexing-view-versus-copy\n",
      "/Users/amangum/anaconda/envs/datasci/lib/python2.7/site-packages/IPython/kernel/__main__.py:16: SettingWithCopyWarning: \n",
      "A value is trying to be set on a copy of a slice from a DataFrame.\n",
      "Try using .loc[row_indexer,col_indexer] = value instead\n",
      "\n",
      "See the the caveats in the documentation: http://pandas.pydata.org/pandas-docs/stable/indexing.html#indexing-view-versus-copy\n"
     ]
    }
   ],
   "source": [
    "trust['objectivity'] = 1 - trust.subjectivity\n",
    "trust.drop('subjectivity', axis=1, inplace=True)\n",
    "\n",
    "# trust['review_votes']  = log_it(trust.review_votes_useful)*3 + log_it(trust.review_votes_funny)*2 + log_it(trust.review_votes_cool)\n",
    "trust['review_votes'] = log_it(trust.review_votes_useful*3 + trust.review_votes_funny*2 + trust.review_votes_cool)\n",
    "# trust['review_votes'] = log_it(trust.review_votes_useful) + log_it(trust.review_votes_funny) + log_it(trust.review_votes_cool)\n",
    "trust.drop(['review_votes_cool', 'review_votes_funny', 'review_votes_useful'], axis=1, inplace=True)\n",
    "\n",
    "trust.user_yelping_since_delta.replace(0, 1, inplace=True)\n",
    "normalized_history = trust.user_yelping_since_delta / trust.user_yelping_since_delta.max()\n",
    "normalized_review_count = trust.user_review_count / trust.user_review_count.max()\n",
    "# fixes where someone who wrote 2 reviews in two days would get a higher score than someone who wrote 1000 reviews in 2000 days\n",
    "trust['user_activity_level'] = normalized_review_count / (1.1 - normalized_history) + trust.user_ever_elite\n",
    "trust.drop(['user_yelping_since_delta', 'user_review_count', 'user_ever_elite'], axis=1, inplace=True)\n",
    "\n",
    "trust['anger_index'] = trust.user_activity_level / (trust.user_average_stars + 0.1)"
   ]
  },
  {
   "cell_type": "code",
   "execution_count": 10,
   "metadata": {
    "collapsed": false
   },
   "outputs": [
    {
     "name": "stderr",
     "output_type": "stream",
     "text": [
      "/Users/amangum/anaconda/envs/datasci/lib/python2.7/site-packages/IPython/kernel/__main__.py:1: SettingWithCopyWarning: \n",
      "A value is trying to be set on a copy of a slice from a DataFrame.\n",
      "Try using .loc[row_indexer,col_indexer] = value instead\n",
      "\n",
      "See the the caveats in the documentation: http://pandas.pydata.org/pandas-docs/stable/indexing.html#indexing-view-versus-copy\n",
      "  if __name__ == '__main__':\n"
     ]
    }
   ],
   "source": [
    "trust['trust_index'] = trust.objectivity * trust.user_activity_level"
   ]
  },
  {
   "cell_type": "code",
   "execution_count": 11,
   "metadata": {
    "collapsed": false
   },
   "outputs": [
    {
     "data": {
      "text/html": [
       "<div>\n",
       "<table border=\"1\" class=\"dataframe\">\n",
       "  <thead>\n",
       "    <tr style=\"text-align: right;\">\n",
       "      <th></th>\n",
       "      <th>inspection_id</th>\n",
       "      <th>enumerated_review_delta</th>\n",
       "      <th>user_average_stars</th>\n",
       "      <th>objectivity</th>\n",
       "      <th>review_votes</th>\n",
       "      <th>user_activity_level</th>\n",
       "      <th>anger_index</th>\n",
       "      <th>trust_index</th>\n",
       "    </tr>\n",
       "  </thead>\n",
       "  <tbody>\n",
       "    <tr>\n",
       "      <th>0</th>\n",
       "      <td>0</td>\n",
       "      <td>0</td>\n",
       "      <td>4.48</td>\n",
       "      <td>0.286607</td>\n",
       "      <td>1.386294</td>\n",
       "      <td>1.033438</td>\n",
       "      <td>0.225641</td>\n",
       "      <td>0.296191</td>\n",
       "    </tr>\n",
       "    <tr>\n",
       "      <th>1</th>\n",
       "      <td>0</td>\n",
       "      <td>1</td>\n",
       "      <td>3.85</td>\n",
       "      <td>0.504062</td>\n",
       "      <td>2.397895</td>\n",
       "      <td>1.153286</td>\n",
       "      <td>0.291971</td>\n",
       "      <td>0.581327</td>\n",
       "    </tr>\n",
       "    <tr>\n",
       "      <th>2</th>\n",
       "      <td>1</td>\n",
       "      <td>0</td>\n",
       "      <td>3.44</td>\n",
       "      <td>0.481422</td>\n",
       "      <td>4.025352</td>\n",
       "      <td>1.187711</td>\n",
       "      <td>0.335512</td>\n",
       "      <td>0.571790</td>\n",
       "    </tr>\n",
       "    <tr>\n",
       "      <th>3</th>\n",
       "      <td>1</td>\n",
       "      <td>1</td>\n",
       "      <td>3.93</td>\n",
       "      <td>0.492424</td>\n",
       "      <td>1.386294</td>\n",
       "      <td>0.005441</td>\n",
       "      <td>0.001350</td>\n",
       "      <td>0.002679</td>\n",
       "    </tr>\n",
       "    <tr>\n",
       "      <th>4</th>\n",
       "      <td>1</td>\n",
       "      <td>2</td>\n",
       "      <td>3.66</td>\n",
       "      <td>0.422593</td>\n",
       "      <td>1.386294</td>\n",
       "      <td>1.173685</td>\n",
       "      <td>0.312150</td>\n",
       "      <td>0.495991</td>\n",
       "    </tr>\n",
       "  </tbody>\n",
       "</table>\n",
       "</div>"
      ],
      "text/plain": [
       "   inspection_id  enumerated_review_delta  user_average_stars  objectivity  \\\n",
       "0              0                        0                4.48     0.286607   \n",
       "1              0                        1                3.85     0.504062   \n",
       "2              1                        0                3.44     0.481422   \n",
       "3              1                        1                3.93     0.492424   \n",
       "4              1                        2                3.66     0.422593   \n",
       "\n",
       "   review_votes  user_activity_level  anger_index  trust_index  \n",
       "0      1.386294             1.033438     0.225641     0.296191  \n",
       "1      2.397895             1.153286     0.291971     0.581327  \n",
       "2      4.025352             1.187711     0.335512     0.571790  \n",
       "3      1.386294             0.005441     0.001350     0.002679  \n",
       "4      1.386294             1.173685     0.312150     0.495991  "
      ]
     },
     "execution_count": 11,
     "metadata": {},
     "output_type": "execute_result"
    }
   ],
   "source": [
    "trust.head()"
   ]
  },
  {
   "cell_type": "code",
   "execution_count": null,
   "metadata": {
    "collapsed": true
   },
   "outputs": [],
   "source": []
  },
  {
   "cell_type": "code",
   "execution_count": null,
   "metadata": {
    "collapsed": true
   },
   "outputs": [],
   "source": []
  },
  {
   "cell_type": "code",
   "execution_count": null,
   "metadata": {
    "collapsed": true
   },
   "outputs": [],
   "source": []
  },
  {
   "cell_type": "markdown",
   "metadata": {
    "collapsed": true
   },
   "source": [
    "## pivot reviews out"
   ]
  },
  {
   "cell_type": "code",
   "execution_count": 37,
   "metadata": {
    "collapsed": true
   },
   "outputs": [],
   "source": []
  },
  {
   "cell_type": "code",
   "execution_count": 45,
   "metadata": {
    "collapsed": false
   },
   "outputs": [
    {
     "data": {
      "text/html": [
       "<div>\n",
       "<table border=\"1\" class=\"dataframe\">\n",
       "  <thead>\n",
       "    <tr>\n",
       "      <th></th>\n",
       "      <th colspan=\"10\" halign=\"left\">polarity</th>\n",
       "      <th>...</th>\n",
       "      <th colspan=\"10\" halign=\"left\">user_ever_elite</th>\n",
       "    </tr>\n",
       "    <tr>\n",
       "      <th>enumerated_review_delta</th>\n",
       "      <th>0</th>\n",
       "      <th>1</th>\n",
       "      <th>2</th>\n",
       "      <th>3</th>\n",
       "      <th>4</th>\n",
       "      <th>5</th>\n",
       "      <th>6</th>\n",
       "      <th>7</th>\n",
       "      <th>8</th>\n",
       "      <th>9</th>\n",
       "      <th>...</th>\n",
       "      <th>435</th>\n",
       "      <th>436</th>\n",
       "      <th>437</th>\n",
       "      <th>438</th>\n",
       "      <th>439</th>\n",
       "      <th>440</th>\n",
       "      <th>441</th>\n",
       "      <th>442</th>\n",
       "      <th>443</th>\n",
       "      <th>444</th>\n",
       "    </tr>\n",
       "    <tr>\n",
       "      <th>inspection_id</th>\n",
       "      <th></th>\n",
       "      <th></th>\n",
       "      <th></th>\n",
       "      <th></th>\n",
       "      <th></th>\n",
       "      <th></th>\n",
       "      <th></th>\n",
       "      <th></th>\n",
       "      <th></th>\n",
       "      <th></th>\n",
       "      <th></th>\n",
       "      <th></th>\n",
       "      <th></th>\n",
       "      <th></th>\n",
       "      <th></th>\n",
       "      <th></th>\n",
       "      <th></th>\n",
       "      <th></th>\n",
       "      <th></th>\n",
       "      <th></th>\n",
       "      <th></th>\n",
       "    </tr>\n",
       "  </thead>\n",
       "  <tbody>\n",
       "    <tr>\n",
       "      <th>0</th>\n",
       "      <td>0.222946</td>\n",
       "      <td>0.237602</td>\n",
       "      <td>NaN</td>\n",
       "      <td>NaN</td>\n",
       "      <td>NaN</td>\n",
       "      <td>NaN</td>\n",
       "      <td>NaN</td>\n",
       "      <td>NaN</td>\n",
       "      <td>NaN</td>\n",
       "      <td>NaN</td>\n",
       "      <td>...</td>\n",
       "      <td>NaN</td>\n",
       "      <td>NaN</td>\n",
       "      <td>NaN</td>\n",
       "      <td>NaN</td>\n",
       "      <td>NaN</td>\n",
       "      <td>NaN</td>\n",
       "      <td>NaN</td>\n",
       "      <td>NaN</td>\n",
       "      <td>NaN</td>\n",
       "      <td>NaN</td>\n",
       "    </tr>\n",
       "    <tr>\n",
       "      <th>1</th>\n",
       "      <td>0.189981</td>\n",
       "      <td>0.115152</td>\n",
       "      <td>0.324259</td>\n",
       "      <td>NaN</td>\n",
       "      <td>NaN</td>\n",
       "      <td>NaN</td>\n",
       "      <td>NaN</td>\n",
       "      <td>NaN</td>\n",
       "      <td>NaN</td>\n",
       "      <td>NaN</td>\n",
       "      <td>...</td>\n",
       "      <td>NaN</td>\n",
       "      <td>NaN</td>\n",
       "      <td>NaN</td>\n",
       "      <td>NaN</td>\n",
       "      <td>NaN</td>\n",
       "      <td>NaN</td>\n",
       "      <td>NaN</td>\n",
       "      <td>NaN</td>\n",
       "      <td>NaN</td>\n",
       "      <td>NaN</td>\n",
       "    </tr>\n",
       "    <tr>\n",
       "      <th>2</th>\n",
       "      <td>0.005025</td>\n",
       "      <td>-0.234226</td>\n",
       "      <td>0.700000</td>\n",
       "      <td>0.158102</td>\n",
       "      <td>0.019551</td>\n",
       "      <td>0.255694</td>\n",
       "      <td>0.25</td>\n",
       "      <td>0.343308</td>\n",
       "      <td>0.173016</td>\n",
       "      <td>NaN</td>\n",
       "      <td>...</td>\n",
       "      <td>NaN</td>\n",
       "      <td>NaN</td>\n",
       "      <td>NaN</td>\n",
       "      <td>NaN</td>\n",
       "      <td>NaN</td>\n",
       "      <td>NaN</td>\n",
       "      <td>NaN</td>\n",
       "      <td>NaN</td>\n",
       "      <td>NaN</td>\n",
       "      <td>NaN</td>\n",
       "    </tr>\n",
       "    <tr>\n",
       "      <th>7</th>\n",
       "      <td>0.193750</td>\n",
       "      <td>NaN</td>\n",
       "      <td>NaN</td>\n",
       "      <td>NaN</td>\n",
       "      <td>NaN</td>\n",
       "      <td>NaN</td>\n",
       "      <td>NaN</td>\n",
       "      <td>NaN</td>\n",
       "      <td>NaN</td>\n",
       "      <td>NaN</td>\n",
       "      <td>...</td>\n",
       "      <td>NaN</td>\n",
       "      <td>NaN</td>\n",
       "      <td>NaN</td>\n",
       "      <td>NaN</td>\n",
       "      <td>NaN</td>\n",
       "      <td>NaN</td>\n",
       "      <td>NaN</td>\n",
       "      <td>NaN</td>\n",
       "      <td>NaN</td>\n",
       "      <td>NaN</td>\n",
       "    </tr>\n",
       "    <tr>\n",
       "      <th>8</th>\n",
       "      <td>0.214286</td>\n",
       "      <td>-0.059524</td>\n",
       "      <td>0.166833</td>\n",
       "      <td>0.030000</td>\n",
       "      <td>0.259574</td>\n",
       "      <td>0.500000</td>\n",
       "      <td>NaN</td>\n",
       "      <td>NaN</td>\n",
       "      <td>NaN</td>\n",
       "      <td>NaN</td>\n",
       "      <td>...</td>\n",
       "      <td>NaN</td>\n",
       "      <td>NaN</td>\n",
       "      <td>NaN</td>\n",
       "      <td>NaN</td>\n",
       "      <td>NaN</td>\n",
       "      <td>NaN</td>\n",
       "      <td>NaN</td>\n",
       "      <td>NaN</td>\n",
       "      <td>NaN</td>\n",
       "      <td>NaN</td>\n",
       "    </tr>\n",
       "  </tbody>\n",
       "</table>\n",
       "<p>5 rows × 31150 columns</p>\n",
       "</div>"
      ],
      "text/plain": [
       "                         polarity                                          \\\n",
       "enumerated_review_delta       0         1         2         3         4     \n",
       "inspection_id                                                               \n",
       "0                        0.222946  0.237602       NaN       NaN       NaN   \n",
       "1                        0.189981  0.115152  0.324259       NaN       NaN   \n",
       "2                        0.005025 -0.234226  0.700000  0.158102  0.019551   \n",
       "7                        0.193750       NaN       NaN       NaN       NaN   \n",
       "8                        0.214286 -0.059524  0.166833  0.030000  0.259574   \n",
       "\n",
       "                                                                ...   \\\n",
       "enumerated_review_delta       5     6         7         8   9   ...    \n",
       "inspection_id                                                   ...    \n",
       "0                             NaN   NaN       NaN       NaN NaN ...    \n",
       "1                             NaN   NaN       NaN       NaN NaN ...    \n",
       "2                        0.255694  0.25  0.343308  0.173016 NaN ...    \n",
       "7                             NaN   NaN       NaN       NaN NaN ...    \n",
       "8                        0.500000   NaN       NaN       NaN NaN ...    \n",
       "\n",
       "                        user_ever_elite                                     \\\n",
       "enumerated_review_delta             435  436  437  438  439  440  441  442   \n",
       "inspection_id                                                                \n",
       "0                                   NaN  NaN  NaN  NaN  NaN  NaN  NaN  NaN   \n",
       "1                                   NaN  NaN  NaN  NaN  NaN  NaN  NaN  NaN   \n",
       "2                                   NaN  NaN  NaN  NaN  NaN  NaN  NaN  NaN   \n",
       "7                                   NaN  NaN  NaN  NaN  NaN  NaN  NaN  NaN   \n",
       "8                                   NaN  NaN  NaN  NaN  NaN  NaN  NaN  NaN   \n",
       "\n",
       "                                   \n",
       "enumerated_review_delta  443  444  \n",
       "inspection_id                      \n",
       "0                        NaN  NaN  \n",
       "1                        NaN  NaN  \n",
       "2                        NaN  NaN  \n",
       "7                        NaN  NaN  \n",
       "8                        NaN  NaN  \n",
       "\n",
       "[5 rows x 31150 columns]"
      ]
     },
     "execution_count": 45,
     "metadata": {},
     "output_type": "execute_result"
    }
   ],
   "source": [
    "combo.pivot(index='inspection_id', columns='enumerated_review_delta').head()\n",
    "# combo.set_index(['inspection_id', 'enumerated_review_delta']).unstack(1).head()\n",
    "# combo.pivot_table(index='inspection_id', columns='enumerated_review_delta').head()\n",
    "# df.groupby('inspection_id').max().head()"
   ]
  },
  {
   "cell_type": "code",
   "execution_count": 353,
   "metadata": {
    "collapsed": false
   },
   "outputs": [
    {
     "data": {
      "text/html": [
       "<div>\n",
       "<table border=\"1\" class=\"dataframe\">\n",
       "  <thead>\n",
       "    <tr>\n",
       "      <th></th>\n",
       "      <th colspan=\"3\" halign=\"left\">polarity</th>\n",
       "      <th colspan=\"3\" halign=\"left\">subjectivity</th>\n",
       "      <th colspan=\"3\" halign=\"left\">neg</th>\n",
       "      <th>neu</th>\n",
       "      <th>...</th>\n",
       "      <th>user_average_stars</th>\n",
       "      <th colspan=\"3\" halign=\"left\">user_review_count</th>\n",
       "      <th colspan=\"3\" halign=\"left\">user_yelping_since_delta</th>\n",
       "      <th colspan=\"3\" halign=\"left\">user_ever_elite</th>\n",
       "    </tr>\n",
       "    <tr>\n",
       "      <th>enumerated_review_delta</th>\n",
       "      <th>0</th>\n",
       "      <th>1</th>\n",
       "      <th>2</th>\n",
       "      <th>0</th>\n",
       "      <th>1</th>\n",
       "      <th>2</th>\n",
       "      <th>0</th>\n",
       "      <th>1</th>\n",
       "      <th>2</th>\n",
       "      <th>0</th>\n",
       "      <th>...</th>\n",
       "      <th>2</th>\n",
       "      <th>0</th>\n",
       "      <th>1</th>\n",
       "      <th>2</th>\n",
       "      <th>0</th>\n",
       "      <th>1</th>\n",
       "      <th>2</th>\n",
       "      <th>0</th>\n",
       "      <th>1</th>\n",
       "      <th>2</th>\n",
       "    </tr>\n",
       "    <tr>\n",
       "      <th>inspection_id</th>\n",
       "      <th></th>\n",
       "      <th></th>\n",
       "      <th></th>\n",
       "      <th></th>\n",
       "      <th></th>\n",
       "      <th></th>\n",
       "      <th></th>\n",
       "      <th></th>\n",
       "      <th></th>\n",
       "      <th></th>\n",
       "      <th></th>\n",
       "      <th></th>\n",
       "      <th></th>\n",
       "      <th></th>\n",
       "      <th></th>\n",
       "      <th></th>\n",
       "      <th></th>\n",
       "      <th></th>\n",
       "      <th></th>\n",
       "      <th></th>\n",
       "      <th></th>\n",
       "    </tr>\n",
       "  </thead>\n",
       "  <tbody>\n",
       "    <tr>\n",
       "      <th>0</th>\n",
       "      <td>0.222946</td>\n",
       "      <td>0.237602</td>\n",
       "      <td>NaN</td>\n",
       "      <td>0.713393</td>\n",
       "      <td>0.495938</td>\n",
       "      <td>NaN</td>\n",
       "      <td>0.000</td>\n",
       "      <td>0.008</td>\n",
       "      <td>NaN</td>\n",
       "      <td>0.783</td>\n",
       "      <td>...</td>\n",
       "      <td>NaN</td>\n",
       "      <td>152</td>\n",
       "      <td>626</td>\n",
       "      <td>NaN</td>\n",
       "      <td>506</td>\n",
       "      <td>864</td>\n",
       "      <td>NaN</td>\n",
       "      <td>True</td>\n",
       "      <td>True</td>\n",
       "      <td>NaN</td>\n",
       "    </tr>\n",
       "    <tr>\n",
       "      <th>1</th>\n",
       "      <td>0.189981</td>\n",
       "      <td>0.115152</td>\n",
       "      <td>0.324259</td>\n",
       "      <td>0.518578</td>\n",
       "      <td>0.507576</td>\n",
       "      <td>0.577407</td>\n",
       "      <td>0.000</td>\n",
       "      <td>0.030</td>\n",
       "      <td>0.000</td>\n",
       "      <td>0.853</td>\n",
       "      <td>...</td>\n",
       "      <td>3.66</td>\n",
       "      <td>963</td>\n",
       "      <td>28</td>\n",
       "      <td>859</td>\n",
       "      <td>53</td>\n",
       "      <td>41</td>\n",
       "      <td>196</td>\n",
       "      <td>True</td>\n",
       "      <td>False</td>\n",
       "      <td>True</td>\n",
       "    </tr>\n",
       "    <tr>\n",
       "      <th>2</th>\n",
       "      <td>0.005025</td>\n",
       "      <td>-0.234226</td>\n",
       "      <td>0.700000</td>\n",
       "      <td>0.618128</td>\n",
       "      <td>0.630952</td>\n",
       "      <td>0.600000</td>\n",
       "      <td>0.054</td>\n",
       "      <td>0.152</td>\n",
       "      <td>0.000</td>\n",
       "      <td>0.759</td>\n",
       "      <td>...</td>\n",
       "      <td>4.06</td>\n",
       "      <td>47</td>\n",
       "      <td>10</td>\n",
       "      <td>553</td>\n",
       "      <td>249</td>\n",
       "      <td>445</td>\n",
       "      <td>674</td>\n",
       "      <td>False</td>\n",
       "      <td>False</td>\n",
       "      <td>True</td>\n",
       "    </tr>\n",
       "    <tr>\n",
       "      <th>7</th>\n",
       "      <td>0.193750</td>\n",
       "      <td>NaN</td>\n",
       "      <td>NaN</td>\n",
       "      <td>0.417708</td>\n",
       "      <td>NaN</td>\n",
       "      <td>NaN</td>\n",
       "      <td>0.027</td>\n",
       "      <td>NaN</td>\n",
       "      <td>NaN</td>\n",
       "      <td>0.903</td>\n",
       "      <td>...</td>\n",
       "      <td>NaN</td>\n",
       "      <td>1314</td>\n",
       "      <td>NaN</td>\n",
       "      <td>NaN</td>\n",
       "      <td>258</td>\n",
       "      <td>NaN</td>\n",
       "      <td>NaN</td>\n",
       "      <td>True</td>\n",
       "      <td>NaN</td>\n",
       "      <td>NaN</td>\n",
       "    </tr>\n",
       "    <tr>\n",
       "      <th>8</th>\n",
       "      <td>0.214286</td>\n",
       "      <td>-0.059524</td>\n",
       "      <td>0.166833</td>\n",
       "      <td>0.764286</td>\n",
       "      <td>0.469048</td>\n",
       "      <td>0.502667</td>\n",
       "      <td>0.000</td>\n",
       "      <td>0.080</td>\n",
       "      <td>0.117</td>\n",
       "      <td>0.626</td>\n",
       "      <td>...</td>\n",
       "      <td>3.14</td>\n",
       "      <td>38</td>\n",
       "      <td>11</td>\n",
       "      <td>14</td>\n",
       "      <td>147</td>\n",
       "      <td>645</td>\n",
       "      <td>257</td>\n",
       "      <td>False</td>\n",
       "      <td>False</td>\n",
       "      <td>False</td>\n",
       "    </tr>\n",
       "    <tr>\n",
       "      <th>9</th>\n",
       "      <td>-0.225000</td>\n",
       "      <td>-0.156003</td>\n",
       "      <td>0.171605</td>\n",
       "      <td>0.658333</td>\n",
       "      <td>0.483920</td>\n",
       "      <td>0.551757</td>\n",
       "      <td>0.145</td>\n",
       "      <td>0.115</td>\n",
       "      <td>0.139</td>\n",
       "      <td>0.814</td>\n",
       "      <td>...</td>\n",
       "      <td>3.64</td>\n",
       "      <td>4</td>\n",
       "      <td>2</td>\n",
       "      <td>232</td>\n",
       "      <td>20</td>\n",
       "      <td>1037</td>\n",
       "      <td>391</td>\n",
       "      <td>False</td>\n",
       "      <td>False</td>\n",
       "      <td>True</td>\n",
       "    </tr>\n",
       "    <tr>\n",
       "      <th>10</th>\n",
       "      <td>-0.300000</td>\n",
       "      <td>0.021298</td>\n",
       "      <td>0.164500</td>\n",
       "      <td>0.475000</td>\n",
       "      <td>0.526568</td>\n",
       "      <td>0.768000</td>\n",
       "      <td>0.000</td>\n",
       "      <td>0.064</td>\n",
       "      <td>0.033</td>\n",
       "      <td>1.000</td>\n",
       "      <td>...</td>\n",
       "      <td>3.26</td>\n",
       "      <td>5</td>\n",
       "      <td>6</td>\n",
       "      <td>107</td>\n",
       "      <td>21</td>\n",
       "      <td>896</td>\n",
       "      <td>264</td>\n",
       "      <td>False</td>\n",
       "      <td>False</td>\n",
       "      <td>False</td>\n",
       "    </tr>\n",
       "    <tr>\n",
       "      <th>12</th>\n",
       "      <td>0.070000</td>\n",
       "      <td>0.016346</td>\n",
       "      <td>-0.222222</td>\n",
       "      <td>0.760000</td>\n",
       "      <td>0.736218</td>\n",
       "      <td>0.777778</td>\n",
       "      <td>0.140</td>\n",
       "      <td>0.084</td>\n",
       "      <td>0.210</td>\n",
       "      <td>0.652</td>\n",
       "      <td>...</td>\n",
       "      <td>2.77</td>\n",
       "      <td>27</td>\n",
       "      <td>526</td>\n",
       "      <td>13</td>\n",
       "      <td>14</td>\n",
       "      <td>946</td>\n",
       "      <td>1533</td>\n",
       "      <td>False</td>\n",
       "      <td>True</td>\n",
       "      <td>False</td>\n",
       "    </tr>\n",
       "    <tr>\n",
       "      <th>13</th>\n",
       "      <td>0.196212</td>\n",
       "      <td>0.156618</td>\n",
       "      <td>0.187500</td>\n",
       "      <td>0.690152</td>\n",
       "      <td>0.468067</td>\n",
       "      <td>0.650000</td>\n",
       "      <td>0.042</td>\n",
       "      <td>0.049</td>\n",
       "      <td>0.000</td>\n",
       "      <td>0.729</td>\n",
       "      <td>...</td>\n",
       "      <td>3.79</td>\n",
       "      <td>656</td>\n",
       "      <td>730</td>\n",
       "      <td>392</td>\n",
       "      <td>1810</td>\n",
       "      <td>1951</td>\n",
       "      <td>854</td>\n",
       "      <td>True</td>\n",
       "      <td>True</td>\n",
       "      <td>True</td>\n",
       "    </tr>\n",
       "    <tr>\n",
       "      <th>14</th>\n",
       "      <td>-0.059730</td>\n",
       "      <td>-0.283333</td>\n",
       "      <td>-0.208333</td>\n",
       "      <td>0.595901</td>\n",
       "      <td>0.427778</td>\n",
       "      <td>0.685714</td>\n",
       "      <td>0.097</td>\n",
       "      <td>0.240</td>\n",
       "      <td>0.141</td>\n",
       "      <td>0.750</td>\n",
       "      <td>...</td>\n",
       "      <td>4.22</td>\n",
       "      <td>218</td>\n",
       "      <td>1</td>\n",
       "      <td>18</td>\n",
       "      <td>1246</td>\n",
       "      <td>24</td>\n",
       "      <td>1397</td>\n",
       "      <td>True</td>\n",
       "      <td>False</td>\n",
       "      <td>False</td>\n",
       "    </tr>\n",
       "  </tbody>\n",
       "</table>\n",
       "<p>10 rows × 210 columns</p>\n",
       "</div>"
      ],
      "text/plain": [
       "                         polarity                     subjectivity            \\\n",
       "enumerated_review_delta         0         1         2            0         1   \n",
       "inspection_id                                                                  \n",
       "0                        0.222946  0.237602       NaN     0.713393  0.495938   \n",
       "1                        0.189981  0.115152  0.324259     0.518578  0.507576   \n",
       "2                        0.005025 -0.234226  0.700000     0.618128  0.630952   \n",
       "7                        0.193750       NaN       NaN     0.417708       NaN   \n",
       "8                        0.214286 -0.059524  0.166833     0.764286  0.469048   \n",
       "9                       -0.225000 -0.156003  0.171605     0.658333  0.483920   \n",
       "10                      -0.300000  0.021298  0.164500     0.475000  0.526568   \n",
       "12                       0.070000  0.016346 -0.222222     0.760000  0.736218   \n",
       "13                       0.196212  0.156618  0.187500     0.690152  0.468067   \n",
       "14                      -0.059730 -0.283333 -0.208333     0.595901  0.427778   \n",
       "\n",
       "                                     neg                  neu  ...    \\\n",
       "enumerated_review_delta         2      0      1      2      0  ...     \n",
       "inspection_id                                                  ...     \n",
       "0                             NaN  0.000  0.008    NaN  0.783  ...     \n",
       "1                        0.577407  0.000  0.030  0.000  0.853  ...     \n",
       "2                        0.600000  0.054  0.152  0.000  0.759  ...     \n",
       "7                             NaN  0.027    NaN    NaN  0.903  ...     \n",
       "8                        0.502667  0.000  0.080  0.117  0.626  ...     \n",
       "9                        0.551757  0.145  0.115  0.139  0.814  ...     \n",
       "10                       0.768000  0.000  0.064  0.033  1.000  ...     \n",
       "12                       0.777778  0.140  0.084  0.210  0.652  ...     \n",
       "13                       0.650000  0.042  0.049  0.000  0.729  ...     \n",
       "14                       0.685714  0.097  0.240  0.141  0.750  ...     \n",
       "\n",
       "                        user_average_stars user_review_count            \\\n",
       "enumerated_review_delta                  2                 0    1    2   \n",
       "inspection_id                                                            \n",
       "0                                      NaN               152  626  NaN   \n",
       "1                                     3.66               963   28  859   \n",
       "2                                     4.06                47   10  553   \n",
       "7                                      NaN              1314  NaN  NaN   \n",
       "8                                     3.14                38   11   14   \n",
       "9                                     3.64                 4    2  232   \n",
       "10                                    3.26                 5    6  107   \n",
       "12                                    2.77                27  526   13   \n",
       "13                                    3.79               656  730  392   \n",
       "14                                    4.22               218    1   18   \n",
       "\n",
       "                        user_yelping_since_delta             user_ever_elite  \\\n",
       "enumerated_review_delta                        0     1     2               0   \n",
       "inspection_id                                                                  \n",
       "0                                            506   864   NaN            True   \n",
       "1                                             53    41   196            True   \n",
       "2                                            249   445   674           False   \n",
       "7                                            258   NaN   NaN            True   \n",
       "8                                            147   645   257           False   \n",
       "9                                             20  1037   391           False   \n",
       "10                                            21   896   264           False   \n",
       "12                                            14   946  1533           False   \n",
       "13                                          1810  1951   854            True   \n",
       "14                                          1246    24  1397            True   \n",
       "\n",
       "                                       \n",
       "enumerated_review_delta      1      2  \n",
       "inspection_id                          \n",
       "0                         True    NaN  \n",
       "1                        False   True  \n",
       "2                        False   True  \n",
       "7                          NaN    NaN  \n",
       "8                        False  False  \n",
       "9                        False   True  \n",
       "10                       False  False  \n",
       "12                        True  False  \n",
       "13                        True   True  \n",
       "14                       False  False  \n",
       "\n",
       "[10 rows x 210 columns]"
      ]
     },
     "execution_count": 353,
     "metadata": {},
     "output_type": "execute_result"
    }
   ],
   "source": [
    "combo[combo.enumerated_review_delta < 3].pivot(index='inspection_id', columns='enumerated_review_delta').head(10)"
   ]
  },
  {
   "cell_type": "code",
   "execution_count": 352,
   "metadata": {
    "collapsed": false
   },
   "outputs": [
    {
     "data": {
      "text/html": [
       "<div>\n",
       "<table border=\"1\" class=\"dataframe\">\n",
       "  <thead>\n",
       "    <tr style=\"text-align: right;\">\n",
       "      <th></th>\n",
       "      <th>inspection_id</th>\n",
       "      <th>enumerated_review_delta</th>\n",
       "      <th>polarity</th>\n",
       "      <th>subjectivity</th>\n",
       "      <th>neg</th>\n",
       "      <th>neu</th>\n",
       "      <th>pos</th>\n",
       "      <th>compound</th>\n",
       "      <th>review_delta</th>\n",
       "      <th>review_stars</th>\n",
       "      <th>review_votes_cool</th>\n",
       "      <th>review_votes_funny</th>\n",
       "      <th>review_votes_useful</th>\n",
       "      <th>user_average_stars</th>\n",
       "      <th>user_review_count</th>\n",
       "      <th>user_yelping_since_delta</th>\n",
       "      <th>user_ever_elite</th>\n",
       "    </tr>\n",
       "  </thead>\n",
       "  <tbody>\n",
       "    <tr>\n",
       "      <th>0</th>\n",
       "      <td>0</td>\n",
       "      <td>0</td>\n",
       "      <td>0.222946</td>\n",
       "      <td>0.713393</td>\n",
       "      <td>0.000</td>\n",
       "      <td>0.783</td>\n",
       "      <td>0.217</td>\n",
       "      <td>0.9636</td>\n",
       "      <td>18</td>\n",
       "      <td>5</td>\n",
       "      <td>0</td>\n",
       "      <td>0</td>\n",
       "      <td>1</td>\n",
       "      <td>4.48</td>\n",
       "      <td>152</td>\n",
       "      <td>506</td>\n",
       "      <td>True</td>\n",
       "    </tr>\n",
       "    <tr>\n",
       "      <th>1</th>\n",
       "      <td>0</td>\n",
       "      <td>1</td>\n",
       "      <td>0.237602</td>\n",
       "      <td>0.495938</td>\n",
       "      <td>0.008</td>\n",
       "      <td>0.839</td>\n",
       "      <td>0.153</td>\n",
       "      <td>0.9926</td>\n",
       "      <td>177</td>\n",
       "      <td>4</td>\n",
       "      <td>1</td>\n",
       "      <td>0</td>\n",
       "      <td>3</td>\n",
       "      <td>3.85</td>\n",
       "      <td>626</td>\n",
       "      <td>864</td>\n",
       "      <td>True</td>\n",
       "    </tr>\n",
       "    <tr>\n",
       "      <th>2</th>\n",
       "      <td>1</td>\n",
       "      <td>0</td>\n",
       "      <td>0.189981</td>\n",
       "      <td>0.518578</td>\n",
       "      <td>0.000</td>\n",
       "      <td>0.853</td>\n",
       "      <td>0.147</td>\n",
       "      <td>0.9537</td>\n",
       "      <td>67</td>\n",
       "      <td>4</td>\n",
       "      <td>7</td>\n",
       "      <td>12</td>\n",
       "      <td>8</td>\n",
       "      <td>3.44</td>\n",
       "      <td>963</td>\n",
       "      <td>53</td>\n",
       "      <td>True</td>\n",
       "    </tr>\n",
       "    <tr>\n",
       "      <th>3</th>\n",
       "      <td>1</td>\n",
       "      <td>1</td>\n",
       "      <td>0.115152</td>\n",
       "      <td>0.507576</td>\n",
       "      <td>0.030</td>\n",
       "      <td>0.776</td>\n",
       "      <td>0.194</td>\n",
       "      <td>0.9421</td>\n",
       "      <td>171</td>\n",
       "      <td>3</td>\n",
       "      <td>0</td>\n",
       "      <td>0</td>\n",
       "      <td>1</td>\n",
       "      <td>3.93</td>\n",
       "      <td>28</td>\n",
       "      <td>41</td>\n",
       "      <td>False</td>\n",
       "    </tr>\n",
       "    <tr>\n",
       "      <th>4</th>\n",
       "      <td>1</td>\n",
       "      <td>2</td>\n",
       "      <td>0.324259</td>\n",
       "      <td>0.577407</td>\n",
       "      <td>0.000</td>\n",
       "      <td>0.686</td>\n",
       "      <td>0.314</td>\n",
       "      <td>0.9716</td>\n",
       "      <td>350</td>\n",
       "      <td>4</td>\n",
       "      <td>0</td>\n",
       "      <td>0</td>\n",
       "      <td>1</td>\n",
       "      <td>3.66</td>\n",
       "      <td>859</td>\n",
       "      <td>196</td>\n",
       "      <td>True</td>\n",
       "    </tr>\n",
       "    <tr>\n",
       "      <th>5</th>\n",
       "      <td>2</td>\n",
       "      <td>0</td>\n",
       "      <td>0.005025</td>\n",
       "      <td>0.618128</td>\n",
       "      <td>0.054</td>\n",
       "      <td>0.759</td>\n",
       "      <td>0.187</td>\n",
       "      <td>0.9871</td>\n",
       "      <td>27</td>\n",
       "      <td>5</td>\n",
       "      <td>0</td>\n",
       "      <td>0</td>\n",
       "      <td>2</td>\n",
       "      <td>3.69</td>\n",
       "      <td>47</td>\n",
       "      <td>249</td>\n",
       "      <td>False</td>\n",
       "    </tr>\n",
       "    <tr>\n",
       "      <th>6</th>\n",
       "      <td>2</td>\n",
       "      <td>1</td>\n",
       "      <td>-0.234226</td>\n",
       "      <td>0.630952</td>\n",
       "      <td>0.152</td>\n",
       "      <td>0.790</td>\n",
       "      <td>0.058</td>\n",
       "      <td>-0.8859</td>\n",
       "      <td>43</td>\n",
       "      <td>1</td>\n",
       "      <td>1</td>\n",
       "      <td>0</td>\n",
       "      <td>0</td>\n",
       "      <td>3.10</td>\n",
       "      <td>10</td>\n",
       "      <td>445</td>\n",
       "      <td>False</td>\n",
       "    </tr>\n",
       "    <tr>\n",
       "      <th>7</th>\n",
       "      <td>2</td>\n",
       "      <td>2</td>\n",
       "      <td>0.700000</td>\n",
       "      <td>0.600000</td>\n",
       "      <td>0.000</td>\n",
       "      <td>0.562</td>\n",
       "      <td>0.438</td>\n",
       "      <td>0.6662</td>\n",
       "      <td>90</td>\n",
       "      <td>3</td>\n",
       "      <td>1</td>\n",
       "      <td>1</td>\n",
       "      <td>1</td>\n",
       "      <td>4.06</td>\n",
       "      <td>553</td>\n",
       "      <td>674</td>\n",
       "      <td>True</td>\n",
       "    </tr>\n",
       "    <tr>\n",
       "      <th>8</th>\n",
       "      <td>2</td>\n",
       "      <td>3</td>\n",
       "      <td>0.158102</td>\n",
       "      <td>0.462963</td>\n",
       "      <td>0.134</td>\n",
       "      <td>0.585</td>\n",
       "      <td>0.280</td>\n",
       "      <td>0.8813</td>\n",
       "      <td>139</td>\n",
       "      <td>5</td>\n",
       "      <td>3</td>\n",
       "      <td>2</td>\n",
       "      <td>1</td>\n",
       "      <td>3.68</td>\n",
       "      <td>293</td>\n",
       "      <td>472</td>\n",
       "      <td>True</td>\n",
       "    </tr>\n",
       "    <tr>\n",
       "      <th>9</th>\n",
       "      <td>2</td>\n",
       "      <td>4</td>\n",
       "      <td>0.019551</td>\n",
       "      <td>0.700549</td>\n",
       "      <td>0.044</td>\n",
       "      <td>0.802</td>\n",
       "      <td>0.154</td>\n",
       "      <td>0.9217</td>\n",
       "      <td>140</td>\n",
       "      <td>2</td>\n",
       "      <td>3</td>\n",
       "      <td>15</td>\n",
       "      <td>10</td>\n",
       "      <td>3.87</td>\n",
       "      <td>1196</td>\n",
       "      <td>1019</td>\n",
       "      <td>True</td>\n",
       "    </tr>\n",
       "  </tbody>\n",
       "</table>\n",
       "</div>"
      ],
      "text/plain": [
       "   inspection_id  enumerated_review_delta  polarity  subjectivity    neg  \\\n",
       "0              0                        0  0.222946      0.713393  0.000   \n",
       "1              0                        1  0.237602      0.495938  0.008   \n",
       "2              1                        0  0.189981      0.518578  0.000   \n",
       "3              1                        1  0.115152      0.507576  0.030   \n",
       "4              1                        2  0.324259      0.577407  0.000   \n",
       "5              2                        0  0.005025      0.618128  0.054   \n",
       "6              2                        1 -0.234226      0.630952  0.152   \n",
       "7              2                        2  0.700000      0.600000  0.000   \n",
       "8              2                        3  0.158102      0.462963  0.134   \n",
       "9              2                        4  0.019551      0.700549  0.044   \n",
       "\n",
       "     neu    pos  compound  review_delta  review_stars  review_votes_cool  \\\n",
       "0  0.783  0.217    0.9636            18             5                  0   \n",
       "1  0.839  0.153    0.9926           177             4                  1   \n",
       "2  0.853  0.147    0.9537            67             4                  7   \n",
       "3  0.776  0.194    0.9421           171             3                  0   \n",
       "4  0.686  0.314    0.9716           350             4                  0   \n",
       "5  0.759  0.187    0.9871            27             5                  0   \n",
       "6  0.790  0.058   -0.8859            43             1                  1   \n",
       "7  0.562  0.438    0.6662            90             3                  1   \n",
       "8  0.585  0.280    0.8813           139             5                  3   \n",
       "9  0.802  0.154    0.9217           140             2                  3   \n",
       "\n",
       "   review_votes_funny  review_votes_useful  user_average_stars  \\\n",
       "0                   0                    1                4.48   \n",
       "1                   0                    3                3.85   \n",
       "2                  12                    8                3.44   \n",
       "3                   0                    1                3.93   \n",
       "4                   0                    1                3.66   \n",
       "5                   0                    2                3.69   \n",
       "6                   0                    0                3.10   \n",
       "7                   1                    1                4.06   \n",
       "8                   2                    1                3.68   \n",
       "9                  15                   10                3.87   \n",
       "\n",
       "   user_review_count  user_yelping_since_delta user_ever_elite  \n",
       "0                152                       506            True  \n",
       "1                626                       864            True  \n",
       "2                963                        53            True  \n",
       "3                 28                        41           False  \n",
       "4                859                       196            True  \n",
       "5                 47                       249           False  \n",
       "6                 10                       445           False  \n",
       "7                553                       674            True  \n",
       "8                293                       472            True  \n",
       "9               1196                      1019            True  "
      ]
     },
     "execution_count": 352,
     "metadata": {},
     "output_type": "execute_result"
    }
   ],
   "source": [
    "combo.drop(['manager',\n",
    " 'supervisor',\n",
    " 'training',\n",
    " 'safety',\n",
    " 'disease',\n",
    " 'ill',\n",
    " 'sick',\n",
    " 'poisoning',\n",
    " 'poison',\n",
    " 'hygiene',\n",
    " 'raw',\n",
    " 'undercooked',\n",
    " 'cold',\n",
    " 'clean',\n",
    " 'sanitary',\n",
    " 'wash',\n",
    " 'jaundice',\n",
    " 'yellow',\n",
    " 'hazard',\n",
    " 'inspection',\n",
    " 'violation',\n",
    " 'gloves',\n",
    " 'hairnet',\n",
    " 'nails',\n",
    " 'jewelry',\n",
    " 'sneeze',\n",
    " 'cough',\n",
    " 'runny',\n",
    " 'illegal',\n",
    " 'rotten',\n",
    " 'dirty',\n",
    " 'mouse',\n",
    " 'cockroach',\n",
    " 'contaminated',\n",
    " 'gross',\n",
    " 'disgusting',\n",
    " 'stink',\n",
    " 'old',\n",
    " 'parasite',\n",
    " 'bacteria',\n",
    " 'reheat',\n",
    " 'frozen',\n",
    " 'broken',\n",
    " 'drip',\n",
    " 'bathroom',\n",
    " 'toilet',\n",
    " 'leak',\n",
    " 'trash',\n",
    " 'dark',\n",
    " 'lights',\n",
    " 'dust',\n",
    " 'puddle',\n",
    " 'pesticide',\n",
    " 'bugs',\n",
    " 'mold',], axis=1).head(10)"
   ]
  },
  {
   "cell_type": "code",
   "execution_count": 7,
   "metadata": {
    "collapsed": false
   },
   "outputs": [],
   "source": [
    "from sklearn.decomposition import PCA, TruncatedSVD, KernelPCA, DictionaryLearning, FactorAnalysis, FastICA\n",
    "\n",
    "def pivot_feature(df, feature, limit=None, decomp='lsi', decomp_features=2, fill='median'):\n",
    "    # make the large dataframe faster to handle on pivot\n",
    "    temp = df[['inspection_id', 'enumerated_review_delta'] + [feature]]\n",
    "\n",
    "    # pivot so that each inspection id only has one observation with each review a feature for that observation\n",
    "    pivoted_feature = temp.pivot('inspection_id', 'enumerated_review_delta')[feature]\n",
    "\n",
    "\n",
    "    # pivoting creates a number of empty variables when they have less than the max number of reviews\n",
    "    if fill == 'median':\n",
    "        fill_empties = lambda x: x.fillna(x.median())\n",
    "    elif fill == 'mean':\n",
    "        fill_empties = lambda x: x.fillna(x.mean())\n",
    "    elif fill == 0:\n",
    "        fill_empties = lambda x: x.fillna(0)\n",
    "    elif fill == 'inter':\n",
    "        fill_empties = lambda x: x.interpolate()\n",
    "    elif fill == None:\n",
    "        fill_empties = lambda x: x\n",
    "    else:\n",
    "        raise Exception\n",
    "\n",
    "    pivoted_feature = pivoted_feature.apply(fill_empties, axis=1)\n",
    "\n",
    "    if decomp == 'lsi':\n",
    "        decomposition = TruncatedSVD(decomp_features)\n",
    "    elif decomp == 'pca':\n",
    "        decomposition = PCA(decomp_features, whiten=True)\n",
    "    elif decomp == 'kpca':\n",
    "        decomposition = KernelPCA(decomp_features)\n",
    "    elif decomp == 'dict':\n",
    "        decomposition = DictionaryLearning(decomp_features)\n",
    "    elif decomp == 'factor':\n",
    "        decomposition = FactorAnalysis(decomp_features)\n",
    "    elif decomp == 'ica':\n",
    "        decomposition = FastICA(decomp_features)\n",
    "    elif decomp == None:\n",
    "        pass\n",
    "    else:\n",
    "        raise Exception\n",
    "\n",
    "    if not limit:\n",
    "        try:\n",
    "            return decomposition.fit_transform(pivoted_feature)\n",
    "        except:\n",
    "            return pivoted_feature\n",
    "    else:\n",
    "        try:\n",
    "            return decomposition.fit_transform(pivoted_feature[[i for i in range(limit)]])\n",
    "        except:\n",
    "            return pivoted_feature[[i for i in range(limit)]]"
   ]
  },
  {
   "cell_type": "code",
   "execution_count": null,
   "metadata": {
    "collapsed": true
   },
   "outputs": [],
   "source": []
  },
  {
   "cell_type": "code",
   "execution_count": null,
   "metadata": {
    "collapsed": false
   },
   "outputs": [],
   "source": []
  },
  {
   "cell_type": "code",
   "execution_count": null,
   "metadata": {
    "collapsed": false
   },
   "outputs": [],
   "source": []
  },
  {
   "cell_type": "code",
   "execution_count": 13,
   "metadata": {
    "collapsed": true
   },
   "outputs": [],
   "source": [
    "final = df[['inspection_id', 'score_lvl_1', 'score_lvl_2', 'score_lvl_3']]"
   ]
  },
  {
   "cell_type": "code",
   "execution_count": 14,
   "metadata": {
    "collapsed": false
   },
   "outputs": [],
   "source": [
    "temp = pd.read_pickle('pickle_jar/pre-pivot_365')"
   ]
  },
  {
   "cell_type": "code",
   "execution_count": 15,
   "metadata": {
    "collapsed": false
   },
   "outputs": [],
   "source": [
    "combo['review_length'] = temp.reset_index(drop=True).review_text.apply(lambda x: len(x))"
   ]
  },
  {
   "cell_type": "code",
   "execution_count": 16,
   "metadata": {
    "collapsed": false
   },
   "outputs": [
    {
     "name": "stderr",
     "output_type": "stream",
     "text": [
      "100% (55 of 55) |#########################| Elapsed Time: 0:02:14 Time: 0:02:14\n"
     ]
    }
   ],
   "source": [
    "# sim_length = lambda x: len(np.where(x > 0.7)[0])\n",
    "def sim_length(x):\n",
    "    try:\n",
    "#         return len(np.where(x > 0.65)[0]) > 0\n",
    "        return len(np.where(x > 0.4)[0])\n",
    "#         return x[0]\n",
    "    except:\n",
    "        return x\n",
    "\n",
    "sim_length_list = []\n",
    "topics = ['manager', 'supervisor', 'training', 'safety', 'disease', 'ill', 'sick', 'poisoning', 'poison', 'hygiene', 'raw', 'undercooked', 'cold', 'clean', 'sanitary', 'wash', 'jaundice', 'yellow', 'hazard', 'inspection', 'violation', 'gloves', 'hairnet', 'nails', 'jewelry', 'sneeze', 'cough', 'runny', 'illegal', 'rotten', 'dirty', 'mouse', 'cockroach', 'contaminated', 'gross', 'disgusting', 'stink', 'old', 'parasite', 'bacteria', 'reheat', 'frozen', 'broken', 'drip', 'bathroom', 'toilet', 'leak', 'trash', 'dark', 'lights', 'dust', 'puddle', 'pesticide', 'bugs', 'mold']\n",
    "pbar = ProgressBar(maxval=len(topics)).start()\n",
    "for index, i in enumerate(topics):\n",
    "    combo[i] = combo[i].apply(sim_length)\n",
    "    combo[i+'_norm'] = combo[i] / combo.review_length\n",
    "#     sim_length_list.append(combo[i].apply(sim_length).tolist())\n",
    "    pbar.update(index)\n",
    "pbar.finish()\n",
    "\n",
    "# combo.nails.apply(sim_length).value_counts()\n",
    "# combo[['inspection_id', 'enumerated_review_delta', 'polarity', 'subjectivity']][combo.nails.apply(sim_length) == 1]\n",
    "# df[(df.inspection_id == 28790) & (df.enumerated_review_delta == 7)].review_text.tolist()"
   ]
  },
  {
   "cell_type": "code",
   "execution_count": 17,
   "metadata": {
    "collapsed": true
   },
   "outputs": [],
   "source": [
    "combo['user_ever_elite'] = combo['user_ever_elite'].astype(int)"
   ]
  },
  {
   "cell_type": "code",
   "execution_count": 18,
   "metadata": {
    "collapsed": false
   },
   "outputs": [
    {
     "name": "stderr",
     "output_type": "stream",
     "text": [
      "/Users/amangum/anaconda/envs/datasci/lib/python2.7/site-packages/numpy/lib/arraysetops.py:198: FutureWarning: numpy not_equal will not check object identity in the future. The comparison did not return the same result as suggested by the identity (`is`)) and will change.\n",
      "  flag = np.concatenate(([True], aux[1:] != aux[:-1]))\n"
     ]
    }
   ],
   "source": [
    "# # bin time delta data\n",
    "bin_size = 50\n",
    "tdmax = combo.review_delta.max()\n",
    "tdmin = combo.review_delta.min()\n",
    "combo['review_delta_bin'] = pd.cut(combo[\"review_delta\"], np.arange(tdmin, tdmax, bin_size))\n",
    "lbl_enc = LabelEncoder()\n",
    "combo.review_delta_bin = lbl_enc.fit_transform(combo.review_delta_bin)"
   ]
  },
  {
   "cell_type": "code",
   "execution_count": 19,
   "metadata": {
    "collapsed": false
   },
   "outputs": [],
   "source": [
    "combo = pd.concat([combo, trust[['trust_index', 'review_votes', 'user_activity_level', 'objectivity', 'anger_index']]], axis=1)"
   ]
  },
  {
   "cell_type": "code",
   "execution_count": 20,
   "metadata": {
    "collapsed": false
   },
   "outputs": [],
   "source": [
    "combo['log_review_votes_useful'] = log_it(combo['review_votes_useful'])\n",
    "combo['log_review_votes_funny'] = log_it(combo['review_votes_funny'])\n",
    "combo['log_review_votes_cool'] = log_it(combo['review_votes_cool'])\n",
    "combo['log_user_yelping_since_delta'] = log_it(combo['user_yelping_since_delta'])\n",
    "combo['log_user_review_count'] = log_it(combo['user_review_count'])\n",
    "combo['log_review_delta'] = log_it(combo['review_delta'])\n",
    "combo['log_user_yelping_since_delta'] = log_it(combo['user_yelping_since_delta'])"
   ]
  },
  {
   "cell_type": "code",
   "execution_count": 21,
   "metadata": {
    "collapsed": true
   },
   "outputs": [],
   "source": [
    "combo['enumerated_review_delta_pivot'] = combo.enumerated_review_delta"
   ]
  },
  {
   "cell_type": "code",
   "execution_count": 28,
   "metadata": {
    "collapsed": false
   },
   "outputs": [
    {
     "name": "stdout",
     "output_type": "stream",
     "text": [
      "polarity\n",
      "subjectivity\n",
      "neg\n",
      "neu\n",
      "pos\n",
      "compound\n",
      "manager\n",
      "supervisor\n",
      "training\n",
      "safety\n",
      "disease\n",
      "ill\n",
      "sick\n",
      "poisoning\n",
      "poison\n",
      "hygiene\n",
      "raw\n",
      "undercooked\n",
      "cold\n",
      "clean\n",
      "sanitary\n",
      "wash\n",
      "jaundice\n",
      "yellow\n",
      "hazard\n",
      "inspection\n",
      "violation\n",
      "gloves\n",
      "hairnet\n",
      "nails\n",
      "jewelry\n",
      "sneeze\n",
      "cough\n",
      "runny\n",
      "illegal\n",
      "rotten\n",
      "dirty\n",
      "mouse\n",
      "cockroach\n",
      "contaminated\n",
      "gross\n",
      "disgusting\n",
      "stink\n",
      "old\n",
      "parasite\n",
      "bacteria\n",
      "reheat\n",
      "frozen\n",
      "broken\n",
      "drip\n",
      "bathroom\n",
      "toilet\n",
      "leak\n",
      "trash\n",
      "dark\n",
      "lights\n",
      "dust\n",
      "puddle\n",
      "pesticide\n",
      "bugs\n",
      "mold\n",
      "review_delta\n",
      "review_stars\n",
      "review_votes_cool\n",
      "review_votes_funny\n",
      "review_votes_useful\n",
      "user_average_stars\n",
      "user_review_count\n",
      "user_yelping_since_delta\n",
      "user_ever_elite\n",
      "review_length\n",
      "manager_norm\n",
      "supervisor_norm\n",
      "training_norm\n",
      "safety_norm\n",
      "disease_norm\n",
      "ill_norm\n",
      "sick_norm\n",
      "poisoning_norm\n",
      "poison_norm\n",
      "hygiene_norm\n",
      "raw_norm\n",
      "undercooked_norm\n",
      "cold_norm\n",
      "clean_norm\n",
      "sanitary_norm\n",
      "wash_norm\n",
      "jaundice_norm\n",
      "yellow_norm\n",
      "hazard_norm\n",
      "inspection_norm\n",
      "violation_norm\n",
      "gloves_norm\n",
      "hairnet_norm\n",
      "nails_norm\n",
      "jewelry_norm\n",
      "sneeze_norm\n",
      "cough_norm\n",
      "runny_norm\n",
      "illegal_norm\n",
      "rotten_norm\n",
      "dirty_norm\n",
      "mouse_norm\n",
      "cockroach_norm\n",
      "contaminated_norm\n",
      "gross_norm\n",
      "disgusting_norm\n",
      "stink_norm\n",
      "old_norm\n",
      "parasite_norm\n",
      "bacteria_norm\n",
      "reheat_norm\n",
      "frozen_norm\n",
      "broken_norm\n",
      "drip_norm\n",
      "bathroom_norm\n",
      "toilet_norm\n",
      "leak_norm\n",
      "trash_norm\n",
      "dark_norm\n",
      "lights_norm\n",
      "dust_norm\n",
      "puddle_norm\n",
      "pesticide_norm\n",
      "bugs_norm\n",
      "mold_norm\n",
      "review_delta_bin\n",
      "trust_index\n",
      "review_votes\n",
      "user_activity_level\n",
      "objectivity\n",
      "anger_index\n",
      "log_review_votes_useful\n",
      "log_review_votes_funny\n",
      "log_review_votes_cool\n",
      "log_user_yelping_since_delta\n",
      "log_user_review_count\n",
      "log_review_delta\n",
      "enumerated_review_delta_pivot\n"
     ]
    }
   ],
   "source": [
    "# removes the first two columns from the list. those are what the pivot is being done around\n",
    "topics = combo.columns.tolist()\n",
    "topics.pop(0)\n",
    "topics.pop(0)\n",
    "\n",
    "X = pivot_feature(combo, feature='review_stars', limit=None, decomp='factor')\n",
    "for i in topics:\n",
    "    print i\n",
    "    new_X = pivot_feature(combo, feature=i, limit=None, decomp='factor')\n",
    "    X = np.hstack((X, new_X))"
   ]
  },
  {
   "cell_type": "code",
   "execution_count": 29,
   "metadata": {
    "collapsed": false
   },
   "outputs": [],
   "source": [
    "final = pd.concat([final, pd.DataFrame(X)], axis = 1)"
   ]
  },
  {
   "cell_type": "code",
   "execution_count": 30,
   "metadata": {
    "collapsed": false
   },
   "outputs": [],
   "source": [
    "get_dummies = lambda x: pd.get_dummies(x)\n",
    "dummy_list = ['restaurant_stars', 'restaurant_attributes_price_range', 'restaurant_attributes_ages_allowed', 'restaurant_attributes_alcohol', 'restaurant_attributes_attire', 'restaurant_attributes_byob_corkage', 'restaurant_attributes_noise_level', 'restaurant_attributes_smoking', 'restaurant_attributes_wifi', 'restaurant_city', 'restaurant_ambience', 'restaurant_music', 'restaurant_parking', 'restaurant_street', 'restaurant_zipcode',  'inspection_year', 'inspection_month', 'inspection_day', 'inspection_dayofweek', 'inspection_quarter']\n",
    "for i in dummy_list:\n",
    "    final = pd.concat([final, get_dummies(df[i])], axis=1)"
   ]
  },
  {
   "cell_type": "code",
   "execution_count": 31,
   "metadata": {
    "collapsed": false
   },
   "outputs": [],
   "source": [
    "final = pd.concat([final, df[['restaurant_hours_monday_open', 'restaurant_hours_saturday_close', 'restaurant_hours_saturday_open', 'restaurant_hours_sunday_close', 'restaurant_hours_sunday_open', 'restaurant_hours_thursday_close', 'restaurant_hours_thursday_open', 'restaurant_hours_tuesday_close', 'restaurant_hours_tuesday_open', 'restaurant_hours_wednesday_close', 'restaurant_hours_wednesday_open', 'restaurant_latitude', 'restaurant_longitude', 'restaurant_review_count', 'checkin_counts', 'previous_inspection_delta']].apply(lambda x: x.fillna(x.median()))], axis=1)"
   ]
  },
  {
   "cell_type": "code",
   "execution_count": 32,
   "metadata": {
    "collapsed": false
   },
   "outputs": [],
   "source": [
    "final = pd.concat([final, df[['restaurant_attributes_accepts_credit_cards', 'restaurant_attributes_byob', 'restaurant_attributes_caters', 'restaurant_attributes_coat_check', 'restaurant_attributes_corkage', 'restaurant_attributes_delivery', 'restaurant_attributes_dietary_restrictions_dairy_free', 'restaurant_attributes_dietary_restrictions_gluten_free', 'restaurant_attributes_dietary_restrictions_halal', 'restaurant_attributes_dietary_restrictions_kosher', 'restaurant_attributes_dietary_restrictions_soy_free', 'restaurant_attributes_dietary_restrictions_vegan', 'restaurant_attributes_dietary_restrictions_vegetarian', 'restaurant_attributes_dogs_allowed', 'restaurant_attributes_drive_thr', 'restaurant_attributes_good_for_dancing', 'restaurant_attributes_good_for_groups', 'restaurant_attributes_good_for_breakfast', 'restaurant_attributes_good_for_brunch', 'restaurant_attributes_good_for_dessert', 'restaurant_attributes_good_for_dinner', 'restaurant_attributes_good_for_latenight', 'restaurant_attributes_good_for_lunch', 'restaurant_attributes_good_for_kids', 'restaurant_attributes_happy_hour', 'restaurant_attributes_has_tv', 'restaurant_attributes_open_24_hours', 'restaurant_attributes_order_at_counter', 'restaurant_attributes_outdoor_seating',  'restaurant_attributes_payment_types_amex', 'restaurant_attributes_payment_types_cash_only', 'restaurant_attributes_payment_types_discover', 'restaurant_attributes_payment_types_mastercard', 'restaurant_attributes_payment_types_visa', 'restaurant_attributes_take_out',  'restaurant_attributes_takes_reservations', 'restaurant_attributes_waiter_service', 'restaurant_attributes_wheelchair_accessible']].astype(int)], axis=1)"
   ]
  },
  {
   "cell_type": "code",
   "execution_count": 33,
   "metadata": {
    "collapsed": false
   },
   "outputs": [],
   "source": [
    "# # bin previous_inspection_delta data\n",
    "bin_size = 14\n",
    "tdmax = df.previous_inspection_delta.max()\n",
    "tdmin = df.previous_inspection_delta.min()\n",
    "df['previous_inspection_delta_bin'] = pd.cut(df[\"previous_inspection_delta\"], np.arange(tdmin, tdmax, bin_size))\n",
    "lbl_enc = LabelEncoder()\n",
    "df.previous_inspection_delta_bin = lbl_enc.fit_transform(df.previous_inspection_delta_bin)"
   ]
  },
  {
   "cell_type": "code",
   "execution_count": 34,
   "metadata": {
    "collapsed": false
   },
   "outputs": [],
   "source": [
    "final['log_previous_inspection_delta_bin'] = log_it(df.previous_inspection_delta_bin)"
   ]
  },
  {
   "cell_type": "code",
   "execution_count": 35,
   "metadata": {
    "collapsed": false
   },
   "outputs": [
    {
     "name": "stderr",
     "output_type": "stream",
     "text": [
      "100% (99 of 99) |#########################| Elapsed Time: 0:00:01 Time: 0:00:01\n",
      "100% (87 of 87) |#########################| Elapsed Time: 0:00:00 Time: 0:00:00\n",
      "100% (51 of 51) |#########################| Elapsed Time: 0:00:00 Time: 0:00:00\n",
      "100% (24 of 24) |#########################| Elapsed Time: 0:00:00 Time: 0:00:00\n",
      "100% (11 of 11) |#########################| Elapsed Time: 0:00:00 Time: 0:00:00\n",
      "100% (2 of 2) |###########################| Elapsed Time: 0:00:00 Time: 0:00:00\n"
     ]
    }
   ],
   "source": [
    "def special_categories_to_matrix(df, cats):\n",
    "    # need to do it like this because pd.merge causes a memory overload\n",
    "    t0 = pd.get_dummies(df[cats[0]])\n",
    "    cats.pop(0)\n",
    "    for i in cats:\n",
    "        new_dummies = pd.get_dummies(df[i])\n",
    "        pbar = ProgressBar(maxval=len(new_dummies.columns)).start()\n",
    "        for index, column in enumerate(new_dummies.columns):\n",
    "            if column not in t0.columns:\n",
    "                t0 = pd.concat([t0, new_dummies[column]], axis=1)\n",
    "            else:\n",
    "                t0[column] = t0[column] + new_dummies[column]\n",
    "            pbar.update(index)\n",
    "        pbar.finish()\n",
    "    return t0\n",
    "\n",
    "cats = ['restaurant_category_1', 'restaurant_category_2', 'restaurant_category_3', 'restaurant_category_4', 'restaurant_category_5', 'restaurant_category_6', 'restaurant_category_7']\n",
    "final = pd.concat([final, special_categories_to_matrix(df, cats)], axis=1)"
   ]
  },
  {
   "cell_type": "code",
   "execution_count": 36,
   "metadata": {
    "collapsed": false
   },
   "outputs": [
    {
     "name": "stderr",
     "output_type": "stream",
     "text": [
      "\r",
      "  0% (0 of 9) |                          | Elapsed Time: 0:00:00 ETA:  --:--:--\r",
      " 11% (1 of 9) |###                        | Elapsed Time: 0:00:00 ETA:  0:00:00\r",
      " 22% (2 of 9) |######                     | Elapsed Time: 0:00:00 ETA:  0:00:00\r",
      " 33% (3 of 9) |#########                  | Elapsed Time: 0:00:00 ETA:  0:00:00\r",
      " 44% (4 of 9) |############               | Elapsed Time: 0:00:00 ETA:  0:00:00\r",
      " 55% (5 of 9) |###############            | Elapsed Time: 0:00:00 ETA:  0:00:00\r",
      " 66% (6 of 9) |##################         | Elapsed Time: 0:00:00 ETA:  0:00:00\r",
      " 77% (7 of 9) |#####################      | Elapsed Time: 0:00:00 ETA:  0:00:00\r",
      " 88% (8 of 9) |########################   | Elapsed Time: 0:00:00 ETA:  0:00:00\r",
      "100% (9 of 9) |###########################| Elapsed Time: 0:00:00 Time: 0:00:00\n",
      "\r",
      "  0% (0 of 1) |                          | Elapsed Time: 0:00:00 ETA:  --:--:--\r",
      "100% (1 of 1) |###########################| Elapsed Time: 0:00:00 Time: 0:00:00\n"
     ]
    }
   ],
   "source": [
    "cats = ['restaurant_neighborhood_1', 'restaurant_neighborhood_2', 'restaurant_neighborhood_3']\n",
    "final = pd.concat([final, special_categories_to_matrix(df, cats)], axis=1)"
   ]
  },
  {
   "cell_type": "code",
   "execution_count": 37,
   "metadata": {
    "collapsed": false,
    "scrolled": true
   },
   "outputs": [
    {
     "data": {
      "text/plain": [
       "['pickle_jar/final_no_tfidf_or_restaurant_id',\n",
       " 'pickle_jar/final_no_tfidf_or_restaurant_id_01.npy',\n",
       " 'pickle_jar/final_no_tfidf_or_restaurant_id_02.npy',\n",
       " 'pickle_jar/final_no_tfidf_or_restaurant_id_03.npy',\n",
       " 'pickle_jar/final_no_tfidf_or_restaurant_id_04.npy',\n",
       " 'pickle_jar/final_no_tfidf_or_restaurant_id_05.npy',\n",
       " 'pickle_jar/final_no_tfidf_or_restaurant_id_06.npy',\n",
       " 'pickle_jar/final_no_tfidf_or_restaurant_id_07.npy',\n",
       " 'pickle_jar/final_no_tfidf_or_restaurant_id_08.npy',\n",
       " 'pickle_jar/final_no_tfidf_or_restaurant_id_09.npy',\n",
       " 'pickle_jar/final_no_tfidf_or_restaurant_id_10.npy',\n",
       " 'pickle_jar/final_no_tfidf_or_restaurant_id_11.npy',\n",
       " 'pickle_jar/final_no_tfidf_or_restaurant_id_12.npy',\n",
       " 'pickle_jar/final_no_tfidf_or_restaurant_id_13.npy',\n",
       " 'pickle_jar/final_no_tfidf_or_restaurant_id_14.npy',\n",
       " 'pickle_jar/final_no_tfidf_or_restaurant_id_15.npy',\n",
       " 'pickle_jar/final_no_tfidf_or_restaurant_id_16.npy',\n",
       " 'pickle_jar/final_no_tfidf_or_restaurant_id_17.npy']"
      ]
     },
     "execution_count": 37,
     "metadata": {},
     "output_type": "execute_result"
    }
   ],
   "source": [
    "joblib.dump(final, 'pickle_jar/final_no_tfidf_or_restaurant_id')"
   ]
  },
  {
   "cell_type": "code",
   "execution_count": 40,
   "metadata": {
    "collapsed": false
   },
   "outputs": [],
   "source": [
    "final.to_pickle('pickle_jar/final_no_tfidf_or_restaurant_id')"
   ]
  },
  {
   "cell_type": "code",
   "execution_count": 120,
   "metadata": {
    "collapsed": false
   },
   "outputs": [],
   "source": [
    "tfidf_pivot = pd.read_pickle('pickle_jar/lsa_tfidf_2mil_pivot_365_100c')\n",
    "# tfidf = joblib.load('pickle_jar/full_post_pivot_tfidf_lsa')"
   ]
  },
  {
   "cell_type": "code",
   "execution_count": 126,
   "metadata": {
    "collapsed": false
   },
   "outputs": [],
   "source": [
    "final = pd.concat([final, tfidf_pivot.groupby('inspection_id').mean().reset_index(drop=True).drop('enumerated_review_delta', axis=1)], axis=1)"
   ]
  },
  {
   "cell_type": "code",
   "execution_count": 129,
   "metadata": {
    "collapsed": false
   },
   "outputs": [
    {
     "data": {
      "text/plain": [
       "['pickle_jar/final_final',\n",
       " 'pickle_jar/final_final_01.npy',\n",
       " 'pickle_jar/final_final_02.npy',\n",
       " 'pickle_jar/final_final_03.npy',\n",
       " 'pickle_jar/final_final_04.npy',\n",
       " 'pickle_jar/final_final_05.npy',\n",
       " 'pickle_jar/final_final_06.npy',\n",
       " 'pickle_jar/final_final_07.npy',\n",
       " 'pickle_jar/final_final_08.npy']"
      ]
     },
     "execution_count": 129,
     "metadata": {},
     "output_type": "execute_result"
    }
   ],
   "source": [
    "joblib.dump(final, 'pickle_jar/final_final')"
   ]
  },
  {
   "cell_type": "code",
   "execution_count": null,
   "metadata": {
    "collapsed": true
   },
   "outputs": [],
   "source": []
  },
  {
   "cell_type": "code",
   "execution_count": null,
   "metadata": {
    "collapsed": true
   },
   "outputs": [],
   "source": []
  },
  {
   "cell_type": "code",
   "execution_count": null,
   "metadata": {
    "collapsed": true
   },
   "outputs": [],
   "source": []
  },
  {
   "cell_type": "code",
   "execution_count": null,
   "metadata": {
    "collapsed": false
   },
   "outputs": [],
   "source": []
  },
  {
   "cell_type": "code",
   "execution_count": 30,
   "metadata": {
    "collapsed": false
   },
   "outputs": [],
   "source": []
  },
  {
   "cell_type": "code",
   "execution_count": 41,
   "metadata": {
    "collapsed": false
   },
   "outputs": [
    {
     "data": {
      "text/plain": [
       "<matplotlib.axes._subplots.AxesSubplot at 0x1d15c8f50>"
      ]
     },
     "execution_count": 41,
     "metadata": {},
     "output_type": "execute_result"
    },
    {
     "data": {
      "image/png": "[encoded data removed]",
      "text/plain": [
       "<matplotlib.figure.Figure at 0x1b0ace2d0>"
      ]
     },
     "metadata": {},
     "output_type": "display_data"
    }
   ],
   "source": [
    "sns.distplot(X[0])"
   ]
  },
  {
   "cell_type": "code",
   "execution_count": 193,
   "metadata": {
    "collapsed": false
   },
   "outputs": [],
   "source": [
    "X = pivot_feature(combo, feature='polarity', limit=None, decomp='factor')\n",
    "y = df[['score_lvl_1', 'score_lvl_2', 'score_lvl_3']]"
   ]
  },
  {
   "cell_type": "code",
   "execution_count": 160,
   "metadata": {
    "collapsed": false
   },
   "outputs": [],
   "source": [
    "# combine two features\n",
    "X2 = pivot_feature(combo, feature='review_stars', limit=None, decomp='factor')\n",
    "# X3 = pivot_feature(combo, feature='compound', limit=None, decomp='factor')\n",
    "X = np.hstack((X, X2)) \n",
    "# X = np.hstack((X, X2, X3))"
   ]
  },
  {
   "cell_type": "code",
   "execution_count": 194,
   "metadata": {
    "collapsed": false
   },
   "outputs": [],
   "source": [
    "# combine X with non-review features\n",
    "# X = np.hstack((X, df[['inspection_month', 'restaurant_stars']])) # as numerical\n",
    "X = np.hstack((X, pd.get_dummies(df.inspection_month))) # as categorical\n",
    "# X = np.hstack((X, pd.get_dummies(df.restaurant_attributes_price_range))) # as categorical\n",
    "# X = np.hstack((X, df[['previous_inspection_delta']]))\n",
    "# X = np.hstack((X, pd.get_dummies(df.restaurant_city))) # as categorical"
   ]
  },
  {
   "cell_type": "code",
   "execution_count": 195,
   "metadata": {
    "collapsed": false
   },
   "outputs": [],
   "source": [
    "#bool\n",
    "\n",
    "# selects = df[['restaurant_attributes_accepts_credit_cards', 'restaurant_attributes_coat_check', 'restaurant_attributes_good_for_dancing', 'restaurant_attributes_good_for_groups', 'restaurant_attributes_good_for_latenight', 'restaurant_attributes_happy_hour', 'restaurant_attributes_has_tv', 'restaurant_attributes_outdoor_seating', 'restaurant_attributes_take_out',  'restaurant_attributes_takes_reservations', 'restaurant_attributes_waiter_service', 'restaurant_attributes_wheelchair_accessible']].astype(int)\n",
    "everything = df[['restaurant_attributes_accepts_credit_cards', 'restaurant_attributes_byob', 'restaurant_attributes_caters', 'restaurant_attributes_coat_check', 'restaurant_attributes_corkage', 'restaurant_attributes_delivery', 'restaurant_attributes_dietary_restrictions_dairy_free', 'restaurant_attributes_dietary_restrictions_gluten_free', 'restaurant_attributes_dietary_restrictions_halal', 'restaurant_attributes_dietary_restrictions_kosher', 'restaurant_attributes_dietary_restrictions_soy_free', 'restaurant_attributes_dietary_restrictions_vegan', 'restaurant_attributes_dietary_restrictions_vegetarian', 'restaurant_attributes_dogs_allowed', 'restaurant_attributes_drive_thr', 'restaurant_attributes_good_for_dancing', 'restaurant_attributes_good_for_groups', 'restaurant_attributes_good_for_breakfast', 'restaurant_attributes_good_for_brunch', 'restaurant_attributes_good_for_dessert', 'restaurant_attributes_good_for_dinner', 'restaurant_attributes_good_for_latenight', 'restaurant_attributes_good_for_lunch', 'restaurant_attributes_good_for_kids', 'restaurant_attributes_happy_hour', 'restaurant_attributes_has_tv', 'restaurant_attributes_open_24_hours', 'restaurant_attributes_order_at_counter', 'restaurant_attributes_outdoor_seating',  'restaurant_attributes_payment_types_amex', 'restaurant_attributes_payment_types_cash_only', 'restaurant_attributes_payment_types_discover', 'restaurant_attributes_payment_types_mastercard', 'restaurant_attributes_payment_types_visa', 'restaurant_attributes_take_out',  'restaurant_attributes_takes_reservations', 'restaurant_attributes_waiter_service', 'restaurant_attributes_wheelchair_accessible', ]].astype(int)\n",
    "X = np.hstack((X, everything))"
   ]
  },
  {
   "cell_type": "code",
   "execution_count": 202,
   "metadata": {
    "collapsed": false
   },
   "outputs": [],
   "source": [
    "#numerical\n",
    "# everything = df[['restaurant_latitude', 'restaurant_longitude', 'previous_inspection_delta', 'restaurant_hours_friday_close', 'restaurant_hours_friday_open', 'restaurant_hours_monday_close', 'restaurant_hours_monday_open', 'restaurant_hours_saturday_close', 'restaurant_hours_saturday_open', 'restaurant_hours_sunday_close', 'restaurant_hours_sunday_open', 'restaurant_hours_thursday_close', 'restaurant_hours_thursday_open', 'restaurant_hours_tuesday_close', 'restaurant_hours_tuesday_open', 'restaurant_hours_wednesday_close', 'restaurant_hours_wednesday_open']]\n",
    "# selects = df[['restaurant_latitude']].apply(lambda x: x.fillna(x.median()))\n",
    "# X = np.hstack((X, selects))\n",
    "\n",
    "def long_lat(x):\n",
    "    lbl_enc = LabelEncoder()\n",
    "    temp = lbl_enc.fit_transform(x).astype(float)\n",
    "    x = pd.DataFrame(temp / temp.max())\n",
    "    return x\n",
    "xlat = long_lat(df.restaurant_latitude)\n",
    "xlong = long_lat(df.restaurant_longitude)\n",
    "X = np.hstack((X, xlat, xlong))"
   ]
  },
  {
   "cell_type": "code",
   "execution_count": 253,
   "metadata": {
    "collapsed": false
   },
   "outputs": [],
   "source": [
    "# # bin time delta data\n",
    "bin_size = 50\n",
    "tdmax = combo.review_delta.max()\n",
    "tdmin = combo.review_delta.min()\n",
    "combo['review_delta_bin'] = pd.cut(combo[\"review_delta\"], np.arange(tdmin, tdmax, bin_size))\n",
    "lbl_enc = LabelEncoder()\n",
    "combo.review_delta_bin = lbl_enc.fit_transform(combo.review_delta_bin)\n",
    "bins = pd.concat([combo[['inspection_id', 'enumerated_review_delta']], pd.get_dummies(combo.review_delta_bin, prefix='review_delta_bin')], axis=1)\n",
    "\n",
    "for i in range(len(bins.columns - ['inspection_id', 'enumerated_review_delta'])):\n",
    "    t = pivot_feature(bins, feature='review_delta_bin_'+str(i), limit=None, decomp='factor')\n",
    "    X = np.hstack((X, t))\n",
    "\n",
    "# # bin previous_inspection_delta data\n",
    "bin_size = 14\n",
    "tdmax = df.previous_inspection_delta.max()\n",
    "tdmin = df.previous_inspection_delta.min()\n",
    "df['previous_inspection_delta_bin'] = pd.cut(df[\"previous_inspection_delta\"], np.arange(tdmin, tdmax, bin_size))\n",
    "lbl_enc = LabelEncoder()\n",
    "df.previous_inspection_delta_bin = lbl_enc.fit_transform(df.previous_inspection_delta_bin)\n",
    "bins = pd.concat([df[['inspection_id']], pd.get_dummies(df.previous_inspection_delta_bin, prefix='previous_inspection_delta_bin')], axis=1)\n",
    "\n",
    "for i in range(len(bins.columns - ['inspection_id'])):\n",
    "    X = np.hstack((X, bins[['previous_inspection_delta_bin_'+str(i)]]))"
   ]
  },
  {
   "cell_type": "code",
   "execution_count": 196,
   "metadata": {
    "collapsed": false
   },
   "outputs": [
    {
     "name": "stderr",
     "output_type": "stream",
     "text": [
      "100% (99 of 99) |#########################| Elapsed Time: 0:00:03 Time: 0:00:03\n",
      "100% (87 of 87) |#########################| Elapsed Time: 0:00:01 Time: 0:00:01\n",
      "100% (51 of 51) |#########################| Elapsed Time: 0:00:00 Time: 0:00:00\n",
      "100% (24 of 24) |#########################| Elapsed Time: 0:00:00 Time: 0:00:00\n",
      "100% (11 of 11) |#########################| Elapsed Time: 0:00:00 Time: 0:00:00\n",
      "100% (2 of 2) |###########################| Elapsed Time: 0:00:00 Time: 0:00:00\n",
      "100% (9 of 9) |###########################| Elapsed Time: 0:00:00 Time: 0:00:00\n",
      "100% (1 of 1) |###########################| Elapsed Time: 0:00:00 Time: 0:00:00\n"
     ]
    }
   ],
   "source": [
    "def special_categories_to_matrix(df, cats):\n",
    "    # need to do it like this because pd.merge causes a memory overload\n",
    "    t0 = pd.get_dummies(df[cats[0]])\n",
    "    cats.pop(0)\n",
    "    for i in cats:\n",
    "        new_dummies = pd.get_dummies(df[i])\n",
    "        pbar = ProgressBar(maxval=len(new_dummies.columns)).start()\n",
    "        for index, column in enumerate(new_dummies.columns):\n",
    "            if column not in t0.columns:\n",
    "                t0 = pd.concat([t0, new_dummies[column]], axis=1)\n",
    "            else:\n",
    "                t0[column] = t0[column] + new_dummies[column]\n",
    "            pbar.update(index)\n",
    "        pbar.finish()\n",
    "    return t0\n",
    "\n",
    "cats = ['restaurant_category_1', 'restaurant_category_2', 'restaurant_category_3', 'restaurant_category_4', 'restaurant_category_5', 'restaurant_category_6', 'restaurant_category_7']\n",
    "X = np.hstack((X, special_categories_to_matrix(df, cats)))\n",
    "cats = ['restaurant_neighborhood_1', 'restaurant_neighborhood_2', 'restaurant_neighborhood_3']\n",
    "X = np.hstack((X, special_categories_to_matrix(df, cats)))"
   ]
  },
  {
   "cell_type": "code",
   "execution_count": 197,
   "metadata": {
    "collapsed": false
   },
   "outputs": [],
   "source": [
    "ambience_dum = pd.get_dummies(df.restaurant_ambience)[['divey', 'trendy']]\n",
    "alcohol_dum = pd.get_dummies(df.restaurant_attributes_alcohol)['full_bar']\n",
    "attire_dum = pd.get_dummies(df.restaurant_attributes_attire)['dressy']\n",
    "noise_dum = pd.get_dummies(df.restaurant_attributes_noise_level)['very_loud']\n",
    "smoke_dum = pd.get_dummies(df.restaurant_attributes_smoking)['outdoor']\n",
    "music_dum = pd.get_dummies(df.restaurant_music)[['dj', 'live']]\n",
    "park_dum = pd.get_dummies(df.restaurant_parking)['street']\n",
    "wifi_dum = pd.get_dummies(df.restaurant_attributes_wifi)['no']\n",
    "# X = np.hstack((X, np.array(pd.concat([ambience_dum, alcohol_dum, attire_dum, noise_dum, smoke_dum, music_dum, park_dum, wifi_dum], axis=1))))\n",
    "X = np.hstack((X, np.array(pd.concat([ambience_dum, alcohol_dum], axis=1))))\n",
    "# X = np.hstack((X, ambience_dum))\n",
    "# X = np.hstack((X, pd.get_dummies(df.restaurant_ambience)))\n",
    "# X = np.hstack((X, pd.get_dummies(df.restaurant_music)))"
   ]
  },
  {
   "cell_type": "code",
   "execution_count": 76,
   "metadata": {
    "collapsed": false
   },
   "outputs": [],
   "source": [
    "y = final[['score_lvl_1', 'score_lvl_2', 'score_lvl_3']]\n",
    "X = final.drop(['inspection_id', 'score_lvl_1', 'score_lvl_2', 'score_lvl_3'], axis=1)"
   ]
  },
  {
   "cell_type": "code",
   "execution_count": 198,
   "metadata": {
    "collapsed": false
   },
   "outputs": [],
   "source": [
    "X = np.hstack((X, pd.get_dummies(df.restaurant_id)))"
   ]
  },
  {
   "cell_type": "code",
   "execution_count": 199,
   "metadata": {
    "collapsed": false
   },
   "outputs": [
    {
     "data": {
      "text/plain": [
       "(24430, 2142)"
      ]
     },
     "execution_count": 199,
     "metadata": {},
     "output_type": "execute_result"
    }
   ],
   "source": [
    "X = np.hstack((X, tfidf_pivot.groupby('inspection_id').mean()))\n",
    "# X = np.hstack((X, tfidf))\n",
    "X.shape"
   ]
  },
  {
   "cell_type": "code",
   "execution_count": 7,
   "metadata": {
    "collapsed": false
   },
   "outputs": [],
   "source": [
    "y = final[['score_lvl_1', 'score_lvl_2', 'score_lvl_3']]\n",
    "X = final.drop(['score_lvl_1', 'score_lvl_2', 'score_lvl_3', 'inspection_id'], axis=1)"
   ]
  },
  {
   "cell_type": "code",
   "execution_count": 8,
   "metadata": {
    "collapsed": false
   },
   "outputs": [],
   "source": [
    "# Xnew = joblib.load('pickle_jar/_jar/Xnew_restid_pivot_score_lvl_1')"
   ]
  },
  {
   "cell_type": "code",
   "execution_count": 15,
   "metadata": {
    "collapsed": false
   },
   "outputs": [],
   "source": [
    "tfidf_pivot = pd.read_pickle('pickle_jar/lsa_tfidf_2mil_pivot_365_100c')\n",
    "# tfidf = joblib.load('pickle_jar/full_post_pivot_tfidf_lsa')\n",
    "# tfidf = joblib.load('pickle_jar/tfidf_preprocessed_ngram3_sublinear_2mil_post_pivot_365')"
   ]
  },
  {
   "cell_type": "code",
   "execution_count": 10,
   "metadata": {
    "collapsed": false
   },
   "outputs": [],
   "source": [
    "from sklearn.linear_model import LinearRegression\n",
    "from sklearn.linear_model import SGDClassifier\n",
    "from sklearn.linear_model import SGDRegressor\n",
    "from sklearn.ensemble import RandomForestClassifier, ExtraTreesClassifier, ExtraTreesRegressor\n",
    "from sklearn.ensemble import RandomForestRegressor\n",
    "from sklearn.linear_model import LogisticRegression\n",
    "from sklearn.linear_model import Perceptron\n",
    "from sklearn.neighbors import KNeighborsClassifier\n",
    "from sklearn.neighbors import KNeighborsRegressor\n",
    "from sklearn.tree import DecisionTreeClassifier, DecisionTreeRegressor\n",
    "from sklearn.naive_bayes import MultinomialNB\n",
    "from sklearn.naive_bayes import GaussianNB\n",
    "from sklearn.svm import LinearSVC, SVR\n",
    "from sklearn.linear_model import BayesianRidge\n",
    "\n",
    "from sklearn.preprocessing import MinMaxScaler\n",
    "from sklearn.feature_selection import SelectKBest, chi2, f_regression, f_classif, SelectFpr\n",
    "\n",
    "from sklearn.metrics import mean_squared_error\n",
    "\n",
    "from sklearn.ensemble import AdaBoostClassifier, AdaBoostRegressor, GradientBoostingClassifier, GradientBoostingRegressor\n",
    "from sklearn.svm import SVC, SVR\n",
    "from sklearn.linear_model import Ridge, RidgeClassifier, Lasso, ElasticNet"
   ]
  },
  {
   "cell_type": "code",
   "execution_count": 25,
   "metadata": {
    "collapsed": false
   },
   "outputs": [
    {
     "name": "stdout",
     "output_type": "stream",
     "text": [
      "ExtraTreesClassifier(bootstrap=False, class_weight=None, criterion='gini',\n",
      "           max_depth=None, max_features='auto', max_leaf_nodes=None,\n",
      "           min_samples_leaf=1, min_samples_split=2,\n",
      "           min_weight_fraction_leaf=0.0, n_estimators=10, n_jobs=1,\n",
      "           oob_score=False, random_state=None, verbose=0, warm_start=False)\n",
      "Level 1 accuracy score of 0.390635232482\n",
      "Level 2 accuracy score of 0.75622134905\n",
      "Level 3 accuracy score of 0.609855926654\n",
      "Contest score of 1.14538902329\n",
      "\n",
      "\n",
      "15.1787350178 seconds elapsed\n"
     ]
    }
   ],
   "source": [
    "\n",
    "\n",
    "t0 = time()\n",
    "\n",
    "\n",
    "estimator_list = [\n",
    "    ExtraTreesClassifier(),\n",
    "#     LinearRegression(), \n",
    "#     SGDClassifier(n_jobs=-1, random_state=42), \n",
    "#     Perceptron(n_jobs=-1, random_state=42),  # gets some nuances\n",
    "#     SGDRegressor(), # gets some nuances\n",
    "#     RandomForestClassifier(n_jobs=-1, random_state=42), \n",
    "#     RandomForestRegressor(n_jobs=-1, random_state=42),\n",
    "#     BayesianRidge(), \n",
    "#     KNeighborsClassifier(),\n",
    "#     KNeighborsRegressor(),  # gets some nuances\n",
    "#     DecisionTreeClassifier(),\n",
    "#     DecisionTreeRegressor(),\n",
    "#     GaussianNB(),\n",
    "# MultinomialNB(),\n",
    "#     SVR(),\n",
    "#     LinearSVC(random_state=42),\n",
    "#     LogisticRegression()\n",
    "]\n",
    "\n",
    "for estimator in estimator_list:\n",
    "    pipeline = Pipeline([\n",
    "        ('zero_variance_removal', VarianceThreshold()),\n",
    "        ('k_best', SelectKBest(score_func=f_classif, k=180)),\n",
    "#         ('no_negative', MinMaxScaler()),\n",
    "#         ('normalizer', Normalizer(norm='l2')), #  for text classification and clustering\n",
    "#         ('normalizer', Normalizer(copy=False)),\n",
    "#         ('scaler', StandardScaler()),\n",
    "#         ('scaler', StandardScaler(with_mean=False)), #  for sparse matrix\n",
    "        ('clf', estimator),\n",
    "])\n",
    "    print estimator\n",
    "#     for i in range(1,11):\n",
    "#         print(i)\n",
    "#         X = pivot_feature(combo, feature='polarity', limit=i, decomp=None)\n",
    "#         p1,p2,p3,ytest = raw_fit(X, y, pipeline)\n",
    "#         raw_scoring(p1,p2,p3,ytest)\n",
    "#     p1,p2,p3,ytest = raw_fit(np.hstack((X, test_lsa)), y, pipeline)\n",
    "    p1,p2,p3,ytest = raw_fit(X, y, pipeline)\n",
    "    raw_scoring(p1,p2,p3,ytest)\n",
    "    print('\\n')\n",
    "\n",
    "\n",
    "print(\"{} seconds elapsed\".format(time()-t0))\n",
    "\n"
   ]
  },
  {
   "cell_type": "code",
   "execution_count": 11,
   "metadata": {
    "collapsed": false
   },
   "outputs": [
    {
     "name": "stdout",
     "output_type": "stream",
     "text": [
      "Level 1 accuracy score of 0.100286532951\n",
      "Level 2 accuracy score of 0.711625051167\n",
      "Level 3 accuracy score of 0.21874744167\n",
      "Contest score of 1.20850107659\n"
     ]
    }
   ],
   "source": [
    "# baseline scores if guessing median\n",
    "scores = ['score_lvl_1', 'score_lvl_2', 'score_lvl_3']\n",
    "newy  = y.copy()\n",
    "for index, score in enumerate(scores):\n",
    "#     print(\"level {}: {}\".format(index+1, y[score].value_counts(normalize=True)[guess])) # if just guessing zero\n",
    "    newy[score] = np.round(newy[score].mean())\n",
    "raw_scoring(newy.score_lvl_1, newy.score_lvl_2, newy.score_lvl_3, y)\n",
    "pass"
   ]
  },
  {
   "cell_type": "code",
   "execution_count": null,
   "metadata": {
    "collapsed": false
   },
   "outputs": [
    {
     "name": "stdout",
     "output_type": "stream",
     "text": [
      "BayesianRidge score of nan in 2.21477508545 seconds\n",
      "Ridge score of nan in 0.374784946442 seconds\n",
      "RidgeClassifier score of 1.56242501064 in 0.506411075592 seconds\n",
      "Lasso score of nan in 0.560006856918 seconds\n",
      "ElasticNet score of nan in 0.866817951202 seconds\n",
      "KNeighborsClassifier score of 1.46731906853 in 17.437404871 seconds\n",
      "KNeighborsRegressor score of 1.13566417453 in 18.9276180267 seconds\n",
      "LinearSVC score of 2.15767006709 in 330.008104086 seconds"
     ]
    }
   ],
   "source": [
    "\n",
    "\n",
    "xtrain, xtest, ytrain, ytest = train_test_split(X, y.score_lvl_1, random_state=42)\n",
    "estimator_list = [\n",
    "#     SGDClassifier(n_jobs=-1), \n",
    "#     SGDClassifier(n_jobs=-1, penalty='elasticnet'), \n",
    "#     SGDClassifier(n_jobs=-1, penalty='l1'), \n",
    "#     Perceptron(n_jobs=-1),  # gets some nuances\n",
    "#     SGDRegressor(), # gets some nuances\n",
    "#     RandomForestClassifier(n_jobs=-1, random_state=42), \n",
    "#     RandomForestRegressor(n_jobs=-1, random_state=42),\n",
    "#     AdaBoostClassifier(),\n",
    "#     AdaBoostRegressor(),\n",
    "#     GradientBoostingClassifier(), \n",
    "#     GradientBoostingRegressor(),\n",
    "    BayesianRidge(), \n",
    "    Ridge(),\n",
    "    RidgeClassifier(),\n",
    "    Lasso(),\n",
    "    ElasticNet(),\n",
    "    KNeighborsClassifier(),\n",
    "    KNeighborsRegressor(),\n",
    "    LinearSVC(),\n",
    "    SVC(kernel='linear'),\n",
    "    SVC(kernel='rbf'),\n",
    "    SVR(),\n",
    "    ]\n",
    "\n",
    "# newX = joblib.load('pickle_jar/Xnew_restid_tfidf_pivot_RFC_score_lvl_1')\n",
    "newX = SelectKBest(score_func=f_classif, k=180).fit_transform(X, y[score])\n",
    "xtrain, xtest, ytrain, ytest = train_test_split(newX, y, random_state=42)\n",
    "\n",
    "for est in estimator_list:\n",
    "    t0 = time()\n",
    "    pipeline = Pipeline([\n",
    "        ('zero_variance_removal', VarianceThreshold()),\n",
    "#             ('k_best', SelectKBest(score_func=f_classif, k=180)),\n",
    "    #         ('no_negative', MinMaxScaler()),\n",
    "    #         ('normalizer', Normalizer(norm='l2')), #  for text classification and clustering\n",
    "    #         ('normalizer', Normalizer(copy=False)),\n",
    "    #         ('scaler', StandardScaler()),\n",
    "    #         ('scaler', StandardScaler(with_mean=False)), #  for sparse matrix\n",
    "        ('clf', est),\n",
    "    ])\n",
    "\n",
    "    p1 = pipeline.fit(xtrain, ytrain['score_lvl_1']).predict(xtest)\n",
    "    p2 = pipeline.fit(xtrain, ytrain['score_lvl_2']).predict(xtest)\n",
    "    p3 = pipeline.fit(xtrain, ytrain['score_lvl_3']).predict(xtest)\n",
    "    results = np.dstack((p1, p2, p3))[0]\n",
    "    score = contest_metric(results, np.array(ytest))\n",
    "    \n",
    "    print('{} score of {} in {} seconds'.format(str(est).split('(')[0], score, time() - t0))\n"
   ]
  },
  {
   "cell_type": "code",
   "execution_count": 16,
   "metadata": {
    "collapsed": false
   },
   "outputs": [
    {
     "data": {
      "text/plain": [
       "(24430, 3005)"
      ]
     },
     "execution_count": 16,
     "metadata": {},
     "output_type": "execute_result"
    }
   ],
   "source": [
    "y = final[['score_lvl_1', 'score_lvl_2', 'score_lvl_3']]\n",
    "X = final.drop(['score_lvl_1', 'score_lvl_2', 'score_lvl_3', 'inspection_id'], axis=1)\n",
    "X = np.hstack((X, pd.get_dummies(df.restaurant_id)))\n",
    "X = np.hstack((X, tfidf_pivot.groupby('inspection_id').mean()))\n",
    "# X = np.hstack((X, tfidf))\n",
    "\n",
    "X.shape"
   ]
  },
  {
   "cell_type": "code",
   "execution_count": 151,
   "metadata": {
    "collapsed": false
   },
   "outputs": [
    {
     "data": {
      "text/plain": [
       "(24430, 785)"
      ]
     },
     "execution_count": 151,
     "metadata": {},
     "output_type": "execute_result"
    }
   ],
   "source": [
    "joblib.load('pickle_jar/Xnew_restid_tfidf_pivot_RFC_score_lvl_1').shape"
   ]
  },
  {
   "cell_type": "code",
   "execution_count": 24,
   "metadata": {
    "collapsed": false
   },
   "outputs": [
    {
     "name": "stdout",
     "output_type": "stream",
     "text": [
      "score_lvl_1\n",
      "iteration 0 MSE of 16.1733791749\n",
      "iteration 1 MSE of 17.4862475442\n",
      "iteration 2 MSE of 16.231827112\n",
      "iteration 3 MSE of 16.2151277014\n",
      "iteration 4 MSE of 16.7282252783\n",
      "iteration 5 MSE of 15.9885396202\n",
      "iteration 6 MSE of 16.6046168959\n",
      "iteration 7 MSE of 16.7378847413\n",
      "iteration 8 MSE of 18.0361820563\n",
      "iteration 9 MSE of 16.8425016372\n",
      "ensembled MSE of 12.5898952194\n",
      "weighted ensembled MSE of 12.5797553676\n",
      "\n",
      "score_lvl_2\n",
      "iteration 0 MSE of 0.418631303209\n",
      "iteration 1 MSE of 0.38785199738\n",
      "iteration 2 MSE of 0.37098886706\n",
      "iteration 3 MSE of 0.391617550753\n",
      "iteration 4 MSE of 0.3701702685\n",
      "iteration 5 MSE of 0.40635232482\n",
      "iteration 6 MSE of 0.362311722331\n",
      "iteration 7 MSE of 0.378683693517\n",
      "iteration 8 MSE of 0.397838899804\n",
      "iteration 9 MSE of 0.362966601179\n",
      "ensembled MSE of 0.309328749181\n",
      "weighted ensembled MSE of 0.30347545828\n",
      "\n",
      "score_lvl_3\n",
      "iteration 0 MSE of 2.37180746562\n",
      "iteration 1 MSE of 2.1491486575\n",
      "iteration 2 MSE of 2.4377865095\n",
      "iteration 3 MSE of 2.13555992141\n",
      "iteration 4 MSE of 2.04436804191\n",
      "iteration 5 MSE of 2.06368696791\n",
      "iteration 6 MSE of 2.46201702685\n",
      "iteration 7 MSE of 2.46037982973\n",
      "iteration 8 MSE of 2.16093647675\n",
      "iteration 9 MSE of 2.20383104126\n",
      "ensembled MSE of 1.8542632613\n",
      "weighted ensembled MSE of 1.80534841178\n",
      "\n",
      "ensembled contest metric of 0.964938365219\n"
     ]
    }
   ],
   "source": [
    "# ensemble multiple variations of same model averaging according to score weight\n",
    "# est = RandomForestRegressor(n_jobs=-1)\n",
    "# est = RandomForestClassifier(n_jobs=-1)\n",
    "est = ExtraTreesClassifier(n_jobs=-1, criterion='entropy')\n",
    "# est = ExtraTreesRegressor()\n",
    "        \n",
    "scores = ['score_lvl_1', 'score_lvl_2', 'score_lvl_3']\n",
    "        \n",
    "result_list = []\n",
    "ytrue = []\n",
    "for score in scores:\n",
    "    print(score)\n",
    "    newX = SelectKBest(score_func=f_classif, k=180).fit_transform(X, y[score])\n",
    "#     newX = joblib.load('pickle_jar/Xnew_restid_tfidf_pivot_RFC_'+score)\n",
    "    xtrain, xtest, ytrain, ytest = train_test_split(newX, y[score], random_state=42)\n",
    "    pre_list = []\n",
    "    for i in range(10):\n",
    "        model = est.fit(xtrain, ytrain)\n",
    "        prediction = model.predict(xtest)\n",
    "        mse = mean_squared_error(ytest, prediction)\n",
    "        print('iteration {} MSE of {}'.format(i, mse))\n",
    "        pre_list.append([mse, prediction, est])\n",
    "    pre_list = sorted(pre_list, reverse=True)\n",
    "    weighted_list = []\n",
    "    for i in pre_list:\n",
    "        weighted_list.append(i + [(1 + pre_list.index(i)) / float(len(pre_list))])\n",
    "    w_ens = np.average([i[1] for i in weighted_list], axis=0, weights=[i[3] for i in weighted_list])\n",
    "    ens = np.array([i[1] for i in pre_list]).T.mean(axis=1)\n",
    "#     ens = np.clip(np.round(np.array([i[1] for i in pre_list]).T.mean(axis=1)), 0, y[score].max())\n",
    "#     print('ensembled accuracy score of {}'.format(accuracy_score(ytest, ens)))\n",
    "#     print('weighted ensembled accuracy score of {}'.format(accuracy_score(ytest, w_ens)))\n",
    "    print('ensembled MSE of {}'.format(mean_squared_error(ytest, ens)))\n",
    "    print('weighted ensembled MSE of {}'.format(mean_squared_error(ytest, w_ens)))\n",
    "    # just in case the ensemble is worse than the worst iteration\n",
    "    if mean_squared_error(ytest, w_ens) < pre_list[0][0]:\n",
    "        if mean_squared_error(ytest, w_ens) < mean_squared_error(ytest, ens):\n",
    "            result_list.append(w_ens)\n",
    "        else:\n",
    "            print('taking non-weighted')\n",
    "            result_list.append(ens)\n",
    "    else:\n",
    "        print('replacing ensemble')\n",
    "        result_list.append(pre_list[0][1])\n",
    "    print('')\n",
    "    ytrue.append(ytest.tolist())\n",
    "print(\"ensembled contest metric of {}\".format(contest_metric(np.round(np.array(result_list).T), np.array(ytrue).T)))\n",
    "\n"
   ]
  },
  {
   "cell_type": "code",
   "execution_count": 53,
   "metadata": {
    "collapsed": false
   },
   "outputs": [
    {
     "data": {
      "text/plain": [
       "(0.32872855045171417, 7.289136490868647e-154)"
      ]
     },
     "execution_count": 53,
     "metadata": {},
     "output_type": "execute_result"
    }
   ],
   "source": [
    "from scipy.stats import pearsonr\n",
    "pearsonr(pre_list[0], pre_list[5])"
   ]
  },
  {
   "cell_type": "code",
   "execution_count": 26,
   "metadata": {
    "collapsed": false
   },
   "outputs": [
    {
     "name": "stdout",
     "output_type": "stream",
     "text": [
      "score_lvl_1\n",
      "(24430, 700)\n",
      "RandomForestRegressor MSE of 13.5047267704\n",
      "RandomForestClassifier MSE of 18.769238641\n",
      "RandomForestClassifier MSE of 19.2852026197\n",
      "ExtraTreesClassifier MSE of 16.1957634056\n",
      "ExtraTreesClassifier MSE of 15.2038477282\n",
      "ExtraTreesClassifier MSE of 13.5388866148\n",
      "ExtraTreesClassifier MSE of 13.9783053623\n",
      "ExtraTreesRegressor MSE of 12.7452056897\n",
      "ensembled MSE of 11.29874079\n",
      "weighted ensembled MSE of 10.5884167783\n",
      "\n",
      "\n",
      "score_lvl_2\n",
      "(24430, 700)\n",
      "RandomForestRegressor MSE of 0.384001227998\n",
      "RandomForestClassifier MSE of 0.450573065903\n",
      "RandomForestClassifier MSE of 0.439214081048\n",
      "ExtraTreesClassifier MSE of 0.380065493246\n",
      "ExtraTreesClassifier MSE of 0.350184199754\n",
      "ExtraTreesClassifier MSE of 0.346090871879\n",
      "ExtraTreesClassifier MSE of 0.330024559967\n",
      "ExtraTreesRegressor MSE of 0.360095169873\n",
      "ensembled MSE of 0.295788781084\n",
      "weighted ensembled MSE of 0.28876204547\n",
      "\n",
      "\n",
      "score_lvl_3\n",
      "(24430, 700)\n",
      "RandomForestRegressor MSE of 2.08672022104\n",
      "RandomForestClassifier MSE of 2.43839541547\n",
      "RandomForestClassifier MSE of 2.30198526402\n",
      "ExtraTreesClassifier MSE of 2.11205485059\n",
      "ExtraTreesClassifier MSE of 1.90349979533\n",
      "ExtraTreesClassifier MSE of 1.90708145722\n",
      "ExtraTreesClassifier MSE of 1.84189521081\n",
      "ExtraTreesRegressor MSE of 2.13204768727\n",
      "ensembled MSE of 1.62431900455\n",
      "weighted ensembled MSE of 1.5827315715\n",
      "\n",
      "\n",
      "ensembled contest metric of 0.829934202658\n"
     ]
    }
   ],
   "source": [
    "# ensemble multiple variations of same model averaging according to score weight\n",
    "\n",
    "        \n",
    "scores = ['score_lvl_1', 'score_lvl_2', 'score_lvl_3']\n",
    "\n",
    "meta_pipeline = [\n",
    "    Pipeline([\n",
    "            ('scaler', StandardScaler()),\n",
    "            ('clf', RandomForestRegressor(n_jobs=-1, )),\n",
    "        ]),\n",
    "    Pipeline([\n",
    "            ('scaler', StandardScaler()),\n",
    "            ('clf', RandomForestClassifier(n_jobs=-1, criterion='gini')),\n",
    "        ]),\n",
    "    Pipeline([\n",
    "            ('scaler', StandardScaler()),\n",
    "            ('clf', RandomForestClassifier(n_jobs=-1, criterion='entropy')),\n",
    "        ]),\n",
    "    Pipeline([\n",
    "            ('scaler', StandardScaler()),\n",
    "            ('clf', ExtraTreesClassifier(n_jobs=-1, criterion='gini')),\n",
    "        ]),\n",
    "    Pipeline([\n",
    "            ('scaler', StandardScaler()),\n",
    "            ('clf', ExtraTreesClassifier(n_jobs=-1, criterion='entropy')),\n",
    "        ]),\n",
    "    Pipeline([\n",
    "            ('scaler', StandardScaler()),\n",
    "            ('clf', ExtraTreesClassifier(n_estimators=500, n_jobs=-1, criterion='gini')),\n",
    "        ]),\n",
    "    Pipeline([\n",
    "            ('scaler', StandardScaler()),\n",
    "            ('clf', ExtraTreesClassifier(n_estimators=500, n_jobs=-1, criterion='entropy')),\n",
    "        ]),\n",
    "    Pipeline([\n",
    "            ('scaler', StandardScaler()),\n",
    "            ('clf', ExtraTreesRegressor(n_jobs=-1)),\n",
    "        ]),\n",
    "    ]\n",
    "\n",
    "result_list = []\n",
    "advanced_result_list = []\n",
    "ytrue = []\n",
    "for score in scores:\n",
    "    print(score)\n",
    "    newX = SelectKBest(score_func=f_classif, k=700).fit_transform(X, y[score])\n",
    "#     newX = joblib.load('pickle_jar/Xnew_restid_tfidf_pivot_RFR_'+score)\n",
    "    print(newX.shape)\n",
    "    xtrain, xtest, ytrain, ytest = train_test_split(newX, y[score], random_state=42, test_size=.4)\n",
    "    pre_list = []\n",
    "    for pipeline in meta_pipeline:\n",
    "        model = pipeline.fit(xtrain, ytrain)\n",
    "        prediction = model.predict(xtest)\n",
    "        mse = mean_squared_error(ytest, prediction)\n",
    "        print('{} MSE of {}'.format(str(pipeline.named_steps['clf']).split('(')[0], mse))\n",
    "        pre_list.append([mse, prediction, pipeline])\n",
    "    pre_list = sorted(pre_list, reverse=True)\n",
    "    weighted_list = []\n",
    "    for i in pre_list:\n",
    "        weighted_list.append(i + [(1 + pre_list.index(i)) / float(len(pre_list))])\n",
    "    w_ens = np.average([i[1] for i in weighted_list], axis=0, weights=[i[3] for i in weighted_list])\n",
    "    ens = np.array([i[1] for i in pre_list]).T.mean(axis=1)\n",
    "\n",
    "    print('ensembled MSE of {}'.format(mean_squared_error(ytest, ens)))\n",
    "    print('weighted ensembled MSE of {}'.format(mean_squared_error(ytest, w_ens)))\n",
    "    result_list.append(w_ens)\n",
    "    advanced_result_list.append([i[1] for i in pre_list])\n",
    "    print('\\n')\n",
    "    ytrue.append(ytest.tolist())\n",
    "print(\"ensembled contest metric of {}\".format(contest_metric(np.array(result_list).T, np.array(ytrue).T)))\n",
    "\n",
    "\n"
   ]
  },
  {
   "cell_type": "code",
   "execution_count": 345,
   "metadata": {
    "collapsed": false
   },
   "outputs": [
    {
     "data": {
      "text/plain": [
       "0.75344629639588534"
      ]
     },
     "execution_count": 345,
     "metadata": {},
     "output_type": "execute_result"
    }
   ],
   "source": [
    "p_list = []\n",
    "reconstituted_ytest = []\n",
    "for i in range(3):\n",
    "\n",
    "#     blendxtrain, blendxtest, blendytrain, blendytest = train_test_split(np.array(advanced_result_list[i]).T, np.array(ytrue[i]).T)\n",
    "    blendxtrain, blendxtest, blendytrain, blendytest = train_test_split(np.array(result_list)[i].reshape((-1,1)), np.array(ytrue)[i])\n",
    "\n",
    "    clf = GradientBoostingRegressor(loss='huber', n_estimators=100)\n",
    "#     clf = LinearRegression()\n",
    "    clf.fit(blendxtrain, blendytrain)\n",
    "    prediction = clf.predict(blendxtest)\n",
    "    p_list.append(prediction)\n",
    "    reconstituted_ytest.append(blendytest)\n",
    "\n",
    "contest_metric(np.array(p_list).T, np.array(reconstituted_ytest).T)"
   ]
  },
  {
   "cell_type": "code",
   "execution_count": null,
   "metadata": {
    "collapsed": true
   },
   "outputs": [],
   "source": []
  }
 ],
 "metadata": {
  "kernelspec": {
   "display_name": "Python 2",
   "language": "python",
   "name": "python2"
  },
  "language_info": {
   "codemirror_mode": {
    "name": "ipython",
    "version": 2
   },
   "file_extension": ".py",
   "mimetype": "text/x-python",
   "name": "python",
   "nbconvert_exporter": "python",
   "pygments_lexer": "ipython2",
   "version": "2.7.10"
  }
 },
 "nbformat": 4,
 "nbformat_minor": 0
}
