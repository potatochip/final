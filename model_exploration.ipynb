{
 "cells": [
  {
   "cell_type": "code",
   "execution_count": 1,
   "metadata": {
    "collapsed": true
   },
   "outputs": [],
   "source": [
    "%matplotlib inline\n",
    "\n",
    "import numpy as np\n",
    "import pandas as pd\n",
    "import seaborn as sns\n",
    "import matplotlib.pyplot as plt\n",
    "from pandas.io.json import json_normalize\n",
    "import json\n",
    "from textblob import TextBlob\n",
    "\n",
    "plt.rcParams[\"figure.figsize\"] = (10, 8)"
   ]
  },
  {
   "cell_type": "code",
   "execution_count": 2,
   "metadata": {
    "collapsed": false
   },
   "outputs": [],
   "source": [
    "import data_grab\n",
    "train_df, test_df = data_grab.load_dataframes()"
   ]
  },
  {
   "cell_type": "code",
   "execution_count": 54,
   "metadata": {
    "collapsed": false
   },
   "outputs": [
    {
     "data": {
      "text/plain": [
       "'This is a pretty typical cafe.  The sandwiches and wraps are good but a little overpriced and the food items are the same.  The chicken caesar salad wrap is my favorite here but everything else is pretty much par for the course.'"
      ]
     },
     "execution_count": 54,
     "metadata": {},
     "output_type": "execute_result"
    }
   ],
   "source": [
    "column = 'review_text'\n",
    "train_df[column][0]"
   ]
  },
  {
   "cell_type": "code",
   "execution_count": null,
   "metadata": {
    "collapsed": true
   },
   "outputs": [],
   "source": [
    "get_processed_text(train_df, column, 'train_lemma')[0]"
   ]
  },
  {
   "cell_type": "code",
   "execution_count": 3,
   "metadata": {
    "collapsed": true
   },
   "outputs": [],
   "source": [
    "import gensim\n",
    "model = gensim.models.Word2Vec.load('models/word2vec_model')"
   ]
  },
  {
   "cell_type": "code",
   "execution_count": 16,
   "metadata": {
    "collapsed": false
   },
   "outputs": [
    {
     "data": {
      "text/plain": [
       "0.59088660927079761"
      ]
     },
     "execution_count": 16,
     "metadata": {},
     "output_type": "execute_result"
    }
   ],
   "source": [
    "model.similarity('gross', 'icki')"
   ]
  },
  {
   "cell_type": "code",
   "execution_count": 88,
   "metadata": {
    "collapsed": false
   },
   "outputs": [
    {
     "data": {
      "text/plain": [
       "[(u'sensor', 0.6822803020477295),\n",
       " (u'shield', 0.6779543161392212),\n",
       " (u'oppon', 0.6720187664031982),\n",
       " (u'liner', 0.6624016761779785),\n",
       " (u'bozo', 0.6599942445755005),\n",
       " (u'northfac', 0.6596208810806274),\n",
       " (u'wearer', 0.6580789685249329),\n",
       " (u'spew', 0.6561436653137207),\n",
       " (u'slur', 0.6538406610488892),\n",
       " (u'headphon', 0.653657078742981)]"
      ]
     },
     "execution_count": 88,
     "metadata": {},
     "output_type": "execute_result"
    }
   ],
   "source": [
    "model.most_similar('protect')"
   ]
  },
  {
   "cell_type": "code",
   "execution_count": 103,
   "metadata": {
    "collapsed": false
   },
   "outputs": [],
   "source": [
    "max_list = []\n",
    "for doc in t_list:\n",
    "    doc_score = 0\n",
    "    for word in doc:\n",
    "        try:\n",
    "            score = model.similarity('gross', word)\n",
    "            if score > doc_score:\n",
    "                doc_score = score\n",
    "        except:\n",
    "            pass\n",
    "    max_list.append(doc_score)"
   ]
  },
  {
   "cell_type": "code",
   "execution_count": 108,
   "metadata": {
    "collapsed": false
   },
   "outputs": [
    {
     "data": {
      "text/plain": [
       "[46]"
      ]
     },
     "execution_count": 108,
     "metadata": {},
     "output_type": "execute_result"
    }
   ],
   "source": [
    "m = max(max_list)\n",
    "[i for i, j in enumerate(max_list) if j == m]"
   ]
  },
  {
   "cell_type": "code",
   "execution_count": 31,
   "metadata": {
    "collapsed": false
   },
   "outputs": [
    {
     "data": {
      "text/plain": [
       "0    198035\n",
       "1     70191\n",
       "2     33389\n",
       "3    188493\n",
       "4    227482\n",
       "5    188848\n",
       "6    201654\n",
       "7    201654\n",
       "8    201654\n",
       "9    201654\n",
       "dtype: int32"
      ]
     },
     "execution_count": 31,
     "metadata": {},
     "output_type": "execute_result"
    }
   ],
   "source": [
    "test.cat.codes.head(10)"
   ]
  },
  {
   "cell_type": "code",
   "execution_count": 44,
   "metadata": {
    "collapsed": false
   },
   "outputs": [
    {
     "data": {
      "text/plain": [
       "'This is a pretty typical cafe.  The sandwiches and wraps are good but a little overpriced and the food items are the same.  The chicken caesar salad wrap is my favorite here but everything else is pretty much par for the course.'"
      ]
     },
     "execution_count": 44,
     "metadata": {},
     "output_type": "execute_result"
    }
   ],
   "source": [
    "test.cat.categories[198035]"
   ]
  },
  {
   "cell_type": "code",
   "execution_count": 41,
   "metadata": {
    "collapsed": false
   },
   "outputs": [
    {
     "data": {
      "text/plain": [
       "0    This is a pretty typical cafe.  The sandwiches...\n",
       "1    I agree with other reviewers - this is a prett...\n",
       "2    Decent enough food, but very overpriced. Just ...\n",
       "3    The muffins are great...esp the blueberry!  I ...\n",
       "4    Well, well, well, look at me reviewing the res...\n",
       "5    The only place downtown where you can get away...\n",
       "6    This is the place I like to go for deli sandwi...\n",
       "7    This is the place I like to go for deli sandwi...\n",
       "Name: review_text, dtype: category\n",
       "Categories (251291, object): [!      .       ., ! T o f u ! T o f u !\\n\\n! D o f u ! D o f u!\\..., ! the orange-lime juice is tasty.\\n! they have..., !!     .., ..., 非常迷你的一間店，店內只有5個位置，但我們很幸運的有位置可以在店內享用餐點。\\n我們點了Fa..., 非常迷你的一間店，店內只有5個位置，但我們很幸運的有位置可以在店內享用餐點。\\n我們點了Fa..., 面包不错，然后，就没有然后了。我的豆腐汤泡饭还行，朋友的那个不知道什么就一般了。, 龍蝦麵還不錯吃\\n份量非常大\\n可以兩到三人分\\n\\n美中不足的是空間非常狹小 不收信用卡]"
      ]
     },
     "execution_count": 41,
     "metadata": {},
     "output_type": "execute_result"
    }
   ],
   "source": [
    "test.head(8)"
   ]
  }
 ],
 "metadata": {
  "kernelspec": {
   "display_name": "Python 2",
   "language": "python",
   "name": "python2"
  },
  "language_info": {
   "codemirror_mode": {
    "name": "ipython",
    "version": 2
   },
   "file_extension": ".py",
   "mimetype": "text/x-python",
   "name": "python",
   "nbconvert_exporter": "python",
   "pygments_lexer": "ipython2",
   "version": "2.7.9"
  }
 },
 "nbformat": 4,
 "nbformat_minor": 0
}
