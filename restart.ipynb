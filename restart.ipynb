{
 "cells": [
  {
   "cell_type": "code",
   "execution_count": 10,
   "metadata": {
    "collapsed": true
   },
   "outputs": [],
   "source": [
    "%matplotlib inline\n",
    "import matplotlib.pyplot as plt\n",
    "import seaborn as sns\n",
    "import numpy as np\n",
    "import pandas as pd\n",
    "from sklearn.cross_validation import cross_val_score\n",
    "import metrics\n",
    "from sklearn.cross_validation import train_test_split\n",
    "from sklearn.pipeline import Pipeline\n",
    "from sklearn.preprocessing import Normalizer\n",
    "from sklearn.preprocessing import StandardScaler\n",
    "from progressbar import ProgressBar\n",
    "import data_grab\n",
    "from time import time\n",
    "from sklearn.decomposition import TruncatedSVD\n",
    "\n",
    "from sklearn.externals import joblib\n",
    "from scipy.sparse import csr_matrix, hstack\n",
    "from sklearn.feature_selection import VarianceThreshold\n",
    "from sklearn.preprocessing import OneHotEncoder, LabelEncoder, LabelBinarizer\n",
    "from multiprocessing import Pool, Process, Manager\n",
    "\n",
    "plt.rcParams[\"figure.figsize\"] = (10, 8)"
   ]
  },
  {
   "cell_type": "code",
   "execution_count": 3,
   "metadata": {
    "collapsed": true
   },
   "outputs": [],
   "source": [
    "def contest_metric(numpy_array_predictions, numpy_array_actual_values):\n",
    "    return metrics.weighted_rmsle(numpy_array_predictions, numpy_array_actual_values,\n",
    "            weights=metrics.KEEPING_IT_CLEAN_WEIGHTS)"
   ]
  },
  {
   "cell_type": "code",
   "execution_count": 4,
   "metadata": {
    "collapsed": true
   },
   "outputs": [],
   "source": [
    "def contest_scoring(X, y, pipeline):\n",
    "    X_train, X_test, y_train, y_test = train_test_split(X, y, random_state=42)\n",
    "    s1 = pipeline.fit(X_train, y_train['score_lvl_1']).predict(X_test)\n",
    "    s2 = pipeline.fit(X_train, y_train['score_lvl_2']).predict(X_test)\n",
    "    s3 = pipeline.fit(X_train, y_train['score_lvl_3']).predict(X_test)\n",
    "    results = np.dstack((s1, s2, s3))\n",
    "    score = contest_metric(np.round(results[0]), np.array(y_test))\n",
    "    print(\"Contest score of {}\".format(score))\n",
    "    return score"
   ]
  },
  {
   "cell_type": "code",
   "execution_count": 5,
   "metadata": {
    "collapsed": true
   },
   "outputs": [],
   "source": [
    "from sklearn.metrics import accuracy_score\n",
    "\n",
    "def raw_scoring(p1, p2, p3, ytrue):\n",
    "    '''since cross_val_score doesn't allow you to round the results beforehand. also for pymc3 and other non-sklearn models'''\n",
    "    score1 = accuracy_score(ytrue['score_lvl_1'], np.clip(np.round(p1), 0, np.inf))\n",
    "    print(\"Level 1 accuracy score of {}\".format(score1))\n",
    "    score2 = accuracy_score(ytrue['score_lvl_2'],np.clip(np.round(p2), 0, np.inf))\n",
    "    print(\"Level 2 accuracy score of {}\".format(score2))\n",
    "    score3 = accuracy_score(ytrue['score_lvl_3'], np.clip(np.round(p3), 0, np.inf))\n",
    "    print(\"Level 3 accuracy score of {}\".format(score3))\n",
    "    \n",
    "    results = np.dstack((p1, p2, p3))[0]\n",
    "    rounded = np.clip(np.round(results), 0, np.inf)\n",
    "    score = contest_metric(rounded, np.array(ytrue))\n",
    "    print(\"Contest score of {}\".format(score))\n",
    "    \n",
    "    compare = pd.concat([pd.DataFrame(np.concatenate((results, rounded), axis=1)), ytrue.reset_index(drop=True)], axis=1)\n",
    "    compare.columns = ['pred1','pred2','pred3','round1','round2','round3','true1','true2','true3']\n",
    "    compare['offset1'] = compare.round1-compare.true1\n",
    "    compare['offset2'] = compare.round2-compare.true2\n",
    "    compare['offset3'] = compare.round3-compare.true3\n",
    "        \n",
    "    return score1, score2, score3, score, compare.head(10)\n",
    "\n",
    "    \n",
    "def raw_fit(X, y, pipeline):\n",
    "    xtrain, xtest, ytrain, ytest = train_test_split(X, y, random_state=42)\n",
    "    \n",
    "    p1 = pipeline.fit(xtrain, ytrain['score_lvl_1']).predict(xtest)\n",
    "    p2 = pipeline.fit(xtrain, ytrain['score_lvl_2']).predict(xtest)\n",
    "    p3 = pipeline.fit(xtrain, ytrain['score_lvl_3']).predict(xtest)\n",
    "        \n",
    "    return p1, p2, p3, ytest"
   ]
  },
  {
   "cell_type": "code",
   "execution_count": 6,
   "metadata": {
    "collapsed": true
   },
   "outputs": [],
   "source": [
    "def extract_features(df):\n",
    "    features = df.drop(['score_lvl_1', 'score_lvl_2', 'score_lvl_3'], axis=1)\n",
    "    response = df[['score_lvl_1', 'score_lvl_2', 'score_lvl_3']].astype(np.int8)\n",
    "    \n",
    "    return features, response"
   ]
  },
  {
   "cell_type": "code",
   "execution_count": 7,
   "metadata": {
    "collapsed": true
   },
   "outputs": [],
   "source": [
    "combo = pd.read_pickle('pickle_jar/pre-pivot_all_review_combo_365')\n",
    "# df = pd.read_pickle('pickle_jar/pre-pivot_365')\n",
    "# df = pd.read_pickle('pickle_jar/pre-pivot_all_non_review')\n",
    "df = pd.read_pickle('pickle_jar/post-pivot_non_review_data_365')"
   ]
  },
  {
   "cell_type": "code",
   "execution_count": null,
   "metadata": {
    "collapsed": false
   },
   "outputs": [],
   "source": []
  },
  {
   "cell_type": "code",
   "execution_count": null,
   "metadata": {
    "collapsed": true
   },
   "outputs": [],
   "source": []
  },
  {
   "cell_type": "code",
   "execution_count": null,
   "metadata": {
    "collapsed": false
   },
   "outputs": [],
   "source": []
  },
  {
   "cell_type": "markdown",
   "metadata": {},
   "source": [
    "## convert train dataframe to 365 days and prepare for pivot"
   ]
  },
  {
   "cell_type": "code",
   "execution_count": 79,
   "metadata": {
    "collapsed": true
   },
   "outputs": [],
   "source": [
    "df = data_grab.get_selects('train')"
   ]
  },
  {
   "cell_type": "code",
   "execution_count": 80,
   "metadata": {
    "collapsed": false
   },
   "outputs": [],
   "source": [
    "# not getting rid of everything. not getting rid of ancient reviews if they correspond with an ancient inspection.\n",
    "# just getting rid of ancient reviews in relation to a specific inspection\n",
    "df = df[df.review_delta <= 365]"
   ]
  },
  {
   "cell_type": "code",
   "execution_count": 81,
   "metadata": {
    "collapsed": false
   },
   "outputs": [],
   "source": [
    "# making a column that enumerates the sorted review delta.\n",
    "# removes any nans (usually marked as such because the reviews happend after an inspection date) beforehand.\n",
    "# this can completely remove a restaurant if it has no reviews left after nan drop. might add back in later\n",
    "df = df.sort('review_delta')\n",
    "df2 = df.dropna(subset=['review_delta']).groupby('inspection_id').cumcount()"
   ]
  },
  {
   "cell_type": "code",
   "execution_count": 82,
   "metadata": {
    "collapsed": false
   },
   "outputs": [],
   "source": [
    "# df3 = pd.concat([df.dropna(subset=['review_delta']), df2], axis=1)\n",
    "df = pd.concat([df.dropna(subset=['review_delta']), df2], axis=1)"
   ]
  },
  {
   "cell_type": "code",
   "execution_count": 83,
   "metadata": {
    "collapsed": false
   },
   "outputs": [],
   "source": [
    "df = df.rename(columns={0:'enumerated_review_delta'})\n",
    "del df2"
   ]
  },
  {
   "cell_type": "code",
   "execution_count": 84,
   "metadata": {
    "collapsed": false
   },
   "outputs": [],
   "source": [
    "# add back in the restaurants that were completely removed because none of their reviews were\n",
    "# not a significant loss in the number of restaurants. going to just leave it out for now\n",
    "# mask = list(set(df.restaurant_id) - set(df3.restaurant_id))\n",
    "# pd.concat([df[df.restaurant_id.isin(mask)], df3])"
   ]
  },
  {
   "cell_type": "code",
   "execution_count": 85,
   "metadata": {
    "collapsed": false
   },
   "outputs": [
    {
     "data": {
      "text/plain": [
       "(500936, 138)"
      ]
     },
     "execution_count": 85,
     "metadata": {},
     "output_type": "execute_result"
    }
   ],
   "source": [
    "df.shape"
   ]
  },
  {
   "cell_type": "code",
   "execution_count": 86,
   "metadata": {
    "collapsed": false
   },
   "outputs": [],
   "source": [
    "just_review_data = df[[ \n",
    " 'inspection_id',\n",
    " 'enumerated_review_delta',\n",
    "#  'review_id',\n",
    " 'review_delta', \n",
    "#  'review_date', \n",
    " 'review_stars',\n",
    " 'review_text',\n",
    "#  'user_id',\n",
    " 'review_votes_cool',\n",
    " 'review_votes_funny',\n",
    " 'review_votes_useful',\n",
    " 'user_average_stars',\n",
    "#  'user_fans',\n",
    " 'user_review_count',\n",
    "#  'user_votes_cool',\n",
    "#  'user_votes_funny',\n",
    "#  'user_votes_useful',\n",
    " 'user_yelping_since_delta',\n",
    "#  'review_year',\n",
    "#  'review_month',\n",
    "#  'review_day',\n",
    "#  'review_dayofweek',\n",
    "#  'review_quarter',\n",
    "#  'review_dayofyear',\n",
    " 'user_ever_elite',\n",
    " ]]"
   ]
  },
  {
   "cell_type": "code",
   "execution_count": 88,
   "metadata": {
    "collapsed": false
   },
   "outputs": [],
   "source": [
    "df.drop([ 'review_delta',\n",
    " 'review_stars',\n",
    " 'review_text',\n",
    " 'review_votes_cool',\n",
    " 'review_votes_funny',\n",
    " 'review_votes_useful',\n",
    " 'user_average_stars',\n",
    " 'user_fans',\n",
    " 'user_review_count',\n",
    " 'user_votes_cool',\n",
    " 'user_votes_funny',\n",
    " 'user_votes_useful',\n",
    " 'user_yelping_since_delta',\n",
    " 'user_ever_elite'], axis=1, inplace=True)\n",
    "df.drop(['review_date',\n",
    " 'review_id',\n",
    " 'user_id',\n",
    " 'user_compliments_cool',\n",
    " 'user_compliments_cute',\n",
    " 'user_compliments_funny',\n",
    " 'user_compliments_hot',\n",
    " 'user_compliments_list',\n",
    " 'user_compliments_more',\n",
    " 'user_compliments_note',\n",
    " 'user_compliments_photos',\n",
    " 'user_compliments_plain',\n",
    " 'user_compliments_profile',\n",
    " 'user_compliments_writer',\n",
    " 'user_name', 'review_year',\n",
    " 'review_month',\n",
    " 'review_day',\n",
    " 'review_dayofweek',\n",
    " 'review_quarter',\n",
    " 'review_dayofyear','user_most_recent_elite_year_delta',], axis=1, inplace=True)\n",
    "df.drop('enumerated_review_delta', axis=1, inplace=True)"
   ]
  },
  {
   "cell_type": "code",
   "execution_count": 90,
   "metadata": {
    "collapsed": false
   },
   "outputs": [],
   "source": [
    "g = df.groupby('inspection_id').first()"
   ]
  },
  {
   "cell_type": "code",
   "execution_count": 92,
   "metadata": {
    "collapsed": false
   },
   "outputs": [],
   "source": [
    "g.reset_index().sort('inspection_id').to_pickle('pickle_jar/post-pivot_non_review_data_365')"
   ]
  },
  {
   "cell_type": "code",
   "execution_count": 33,
   "metadata": {
    "collapsed": false
   },
   "outputs": [],
   "source": [
    "df.sort('inspection_id').to_pickle('pickle_jar/pre-pivot_all_non_review')"
   ]
  },
  {
   "cell_type": "code",
   "execution_count": 44,
   "metadata": {
    "collapsed": false
   },
   "outputs": [],
   "source": [
    "# this removes all the nans left. review stars as nans because reviews and tips combined and tips didnt give a star rating\n",
    "# planning to treat this as a categorical variable later so making it zero shouldnt affect anything\n",
    "just_review_data.review_stars = just_review_data.review_stars.fillna(0)"
   ]
  },
  {
   "cell_type": "code",
   "execution_count": 45,
   "metadata": {
    "collapsed": false
   },
   "outputs": [],
   "source": [
    "just_review_data.sort(['inspection_id', 'enumerated_review_delta']).to_pickle('pickle_jar/pre-pivot_365')"
   ]
  },
  {
   "cell_type": "code",
   "execution_count": null,
   "metadata": {
    "collapsed": true
   },
   "outputs": [],
   "source": []
  },
  {
   "cell_type": "code",
   "execution_count": 293,
   "metadata": {
    "collapsed": false
   },
   "outputs": [],
   "source": []
  },
  {
   "cell_type": "markdown",
   "metadata": {},
   "source": [
    "## combine sentiment and similarity with pre-pivot 365 review related data into one dataframe for pivoting"
   ]
  },
  {
   "cell_type": "code",
   "execution_count": 46,
   "metadata": {
    "collapsed": false
   },
   "outputs": [],
   "source": [
    "sentiment = pd.read_pickle('pickle_jar/review_text_sentiment_pivot')\n",
    "similarity = pd.read_pickle('pickle_jar/similarity_length_pivot')"
   ]
  },
  {
   "cell_type": "code",
   "execution_count": 47,
   "metadata": {
    "collapsed": false
   },
   "outputs": [],
   "source": [
    "sentiment = sentiment[['inspection_id', 'enumerated_review_delta', 'polarity', 'subjectivity', 'neg', 'neu', 'pos', 'compound']]"
   ]
  },
  {
   "cell_type": "code",
   "execution_count": 48,
   "metadata": {
    "collapsed": false
   },
   "outputs": [],
   "source": [
    "similarity.drop(['review_delta', 'review_stars', 'review_text', 'review_votes_cool', 'review_votes_funny',\n",
    "                 'review_votes_useful', 'user_average_stars', 'user_fans', 'user_review_count', 'user_votes_cool', \n",
    "                 'user_votes_funny', 'user_votes_useful', 'user_yelping_since_delta', 'user_ever_elite',\n",
    "                 'preprocessed_review_text'], axis=1, inplace=True)"
   ]
  },
  {
   "cell_type": "code",
   "execution_count": 49,
   "metadata": {
    "collapsed": false
   },
   "outputs": [],
   "source": [
    "combo = pd.merge(sentiment, similarity, on=['inspection_id', 'enumerated_review_delta'])"
   ]
  },
  {
   "cell_type": "code",
   "execution_count": 50,
   "metadata": {
    "collapsed": false
   },
   "outputs": [
    {
     "name": "stderr",
     "output_type": "stream",
     "text": [
      "/Users/amangum/anaconda/envs/datasci/lib/python2.7/site-packages/IPython/kernel/__main__.py:1: SettingWithCopyWarning: \n",
      "A value is trying to be set on a copy of a slice from a DataFrame\n",
      "\n",
      "See the the caveats in the documentation: http://pandas.pydata.org/pandas-docs/stable/indexing.html#indexing-view-versus-copy\n",
      "  if __name__ == '__main__':\n"
     ]
    }
   ],
   "source": [
    "just_review_data.drop('review_text', axis=1, inplace=True)"
   ]
  },
  {
   "cell_type": "code",
   "execution_count": 51,
   "metadata": {
    "collapsed": false
   },
   "outputs": [],
   "source": [
    "combo = pd.merge(combo, just_review_data, on=['inspection_id', 'enumerated_review_delta'])"
   ]
  },
  {
   "cell_type": "code",
   "execution_count": 56,
   "metadata": {
    "collapsed": true
   },
   "outputs": [],
   "source": [
    "combo.sort(['inspection_id', 'enumerated_review_delta']).reset_index(drop=True).to_pickle('pickle_jar/pre-pivot_all_review_combo_365')"
   ]
  },
  {
   "cell_type": "code",
   "execution_count": null,
   "metadata": {
    "collapsed": false
   },
   "outputs": [],
   "source": []
  },
  {
   "cell_type": "code",
   "execution_count": null,
   "metadata": {
    "collapsed": true
   },
   "outputs": [],
   "source": []
  },
  {
   "cell_type": "code",
   "execution_count": null,
   "metadata": {
    "collapsed": true
   },
   "outputs": [],
   "source": []
  },
  {
   "cell_type": "code",
   "execution_count": 7,
   "metadata": {
    "collapsed": false
   },
   "outputs": [
    {
     "name": "stderr",
     "output_type": "stream",
     "text": [
      "100% (55 of 55) |#########################| Elapsed Time: 0:02:17 Time: 0:02:17\n"
     ]
    }
   ],
   "source": [
    "# sim_length = lambda x: len(np.where(x > 0.7)[0])\n",
    "def sim_length(x):\n",
    "    try:\n",
    "        return len(np.where(x > 0.6)[0])\n",
    "    except:\n",
    "        return x\n",
    "\n",
    "sim_length_list = []\n",
    "topics = ['manager', 'supervisor', 'training', 'safety', 'disease', 'ill', 'sick', 'poisoning', 'poison', 'hygiene', 'raw', 'undercooked', 'cold', 'clean', 'sanitary', 'wash', 'jaundice', 'yellow', 'hazard', 'inspection', 'violation', 'gloves', 'hairnet', 'nails', 'jewelry', 'sneeze', 'cough', 'runny', 'illegal', 'rotten', 'dirty', 'mouse', 'cockroach', 'contaminated', 'gross', 'disgusting', 'stink', 'old', 'parasite', 'bacteria', 'reheat', 'frozen', 'broken', 'drip', 'bathroom', 'toilet', 'leak', 'trash', 'dark', 'lights', 'dust', 'puddle', 'pesticide', 'bugs', 'mold']\n",
    "pbar = ProgressBar(maxval=len(topics)).start()\n",
    "for index, i in enumerate(topics):\n",
    "    combo[i] = combo[i].apply(sim_length)\n",
    "#     sim_length_list.append(combo[i].apply(sim_length).tolist())\n",
    "    pbar.update(index)\n",
    "pbar.finish()\n",
    "\n",
    "# combo.nails.apply(sim_length).value_counts()\n",
    "# combo[['inspection_id', 'enumerated_review_delta', 'polarity', 'subjectivity']][combo.nails.apply(sim_length) == 1]\n",
    "# df[(df.inspection_id == 28790) & (df.enumerated_review_delta == 7)].review_text.tolist()"
   ]
  },
  {
   "cell_type": "code",
   "execution_count": null,
   "metadata": {
    "collapsed": true
   },
   "outputs": [],
   "source": []
  },
  {
   "cell_type": "code",
   "execution_count": null,
   "metadata": {
    "collapsed": true
   },
   "outputs": [],
   "source": []
  },
  {
   "cell_type": "markdown",
   "metadata": {
    "collapsed": true
   },
   "source": [
    "## trustworthiness index"
   ]
  },
  {
   "cell_type": "code",
   "execution_count": 22,
   "metadata": {
    "collapsed": false
   },
   "outputs": [],
   "source": [
    "def log_it(x):\n",
    "#     second_min = x[x != x.min()].min()\n",
    "#     x.replace(x.min(), second_min/2, inplace=True)\n",
    "#     return np.log(x)\n",
    "    x = x + 1\n",
    "    return np.log(x)\n",
    "\n",
    "norm = Normalizer()"
   ]
  },
  {
   "cell_type": "code",
   "execution_count": 23,
   "metadata": {
    "collapsed": false
   },
   "outputs": [],
   "source": [
    "# making trustworthiness feature\n",
    "trust = combo[['inspection_id', 'enumerated_review_delta', 'subjectivity',\n",
    " 'review_votes_cool',\n",
    " 'review_votes_funny',\n",
    " 'review_votes_useful',\n",
    " 'user_average_stars',\n",
    " 'user_review_count',\n",
    " 'user_yelping_since_delta',\n",
    " 'user_ever_elite']]"
   ]
  },
  {
   "cell_type": "code",
   "execution_count": 24,
   "metadata": {
    "collapsed": false
   },
   "outputs": [
    {
     "name": "stderr",
     "output_type": "stream",
     "text": [
      "/Users/amangum/anaconda/envs/datasci/lib/python2.7/site-packages/IPython/kernel/__main__.py:1: SettingWithCopyWarning: \n",
      "A value is trying to be set on a copy of a slice from a DataFrame.\n",
      "Try using .loc[row_indexer,col_indexer] = value instead\n",
      "\n",
      "See the the caveats in the documentation: http://pandas.pydata.org/pandas-docs/stable/indexing.html#indexing-view-versus-copy\n",
      "  if __name__ == '__main__':\n",
      "/Users/amangum/anaconda/envs/datasci/lib/python2.7/site-packages/IPython/kernel/__main__.py:2: SettingWithCopyWarning: \n",
      "A value is trying to be set on a copy of a slice from a DataFrame\n",
      "\n",
      "See the the caveats in the documentation: http://pandas.pydata.org/pandas-docs/stable/indexing.html#indexing-view-versus-copy\n",
      "  from IPython.kernel.zmq import kernelapp as app\n",
      "/Users/amangum/anaconda/envs/datasci/lib/python2.7/site-packages/IPython/kernel/__main__.py:5: SettingWithCopyWarning: \n",
      "A value is trying to be set on a copy of a slice from a DataFrame.\n",
      "Try using .loc[row_indexer,col_indexer] = value instead\n",
      "\n",
      "See the the caveats in the documentation: http://pandas.pydata.org/pandas-docs/stable/indexing.html#indexing-view-versus-copy\n",
      "/Users/amangum/anaconda/envs/datasci/lib/python2.7/site-packages/IPython/kernel/__main__.py:7: SettingWithCopyWarning: \n",
      "A value is trying to be set on a copy of a slice from a DataFrame\n",
      "\n",
      "See the the caveats in the documentation: http://pandas.pydata.org/pandas-docs/stable/indexing.html#indexing-view-versus-copy\n",
      "/Users/amangum/anaconda/envs/datasci/lib/python2.7/site-packages/pandas/core/generic.py:2859: SettingWithCopyWarning: \n",
      "A value is trying to be set on a copy of a slice from a DataFrame\n",
      "\n",
      "See the the caveats in the documentation: http://pandas.pydata.org/pandas-docs/stable/indexing.html#indexing-view-versus-copy\n",
      "  self._update_inplace(new_data)\n",
      "/Users/amangum/anaconda/envs/datasci/lib/python2.7/site-packages/IPython/kernel/__main__.py:13: SettingWithCopyWarning: \n",
      "A value is trying to be set on a copy of a slice from a DataFrame.\n",
      "Try using .loc[row_indexer,col_indexer] = value instead\n",
      "\n",
      "See the the caveats in the documentation: http://pandas.pydata.org/pandas-docs/stable/indexing.html#indexing-view-versus-copy\n",
      "/Users/amangum/anaconda/envs/datasci/lib/python2.7/site-packages/IPython/kernel/__main__.py:14: SettingWithCopyWarning: \n",
      "A value is trying to be set on a copy of a slice from a DataFrame\n",
      "\n",
      "See the the caveats in the documentation: http://pandas.pydata.org/pandas-docs/stable/indexing.html#indexing-view-versus-copy\n",
      "/Users/amangum/anaconda/envs/datasci/lib/python2.7/site-packages/IPython/kernel/__main__.py:16: SettingWithCopyWarning: \n",
      "A value is trying to be set on a copy of a slice from a DataFrame.\n",
      "Try using .loc[row_indexer,col_indexer] = value instead\n",
      "\n",
      "See the the caveats in the documentation: http://pandas.pydata.org/pandas-docs/stable/indexing.html#indexing-view-versus-copy\n"
     ]
    }
   ],
   "source": [
    "trust['objectivity'] = 1 - trust.subjectivity\n",
    "trust.drop('subjectivity', axis=1, inplace=True)\n",
    "\n",
    "# trust['review_votes']  = log_it(trust.review_votes_useful)*3 + log_it(trust.review_votes_funny)*2 + log_it(trust.review_votes_cool)\n",
    "trust['review_votes'] = log_it(trust.review_votes_useful*3 + trust.review_votes_funny*2 + trust.review_votes_cool)\n",
    "# trust['review_votes'] = log_it(trust.review_votes_useful) + log_it(trust.review_votes_funny) + log_it(trust.review_votes_cool)\n",
    "trust.drop(['review_votes_cool', 'review_votes_funny', 'review_votes_useful'], axis=1, inplace=True)\n",
    "\n",
    "trust.user_yelping_since_delta.replace(0, 1, inplace=True)\n",
    "normalized_history = trust.user_yelping_since_delta / trust.user_yelping_since_delta.max()\n",
    "normalized_review_count = trust.user_review_count / trust.user_review_count.max()\n",
    "# fixes where someone who wrote 2 reviews in two days would get a higher score than someone who wrote 1000 reviews in 2000 days\n",
    "trust['user_activity_level'] = normalized_review_count / (1.1 - normalized_history) + trust.user_ever_elite\n",
    "trust.drop(['user_yelping_since_delta', 'user_review_count', 'user_ever_elite'], axis=1, inplace=True)\n",
    "\n",
    "trust['anger_index'] = trust.user_activity_level / (trust.user_average_stars + 0.1)"
   ]
  },
  {
   "cell_type": "code",
   "execution_count": 25,
   "metadata": {
    "collapsed": false
   },
   "outputs": [
    {
     "name": "stderr",
     "output_type": "stream",
     "text": [
      "/Users/amangum/anaconda/envs/datasci/lib/python2.7/site-packages/IPython/kernel/__main__.py:1: SettingWithCopyWarning: \n",
      "A value is trying to be set on a copy of a slice from a DataFrame.\n",
      "Try using .loc[row_indexer,col_indexer] = value instead\n",
      "\n",
      "See the the caveats in the documentation: http://pandas.pydata.org/pandas-docs/stable/indexing.html#indexing-view-versus-copy\n",
      "  if __name__ == '__main__':\n"
     ]
    }
   ],
   "source": [
    "trust['trust_index'] = trust.objectivity * trust.user_activity_level"
   ]
  },
  {
   "cell_type": "code",
   "execution_count": 26,
   "metadata": {
    "collapsed": false
   },
   "outputs": [
    {
     "data": {
      "text/html": [
       "<div>\n",
       "<table border=\"1\" class=\"dataframe\">\n",
       "  <thead>\n",
       "    <tr style=\"text-align: right;\">\n",
       "      <th></th>\n",
       "      <th>inspection_id</th>\n",
       "      <th>enumerated_review_delta</th>\n",
       "      <th>user_average_stars</th>\n",
       "      <th>objectivity</th>\n",
       "      <th>review_votes</th>\n",
       "      <th>user_activity_level</th>\n",
       "      <th>anger_index</th>\n",
       "      <th>trust_index</th>\n",
       "    </tr>\n",
       "  </thead>\n",
       "  <tbody>\n",
       "    <tr>\n",
       "      <th>71213</th>\n",
       "      <td>4807</td>\n",
       "      <td>6</td>\n",
       "      <td>3.66</td>\n",
       "      <td>0.358750</td>\n",
       "      <td>1.386294</td>\n",
       "      <td>3.054670</td>\n",
       "      <td>0.812412</td>\n",
       "      <td>1.095863</td>\n",
       "    </tr>\n",
       "    <tr>\n",
       "      <th>132865</th>\n",
       "      <td>8915</td>\n",
       "      <td>9</td>\n",
       "      <td>3.66</td>\n",
       "      <td>0.500000</td>\n",
       "      <td>0.693147</td>\n",
       "      <td>3.054670</td>\n",
       "      <td>0.812412</td>\n",
       "      <td>1.527335</td>\n",
       "    </tr>\n",
       "    <tr>\n",
       "      <th>327093</th>\n",
       "      <td>22045</td>\n",
       "      <td>1</td>\n",
       "      <td>3.66</td>\n",
       "      <td>0.500000</td>\n",
       "      <td>0.693147</td>\n",
       "      <td>3.054670</td>\n",
       "      <td>0.812412</td>\n",
       "      <td>1.527335</td>\n",
       "    </tr>\n",
       "    <tr>\n",
       "      <th>393355</th>\n",
       "      <td>26491</td>\n",
       "      <td>4</td>\n",
       "      <td>3.66</td>\n",
       "      <td>0.241667</td>\n",
       "      <td>0.000000</td>\n",
       "      <td>3.051616</td>\n",
       "      <td>0.811600</td>\n",
       "      <td>0.737474</td>\n",
       "    </tr>\n",
       "    <tr>\n",
       "      <th>419315</th>\n",
       "      <td>28282</td>\n",
       "      <td>56</td>\n",
       "      <td>3.66</td>\n",
       "      <td>0.425000</td>\n",
       "      <td>1.098612</td>\n",
       "      <td>3.051616</td>\n",
       "      <td>0.811600</td>\n",
       "      <td>1.296937</td>\n",
       "    </tr>\n",
       "  </tbody>\n",
       "</table>\n",
       "</div>"
      ],
      "text/plain": [
       "        inspection_id  enumerated_review_delta  user_average_stars  \\\n",
       "71213            4807                        6                3.66   \n",
       "132865           8915                        9                3.66   \n",
       "327093          22045                        1                3.66   \n",
       "393355          26491                        4                3.66   \n",
       "419315          28282                       56                3.66   \n",
       "\n",
       "        objectivity  review_votes  user_activity_level  anger_index  \\\n",
       "71213      0.358750      1.386294             3.054670     0.812412   \n",
       "132865     0.500000      0.693147             3.054670     0.812412   \n",
       "327093     0.500000      0.693147             3.054670     0.812412   \n",
       "393355     0.241667      0.000000             3.051616     0.811600   \n",
       "419315     0.425000      1.098612             3.051616     0.811600   \n",
       "\n",
       "        trust_index  \n",
       "71213      1.095863  \n",
       "132865     1.527335  \n",
       "327093     1.527335  \n",
       "393355     0.737474  \n",
       "419315     1.296937  "
      ]
     },
     "execution_count": 26,
     "metadata": {},
     "output_type": "execute_result"
    }
   ],
   "source": [
    "trust.sort('anger_index', ascending=False).head()"
   ]
  },
  {
   "cell_type": "code",
   "execution_count": null,
   "metadata": {
    "collapsed": true
   },
   "outputs": [],
   "source": []
  },
  {
   "cell_type": "code",
   "execution_count": null,
   "metadata": {
    "collapsed": true
   },
   "outputs": [],
   "source": []
  },
  {
   "cell_type": "code",
   "execution_count": null,
   "metadata": {
    "collapsed": true
   },
   "outputs": [],
   "source": []
  },
  {
   "cell_type": "markdown",
   "metadata": {
    "collapsed": true
   },
   "source": [
    "## pivot reviews out"
   ]
  },
  {
   "cell_type": "code",
   "execution_count": 37,
   "metadata": {
    "collapsed": true
   },
   "outputs": [],
   "source": []
  },
  {
   "cell_type": "code",
   "execution_count": 74,
   "metadata": {
    "collapsed": false
   },
   "outputs": [
    {
     "data": {
      "text/html": [
       "<div>\n",
       "<table border=\"1\" class=\"dataframe\">\n",
       "  <thead>\n",
       "    <tr style=\"text-align: right;\">\n",
       "      <th></th>\n",
       "      <th></th>\n",
       "      <th>polarity</th>\n",
       "      <th>subjectivity</th>\n",
       "      <th>neg</th>\n",
       "      <th>neu</th>\n",
       "      <th>pos</th>\n",
       "      <th>compound</th>\n",
       "      <th>manager</th>\n",
       "      <th>supervisor</th>\n",
       "      <th>training</th>\n",
       "      <th>safety</th>\n",
       "      <th>...</th>\n",
       "      <th>mold</th>\n",
       "      <th>review_delta</th>\n",
       "      <th>review_stars</th>\n",
       "      <th>review_votes_cool</th>\n",
       "      <th>review_votes_funny</th>\n",
       "      <th>review_votes_useful</th>\n",
       "      <th>user_average_stars</th>\n",
       "      <th>user_review_count</th>\n",
       "      <th>user_yelping_since_delta</th>\n",
       "      <th>user_ever_elite</th>\n",
       "    </tr>\n",
       "    <tr>\n",
       "      <th>inspection_id</th>\n",
       "      <th>enumerated_review_delta</th>\n",
       "      <th></th>\n",
       "      <th></th>\n",
       "      <th></th>\n",
       "      <th></th>\n",
       "      <th></th>\n",
       "      <th></th>\n",
       "      <th></th>\n",
       "      <th></th>\n",
       "      <th></th>\n",
       "      <th></th>\n",
       "      <th></th>\n",
       "      <th></th>\n",
       "      <th></th>\n",
       "      <th></th>\n",
       "      <th></th>\n",
       "      <th></th>\n",
       "      <th></th>\n",
       "      <th></th>\n",
       "      <th></th>\n",
       "      <th></th>\n",
       "      <th></th>\n",
       "    </tr>\n",
       "  </thead>\n",
       "  <tbody>\n",
       "    <tr>\n",
       "      <th rowspan=\"2\" valign=\"top\">0</th>\n",
       "      <th>0</th>\n",
       "      <td>0.222946</td>\n",
       "      <td>0.713393</td>\n",
       "      <td>0.000</td>\n",
       "      <td>0.783</td>\n",
       "      <td>0.217</td>\n",
       "      <td>0.9636</td>\n",
       "      <td>[0.0823464, 0.076757, 0.0739208, 0.0398531, 0....</td>\n",
       "      <td>[0.0982185, 0.0774828, 0.0723427, 0.0305749, 0...</td>\n",
       "      <td>[0.127395, 0.114109, 0.0926586, 0.0815057, 0.0...</td>\n",
       "      <td>[0.0901909, 0.0618174, 0.0530563, 0.0453497, 0...</td>\n",
       "      <td>...</td>\n",
       "      <td>[0.190758, 0.166866, 0.128718, 0.0994938, -0.0...</td>\n",
       "      <td>18</td>\n",
       "      <td>5</td>\n",
       "      <td>0</td>\n",
       "      <td>0</td>\n",
       "      <td>1</td>\n",
       "      <td>4.48</td>\n",
       "      <td>152</td>\n",
       "      <td>506</td>\n",
       "      <td>True</td>\n",
       "    </tr>\n",
       "    <tr>\n",
       "      <th>1</th>\n",
       "      <td>0.237602</td>\n",
       "      <td>0.495938</td>\n",
       "      <td>0.008</td>\n",
       "      <td>0.839</td>\n",
       "      <td>0.153</td>\n",
       "      <td>0.9926</td>\n",
       "      <td>[0.144015, 0.123933, 0.113317, 0.111903, 0.102...</td>\n",
       "      <td>[0.138609, 0.126632, 0.125301, 0.114626, 0.109...</td>\n",
       "      <td>[0.180208, 0.153162, 0.143042, 0.119608, 0.117...</td>\n",
       "      <td>[0.201867, 0.174458, 0.174458, 0.174458, 0.169...</td>\n",
       "      <td>...</td>\n",
       "      <td>[0.192882, 0.190758, 0.190758, 0.189065, 0.184...</td>\n",
       "      <td>177</td>\n",
       "      <td>4</td>\n",
       "      <td>1</td>\n",
       "      <td>0</td>\n",
       "      <td>3</td>\n",
       "      <td>3.85</td>\n",
       "      <td>626</td>\n",
       "      <td>864</td>\n",
       "      <td>True</td>\n",
       "    </tr>\n",
       "    <tr>\n",
       "      <th rowspan=\"3\" valign=\"top\">1</th>\n",
       "      <th>0</th>\n",
       "      <td>0.189981</td>\n",
       "      <td>0.518578</td>\n",
       "      <td>0.000</td>\n",
       "      <td>0.853</td>\n",
       "      <td>0.147</td>\n",
       "      <td>0.9537</td>\n",
       "      <td>[0.233784, 0.150149, 0.130027, 0.124982, 0.115...</td>\n",
       "      <td>[0.322755, 0.182528, 0.16596, 0.140622, 0.1386...</td>\n",
       "      <td>[0.37962, 0.310816, 0.199297, 0.184256, 0.1809...</td>\n",
       "      <td>[0.287903, 0.239384, 0.201867, 0.194453, 0.187...</td>\n",
       "      <td>...</td>\n",
       "      <td>[0.194898, 0.192455, 0.191326, 0.171343, 0.163...</td>\n",
       "      <td>67</td>\n",
       "      <td>4</td>\n",
       "      <td>7</td>\n",
       "      <td>12</td>\n",
       "      <td>8</td>\n",
       "      <td>3.44</td>\n",
       "      <td>963</td>\n",
       "      <td>53</td>\n",
       "      <td>True</td>\n",
       "    </tr>\n",
       "    <tr>\n",
       "      <th>1</th>\n",
       "      <td>0.115152</td>\n",
       "      <td>0.507576</td>\n",
       "      <td>0.030</td>\n",
       "      <td>0.776</td>\n",
       "      <td>0.194</td>\n",
       "      <td>0.9421</td>\n",
       "      <td>[0.130773, 0.117207, 0.116062, 0.0985389, 0.09...</td>\n",
       "      <td>[0.267121, 0.145095, 0.138609, 0.112187, 0.098...</td>\n",
       "      <td>[0.180208, 0.153395, 0.153162, 0.138352, 0.137...</td>\n",
       "      <td>[0.201867, 0.174458, 0.174458, 0.123344, 0.115...</td>\n",
       "      <td>...</td>\n",
       "      <td>[0.193892, 0.190758, 0.190758, 0.162947, 0.159...</td>\n",
       "      <td>171</td>\n",
       "      <td>3</td>\n",
       "      <td>0</td>\n",
       "      <td>0</td>\n",
       "      <td>1</td>\n",
       "      <td>3.93</td>\n",
       "      <td>28</td>\n",
       "      <td>41</td>\n",
       "      <td>False</td>\n",
       "    </tr>\n",
       "    <tr>\n",
       "      <th>2</th>\n",
       "      <td>0.324259</td>\n",
       "      <td>0.577407</td>\n",
       "      <td>0.000</td>\n",
       "      <td>0.686</td>\n",
       "      <td>0.314</td>\n",
       "      <td>0.9716</td>\n",
       "      <td>[0.190561, 0.1286, 0.126998, 0.120387, 0.12038...</td>\n",
       "      <td>[0.23219, 0.154479, 0.139179, 0.138609, 0.1190...</td>\n",
       "      <td>[0.41236, 0.251453, 0.196399, 0.196399, 0.1802...</td>\n",
       "      <td>[0.242597, 0.223125, 0.223125, 0.201867, 0.139...</td>\n",
       "      <td>...</td>\n",
       "      <td>[0.280216, 0.206547, 0.206547, 0.206547, 0.206...</td>\n",
       "      <td>350</td>\n",
       "      <td>4</td>\n",
       "      <td>0</td>\n",
       "      <td>0</td>\n",
       "      <td>1</td>\n",
       "      <td>3.66</td>\n",
       "      <td>859</td>\n",
       "      <td>196</td>\n",
       "      <td>True</td>\n",
       "    </tr>\n",
       "  </tbody>\n",
       "</table>\n",
       "<p>5 rows × 70 columns</p>\n",
       "</div>"
      ],
      "text/plain": [
       "                                       polarity  subjectivity    neg    neu  \\\n",
       "inspection_id enumerated_review_delta                                         \n",
       "0             0                        0.222946      0.713393  0.000  0.783   \n",
       "              1                        0.237602      0.495938  0.008  0.839   \n",
       "1             0                        0.189981      0.518578  0.000  0.853   \n",
       "              1                        0.115152      0.507576  0.030  0.776   \n",
       "              2                        0.324259      0.577407  0.000  0.686   \n",
       "\n",
       "                                         pos  compound  \\\n",
       "inspection_id enumerated_review_delta                    \n",
       "0             0                        0.217    0.9636   \n",
       "              1                        0.153    0.9926   \n",
       "1             0                        0.147    0.9537   \n",
       "              1                        0.194    0.9421   \n",
       "              2                        0.314    0.9716   \n",
       "\n",
       "                                                                                 manager  \\\n",
       "inspection_id enumerated_review_delta                                                      \n",
       "0             0                        [0.0823464, 0.076757, 0.0739208, 0.0398531, 0....   \n",
       "              1                        [0.144015, 0.123933, 0.113317, 0.111903, 0.102...   \n",
       "1             0                        [0.233784, 0.150149, 0.130027, 0.124982, 0.115...   \n",
       "              1                        [0.130773, 0.117207, 0.116062, 0.0985389, 0.09...   \n",
       "              2                        [0.190561, 0.1286, 0.126998, 0.120387, 0.12038...   \n",
       "\n",
       "                                                                              supervisor  \\\n",
       "inspection_id enumerated_review_delta                                                      \n",
       "0             0                        [0.0982185, 0.0774828, 0.0723427, 0.0305749, 0...   \n",
       "              1                        [0.138609, 0.126632, 0.125301, 0.114626, 0.109...   \n",
       "1             0                        [0.322755, 0.182528, 0.16596, 0.140622, 0.1386...   \n",
       "              1                        [0.267121, 0.145095, 0.138609, 0.112187, 0.098...   \n",
       "              2                        [0.23219, 0.154479, 0.139179, 0.138609, 0.1190...   \n",
       "\n",
       "                                                                                training  \\\n",
       "inspection_id enumerated_review_delta                                                      \n",
       "0             0                        [0.127395, 0.114109, 0.0926586, 0.0815057, 0.0...   \n",
       "              1                        [0.180208, 0.153162, 0.143042, 0.119608, 0.117...   \n",
       "1             0                        [0.37962, 0.310816, 0.199297, 0.184256, 0.1809...   \n",
       "              1                        [0.180208, 0.153395, 0.153162, 0.138352, 0.137...   \n",
       "              2                        [0.41236, 0.251453, 0.196399, 0.196399, 0.1802...   \n",
       "\n",
       "                                                                                  safety  \\\n",
       "inspection_id enumerated_review_delta                                                      \n",
       "0             0                        [0.0901909, 0.0618174, 0.0530563, 0.0453497, 0...   \n",
       "              1                        [0.201867, 0.174458, 0.174458, 0.174458, 0.169...   \n",
       "1             0                        [0.287903, 0.239384, 0.201867, 0.194453, 0.187...   \n",
       "              1                        [0.201867, 0.174458, 0.174458, 0.123344, 0.115...   \n",
       "              2                        [0.242597, 0.223125, 0.223125, 0.201867, 0.139...   \n",
       "\n",
       "                                            ...        \\\n",
       "inspection_id enumerated_review_delta       ...         \n",
       "0             0                             ...         \n",
       "              1                             ...         \n",
       "1             0                             ...         \n",
       "              1                             ...         \n",
       "              2                             ...         \n",
       "\n",
       "                                                                                    mold  \\\n",
       "inspection_id enumerated_review_delta                                                      \n",
       "0             0                        [0.190758, 0.166866, 0.128718, 0.0994938, -0.0...   \n",
       "              1                        [0.192882, 0.190758, 0.190758, 0.189065, 0.184...   \n",
       "1             0                        [0.194898, 0.192455, 0.191326, 0.171343, 0.163...   \n",
       "              1                        [0.193892, 0.190758, 0.190758, 0.162947, 0.159...   \n",
       "              2                        [0.280216, 0.206547, 0.206547, 0.206547, 0.206...   \n",
       "\n",
       "                                      review_delta review_stars  \\\n",
       "inspection_id enumerated_review_delta                             \n",
       "0             0                                 18            5   \n",
       "              1                                177            4   \n",
       "1             0                                 67            4   \n",
       "              1                                171            3   \n",
       "              2                                350            4   \n",
       "\n",
       "                                      review_votes_cool review_votes_funny  \\\n",
       "inspection_id enumerated_review_delta                                        \n",
       "0             0                                       0                  0   \n",
       "              1                                       1                  0   \n",
       "1             0                                       7                 12   \n",
       "              1                                       0                  0   \n",
       "              2                                       0                  0   \n",
       "\n",
       "                                      review_votes_useful user_average_stars  \\\n",
       "inspection_id enumerated_review_delta                                          \n",
       "0             0                                         1               4.48   \n",
       "              1                                         3               3.85   \n",
       "1             0                                         8               3.44   \n",
       "              1                                         1               3.93   \n",
       "              2                                         1               3.66   \n",
       "\n",
       "                                      user_review_count  \\\n",
       "inspection_id enumerated_review_delta                     \n",
       "0             0                                     152   \n",
       "              1                                     626   \n",
       "1             0                                     963   \n",
       "              1                                      28   \n",
       "              2                                     859   \n",
       "\n",
       "                                      user_yelping_since_delta user_ever_elite  \n",
       "inspection_id enumerated_review_delta                                           \n",
       "0             0                                            506            True  \n",
       "              1                                            864            True  \n",
       "1             0                                             53            True  \n",
       "              1                                             41           False  \n",
       "              2                                            196            True  \n",
       "\n",
       "[5 rows x 70 columns]"
      ]
     },
     "execution_count": 74,
     "metadata": {},
     "output_type": "execute_result"
    }
   ],
   "source": [
    "combo.set_index(['inspection_id', 'enumerated_review_delta']).head()"
   ]
  },
  {
   "cell_type": "code",
   "execution_count": 45,
   "metadata": {
    "collapsed": false
   },
   "outputs": [
    {
     "data": {
      "text/html": [
       "<div>\n",
       "<table border=\"1\" class=\"dataframe\">\n",
       "  <thead>\n",
       "    <tr>\n",
       "      <th></th>\n",
       "      <th colspan=\"10\" halign=\"left\">polarity</th>\n",
       "      <th>...</th>\n",
       "      <th colspan=\"10\" halign=\"left\">user_ever_elite</th>\n",
       "    </tr>\n",
       "    <tr>\n",
       "      <th>enumerated_review_delta</th>\n",
       "      <th>0</th>\n",
       "      <th>1</th>\n",
       "      <th>2</th>\n",
       "      <th>3</th>\n",
       "      <th>4</th>\n",
       "      <th>5</th>\n",
       "      <th>6</th>\n",
       "      <th>7</th>\n",
       "      <th>8</th>\n",
       "      <th>9</th>\n",
       "      <th>...</th>\n",
       "      <th>435</th>\n",
       "      <th>436</th>\n",
       "      <th>437</th>\n",
       "      <th>438</th>\n",
       "      <th>439</th>\n",
       "      <th>440</th>\n",
       "      <th>441</th>\n",
       "      <th>442</th>\n",
       "      <th>443</th>\n",
       "      <th>444</th>\n",
       "    </tr>\n",
       "    <tr>\n",
       "      <th>inspection_id</th>\n",
       "      <th></th>\n",
       "      <th></th>\n",
       "      <th></th>\n",
       "      <th></th>\n",
       "      <th></th>\n",
       "      <th></th>\n",
       "      <th></th>\n",
       "      <th></th>\n",
       "      <th></th>\n",
       "      <th></th>\n",
       "      <th></th>\n",
       "      <th></th>\n",
       "      <th></th>\n",
       "      <th></th>\n",
       "      <th></th>\n",
       "      <th></th>\n",
       "      <th></th>\n",
       "      <th></th>\n",
       "      <th></th>\n",
       "      <th></th>\n",
       "      <th></th>\n",
       "    </tr>\n",
       "  </thead>\n",
       "  <tbody>\n",
       "    <tr>\n",
       "      <th>0</th>\n",
       "      <td>0.222946</td>\n",
       "      <td>0.237602</td>\n",
       "      <td>NaN</td>\n",
       "      <td>NaN</td>\n",
       "      <td>NaN</td>\n",
       "      <td>NaN</td>\n",
       "      <td>NaN</td>\n",
       "      <td>NaN</td>\n",
       "      <td>NaN</td>\n",
       "      <td>NaN</td>\n",
       "      <td>...</td>\n",
       "      <td>NaN</td>\n",
       "      <td>NaN</td>\n",
       "      <td>NaN</td>\n",
       "      <td>NaN</td>\n",
       "      <td>NaN</td>\n",
       "      <td>NaN</td>\n",
       "      <td>NaN</td>\n",
       "      <td>NaN</td>\n",
       "      <td>NaN</td>\n",
       "      <td>NaN</td>\n",
       "    </tr>\n",
       "    <tr>\n",
       "      <th>1</th>\n",
       "      <td>0.189981</td>\n",
       "      <td>0.115152</td>\n",
       "      <td>0.324259</td>\n",
       "      <td>NaN</td>\n",
       "      <td>NaN</td>\n",
       "      <td>NaN</td>\n",
       "      <td>NaN</td>\n",
       "      <td>NaN</td>\n",
       "      <td>NaN</td>\n",
       "      <td>NaN</td>\n",
       "      <td>...</td>\n",
       "      <td>NaN</td>\n",
       "      <td>NaN</td>\n",
       "      <td>NaN</td>\n",
       "      <td>NaN</td>\n",
       "      <td>NaN</td>\n",
       "      <td>NaN</td>\n",
       "      <td>NaN</td>\n",
       "      <td>NaN</td>\n",
       "      <td>NaN</td>\n",
       "      <td>NaN</td>\n",
       "    </tr>\n",
       "    <tr>\n",
       "      <th>2</th>\n",
       "      <td>0.005025</td>\n",
       "      <td>-0.234226</td>\n",
       "      <td>0.700000</td>\n",
       "      <td>0.158102</td>\n",
       "      <td>0.019551</td>\n",
       "      <td>0.255694</td>\n",
       "      <td>0.25</td>\n",
       "      <td>0.343308</td>\n",
       "      <td>0.173016</td>\n",
       "      <td>NaN</td>\n",
       "      <td>...</td>\n",
       "      <td>NaN</td>\n",
       "      <td>NaN</td>\n",
       "      <td>NaN</td>\n",
       "      <td>NaN</td>\n",
       "      <td>NaN</td>\n",
       "      <td>NaN</td>\n",
       "      <td>NaN</td>\n",
       "      <td>NaN</td>\n",
       "      <td>NaN</td>\n",
       "      <td>NaN</td>\n",
       "    </tr>\n",
       "    <tr>\n",
       "      <th>7</th>\n",
       "      <td>0.193750</td>\n",
       "      <td>NaN</td>\n",
       "      <td>NaN</td>\n",
       "      <td>NaN</td>\n",
       "      <td>NaN</td>\n",
       "      <td>NaN</td>\n",
       "      <td>NaN</td>\n",
       "      <td>NaN</td>\n",
       "      <td>NaN</td>\n",
       "      <td>NaN</td>\n",
       "      <td>...</td>\n",
       "      <td>NaN</td>\n",
       "      <td>NaN</td>\n",
       "      <td>NaN</td>\n",
       "      <td>NaN</td>\n",
       "      <td>NaN</td>\n",
       "      <td>NaN</td>\n",
       "      <td>NaN</td>\n",
       "      <td>NaN</td>\n",
       "      <td>NaN</td>\n",
       "      <td>NaN</td>\n",
       "    </tr>\n",
       "    <tr>\n",
       "      <th>8</th>\n",
       "      <td>0.214286</td>\n",
       "      <td>-0.059524</td>\n",
       "      <td>0.166833</td>\n",
       "      <td>0.030000</td>\n",
       "      <td>0.259574</td>\n",
       "      <td>0.500000</td>\n",
       "      <td>NaN</td>\n",
       "      <td>NaN</td>\n",
       "      <td>NaN</td>\n",
       "      <td>NaN</td>\n",
       "      <td>...</td>\n",
       "      <td>NaN</td>\n",
       "      <td>NaN</td>\n",
       "      <td>NaN</td>\n",
       "      <td>NaN</td>\n",
       "      <td>NaN</td>\n",
       "      <td>NaN</td>\n",
       "      <td>NaN</td>\n",
       "      <td>NaN</td>\n",
       "      <td>NaN</td>\n",
       "      <td>NaN</td>\n",
       "    </tr>\n",
       "  </tbody>\n",
       "</table>\n",
       "<p>5 rows × 31150 columns</p>\n",
       "</div>"
      ],
      "text/plain": [
       "                         polarity                                          \\\n",
       "enumerated_review_delta       0         1         2         3         4     \n",
       "inspection_id                                                               \n",
       "0                        0.222946  0.237602       NaN       NaN       NaN   \n",
       "1                        0.189981  0.115152  0.324259       NaN       NaN   \n",
       "2                        0.005025 -0.234226  0.700000  0.158102  0.019551   \n",
       "7                        0.193750       NaN       NaN       NaN       NaN   \n",
       "8                        0.214286 -0.059524  0.166833  0.030000  0.259574   \n",
       "\n",
       "                                                                ...   \\\n",
       "enumerated_review_delta       5     6         7         8   9   ...    \n",
       "inspection_id                                                   ...    \n",
       "0                             NaN   NaN       NaN       NaN NaN ...    \n",
       "1                             NaN   NaN       NaN       NaN NaN ...    \n",
       "2                        0.255694  0.25  0.343308  0.173016 NaN ...    \n",
       "7                             NaN   NaN       NaN       NaN NaN ...    \n",
       "8                        0.500000   NaN       NaN       NaN NaN ...    \n",
       "\n",
       "                        user_ever_elite                                     \\\n",
       "enumerated_review_delta             435  436  437  438  439  440  441  442   \n",
       "inspection_id                                                                \n",
       "0                                   NaN  NaN  NaN  NaN  NaN  NaN  NaN  NaN   \n",
       "1                                   NaN  NaN  NaN  NaN  NaN  NaN  NaN  NaN   \n",
       "2                                   NaN  NaN  NaN  NaN  NaN  NaN  NaN  NaN   \n",
       "7                                   NaN  NaN  NaN  NaN  NaN  NaN  NaN  NaN   \n",
       "8                                   NaN  NaN  NaN  NaN  NaN  NaN  NaN  NaN   \n",
       "\n",
       "                                   \n",
       "enumerated_review_delta  443  444  \n",
       "inspection_id                      \n",
       "0                        NaN  NaN  \n",
       "1                        NaN  NaN  \n",
       "2                        NaN  NaN  \n",
       "7                        NaN  NaN  \n",
       "8                        NaN  NaN  \n",
       "\n",
       "[5 rows x 31150 columns]"
      ]
     },
     "execution_count": 45,
     "metadata": {},
     "output_type": "execute_result"
    }
   ],
   "source": [
    "combo.pivot(index='inspection_id', columns='enumerated_review_delta').head()\n",
    "# combo.set_index(['inspection_id', 'enumerated_review_delta']).unstack(1).head()\n",
    "# combo.pivot_table(index='inspection_id', columns='enumerated_review_delta').head()\n",
    "# df.groupby('inspection_id').max().head()"
   ]
  },
  {
   "cell_type": "code",
   "execution_count": null,
   "metadata": {
    "collapsed": true
   },
   "outputs": [],
   "source": []
  },
  {
   "cell_type": "code",
   "execution_count": null,
   "metadata": {
    "collapsed": true
   },
   "outputs": [],
   "source": []
  },
  {
   "cell_type": "code",
   "execution_count": null,
   "metadata": {
    "collapsed": false
   },
   "outputs": [],
   "source": []
  },
  {
   "cell_type": "code",
   "execution_count": 38,
   "metadata": {
    "collapsed": false
   },
   "outputs": [],
   "source": []
  },
  {
   "cell_type": "code",
   "execution_count": null,
   "metadata": {
    "collapsed": false
   },
   "outputs": [],
   "source": []
  },
  {
   "cell_type": "code",
   "execution_count": null,
   "metadata": {
    "collapsed": true
   },
   "outputs": [],
   "source": []
  },
  {
   "cell_type": "code",
   "execution_count": null,
   "metadata": {
    "collapsed": true
   },
   "outputs": [],
   "source": []
  },
  {
   "cell_type": "code",
   "execution_count": null,
   "metadata": {
    "collapsed": false
   },
   "outputs": [],
   "source": []
  },
  {
   "cell_type": "code",
   "execution_count": null,
   "metadata": {
    "collapsed": true
   },
   "outputs": [],
   "source": [
    "df['review_stars'] = df.review_stars.fillna(0).astype('category')\n",
    "df.restaurant_attributes_price_range = df.restaurant_attributes_price_range.fillna(df.restaurant_attributes_price_range.median())"
   ]
  },
  {
   "cell_type": "code",
   "execution_count": 13,
   "metadata": {
    "collapsed": false
   },
   "outputs": [],
   "source": [
    "from sklearn.decomposition import PCA, TruncatedSVD\n",
    "\n",
    "def pivot_feature(df, feature, limit=None, decomp='lsa', decomp_features=100, fill='median'):\n",
    "    # make the large dataframe faster to handle on pivot\n",
    "    temp = df[['inspection_id', 'enumerated_review_delta'] + [feature]]\n",
    "    \n",
    "    # pivot so that each inspection id only has one observation with each review a feature for that observation\n",
    "    pivoted_feature = temp.pivot('inspection_id', 'enumerated_review_delta')[feature]\n",
    "    \n",
    "              \n",
    "    # pivoting creates a number of empty variables when they have less than the max number of reviews        \n",
    "    if fill == 'median':\n",
    "        fill_empties = lambda x: x.fillna(x.median())\n",
    "    elif fill == 'mean':\n",
    "        fill_empties = lambda x: x.fillna(x.mean())\n",
    "    elif fill == 0:\n",
    "        fill_empties = lambda x: x.fillna(0)\n",
    "    elif fill == 'inter':\n",
    "        fill_empties = lambda x: x.interpolate()\n",
    "    elif fill == None:\n",
    "        fill_empties = lambda x: x\n",
    "    else:\n",
    "        raise Exception\n",
    "    \n",
    "    pivoted_feature = pivoted_feature.apply(fill_empties, axis=1)\n",
    "              \n",
    "    if decomp == 'lsa':\n",
    "        decomposition = TruncatedSVD(decomp_features)\n",
    "    elif decomp == 'pca':\n",
    "        decomposition = PCA(decomp_features)\n",
    "    elif decomp == None:\n",
    "        pass\n",
    "    else:\n",
    "        raise Exception\n",
    "    \n",
    "    if not limit:\n",
    "        try:\n",
    "            return decomposition.fit_transform(pivoted_feature)\n",
    "        except:\n",
    "            return pivoted_feature\n",
    "    else:\n",
    "        try:\n",
    "            return decomposition.fit_transform(pivoted_feature)[: , 0:limit]\n",
    "        except:\n",
    "            return pivoted_feature[[i for i in range(limit)]]\n",
    "    \n",
    "def pivot_test(levels):\n",
    "    pool = Pool()\n",
    "    score_list = pool.map(pivot_pool, range(1,levels))\n",
    "    pool.close()\n",
    "    pool.join()\n",
    "    for i in ['lsa', 'pca']:\n",
    "        X = pivot_feature(pv_df, pv_feature, limit=None, decomp=i)  \n",
    "        xtrain, xtest, ytrain, ytest = train_test_split(X, y, random_state=42)\n",
    "        p = RandomForestClassifier(n_jobs=-1, random_state=42).fit(xtrain, ytrain[pv_score]).predict(xtest)\n",
    "        score = accuracy_score(ytest[pv_score], np.clip(np.round(p), 0, np.inf))\n",
    "        score_list.append(score)\n",
    "    return score_list\n",
    "    \n",
    "def pivot_pool(i):\n",
    "    X = pivot_feature(pv_df, pv_feature, limit=i, decomp=None)\n",
    "    global y\n",
    "    xtrain, xtest, ytrain, ytest = train_test_split(X, y, random_state=42)\n",
    "    p = RandomForestClassifier(n_jobs=-1, random_state=42).fit(xtrain, ytrain[pv_score]).predict(xtest)\n",
    "    score = accuracy_score(ytest[pv_score], np.clip(np.round(p), 0, np.inf))\n",
    "    return score\n"
   ]
  },
  {
   "cell_type": "code",
   "execution_count": 11,
   "metadata": {
    "collapsed": false
   },
   "outputs": [
    {
     "name": "stdout",
     "output_type": "stream",
     "text": [
      "Best level of 1 with a score of 0.2061 for mold\n"
     ]
    }
   ],
   "source": [
    "flist = ['nails', 'jewelry', 'sneeze', 'cough', 'runny', 'illegal', 'rotten', 'dirty', 'mouse', 'cockroach', 'contaminated', 'gross', 'disgusting', 'stink', 'old', 'parasite', 'bacteria', 'reheat', 'frozen', 'broken', 'drip', 'bathroom', 'toilet', 'leak', 'trash', 'dark', 'lights', 'dust', 'puddle', 'pesticide', 'bugs', 'mold']\n",
    "pv_df = combo\n",
    "pv_feature = 'nails'\n",
    "pv_score = 'score_lvl_1'\n",
    "# for i in flist:\n",
    "#     global pv_feature\n",
    "#     pv_feature = i\n",
    "score_list = pivot_test(100)\n",
    "indexed = np.argsort(score_list)\n",
    "print(\"Best level of {} with a score of {} for {}\".format(indexed[-1] + 1, np.round(score_list[indexed[-1]], 4), i))"
   ]
  },
  {
   "cell_type": "code",
   "execution_count": null,
   "metadata": {
    "collapsed": false
   },
   "outputs": [],
   "source": []
  },
  {
   "cell_type": "code",
   "execution_count": 11,
   "metadata": {
    "collapsed": false
   },
   "outputs": [],
   "source": [
    "tfidf = joblib.load('pickle_jar/tfidf_preprocessed_ngram3_sublinear_1mil_pivot_365')\n",
    "\n",
    "lsa = TruncatedSVD(2)\n",
    "lsa_tfidf = lsa.fit_transform(tfidf)\n",
    "tfidf_pivot = pd.concat([combo[['inspection_id', 'enumerated_review_delta']], pd.DataFrame(lsa_tfidf)], axis=1)"
   ]
  },
  {
   "cell_type": "code",
   "execution_count": null,
   "metadata": {
    "collapsed": true
   },
   "outputs": [],
   "source": [
    "tfidf_pivot = pd.read_pickle('pickle_jar/lsa_tfidf_2mil_pivot_365')"
   ]
  },
  {
   "cell_type": "code",
   "execution_count": null,
   "metadata": {
    "collapsed": true
   },
   "outputs": [],
   "source": [
    "tfidf.shape"
   ]
  },
  {
   "cell_type": "code",
   "execution_count": 207,
   "metadata": {
    "collapsed": false
   },
   "outputs": [],
   "source": [
    "# combo[['inspection_id', 'enumerated_review_delta', 'manager']].pivot('inspection_id', 'enumerated_review_delta')\n",
    "def test(x):\n",
    "    try:\n",
    "        return x[0]\n",
    "    except:\n",
    "        return x\n",
    "\n",
    "combo['t1'] = combo.drip.apply(test)\n",
    "combo['t2'] = combo.manager.apply(test)\n",
    "combo['t3'] = combo.violation.apply(test)"
   ]
  },
  {
   "cell_type": "code",
   "execution_count": 484,
   "metadata": {
    "collapsed": false
   },
   "outputs": [
    {
     "name": "stdout",
     "output_type": "stream",
     "text": [
      "manager\n",
      "supervisor\n",
      "training\n",
      "safety\n",
      "disease\n",
      "ill\n",
      "sick\n",
      "poisoning\n",
      "poison\n",
      "hygiene\n",
      "raw\n",
      "undercooked\n",
      "cold\n",
      "clean\n",
      "sanitary\n",
      "wash\n",
      "jaundice\n",
      "yellow\n",
      "hazard\n",
      "inspection\n",
      "violation\n",
      "gloves\n",
      "hairnet\n",
      "nails\n",
      "jewelry\n",
      "sneeze\n",
      "cough\n",
      "runny\n",
      "illegal\n",
      "rotten\n",
      "dirty\n",
      "mouse\n",
      "cockroach\n",
      "contaminated\n",
      "gross\n",
      "disgusting\n",
      "stink\n",
      "old\n",
      "parasite\n",
      "bacteria\n",
      "reheat\n",
      "frozen\n",
      "broken\n",
      "drip\n",
      "bathroom\n",
      "toilet\n",
      "leak\n",
      "trash\n",
      "dark\n",
      "lights\n",
      "dust\n",
      "puddle\n",
      "pesticide\n",
      "bugs\n",
      "mold\n"
     ]
    }
   ],
   "source": [
    "topics = ['manager', 'supervisor', 'training', 'safety', 'disease', 'ill', 'sick', 'poisoning', 'poison', 'hygiene', 'raw', 'undercooked', 'cold', 'clean', 'sanitary', 'wash', 'jaundice', 'yellow', 'hazard', 'inspection', 'violation', 'gloves', 'hairnet', 'nails', 'jewelry', 'sneeze', 'cough', 'runny', 'illegal', 'rotten', 'dirty', 'mouse', 'cockroach', 'contaminated', 'gross', 'disgusting', 'stink', 'old', 'parasite', 'bacteria', 'reheat', 'frozen', 'broken', 'drip', 'bathroom', 'toilet', 'leak', 'trash', 'dark', 'lights', 'dust', 'puddle', 'pesticide', 'bugs', 'mold']\n",
    "\n",
    "X = pivot_feature(combo, feature='polarity', limit=5, decomp=None)\n",
    "for i in topics:\n",
    "    print i\n",
    "    new_X = pivot_feature(combo, feature=i, limit=5, decomp=None)\n",
    "    X = np.hstack((X, new_X))"
   ]
  },
  {
   "cell_type": "code",
   "execution_count": 41,
   "metadata": {
    "collapsed": false
   },
   "outputs": [
    {
     "data": {
      "text/plain": [
       "<matplotlib.axes._subplots.AxesSubplot at 0x1d15c8f50>"
      ]
     },
     "execution_count": 41,
     "metadata": {},
     "output_type": "execute_result"
    },
    {
     "data": {
      "image/png": "[encoded data removed]",
      "text/plain": [
       "<matplotlib.figure.Figure at 0x1b0ace2d0>"
      ]
     },
     "metadata": {},
     "output_type": "display_data"
    }
   ],
   "source": [
    "sns.distplot(X[0])"
   ]
  },
  {
   "cell_type": "code",
   "execution_count": 20,
   "metadata": {
    "collapsed": false
   },
   "outputs": [],
   "source": [
    "X = pivot_feature(combo, feature='polarity', limit=5, decomp=None)\n",
    "# X = combo.groupby('inspection_id')['polarity'].mean()\n",
    "y = df[['score_lvl_1', 'score_lvl_2', 'score_lvl_3']]"
   ]
  },
  {
   "cell_type": "code",
   "execution_count": 460,
   "metadata": {
    "collapsed": false
   },
   "outputs": [],
   "source": [
    "# combine two features\n",
    "X2 = pivot_feature(combo, feature='pos', limit=11, decomp=None)\n",
    "X3 = pivot_feature(combo, feature='compound', limit=5, decomp=None)\n",
    "# X = np.hstack((X, X2))\n",
    "X = np.hstack((X, X2, X3))"
   ]
  },
  {
   "cell_type": "code",
   "execution_count": 461,
   "metadata": {
    "collapsed": false
   },
   "outputs": [],
   "source": [
    "# lb = LabelBinarizer(sparse_output=True)\n",
    "# m = lb.fit_transform(df.restaurant_id)\n",
    "X = np.hstack((X, pd.get_dummies(df.restaurant_id)))"
   ]
  },
  {
   "cell_type": "code",
   "execution_count": 21,
   "metadata": {
    "collapsed": false
   },
   "outputs": [],
   "source": [
    "# combine X with non-review features\n",
    "X = np.hstack((X, df[['inspection_month']])) # as numerical\n",
    "# X = np.hstack((X, pd.get_dummies(df.inspection_month))) # as categorical\n",
    "# X = np.hstack((X, pd.get_dummies(df.inspection_dayofweek))) # as categorical\n",
    "# X = np.hstack((X, pd.get_dummies(df.inspection_year))) # as categorical"
   ]
  },
  {
   "cell_type": "code",
   "execution_count": 22,
   "metadata": {
    "collapsed": false
   },
   "outputs": [],
   "source": [
    "def add_bool(df, columns):\n",
    "    first = columns.pop(0)\n",
    "    t0 = df[first].astype(int)\n",
    "\n",
    "    for i in columns:\n",
    "        temp = df[i].astype(int)\n",
    "        t0 = pd.concat([t0, temp], axis=1)\n",
    "    return t0\n",
    "\n",
    "# m = add_bool(df, ['restaurant_attributes_accepts_credit_cards', 'restaurant_attributes_coat_check', 'restaurant_attributes_good_for_dancing', 'restaurant_attributes_good_for_groups', 'restaurant_attributes_good_for_latenight', 'restaurant_attributes_happy_hour', 'restaurant_attributes_has_tv', 'restaurant_attributes_outdoor_seating', 'restaurant_attributes_take_out',  'restaurant_attributes_takes_reservations', 'restaurant_attributes_waiter_service', 'restaurant_attributes_wheelchair_accessible'])\n",
    "m = add_bool(df, ['restaurant_attributes_accepts_credit_cards', 'restaurant_attributes_byob', 'restaurant_attributes_caters', 'restaurant_attributes_coat_check', 'restaurant_attributes_corkage', 'restaurant_attributes_delivery', 'restaurant_attributes_dietary_restrictions_dairy_free', 'restaurant_attributes_dietary_restrictions_gluten_free', 'restaurant_attributes_dietary_restrictions_halal', 'restaurant_attributes_dietary_restrictions_kosher', 'restaurant_attributes_dietary_restrictions_soy_free', 'restaurant_attributes_dietary_restrictions_vegan', 'restaurant_attributes_dietary_restrictions_vegetarian', 'restaurant_attributes_dogs_allowed', 'restaurant_attributes_drive_thr', 'restaurant_attributes_good_for_dancing', 'restaurant_attributes_good_for_groups', 'restaurant_attributes_good_for_breakfast', 'restaurant_attributes_good_for_brunch', 'restaurant_attributes_good_for_dessert', 'restaurant_attributes_good_for_dinner', 'restaurant_attributes_good_for_latenight', 'restaurant_attributes_good_for_lunch', 'restaurant_attributes_good_for_kids', 'restaurant_attributes_happy_hour', 'restaurant_attributes_has_tv', 'restaurant_attributes_open_24_hours', 'restaurant_attributes_order_at_counter', 'restaurant_attributes_outdoor_seating',  'restaurant_attributes_payment_types_amex', 'restaurant_attributes_payment_types_cash_only', 'restaurant_attributes_payment_types_discover', 'restaurant_attributes_payment_types_mastercard', 'restaurant_attributes_payment_types_visa', 'restaurant_attributes_take_out',  'restaurant_attributes_takes_reservations', 'restaurant_attributes_waiter_service', 'restaurant_attributes_wheelchair_accessible', ])\n",
    "X = np.hstack((X, m))"
   ]
  },
  {
   "cell_type": "code",
   "execution_count": 23,
   "metadata": {
    "collapsed": false
   },
   "outputs": [],
   "source": [
    "ambience_dum = pd.get_dummies(df.restaurant_ambience)[['divey', 'trendy']]\n",
    "alcohol_dum = pd.get_dummies(df.restaurant_attributes_alcohol)['full_bar']\n",
    "attire_dum = pd.get_dummies(df.restaurant_attributes_attire)['dressy']\n",
    "noise_dum = pd.get_dummies(df.restaurant_attributes_noise_level)['very_loud']\n",
    "smoke_dum = pd.get_dummies(df.restaurant_attributes_smoking)['outdoor']\n",
    "music_dum = pd.get_dummies(df.restaurant_music)[['dj', 'live']]\n",
    "park_dum = pd.get_dummies(df.restaurant_parking)['street']\n",
    "wifi_dum = pd.get_dummies(df.restaurant_attributes_wifi)['no']\n",
    "X = np.hstack((X, np.array(pd.concat([ambience_dum, alcohol_dum, attire_dum, noise_dum, smoke_dum, music_dum, park_dum, wifi_dum], axis=1))))"
   ]
  },
  {
   "cell_type": "code",
   "execution_count": 24,
   "metadata": {
    "collapsed": false
   },
   "outputs": [
    {
     "name": "stderr",
     "output_type": "stream",
     "text": [
      "100% (99 of 99) |#########################| Elapsed Time: 0:00:01 Time: 0:00:01\n",
      "100% (87 of 87) |#########################| Elapsed Time: 0:00:00 Time: 0:00:00\n",
      "100% (51 of 51) |#########################| Elapsed Time: 0:00:00 Time: 0:00:00\n",
      "100% (24 of 24) |#########################| Elapsed Time: 0:00:00 Time: 0:00:00\n",
      "100% (11 of 11) |#########################| Elapsed Time: 0:00:00 Time: 0:00:00\n",
      "100% (2 of 2) |###########################| Elapsed Time: 0:00:00 Time: 0:00:00\n"
     ]
    }
   ],
   "source": [
    "def special_categories_to_matrix(df, cats):\n",
    "    # need to do it like this because pd.merge causes a memory overload\n",
    "    t0 = pd.get_dummies(df[cats[0]])\n",
    "    cats.pop(0)\n",
    "    for i in cats:\n",
    "        new_dummies = pd.get_dummies(df[i])\n",
    "        pbar = ProgressBar(maxval=len(new_dummies.columns)).start()\n",
    "        for index, column in enumerate(new_dummies.columns):\n",
    "            if column not in t0.columns:\n",
    "                t0 = pd.concat([t0, new_dummies[column]], axis=1)\n",
    "            else:\n",
    "                t0[column] = t0[column] + new_dummies[column]\n",
    "            pbar.update(index)\n",
    "        pbar.finish()\n",
    "    return t0\n",
    "\n",
    "cats = ['restaurant_category_1', 'restaurant_category_2', 'restaurant_category_3', 'restaurant_category_4', 'restaurant_category_5', 'restaurant_category_6', 'restaurant_category_7']\n",
    "m = special_categories_to_matrix(df, cats)\n",
    "X = np.hstack((X, m))\n"
   ]
  },
  {
   "cell_type": "code",
   "execution_count": 25,
   "metadata": {
    "collapsed": false
   },
   "outputs": [
    {
     "name": "stderr",
     "output_type": "stream",
     "text": [
      "\r",
      "  0% (0 of 9) |                          | Elapsed Time: 0:00:00 ETA:  --:--:--\r",
      " 11% (1 of 9) |###                        | Elapsed Time: 0:00:00 ETA:  0:00:00\r",
      " 22% (2 of 9) |######                     | Elapsed Time: 0:00:00 ETA:  0:00:00\r",
      " 33% (3 of 9) |#########                  | Elapsed Time: 0:00:00 ETA:  0:00:00\r",
      " 44% (4 of 9) |############               | Elapsed Time: 0:00:00 ETA:  0:00:00\r",
      " 55% (5 of 9) |###############            | Elapsed Time: 0:00:00 ETA:  0:00:00\r",
      " 66% (6 of 9) |##################         | Elapsed Time: 0:00:00 ETA:  0:00:00\r",
      " 77% (7 of 9) |#####################      | Elapsed Time: 0:00:00 ETA:  0:00:00\r",
      " 88% (8 of 9) |########################   | Elapsed Time: 0:00:00 ETA:  0:00:00\r",
      "100% (9 of 9) |###########################| Elapsed Time: 0:00:00 Time: 0:00:00\n",
      "\r",
      "  0% (0 of 1) |                          | Elapsed Time: 0:00:00 ETA:  --:--:--\r",
      "100% (1 of 1) |###########################| Elapsed Time: 0:00:00 Time: 0:00:00\n"
     ]
    }
   ],
   "source": [
    "cats = ['restaurant_neighborhood_1', 'restaurant_neighborhood_2', 'restaurant_neighborhood_3']\n",
    "m = special_categories_to_matrix(df, cats)\n",
    "X = np.hstack((X, m))"
   ]
  },
  {
   "cell_type": "code",
   "execution_count": 26,
   "metadata": {
    "collapsed": false
   },
   "outputs": [],
   "source": [
    "# combine X with tfidf\n",
    "X = np.hstack((X, tfidf_pivot.groupby('inspection_id').mean()))"
   ]
  },
  {
   "cell_type": "code",
   "execution_count": 27,
   "metadata": {
    "collapsed": false
   },
   "outputs": [
    {
     "data": {
      "text/plain": [
       "(24430, 243)"
      ]
     },
     "execution_count": 27,
     "metadata": {},
     "output_type": "execute_result"
    }
   ],
   "source": [
    "X.shape"
   ]
  },
  {
   "cell_type": "code",
   "execution_count": 29,
   "metadata": {
    "collapsed": false
   },
   "outputs": [
    {
     "name": "stdout",
     "output_type": "stream",
     "text": [
      "SGDRegressor(alpha=0.0001, average=False, epsilon=0.1, eta0=0.01,\n",
      "       fit_intercept=True, l1_ratio=0.15, learning_rate='invscaling',\n",
      "       loss='squared_loss', n_iter=5, penalty='l2', power_t=0.25,\n",
      "       random_state=None, shuffle=True, verbose=0, warm_start=False)\n",
      "Level 1 accuracy score of 0.110183366077\n",
      "Level 2 accuracy score of 0.48231827112\n",
      "Level 3 accuracy score of 0.401440733464\n",
      "Contest score of 4.98915209096\n",
      "\n",
      "\n",
      "RandomForestClassifier(bootstrap=True, class_weight=None, criterion='gini',\n",
      "            max_depth=None, max_features='auto', max_leaf_nodes=None,\n",
      "            min_samples_leaf=1, min_samples_split=2,\n",
      "            min_weight_fraction_leaf=0.0, n_estimators=10, n_jobs=-1,\n",
      "            oob_score=False, random_state=42, verbose=0, warm_start=False)\n",
      "Level 1 accuracy score of 0.430091683039\n",
      "Level 2 accuracy score of 0.773739358219\n",
      "Level 3 accuracy score of 0.64047151277\n",
      "Contest score of 1.12942069745\n",
      "\n",
      "\n",
      "RandomForestRegressor(bootstrap=True, criterion='mse', max_depth=None,\n",
      "           max_features='auto', max_leaf_nodes=None, min_samples_leaf=1,\n",
      "           min_samples_split=2, min_weight_fraction_leaf=0.0,\n",
      "           n_estimators=10, n_jobs=-1, oob_score=False, random_state=42,\n",
      "           verbose=0, warm_start=False)\n",
      "Level 1 accuracy score of 0.167157825802\n",
      "Level 2 accuracy score of 0.72527832351\n",
      "Level 3 accuracy score of 0.45317616241\n",
      "Contest score of 1.070919332\n",
      "\n",
      "\n",
      "4.95059394836 seconds elapsed\n"
     ]
    }
   ],
   "source": [
    "from sklearn.linear_model import LinearRegression\n",
    "from sklearn.linear_model import SGDClassifier\n",
    "from sklearn.linear_model import SGDRegressor\n",
    "from sklearn.ensemble import RandomForestClassifier\n",
    "from sklearn.ensemble import RandomForestRegressor\n",
    "from sklearn.linear_model import LogisticRegression\n",
    "from sklearn.linear_model import Perceptron\n",
    "from sklearn.neighbors import KNeighborsClassifier\n",
    "from sklearn.neighbors import KNeighborsRegressor\n",
    "from sklearn.tree import DecisionTreeClassifier, DecisionTreeRegressor \n",
    "from sklearn.naive_bayes import MultinomialNB\n",
    "from sklearn.naive_bayes import GaussianNB\n",
    "from sklearn.svm import LinearSVC\n",
    "from sklearn.linear_model import BayesianRidge\n",
    "\n",
    "from sklearn.preprocessing import MinMaxScaler\n",
    "from sklearn.feature_selection import SelectKBest, chi2, f_regression, f_classif, SelectFpr\n",
    "\n",
    "t0 = time()\n",
    "\n",
    "\n",
    "estimator_list = [\n",
    "#     LinearRegression(), \n",
    "#     SGDClassifier(n_jobs=-1, random_state=42), \n",
    "#     Perceptron(n_jobs=-1, random_state=42),  # gets some nuances\n",
    "    SGDRegressor(), # gets some nuances\n",
    "    RandomForestClassifier(n_jobs=-1, random_state=42), \n",
    "    RandomForestRegressor(n_jobs=-1, random_state=42),\n",
    "#     BayesianRidge(), \n",
    "#     KNeighborsClassifier(),\n",
    "#     KNeighborsRegressor(),  # gets some nuances\n",
    "# DecisionTreeClassifier(),\n",
    "# DecisionTreeRegressor(),\n",
    "# GaussianNB(),\n",
    "# MultinomialNB(),\n",
    "# LinearSVC(random_state=42),\n",
    "]\n",
    "\n",
    "for estimator in estimator_list:\n",
    "    pipeline = Pipeline([\n",
    "        ('zero_variance_removal', VarianceThreshold()),\n",
    "        ('k_best', SelectKBest(score_func=f_classif, k=100)),\n",
    "#         ('no_negative', MinMaxScaler()),\n",
    "#         ('normalizer', Normalizer(norm='l2')), #  for text classification and clustering\n",
    "#         ('normalizer', Normalizer(copy=False)),\n",
    "#         ('scaler', StandardScaler()),\n",
    "#         ('scaler', StandardScaler(with_mean=False)), #  for sparse matrix\n",
    "        ('clf', estimator),\n",
    "])\n",
    "    print estimator\n",
    "#     for i in range(1,11):\n",
    "#         print(i)\n",
    "#         X = pivot_feature(combo, feature='polarity', limit=i, decomp=None)\n",
    "#         p1,p2,p3,ytest = raw_fit(X, y, pipeline)\n",
    "#         raw_scoring(p1,p2,p3,ytest)\n",
    "    p1,p2,p3,ytest = raw_fit(X, y, pipeline)\n",
    "    raw_scoring(p1,p2,p3,ytest)\n",
    "    print('\\n')\n",
    "\n",
    "\n",
    "print(\"{} seconds elapsed\".format(time()-t0))\n",
    "\n",
    "#everything except restauarnt id kbest 100\n",
    "# Level 1 accuracy score of 0.430091683039\n",
    "# Level 2 accuracy score of 0.773739358219\n",
    "# Level 3 accuracy score of 0.64047151277\n",
    "# Contest score of 1.12942069745"
   ]
  },
  {
   "cell_type": "code",
   "execution_count": 169,
   "metadata": {
    "collapsed": false
   },
   "outputs": [
    {
     "name": "stdout",
     "output_type": "stream",
     "text": [
      "level 1: 0.206385591486\n",
      "level 2: 0.711625051167\n",
      "level 3: 0.553786328285\n"
     ]
    }
   ],
   "source": [
    "# baseline scores if guessing zero\n",
    "scores = ['score_lvl_1', 'score_lvl_2', 'score_lvl_3']\n",
    "guess = 0\n",
    "for index, score in enumerate(scores):\n",
    "    print(\"level {}: {}\".format(index+1, y[score].value_counts(normalize=True)[guess]))"
   ]
  }
 ],
 "metadata": {
  "kernelspec": {
   "display_name": "Python 2",
   "language": "python",
   "name": "python2"
  },
  "language_info": {
   "codemirror_mode": {
    "name": "ipython",
    "version": 2
   },
   "file_extension": ".py",
   "mimetype": "text/x-python",
   "name": "python",
   "nbconvert_exporter": "python",
   "pygments_lexer": "ipython2",
   "version": "2.7.10"
  }
 },
 "nbformat": 4,
 "nbformat_minor": 0
}
