{
 "cells": [
  {
   "cell_type": "code",
   "execution_count": 1,
   "metadata": {
    "collapsed": true
   },
   "outputs": [],
   "source": [
    "%matplotlib inline\n",
    "\n",
    "import numpy as np\n",
    "import pandas as pd\n",
    "import seaborn as sns\n",
    "import matplotlib.pyplot as plt\n",
    "\n",
    "plt.rcParams[\"figure.figsize\"] = (10, 8)"
   ]
  },
  {
   "cell_type": "code",
   "execution_count": 168,
   "metadata": {
    "collapsed": false
   },
   "outputs": [],
   "source": [
    "with open(\"data/yelp_academic_dataset_review.json\", 'r') as f:\n",
    "    # the file is not actually valid json since each line is an individual\n",
    "    # dict -- we will add brackets on the very beginning and ending in order\n",
    "    # to make this an array of dicts and join the array entries with commas\n",
    "    review_json = '[' + ','.join(f.readlines()) + ']'\n",
    "# read in the json as a DataFrame\n",
    "reviews = pd.read_json(review_json)"
   ]
  },
  {
   "cell_type": "code",
   "execution_count": 169,
   "metadata": {
    "collapsed": true
   },
   "outputs": [],
   "source": [
    "with open(\"data/yelp_academic_dataset_tip.json\", 'r') as f:\n",
    "    # the file is not actually valid json since each line is an individual\n",
    "    # dict -- we will add brackets on the very beginning and ending in order\n",
    "    # to make this an array of dicts and join the array entries with commas\n",
    "    tip_json = '[' + ','.join(f.readlines()) + ']'\n",
    "# read in the json as a DataFrame\n",
    "tips = pd.read_json(tip_json)"
   ]
  },
  {
   "cell_type": "code",
   "execution_count": 170,
   "metadata": {
    "collapsed": false
   },
   "outputs": [
    {
     "data": {
      "text/plain": [
       "{u'business_id', u'date', u'text', u'type', u'user_id'}"
      ]
     },
     "execution_count": 170,
     "metadata": {},
     "output_type": "execute_result"
    }
   ],
   "source": [
    "set(reviews.columns.tolist()).intersection(tips.columns.tolist())"
   ]
  },
  {
   "cell_type": "code",
   "execution_count": 171,
   "metadata": {
    "collapsed": false
   },
   "outputs": [
    {
     "data": {
      "text/plain": [
       "(230371, 8)"
      ]
     },
     "execution_count": 171,
     "metadata": {},
     "output_type": "execute_result"
    }
   ],
   "source": [
    "reviews.shape"
   ]
  },
  {
   "cell_type": "code",
   "execution_count": 172,
   "metadata": {
    "collapsed": false
   },
   "outputs": [
    {
     "data": {
      "text/plain": [
       "(24072, 6)"
      ]
     },
     "execution_count": 172,
     "metadata": {},
     "output_type": "execute_result"
    }
   ],
   "source": [
    "tips.shape\n"
   ]
  },
  {
   "cell_type": "code",
   "execution_count": 173,
   "metadata": {
    "collapsed": false
   },
   "outputs": [],
   "source": [
    "# some nan's will exist because of this where reviews columns and tips columns don't match up\n",
    "reviews_tips = reviews.append(tips)"
   ]
  },
  {
   "cell_type": "code",
   "execution_count": 174,
   "metadata": {
    "collapsed": false
   },
   "outputs": [
    {
     "data": {
      "text/plain": [
       "(254443, 9)"
      ]
     },
     "execution_count": 174,
     "metadata": {},
     "output_type": "execute_result"
    }
   ],
   "source": [
    "reviews_tips.shape"
   ]
  },
  {
   "cell_type": "code",
   "execution_count": 175,
   "metadata": {
    "collapsed": false
   },
   "outputs": [],
   "source": [
    "reviews_tips.columns = [u'restaurant_id', u'review_date', u'tip_likes', u'review_id', u'review_stars', u'review_text', u'review_type', u'user_id', u'review_votes']"
   ]
  },
  {
   "cell_type": "code",
   "execution_count": 176,
   "metadata": {
    "collapsed": false
   },
   "outputs": [],
   "source": [
    "with open(\"data/yelp_academic_dataset_user.json\", 'r') as f:\n",
    "    # the file is not actually valid json since each line is an individual\n",
    "    # dict -- we will add brackets on the very beginning and ending in order\n",
    "    # to make this an array of dicts and join the array entries with commas\n",
    "    user_json = '[' + ','.join(f.readlines()) + ']'\n",
    "# read in the json as a DataFrame\n",
    "users = pd.read_json(user_json)"
   ]
  },
  {
   "cell_type": "code",
   "execution_count": 177,
   "metadata": {
    "collapsed": true
   },
   "outputs": [],
   "source": [
    "users.columns = [u'user_average_stars', u'user_compliments', u'user_elite', u'user_fans', u'user_friends', u'user_name', u'user_review_count', u'user_type', u'user_id', u'user_votes', u'user_yelping_since']"
   ]
  },
  {
   "cell_type": "code",
   "execution_count": 178,
   "metadata": {
    "collapsed": false
   },
   "outputs": [
    {
     "data": {
      "text/plain": [
       "{u'user_id'}"
      ]
     },
     "execution_count": 178,
     "metadata": {},
     "output_type": "execute_result"
    }
   ],
   "source": [
    "set(reviews_tips.columns.tolist()).intersection(users.columns.tolist())"
   ]
  },
  {
   "cell_type": "code",
   "execution_count": 179,
   "metadata": {
    "collapsed": false
   },
   "outputs": [
    {
     "data": {
      "text/plain": [
       "(68650, 11)"
      ]
     },
     "execution_count": 179,
     "metadata": {},
     "output_type": "execute_result"
    }
   ],
   "source": [
    "users.shape"
   ]
  },
  {
   "cell_type": "code",
   "execution_count": 180,
   "metadata": {
    "collapsed": true
   },
   "outputs": [],
   "source": [
    "users_reviews_tips = pd.merge(reviews_tips, users, on='user_id')"
   ]
  },
  {
   "cell_type": "code",
   "execution_count": 181,
   "metadata": {
    "collapsed": false
   },
   "outputs": [
    {
     "data": {
      "text/plain": [
       "(254443, 19)"
      ]
     },
     "execution_count": 181,
     "metadata": {},
     "output_type": "execute_result"
    }
   ],
   "source": [
    "users_reviews_tips.shape"
   ]
  },
  {
   "cell_type": "code",
   "execution_count": 182,
   "metadata": {
    "collapsed": false
   },
   "outputs": [],
   "source": [
    "with open(\"data/yelp_academic_dataset_business.json\", 'r') as f:\n",
    "    # the file is not actually valid json since each line is an individual\n",
    "    # dict -- we will add brackets on the very beginning and ending in order\n",
    "    # to make this an array of dicts and join the array entries with commas\n",
    "    restaurant_json = '[' + ','.join(f.readlines()) + ']'\n",
    "# read in the json as a DataFrame\n",
    "restaurants = pd.read_json(restaurant_json)"
   ]
  },
  {
   "cell_type": "code",
   "execution_count": 183,
   "metadata": {
    "collapsed": false
   },
   "outputs": [],
   "source": [
    "restaurants.columns = [u'restaurant_attributes', u'restaurant_id', u'restaurant_categories', u'restaurant_city', u'restaurant_full_address', u'restaurant_hours', u'restaurant_latitude', u'restaurant_longitude', u'restaurant_name', u'restaurant_neighborhoods', u'restaurant_open', u'restaurant_review_count', u'restaurant_stars', u'restaurant_state', u'restaurant_type']"
   ]
  },
  {
   "cell_type": "code",
   "execution_count": 184,
   "metadata": {
    "collapsed": false
   },
   "outputs": [
    {
     "data": {
      "text/plain": [
       "{u'restaurant_id'}"
      ]
     },
     "execution_count": 184,
     "metadata": {},
     "output_type": "execute_result"
    }
   ],
   "source": [
    "set(users_reviews_tips.columns.tolist()).intersection(restaurants.columns.tolist())"
   ]
  },
  {
   "cell_type": "code",
   "execution_count": 185,
   "metadata": {
    "collapsed": false
   },
   "outputs": [
    {
     "data": {
      "text/plain": [
       "(1930, 15)"
      ]
     },
     "execution_count": 185,
     "metadata": {},
     "output_type": "execute_result"
    }
   ],
   "source": [
    "restaurants.shape"
   ]
  },
  {
   "cell_type": "code",
   "execution_count": 186,
   "metadata": {
    "collapsed": false
   },
   "outputs": [],
   "source": [
    "restaurants_users_reviews_tips = pd.merge(users_reviews_tips, restaurants, on='restaurant_id')"
   ]
  },
  {
   "cell_type": "code",
   "execution_count": 187,
   "metadata": {
    "collapsed": false
   },
   "outputs": [
    {
     "data": {
      "text/plain": [
       "(254443, 33)"
      ]
     },
     "execution_count": 187,
     "metadata": {},
     "output_type": "execute_result"
    }
   ],
   "source": [
    "restaurants_users_reviews_tips.shape"
   ]
  },
  {
   "cell_type": "code",
   "execution_count": 188,
   "metadata": {
    "collapsed": false
   },
   "outputs": [],
   "source": [
    "with open(\"data/yelp_academic_dataset_checkin.json\", 'r') as f:\n",
    "    # the file is not actually valid json since each line is an individual\n",
    "    # dict -- we will add brackets on the very beginning and ending in order\n",
    "    # to make this an array of dicts and join the array entries with commas\n",
    "    checkin_json = '[' + ','.join(f.readlines()) + ']'\n",
    "# read in the json as a DataFrame\n",
    "checkins = pd.read_json(checkin_json)"
   ]
  },
  {
   "cell_type": "code",
   "execution_count": 189,
   "metadata": {
    "collapsed": true
   },
   "outputs": [],
   "source": [
    "checkins.columns = [u'restaurant_id', u'checkin_info', u'checkin_type']"
   ]
  },
  {
   "cell_type": "code",
   "execution_count": 190,
   "metadata": {
    "collapsed": false
   },
   "outputs": [
    {
     "data": {
      "text/plain": [
       "{u'restaurant_id'}"
      ]
     },
     "execution_count": 190,
     "metadata": {},
     "output_type": "execute_result"
    }
   ],
   "source": [
    "set(restaurants_users_reviews_tips.columns.tolist()).intersection(checkins.columns.tolist())"
   ]
  },
  {
   "cell_type": "code",
   "execution_count": 191,
   "metadata": {
    "collapsed": false
   },
   "outputs": [
    {
     "data": {
      "text/plain": [
       "(1630, 3)"
      ]
     },
     "execution_count": 191,
     "metadata": {},
     "output_type": "execute_result"
    }
   ],
   "source": [
    "checkins.shape"
   ]
  },
  {
   "cell_type": "code",
   "execution_count": 192,
   "metadata": {
    "collapsed": true
   },
   "outputs": [],
   "source": [
    "full_features = pd.merge(restaurants_users_reviews_tips, checkins, how='left', on='restaurant_id')"
   ]
  },
  {
   "cell_type": "code",
   "execution_count": 193,
   "metadata": {
    "collapsed": false
   },
   "outputs": [
    {
     "data": {
      "text/plain": [
       "(254443, 35)"
      ]
     },
     "execution_count": 193,
     "metadata": {},
     "output_type": "execute_result"
    }
   ],
   "source": [
    "full_features.shape"
   ]
  },
  {
   "cell_type": "code",
   "execution_count": 194,
   "metadata": {
    "collapsed": true
   },
   "outputs": [],
   "source": [
    "id_map = pd.read_csv(\"data/restaurant_ids_to_yelp_ids.csv\")"
   ]
  },
  {
   "cell_type": "code",
   "execution_count": 195,
   "metadata": {
    "collapsed": true
   },
   "outputs": [],
   "source": [
    "id_dict = {}\n",
    "# each Yelp ID may correspond to up to 4 Boston IDs\n",
    "for i, row in id_map.iterrows():\n",
    "    # get the Boston ID\n",
    "    boston_id = row[\"restaurant_id\"]\n",
    "    \n",
    "    # get the non-null Yelp IDs\n",
    "    non_null_mask = ~pd.isnull(row.ix[1:])\n",
    "    yelp_ids = row[1:][non_null_mask].values\n",
    "    \n",
    "    for yelp_id in yelp_ids:\n",
    "        id_dict[yelp_id] = boston_id"
   ]
  },
  {
   "cell_type": "code",
   "execution_count": 196,
   "metadata": {
    "collapsed": false
   },
   "outputs": [],
   "source": [
    "# replace yelp business_id with boston restaurant_id\n",
    "map_to_boston_ids = lambda yelp_id: id_dict[yelp_id] if yelp_id in id_dict else np.nan\n",
    "full_features.restaurant_id = full_features.restaurant_id.map(map_to_boston_ids)"
   ]
  },
  {
   "cell_type": "code",
   "execution_count": 197,
   "metadata": {
    "collapsed": false
   },
   "outputs": [
    {
     "data": {
      "text/plain": [
       "(254443, 35)"
      ]
     },
     "execution_count": 197,
     "metadata": {},
     "output_type": "execute_result"
    }
   ],
   "source": [
    "full_features.shape"
   ]
  },
  {
   "cell_type": "code",
   "execution_count": 198,
   "metadata": {
    "collapsed": true
   },
   "outputs": [],
   "source": [
    "# drop restaurants not found in boston data\n",
    "full_features = full_features[pd.notnull(full_features.restaurant_id)]"
   ]
  },
  {
   "cell_type": "code",
   "execution_count": 199,
   "metadata": {
    "collapsed": false
   },
   "outputs": [
    {
     "data": {
      "text/plain": [
       "(252767, 35)"
      ]
     },
     "execution_count": 199,
     "metadata": {},
     "output_type": "execute_result"
    }
   ],
   "source": [
    "full_features.shape"
   ]
  },
  {
   "cell_type": "code",
   "execution_count": 200,
   "metadata": {
    "collapsed": false
   },
   "outputs": [],
   "source": [
    "training_response = pd.read_csv(\"data/train_labels.csv\", index_col=None)\n",
    "training_response.columns = ['inspection_id', 'inspection_date', 'restaurant_id', '*', '**', '***']"
   ]
  },
  {
   "cell_type": "code",
   "execution_count": 201,
   "metadata": {
    "collapsed": false
   },
   "outputs": [
    {
     "data": {
      "text/plain": [
       "(27088, 6)"
      ]
     },
     "execution_count": 201,
     "metadata": {},
     "output_type": "execute_result"
    }
   ],
   "source": [
    "training_response.shape"
   ]
  },
  {
   "cell_type": "code",
   "execution_count": 202,
   "metadata": {
    "collapsed": false
   },
   "outputs": [],
   "source": [
    "training_response.inspection_date = pd.to_datetime(pd.Series(training_response.inspection_date))"
   ]
  },
  {
   "cell_type": "code",
   "execution_count": 203,
   "metadata": {
    "collapsed": false
   },
   "outputs": [
    {
     "data": {
      "text/plain": [
       "{'restaurant_id'}"
      ]
     },
     "execution_count": 203,
     "metadata": {},
     "output_type": "execute_result"
    }
   ],
   "source": [
    "set(full_features.columns.tolist()).intersection(training_response.columns.tolist())"
   ]
  },
  {
   "cell_type": "code",
   "execution_count": 204,
   "metadata": {
    "collapsed": true
   },
   "outputs": [],
   "source": [
    "full_features_response = pd.merge(full_features, training_response, on='restaurant_id')"
   ]
  },
  {
   "cell_type": "code",
   "execution_count": 205,
   "metadata": {
    "collapsed": false
   },
   "outputs": [
    {
     "data": {
      "text/plain": [
       "(4071065, 40)"
      ]
     },
     "execution_count": 205,
     "metadata": {},
     "output_type": "execute_result"
    }
   ],
   "source": [
    "full_features_response.shape"
   ]
  },
  {
   "cell_type": "code",
   "execution_count": 206,
   "metadata": {
    "collapsed": false,
    "scrolled": true
   },
   "outputs": [],
   "source": [
    "no_future = full_features_response[full_features_response.inspection_date > full_features_response.review_date]"
   ]
  },
  {
   "cell_type": "code",
   "execution_count": 207,
   "metadata": {
    "collapsed": false,
    "scrolled": false
   },
   "outputs": [
    {
     "data": {
      "text/plain": [
       "(1923796, 40)"
      ]
     },
     "execution_count": 207,
     "metadata": {},
     "output_type": "execute_result"
    }
   ],
   "source": [
    "no_future.shape"
   ]
  },
  {
   "cell_type": "code",
   "execution_count": 208,
   "metadata": {
    "collapsed": false
   },
   "outputs": [
    {
     "data": {
      "text/plain": [
       "(1923796, 40)"
      ]
     },
     "execution_count": 208,
     "metadata": {},
     "output_type": "execute_result"
    }
   ],
   "source": [
    "no_future[pd.notnull(no_future.restaurant_id)].shape"
   ]
  },
  {
   "cell_type": "code",
   "execution_count": 40,
   "metadata": {
    "collapsed": false
   },
   "outputs": [],
   "source": [
    "no_future['time_delta'] = (no_future.inspection_date - no_future.review_date).astype('timedelta64[D]')\n",
    "\n",
    "restaurant_cats = pd.Categorical.from_array(no_future.restaurant_id)\n",
    "no_future['restaurant_id_number'] = restaurant_cats.codes\n",
    "\n",
    "# no_future['vote_cool'] = [i[1]['cool'] for i in no_future.review_votes.iteritems()]\n",
    "# no_future['vote_funny'] = [i[1]['funny'] for i in no_future.review_votes.iteritems()]\n",
    "# no_future['vote_useful'] = [i[1]['useful'] for i in no_future.review_votes.iteritems()]\n",
    "# no_future = no_future.drop('review_votes')\n"
   ]
  },
  {
   "cell_type": "code",
   "execution_count": 2,
   "metadata": {
    "collapsed": false
   },
   "outputs": [],
   "source": [
    "import data_grab\n",
    "train_df, test_df = data_grab.load_dataframes()"
   ]
  },
  {
   "cell_type": "code",
   "execution_count": 3,
   "metadata": {
    "collapsed": false
   },
   "outputs": [],
   "source": [
    "# pd.set_option('display.max_rows', 100)\n",
    "triplex = train_df.sort('inspection_date').set_index(['restaurant_id','inspection_date', 'review_date'])"
   ]
  },
  {
   "cell_type": "code",
   "execution_count": 4,
   "metadata": {
    "collapsed": false,
    "scrolled": true
   },
   "outputs": [
    {
     "data": {
      "text/html": [
       "<div style=\"max-height:1000px;max-width:1500px;overflow:auto;\">\n",
       "<table border=\"1\" class=\"dataframe\">\n",
       "  <thead>\n",
       "    <tr style=\"text-align: right;\">\n",
       "      <th></th>\n",
       "      <th></th>\n",
       "      <th></th>\n",
       "      <th>tip_likes</th>\n",
       "      <th>review_id</th>\n",
       "      <th>review_stars</th>\n",
       "      <th>review_text</th>\n",
       "      <th>review_type</th>\n",
       "      <th>user_id</th>\n",
       "      <th>review_votes</th>\n",
       "      <th>user_average_stars</th>\n",
       "      <th>user_compliments</th>\n",
       "      <th>user_elite</th>\n",
       "      <th>...</th>\n",
       "      <th>restaurant_state</th>\n",
       "      <th>restaurant_type</th>\n",
       "      <th>checkin_info</th>\n",
       "      <th>checkin_type</th>\n",
       "      <th>inspection_id</th>\n",
       "      <th>*</th>\n",
       "      <th>**</th>\n",
       "      <th>***</th>\n",
       "      <th>time_delta</th>\n",
       "      <th>restaurant_id_number</th>\n",
       "    </tr>\n",
       "    <tr>\n",
       "      <th>restaurant_id</th>\n",
       "      <th>inspection_date</th>\n",
       "      <th>review_date</th>\n",
       "      <th></th>\n",
       "      <th></th>\n",
       "      <th></th>\n",
       "      <th></th>\n",
       "      <th></th>\n",
       "      <th></th>\n",
       "      <th></th>\n",
       "      <th></th>\n",
       "      <th></th>\n",
       "      <th></th>\n",
       "      <th></th>\n",
       "      <th></th>\n",
       "      <th></th>\n",
       "      <th></th>\n",
       "      <th></th>\n",
       "      <th></th>\n",
       "      <th></th>\n",
       "      <th></th>\n",
       "      <th></th>\n",
       "      <th></th>\n",
       "      <th></th>\n",
       "    </tr>\n",
       "  </thead>\n",
       "  <tbody>\n",
       "    <tr>\n",
       "      <th rowspan=\"4\" valign=\"top\">1JEbP4oR</th>\n",
       "      <th rowspan=\"2\" valign=\"top\">2006-10-04</th>\n",
       "      <th>2005-08-04</th>\n",
       "      <td>NaN</td>\n",
       "      <td>XVA3hQr8AOsH-43FQEz6rw</td>\n",
       "      <td>3</td>\n",
       "      <td>Fish here is decent.  They have a nice variety...</td>\n",
       "      <td>review</td>\n",
       "      <td>fbAUIhyi2eGAg8cj56VXrA</td>\n",
       "      <td>{u'funny': 0, u'useful': 0, u'cool': 0}</td>\n",
       "      <td>3.69</td>\n",
       "      <td>{}</td>\n",
       "      <td>[2006, 2007]</td>\n",
       "      <td>...</td>\n",
       "      <td>MA</td>\n",
       "      <td>business</td>\n",
       "      <td>NaN</td>\n",
       "      <td>NaN</td>\n",
       "      <td>10144</td>\n",
       "      <td>0</td>\n",
       "      <td>0</td>\n",
       "      <td>0</td>\n",
       "      <td>426</td>\n",
       "      <td>88</td>\n",
       "    </tr>\n",
       "    <tr>\n",
       "      <th>2006-09-01</th>\n",
       "      <td>NaN</td>\n",
       "      <td>UAzMRM2dAv9Q6UO31ObzpA</td>\n",
       "      <td>4</td>\n",
       "      <td>Good delivery restaurant for South Boston.  Va...</td>\n",
       "      <td>review</td>\n",
       "      <td>SA7Eo6JoYfXz8j_d54vYPw</td>\n",
       "      <td>{u'funny': 0, u'useful': 1, u'cool': 0}</td>\n",
       "      <td>3.50</td>\n",
       "      <td>{}</td>\n",
       "      <td>[]</td>\n",
       "      <td>...</td>\n",
       "      <td>MA</td>\n",
       "      <td>business</td>\n",
       "      <td>NaN</td>\n",
       "      <td>NaN</td>\n",
       "      <td>10144</td>\n",
       "      <td>0</td>\n",
       "      <td>0</td>\n",
       "      <td>0</td>\n",
       "      <td>33</td>\n",
       "      <td>88</td>\n",
       "    </tr>\n",
       "    <tr>\n",
       "      <th rowspan=\"2\" valign=\"top\">2006-10-19</th>\n",
       "      <th>2006-09-01</th>\n",
       "      <td>NaN</td>\n",
       "      <td>UAzMRM2dAv9Q6UO31ObzpA</td>\n",
       "      <td>4</td>\n",
       "      <td>Good delivery restaurant for South Boston.  Va...</td>\n",
       "      <td>review</td>\n",
       "      <td>SA7Eo6JoYfXz8j_d54vYPw</td>\n",
       "      <td>{u'funny': 0, u'useful': 1, u'cool': 0}</td>\n",
       "      <td>3.50</td>\n",
       "      <td>{}</td>\n",
       "      <td>[]</td>\n",
       "      <td>...</td>\n",
       "      <td>MA</td>\n",
       "      <td>business</td>\n",
       "      <td>NaN</td>\n",
       "      <td>NaN</td>\n",
       "      <td>24797</td>\n",
       "      <td>0</td>\n",
       "      <td>0</td>\n",
       "      <td>0</td>\n",
       "      <td>48</td>\n",
       "      <td>88</td>\n",
       "    </tr>\n",
       "    <tr>\n",
       "      <th>2005-08-04</th>\n",
       "      <td>NaN</td>\n",
       "      <td>XVA3hQr8AOsH-43FQEz6rw</td>\n",
       "      <td>3</td>\n",
       "      <td>Fish here is decent.  They have a nice variety...</td>\n",
       "      <td>review</td>\n",
       "      <td>fbAUIhyi2eGAg8cj56VXrA</td>\n",
       "      <td>{u'funny': 0, u'useful': 0, u'cool': 0}</td>\n",
       "      <td>3.69</td>\n",
       "      <td>{}</td>\n",
       "      <td>[2006, 2007]</td>\n",
       "      <td>...</td>\n",
       "      <td>MA</td>\n",
       "      <td>business</td>\n",
       "      <td>NaN</td>\n",
       "      <td>NaN</td>\n",
       "      <td>24797</td>\n",
       "      <td>0</td>\n",
       "      <td>0</td>\n",
       "      <td>0</td>\n",
       "      <td>441</td>\n",
       "      <td>88</td>\n",
       "    </tr>\n",
       "    <tr>\n",
       "      <th>m0oWNg3G</th>\n",
       "      <th>2007-01-02</th>\n",
       "      <th>2005-07-27</th>\n",
       "      <td>NaN</td>\n",
       "      <td>RmEcgZhxFRQfIsrJKnAJ0g</td>\n",
       "      <td>4</td>\n",
       "      <td>This is the best Borders I've ever seen.  Appa...</td>\n",
       "      <td>review</td>\n",
       "      <td>7qru-3Wh4xv67dASUqUUng</td>\n",
       "      <td>{u'funny': 0, u'useful': 0, u'cool': 0}</td>\n",
       "      <td>3.97</td>\n",
       "      <td>{}</td>\n",
       "      <td>[]</td>\n",
       "      <td>...</td>\n",
       "      <td>MA</td>\n",
       "      <td>business</td>\n",
       "      <td>{u'13-5': 1, u'8-5': 1, u'9-2': 2, u'11-0': 4,...</td>\n",
       "      <td>checkin</td>\n",
       "      <td>22543</td>\n",
       "      <td>0</td>\n",
       "      <td>0</td>\n",
       "      <td>0</td>\n",
       "      <td>524</td>\n",
       "      <td>1339</td>\n",
       "    </tr>\n",
       "  </tbody>\n",
       "</table>\n",
       "<p>5 rows × 39 columns</p>\n",
       "</div>"
      ],
      "text/plain": [
       "                                           tip_likes               review_id  \\\n",
       "restaurant_id inspection_date review_date                                      \n",
       "1JEbP4oR      2006-10-04      2005-08-04         NaN  XVA3hQr8AOsH-43FQEz6rw   \n",
       "                              2006-09-01         NaN  UAzMRM2dAv9Q6UO31ObzpA   \n",
       "              2006-10-19      2006-09-01         NaN  UAzMRM2dAv9Q6UO31ObzpA   \n",
       "                              2005-08-04         NaN  XVA3hQr8AOsH-43FQEz6rw   \n",
       "m0oWNg3G      2007-01-02      2005-07-27         NaN  RmEcgZhxFRQfIsrJKnAJ0g   \n",
       "\n",
       "                                           review_stars  \\\n",
       "restaurant_id inspection_date review_date                 \n",
       "1JEbP4oR      2006-10-04      2005-08-04              3   \n",
       "                              2006-09-01              4   \n",
       "              2006-10-19      2006-09-01              4   \n",
       "                              2005-08-04              3   \n",
       "m0oWNg3G      2007-01-02      2005-07-27              4   \n",
       "\n",
       "                                                                                 review_text  \\\n",
       "restaurant_id inspection_date review_date                                                      \n",
       "1JEbP4oR      2006-10-04      2005-08-04   Fish here is decent.  They have a nice variety...   \n",
       "                              2006-09-01   Good delivery restaurant for South Boston.  Va...   \n",
       "              2006-10-19      2006-09-01   Good delivery restaurant for South Boston.  Va...   \n",
       "                              2005-08-04   Fish here is decent.  They have a nice variety...   \n",
       "m0oWNg3G      2007-01-02      2005-07-27   This is the best Borders I've ever seen.  Appa...   \n",
       "\n",
       "                                          review_type                 user_id  \\\n",
       "restaurant_id inspection_date review_date                                       \n",
       "1JEbP4oR      2006-10-04      2005-08-04       review  fbAUIhyi2eGAg8cj56VXrA   \n",
       "                              2006-09-01       review  SA7Eo6JoYfXz8j_d54vYPw   \n",
       "              2006-10-19      2006-09-01       review  SA7Eo6JoYfXz8j_d54vYPw   \n",
       "                              2005-08-04       review  fbAUIhyi2eGAg8cj56VXrA   \n",
       "m0oWNg3G      2007-01-02      2005-07-27       review  7qru-3Wh4xv67dASUqUUng   \n",
       "\n",
       "                                                                      review_votes  \\\n",
       "restaurant_id inspection_date review_date                                            \n",
       "1JEbP4oR      2006-10-04      2005-08-04   {u'funny': 0, u'useful': 0, u'cool': 0}   \n",
       "                              2006-09-01   {u'funny': 0, u'useful': 1, u'cool': 0}   \n",
       "              2006-10-19      2006-09-01   {u'funny': 0, u'useful': 1, u'cool': 0}   \n",
       "                              2005-08-04   {u'funny': 0, u'useful': 0, u'cool': 0}   \n",
       "m0oWNg3G      2007-01-02      2005-07-27   {u'funny': 0, u'useful': 0, u'cool': 0}   \n",
       "\n",
       "                                           user_average_stars  \\\n",
       "restaurant_id inspection_date review_date                       \n",
       "1JEbP4oR      2006-10-04      2005-08-04                 3.69   \n",
       "                              2006-09-01                 3.50   \n",
       "              2006-10-19      2006-09-01                 3.50   \n",
       "                              2005-08-04                 3.69   \n",
       "m0oWNg3G      2007-01-02      2005-07-27                 3.97   \n",
       "\n",
       "                                          user_compliments    user_elite  \\\n",
       "restaurant_id inspection_date review_date                                  \n",
       "1JEbP4oR      2006-10-04      2005-08-04                {}  [2006, 2007]   \n",
       "                              2006-09-01                {}            []   \n",
       "              2006-10-19      2006-09-01                {}            []   \n",
       "                              2005-08-04                {}  [2006, 2007]   \n",
       "m0oWNg3G      2007-01-02      2005-07-27                {}            []   \n",
       "\n",
       "                                                  ...           \\\n",
       "restaurant_id inspection_date review_date         ...            \n",
       "1JEbP4oR      2006-10-04      2005-08-04          ...            \n",
       "                              2006-09-01          ...            \n",
       "              2006-10-19      2006-09-01          ...            \n",
       "                              2005-08-04          ...            \n",
       "m0oWNg3G      2007-01-02      2005-07-27          ...            \n",
       "\n",
       "                                           restaurant_state restaurant_type  \\\n",
       "restaurant_id inspection_date review_date                                     \n",
       "1JEbP4oR      2006-10-04      2005-08-04                 MA        business   \n",
       "                              2006-09-01                 MA        business   \n",
       "              2006-10-19      2006-09-01                 MA        business   \n",
       "                              2005-08-04                 MA        business   \n",
       "m0oWNg3G      2007-01-02      2005-07-27                 MA        business   \n",
       "\n",
       "                                                                                checkin_info  \\\n",
       "restaurant_id inspection_date review_date                                                      \n",
       "1JEbP4oR      2006-10-04      2005-08-04                                                 NaN   \n",
       "                              2006-09-01                                                 NaN   \n",
       "              2006-10-19      2006-09-01                                                 NaN   \n",
       "                              2005-08-04                                                 NaN   \n",
       "m0oWNg3G      2007-01-02      2005-07-27   {u'13-5': 1, u'8-5': 1, u'9-2': 2, u'11-0': 4,...   \n",
       "\n",
       "                                           checkin_type inspection_id  * **  \\\n",
       "restaurant_id inspection_date review_date                                     \n",
       "1JEbP4oR      2006-10-04      2005-08-04            NaN         10144  0  0   \n",
       "                              2006-09-01            NaN         10144  0  0   \n",
       "              2006-10-19      2006-09-01            NaN         24797  0  0   \n",
       "                              2005-08-04            NaN         24797  0  0   \n",
       "m0oWNg3G      2007-01-02      2005-07-27        checkin         22543  0  0   \n",
       "\n",
       "                                          *** time_delta restaurant_id_number  \n",
       "restaurant_id inspection_date review_date                                      \n",
       "1JEbP4oR      2006-10-04      2005-08-04    0        426                   88  \n",
       "                              2006-09-01    0         33                   88  \n",
       "              2006-10-19      2006-09-01    0         48                   88  \n",
       "                              2005-08-04    0        441                   88  \n",
       "m0oWNg3G      2007-01-02      2005-07-27    0        524                 1339  \n",
       "\n",
       "[5 rows x 39 columns]"
      ]
     },
     "execution_count": 4,
     "metadata": {},
     "output_type": "execute_result"
    }
   ],
   "source": [
    "triplex.head()"
   ]
  },
  {
   "cell_type": "code",
   "execution_count": 93,
   "metadata": {
    "collapsed": false
   },
   "outputs": [],
   "source": [
    "def pull_features(df):\n",
    "    features = df[['time_delta', 'review_text']]\n",
    "    features.review_text = features.review_text.apply(lambda x: len(x))\n",
    "    response = df[['*', '**', '***']].astype(np.float64)\n",
    "    return features, response"
   ]
  },
  {
   "cell_type": "code",
   "execution_count": 94,
   "metadata": {
    "collapsed": false
   },
   "outputs": [],
   "source": [
    "X, y = pull_features(train_df)"
   ]
  },
  {
   "cell_type": "code",
   "execution_count": 95,
   "metadata": {
    "collapsed": false
   },
   "outputs": [
    {
     "data": {
      "text/html": [
       "<div style=\"max-height:1000px;max-width:1500px;overflow:auto;\">\n",
       "<table border=\"1\" class=\"dataframe\">\n",
       "  <thead>\n",
       "    <tr style=\"text-align: right;\">\n",
       "      <th></th>\n",
       "      <th>*</th>\n",
       "      <th>**</th>\n",
       "      <th>***</th>\n",
       "    </tr>\n",
       "  </thead>\n",
       "  <tbody>\n",
       "    <tr>\n",
       "      <th>0</th>\n",
       "      <td>2</td>\n",
       "      <td>0</td>\n",
       "      <td>0</td>\n",
       "    </tr>\n",
       "    <tr>\n",
       "      <th>1</th>\n",
       "      <td>2</td>\n",
       "      <td>0</td>\n",
       "      <td>0</td>\n",
       "    </tr>\n",
       "    <tr>\n",
       "      <th>2</th>\n",
       "      <td>2</td>\n",
       "      <td>0</td>\n",
       "      <td>0</td>\n",
       "    </tr>\n",
       "    <tr>\n",
       "      <th>3</th>\n",
       "      <td>2</td>\n",
       "      <td>0</td>\n",
       "      <td>0</td>\n",
       "    </tr>\n",
       "    <tr>\n",
       "      <th>4</th>\n",
       "      <td>2</td>\n",
       "      <td>0</td>\n",
       "      <td>0</td>\n",
       "    </tr>\n",
       "    <tr>\n",
       "      <th>6</th>\n",
       "      <td>5</td>\n",
       "      <td>0</td>\n",
       "      <td>2</td>\n",
       "    </tr>\n",
       "    <tr>\n",
       "      <th>7</th>\n",
       "      <td>2</td>\n",
       "      <td>0</td>\n",
       "      <td>3</td>\n",
       "    </tr>\n",
       "    <tr>\n",
       "      <th>8</th>\n",
       "      <td>10</td>\n",
       "      <td>1</td>\n",
       "      <td>1</td>\n",
       "    </tr>\n",
       "    <tr>\n",
       "      <th>9</th>\n",
       "      <td>10</td>\n",
       "      <td>1</td>\n",
       "      <td>1</td>\n",
       "    </tr>\n",
       "    <tr>\n",
       "      <th>10</th>\n",
       "      <td>1</td>\n",
       "      <td>1</td>\n",
       "      <td>3</td>\n",
       "    </tr>\n",
       "    <tr>\n",
       "      <th>11</th>\n",
       "      <td>3</td>\n",
       "      <td>0</td>\n",
       "      <td>2</td>\n",
       "    </tr>\n",
       "    <tr>\n",
       "      <th>12</th>\n",
       "      <td>3</td>\n",
       "      <td>1</td>\n",
       "      <td>0</td>\n",
       "    </tr>\n",
       "    <tr>\n",
       "      <th>13</th>\n",
       "      <td>5</td>\n",
       "      <td>0</td>\n",
       "      <td>2</td>\n",
       "    </tr>\n",
       "    <tr>\n",
       "      <th>14</th>\n",
       "      <td>6</td>\n",
       "      <td>0</td>\n",
       "      <td>5</td>\n",
       "    </tr>\n",
       "    <tr>\n",
       "      <th>15</th>\n",
       "      <td>6</td>\n",
       "      <td>0</td>\n",
       "      <td>6</td>\n",
       "    </tr>\n",
       "    <tr>\n",
       "      <th>16</th>\n",
       "      <td>6</td>\n",
       "      <td>0</td>\n",
       "      <td>0</td>\n",
       "    </tr>\n",
       "    <tr>\n",
       "      <th>17</th>\n",
       "      <td>1</td>\n",
       "      <td>1</td>\n",
       "      <td>3</td>\n",
       "    </tr>\n",
       "    <tr>\n",
       "      <th>18</th>\n",
       "      <td>0</td>\n",
       "      <td>0</td>\n",
       "      <td>0</td>\n",
       "    </tr>\n",
       "    <tr>\n",
       "      <th>19</th>\n",
       "      <td>3</td>\n",
       "      <td>1</td>\n",
       "      <td>0</td>\n",
       "    </tr>\n",
       "    <tr>\n",
       "      <th>20</th>\n",
       "      <td>1</td>\n",
       "      <td>0</td>\n",
       "      <td>1</td>\n",
       "    </tr>\n",
       "    <tr>\n",
       "      <th>21</th>\n",
       "      <td>2</td>\n",
       "      <td>0</td>\n",
       "      <td>3</td>\n",
       "    </tr>\n",
       "    <tr>\n",
       "      <th>22</th>\n",
       "      <td>3</td>\n",
       "      <td>0</td>\n",
       "      <td>2</td>\n",
       "    </tr>\n",
       "    <tr>\n",
       "      <th>23</th>\n",
       "      <td>6</td>\n",
       "      <td>0</td>\n",
       "      <td>0</td>\n",
       "    </tr>\n",
       "    <tr>\n",
       "      <th>25</th>\n",
       "      <td>2</td>\n",
       "      <td>0</td>\n",
       "      <td>3</td>\n",
       "    </tr>\n",
       "    <tr>\n",
       "      <th>28</th>\n",
       "      <td>1</td>\n",
       "      <td>1</td>\n",
       "      <td>3</td>\n",
       "    </tr>\n",
       "    <tr>\n",
       "      <th>29</th>\n",
       "      <td>3</td>\n",
       "      <td>0</td>\n",
       "      <td>2</td>\n",
       "    </tr>\n",
       "    <tr>\n",
       "      <th>30</th>\n",
       "      <td>3</td>\n",
       "      <td>1</td>\n",
       "      <td>0</td>\n",
       "    </tr>\n",
       "    <tr>\n",
       "      <th>32</th>\n",
       "      <td>6</td>\n",
       "      <td>0</td>\n",
       "      <td>5</td>\n",
       "    </tr>\n",
       "    <tr>\n",
       "      <th>33</th>\n",
       "      <td>6</td>\n",
       "      <td>0</td>\n",
       "      <td>6</td>\n",
       "    </tr>\n",
       "    <tr>\n",
       "      <th>34</th>\n",
       "      <td>6</td>\n",
       "      <td>0</td>\n",
       "      <td>0</td>\n",
       "    </tr>\n",
       "    <tr>\n",
       "      <th>...</th>\n",
       "      <td>...</td>\n",
       "      <td>...</td>\n",
       "      <td>...</td>\n",
       "    </tr>\n",
       "    <tr>\n",
       "      <th>4071000</th>\n",
       "      <td>0</td>\n",
       "      <td>0</td>\n",
       "      <td>0</td>\n",
       "    </tr>\n",
       "    <tr>\n",
       "      <th>4071001</th>\n",
       "      <td>1</td>\n",
       "      <td>0</td>\n",
       "      <td>0</td>\n",
       "    </tr>\n",
       "    <tr>\n",
       "      <th>4071004</th>\n",
       "      <td>0</td>\n",
       "      <td>0</td>\n",
       "      <td>0</td>\n",
       "    </tr>\n",
       "    <tr>\n",
       "      <th>4071008</th>\n",
       "      <td>0</td>\n",
       "      <td>0</td>\n",
       "      <td>0</td>\n",
       "    </tr>\n",
       "    <tr>\n",
       "      <th>4071009</th>\n",
       "      <td>1</td>\n",
       "      <td>0</td>\n",
       "      <td>0</td>\n",
       "    </tr>\n",
       "    <tr>\n",
       "      <th>4071012</th>\n",
       "      <td>0</td>\n",
       "      <td>0</td>\n",
       "      <td>0</td>\n",
       "    </tr>\n",
       "    <tr>\n",
       "      <th>4071013</th>\n",
       "      <td>1</td>\n",
       "      <td>0</td>\n",
       "      <td>0</td>\n",
       "    </tr>\n",
       "    <tr>\n",
       "      <th>4071016</th>\n",
       "      <td>0</td>\n",
       "      <td>0</td>\n",
       "      <td>0</td>\n",
       "    </tr>\n",
       "    <tr>\n",
       "      <th>4071020</th>\n",
       "      <td>0</td>\n",
       "      <td>0</td>\n",
       "      <td>0</td>\n",
       "    </tr>\n",
       "    <tr>\n",
       "      <th>4071024</th>\n",
       "      <td>0</td>\n",
       "      <td>0</td>\n",
       "      <td>0</td>\n",
       "    </tr>\n",
       "    <tr>\n",
       "      <th>4071025</th>\n",
       "      <td>1</td>\n",
       "      <td>0</td>\n",
       "      <td>0</td>\n",
       "    </tr>\n",
       "    <tr>\n",
       "      <th>4071028</th>\n",
       "      <td>0</td>\n",
       "      <td>0</td>\n",
       "      <td>0</td>\n",
       "    </tr>\n",
       "    <tr>\n",
       "      <th>4071032</th>\n",
       "      <td>1</td>\n",
       "      <td>0</td>\n",
       "      <td>0</td>\n",
       "    </tr>\n",
       "    <tr>\n",
       "      <th>4071033</th>\n",
       "      <td>0</td>\n",
       "      <td>0</td>\n",
       "      <td>0</td>\n",
       "    </tr>\n",
       "    <tr>\n",
       "      <th>4071034</th>\n",
       "      <td>0</td>\n",
       "      <td>0</td>\n",
       "      <td>0</td>\n",
       "    </tr>\n",
       "    <tr>\n",
       "      <th>4071035</th>\n",
       "      <td>1</td>\n",
       "      <td>0</td>\n",
       "      <td>0</td>\n",
       "    </tr>\n",
       "    <tr>\n",
       "      <th>4071036</th>\n",
       "      <td>1</td>\n",
       "      <td>0</td>\n",
       "      <td>0</td>\n",
       "    </tr>\n",
       "    <tr>\n",
       "      <th>4071037</th>\n",
       "      <td>0</td>\n",
       "      <td>0</td>\n",
       "      <td>0</td>\n",
       "    </tr>\n",
       "    <tr>\n",
       "      <th>4071038</th>\n",
       "      <td>0</td>\n",
       "      <td>0</td>\n",
       "      <td>0</td>\n",
       "    </tr>\n",
       "    <tr>\n",
       "      <th>4071040</th>\n",
       "      <td>0</td>\n",
       "      <td>0</td>\n",
       "      <td>0</td>\n",
       "    </tr>\n",
       "    <tr>\n",
       "      <th>4071041</th>\n",
       "      <td>0</td>\n",
       "      <td>0</td>\n",
       "      <td>0</td>\n",
       "    </tr>\n",
       "    <tr>\n",
       "      <th>4071042</th>\n",
       "      <td>1</td>\n",
       "      <td>0</td>\n",
       "      <td>0</td>\n",
       "    </tr>\n",
       "    <tr>\n",
       "      <th>4071043</th>\n",
       "      <td>1</td>\n",
       "      <td>0</td>\n",
       "      <td>0</td>\n",
       "    </tr>\n",
       "    <tr>\n",
       "      <th>4071045</th>\n",
       "      <td>0</td>\n",
       "      <td>0</td>\n",
       "      <td>0</td>\n",
       "    </tr>\n",
       "    <tr>\n",
       "      <th>4071048</th>\n",
       "      <td>2</td>\n",
       "      <td>0</td>\n",
       "      <td>1</td>\n",
       "    </tr>\n",
       "    <tr>\n",
       "      <th>4071049</th>\n",
       "      <td>2</td>\n",
       "      <td>0</td>\n",
       "      <td>1</td>\n",
       "    </tr>\n",
       "    <tr>\n",
       "      <th>4071054</th>\n",
       "      <td>5</td>\n",
       "      <td>0</td>\n",
       "      <td>2</td>\n",
       "    </tr>\n",
       "    <tr>\n",
       "      <th>4071055</th>\n",
       "      <td>5</td>\n",
       "      <td>0</td>\n",
       "      <td>2</td>\n",
       "    </tr>\n",
       "    <tr>\n",
       "      <th>4071063</th>\n",
       "      <td>0</td>\n",
       "      <td>0</td>\n",
       "      <td>0</td>\n",
       "    </tr>\n",
       "    <tr>\n",
       "      <th>4071064</th>\n",
       "      <td>0</td>\n",
       "      <td>0</td>\n",
       "      <td>0</td>\n",
       "    </tr>\n",
       "  </tbody>\n",
       "</table>\n",
       "<p>1923796 rows × 3 columns</p>\n",
       "</div>"
      ],
      "text/plain": [
       "          *  **  ***\n",
       "0         2   0    0\n",
       "1         2   0    0\n",
       "2         2   0    0\n",
       "3         2   0    0\n",
       "4         2   0    0\n",
       "6         5   0    2\n",
       "7         2   0    3\n",
       "8        10   1    1\n",
       "9        10   1    1\n",
       "10        1   1    3\n",
       "11        3   0    2\n",
       "12        3   1    0\n",
       "13        5   0    2\n",
       "14        6   0    5\n",
       "15        6   0    6\n",
       "16        6   0    0\n",
       "17        1   1    3\n",
       "18        0   0    0\n",
       "19        3   1    0\n",
       "20        1   0    1\n",
       "21        2   0    3\n",
       "22        3   0    2\n",
       "23        6   0    0\n",
       "25        2   0    3\n",
       "28        1   1    3\n",
       "29        3   0    2\n",
       "30        3   1    0\n",
       "32        6   0    5\n",
       "33        6   0    6\n",
       "34        6   0    0\n",
       "...      ..  ..  ...\n",
       "4071000   0   0    0\n",
       "4071001   1   0    0\n",
       "4071004   0   0    0\n",
       "4071008   0   0    0\n",
       "4071009   1   0    0\n",
       "4071012   0   0    0\n",
       "4071013   1   0    0\n",
       "4071016   0   0    0\n",
       "4071020   0   0    0\n",
       "4071024   0   0    0\n",
       "4071025   1   0    0\n",
       "4071028   0   0    0\n",
       "4071032   1   0    0\n",
       "4071033   0   0    0\n",
       "4071034   0   0    0\n",
       "4071035   1   0    0\n",
       "4071036   1   0    0\n",
       "4071037   0   0    0\n",
       "4071038   0   0    0\n",
       "4071040   0   0    0\n",
       "4071041   0   0    0\n",
       "4071042   1   0    0\n",
       "4071043   1   0    0\n",
       "4071045   0   0    0\n",
       "4071048   2   0    1\n",
       "4071049   2   0    1\n",
       "4071054   5   0    2\n",
       "4071055   5   0    2\n",
       "4071063   0   0    0\n",
       "4071064   0   0    0\n",
       "\n",
       "[1923796 rows x 3 columns]"
      ]
     },
     "execution_count": 95,
     "metadata": {},
     "output_type": "execute_result"
    }
   ],
   "source": [
    "y"
   ]
  },
  {
   "cell_type": "code",
   "execution_count": 96,
   "metadata": {
    "collapsed": false
   },
   "outputs": [],
   "source": [
    "from sklearn.linear_model import Ridge\n",
    "ols = Ridge()\n",
    "model = ols.fit(X,y)"
   ]
  },
  {
   "cell_type": "code",
   "execution_count": 97,
   "metadata": {
    "collapsed": false
   },
   "outputs": [
    {
     "data": {
      "text/plain": [
       "0.0002998757026423382"
      ]
     },
     "execution_count": 97,
     "metadata": {},
     "output_type": "execute_result"
    }
   ],
   "source": [
    "model.score(X,y)"
   ]
  },
  {
   "cell_type": "code",
   "execution_count": 100,
   "metadata": {
    "collapsed": false
   },
   "outputs": [
    {
     "ename": "AttributeError",
     "evalue": "'module' object has no attribute 'scatter'",
     "output_type": "error",
     "traceback": [
      "\u001b[0;31m---------------------------------------------------------------------------\u001b[0m",
      "\u001b[0;31mAttributeError\u001b[0m                            Traceback (most recent call last)",
      "\u001b[0;32m<ipython-input-100-d0b7f2b91ff9>\u001b[0m in \u001b[0;36m<module>\u001b[0;34m()\u001b[0m\n\u001b[0;32m----> 1\u001b[0;31m \u001b[0msns\u001b[0m\u001b[0;34m.\u001b[0m\u001b[0mscatter\u001b[0m\u001b[0;34m(\u001b[0m\u001b[0mX\u001b[0m\u001b[0;34m[\u001b[0m\u001b[0;34m'review_text'\u001b[0m\u001b[0;34m]\u001b[0m\u001b[0;34m,\u001b[0m\u001b[0my\u001b[0m\u001b[0;34m,\u001b[0m\u001b[0;34m'.'\u001b[0m\u001b[0;34m)\u001b[0m\u001b[0;34m\u001b[0m\u001b[0m\n\u001b[0m",
      "\u001b[0;31mAttributeError\u001b[0m: 'module' object has no attribute 'scatter'"
     ]
    }
   ],
   "source": [
    "plt.plot(X['review_text'],y,'.')"
   ]
  },
  {
   "cell_type": "code",
   "execution_count": 74,
   "metadata": {
    "collapsed": false
   },
   "outputs": [
    {
     "data": {
      "text/plain": [
       "-0.0015265310264372944"
      ]
     },
     "execution_count": 74,
     "metadata": {},
     "output_type": "execute_result"
    }
   ],
   "source": [
    "from sklearn.cross_validation import cross_val_score\n",
    "np.mean(cross_val_score(Ridge(), X, y, cv=3))"
   ]
  },
  {
   "cell_type": "code",
   "execution_count": 12,
   "metadata": {
    "collapsed": true
   },
   "outputs": [],
   "source": [
    "submission = pd.read_csv(\"data/SubmissionFormat.csv\", index_col=None)"
   ]
  },
  {
   "cell_type": "code",
   "execution_count": 13,
   "metadata": {
    "collapsed": false
   },
   "outputs": [
    {
     "data": {
      "text/html": [
       "<div style=\"max-height:1000px;max-width:1500px;overflow:auto;\">\n",
       "<table border=\"1\" class=\"dataframe\">\n",
       "  <thead>\n",
       "    <tr style=\"text-align: right;\">\n",
       "      <th></th>\n",
       "      <th>id</th>\n",
       "      <th>date</th>\n",
       "      <th>restaurant_id</th>\n",
       "      <th>*</th>\n",
       "      <th>**</th>\n",
       "      <th>***</th>\n",
       "    </tr>\n",
       "  </thead>\n",
       "  <tbody>\n",
       "    <tr>\n",
       "      <th>0</th>\n",
       "      <td>14916</td>\n",
       "      <td>2014-12-17</td>\n",
       "      <td>nkOvZOBW</td>\n",
       "      <td>0</td>\n",
       "      <td>0</td>\n",
       "      <td>0</td>\n",
       "    </tr>\n",
       "    <tr>\n",
       "      <th>1</th>\n",
       "      <td>29767</td>\n",
       "      <td>2013-12-30</td>\n",
       "      <td>WwOaAnOB</td>\n",
       "      <td>0</td>\n",
       "      <td>0</td>\n",
       "      <td>0</td>\n",
       "    </tr>\n",
       "    <tr>\n",
       "      <th>2</th>\n",
       "      <td>29338</td>\n",
       "      <td>2011-04-08</td>\n",
       "      <td>we39kvOk</td>\n",
       "      <td>0</td>\n",
       "      <td>0</td>\n",
       "      <td>0</td>\n",
       "    </tr>\n",
       "    <tr>\n",
       "      <th>3</th>\n",
       "      <td>7219</td>\n",
       "      <td>2013-12-30</td>\n",
       "      <td>dj3d5Xo9</td>\n",
       "      <td>0</td>\n",
       "      <td>0</td>\n",
       "      <td>0</td>\n",
       "    </tr>\n",
       "    <tr>\n",
       "      <th>4</th>\n",
       "      <td>20979</td>\n",
       "      <td>2008-03-31</td>\n",
       "      <td>XJ3rBW3R</td>\n",
       "      <td>0</td>\n",
       "      <td>0</td>\n",
       "      <td>0</td>\n",
       "    </tr>\n",
       "  </tbody>\n",
       "</table>\n",
       "</div>"
      ],
      "text/plain": [
       "      id        date restaurant_id  *  **  ***\n",
       "0  14916  2014-12-17      nkOvZOBW  0   0    0\n",
       "1  29767  2013-12-30      WwOaAnOB  0   0    0\n",
       "2  29338  2011-04-08      we39kvOk  0   0    0\n",
       "3   7219  2013-12-30      dj3d5Xo9  0   0    0\n",
       "4  20979  2008-03-31      XJ3rBW3R  0   0    0"
      ]
     },
     "execution_count": 13,
     "metadata": {},
     "output_type": "execute_result"
    }
   ],
   "source": [
    "submission.head()"
   ]
  },
  {
   "cell_type": "code",
   "execution_count": 25,
   "metadata": {
    "collapsed": false
   },
   "outputs": [],
   "source": [
    "X_test, y_test = pull_features(test_df)"
   ]
  },
  {
   "cell_type": "code",
   "execution_count": 29,
   "metadata": {
    "collapsed": false
   },
   "outputs": [
    {
     "data": {
      "text/html": [
       "<div style=\"max-height:1000px;max-width:1500px;overflow:auto;\">\n",
       "<table border=\"1\" class=\"dataframe\">\n",
       "  <thead>\n",
       "    <tr style=\"text-align: right;\">\n",
       "      <th></th>\n",
       "      <th>time_delta</th>\n",
       "      <th>restaurant_id_number</th>\n",
       "      <th>review_text</th>\n",
       "    </tr>\n",
       "  </thead>\n",
       "  <tbody>\n",
       "    <tr>\n",
       "      <th>0</th>\n",
       "      <td>1688</td>\n",
       "      <td>181</td>\n",
       "      <td>417</td>\n",
       "    </tr>\n",
       "    <tr>\n",
       "      <th>1</th>\n",
       "      <td>2680</td>\n",
       "      <td>181</td>\n",
       "      <td>417</td>\n",
       "    </tr>\n",
       "    <tr>\n",
       "      <th>2</th>\n",
       "      <td>596</td>\n",
       "      <td>181</td>\n",
       "      <td>216</td>\n",
       "    </tr>\n",
       "    <tr>\n",
       "      <th>3</th>\n",
       "      <td>1588</td>\n",
       "      <td>181</td>\n",
       "      <td>216</td>\n",
       "    </tr>\n",
       "    <tr>\n",
       "      <th>4</th>\n",
       "      <td>242</td>\n",
       "      <td>181</td>\n",
       "      <td>1241</td>\n",
       "    </tr>\n",
       "  </tbody>\n",
       "</table>\n",
       "</div>"
      ],
      "text/plain": [
       "   time_delta  restaurant_id_number  review_text\n",
       "0        1688                   181          417\n",
       "1        2680                   181          417\n",
       "2         596                   181          216\n",
       "3        1588                   181          216\n",
       "4         242                   181         1241"
      ]
     },
     "execution_count": 29,
     "metadata": {},
     "output_type": "execute_result"
    }
   ],
   "source": [
    "X_test.head()"
   ]
  },
  {
   "cell_type": "code",
   "execution_count": 52,
   "metadata": {
    "collapsed": false
   },
   "outputs": [],
   "source": [
    "predictions = model.predict(X_test)\n",
    "predictions = np.clip(predictions, 0, np.inf)\n",
    "# try clipping after averaging scores also"
   ]
  },
  {
   "cell_type": "code",
   "execution_count": 53,
   "metadata": {
    "collapsed": false
   },
   "outputs": [
    {
     "data": {
      "text/plain": [
       "array([[ 4.5765999 ,  0.39680028,  0.89763117],\n",
       "       [ 4.69370671,  0.41727775,  0.942159  ],\n",
       "       [ 4.44578299,  0.37489109,  0.85489531],\n",
       "       ..., \n",
       "       [ 4.31731072,  0.3800991 ,  0.91125927],\n",
       "       [ 4.42048749,  0.39814075,  0.95049044],\n",
       "       [ 4.43559804,  0.400783  ,  0.95623597]])"
      ]
     },
     "execution_count": 53,
     "metadata": {},
     "output_type": "execute_result"
    }
   ],
   "source": [
    "predictions"
   ]
  },
  {
   "cell_type": "code",
   "execution_count": 33,
   "metadata": {
    "collapsed": true
   },
   "outputs": [],
   "source": [
    "new_submission = data_grab.get_submission().copy()\n",
    "# new_submission.iloc[:, -3:] = predictions.astype(int)\n",
    "# new_submission.to_csv('predictions/'+filename)\n",
    "# train_labels, train_targets = data_grab.get_response()"
   ]
  },
  {
   "cell_type": "code",
   "execution_count": 37,
   "metadata": {
    "collapsed": false
   },
   "outputs": [
    {
     "data": {
      "text/html": [
       "<div style=\"max-height:1000px;max-width:1500px;overflow:auto;\">\n",
       "<table border=\"1\" class=\"dataframe\">\n",
       "  <thead>\n",
       "    <tr style=\"text-align: right;\">\n",
       "      <th></th>\n",
       "      <th>date</th>\n",
       "      <th>restaurant_id</th>\n",
       "      <th>*</th>\n",
       "      <th>**</th>\n",
       "      <th>***</th>\n",
       "    </tr>\n",
       "    <tr>\n",
       "      <th>id</th>\n",
       "      <th></th>\n",
       "      <th></th>\n",
       "      <th></th>\n",
       "      <th></th>\n",
       "      <th></th>\n",
       "    </tr>\n",
       "  </thead>\n",
       "  <tbody>\n",
       "    <tr>\n",
       "      <th>14916</th>\n",
       "      <td>2014-12-17</td>\n",
       "      <td>nkOvZOBW</td>\n",
       "      <td>0</td>\n",
       "      <td>0</td>\n",
       "      <td>0</td>\n",
       "    </tr>\n",
       "    <tr>\n",
       "      <th>29767</th>\n",
       "      <td>2013-12-30</td>\n",
       "      <td>WwOaAnOB</td>\n",
       "      <td>0</td>\n",
       "      <td>0</td>\n",
       "      <td>0</td>\n",
       "    </tr>\n",
       "    <tr>\n",
       "      <th>29338</th>\n",
       "      <td>2011-04-08</td>\n",
       "      <td>we39kvOk</td>\n",
       "      <td>0</td>\n",
       "      <td>0</td>\n",
       "      <td>0</td>\n",
       "    </tr>\n",
       "    <tr>\n",
       "      <th>7219</th>\n",
       "      <td>2013-12-30</td>\n",
       "      <td>dj3d5Xo9</td>\n",
       "      <td>0</td>\n",
       "      <td>0</td>\n",
       "      <td>0</td>\n",
       "    </tr>\n",
       "    <tr>\n",
       "      <th>20979</th>\n",
       "      <td>2008-03-31</td>\n",
       "      <td>XJ3rBW3R</td>\n",
       "      <td>0</td>\n",
       "      <td>0</td>\n",
       "      <td>0</td>\n",
       "    </tr>\n",
       "  </tbody>\n",
       "</table>\n",
       "</div>"
      ],
      "text/plain": [
       "             date restaurant_id  *  **  ***\n",
       "id                                         \n",
       "14916  2014-12-17      nkOvZOBW  0   0    0\n",
       "29767  2013-12-30      WwOaAnOB  0   0    0\n",
       "29338  2011-04-08      we39kvOk  0   0    0\n",
       "7219   2013-12-30      dj3d5Xo9  0   0    0\n",
       "20979  2008-03-31      XJ3rBW3R  0   0    0"
      ]
     },
     "execution_count": 37,
     "metadata": {},
     "output_type": "execute_result"
    }
   ],
   "source": [
    "new_submission.head()"
   ]
  },
  {
   "cell_type": "code",
   "execution_count": 39,
   "metadata": {
    "collapsed": false
   },
   "outputs": [
    {
     "data": {
      "text/plain": [
       "(6772, 5)"
      ]
     },
     "execution_count": 39,
     "metadata": {},
     "output_type": "execute_result"
    }
   ],
   "source": [
    "new_submission.shape"
   ]
  },
  {
   "cell_type": "code",
   "execution_count": 46,
   "metadata": {
    "collapsed": false
   },
   "outputs": [
    {
     "data": {
      "text/plain": [
       "(500885, 3)"
      ]
     },
     "execution_count": 46,
     "metadata": {},
     "output_type": "execute_result"
    }
   ],
   "source": [
    "X_test.shape"
   ]
  },
  {
   "cell_type": "code",
   "execution_count": 51,
   "metadata": {
    "collapsed": false
   },
   "outputs": [
    {
     "data": {
      "text/html": [
       "<div style=\"max-height:1000px;max-width:1500px;overflow:auto;\">\n",
       "<table border=\"1\" class=\"dataframe\">\n",
       "  <thead>\n",
       "    <tr style=\"text-align: right;\">\n",
       "      <th></th>\n",
       "      <th>inspection_date</th>\n",
       "      <th>restaurant_id</th>\n",
       "      <th>inspection_id</th>\n",
       "      <th>restaurant_id_number</th>\n",
       "      <th>*</th>\n",
       "      <th>**</th>\n",
       "      <th>***</th>\n",
       "    </tr>\n",
       "  </thead>\n",
       "  <tbody>\n",
       "    <tr>\n",
       "      <th>0</th>\n",
       "      <td>2010-04-13</td>\n",
       "      <td>6K3lDk3z</td>\n",
       "      <td>18861</td>\n",
       "      <td>181</td>\n",
       "      <td>0</td>\n",
       "      <td>0</td>\n",
       "      <td>0</td>\n",
       "    </tr>\n",
       "    <tr>\n",
       "      <th>1</th>\n",
       "      <td>2012-12-30</td>\n",
       "      <td>6K3lDk3z</td>\n",
       "      <td>2409</td>\n",
       "      <td>181</td>\n",
       "      <td>0</td>\n",
       "      <td>0</td>\n",
       "      <td>0</td>\n",
       "    </tr>\n",
       "    <tr>\n",
       "      <th>2</th>\n",
       "      <td>2010-04-13</td>\n",
       "      <td>6K3lDk3z</td>\n",
       "      <td>18861</td>\n",
       "      <td>181</td>\n",
       "      <td>0</td>\n",
       "      <td>0</td>\n",
       "      <td>0</td>\n",
       "    </tr>\n",
       "    <tr>\n",
       "      <th>3</th>\n",
       "      <td>2012-12-30</td>\n",
       "      <td>6K3lDk3z</td>\n",
       "      <td>2409</td>\n",
       "      <td>181</td>\n",
       "      <td>0</td>\n",
       "      <td>0</td>\n",
       "      <td>0</td>\n",
       "    </tr>\n",
       "    <tr>\n",
       "      <th>4</th>\n",
       "      <td>2010-04-13</td>\n",
       "      <td>6K3lDk3z</td>\n",
       "      <td>18861</td>\n",
       "      <td>181</td>\n",
       "      <td>0</td>\n",
       "      <td>0</td>\n",
       "      <td>0</td>\n",
       "    </tr>\n",
       "  </tbody>\n",
       "</table>\n",
       "</div>"
      ],
      "text/plain": [
       "  inspection_date restaurant_id  inspection_id  restaurant_id_number  *  **  \\\n",
       "0      2010-04-13      6K3lDk3z          18861                   181  0   0   \n",
       "1      2012-12-30      6K3lDk3z           2409                   181  0   0   \n",
       "2      2010-04-13      6K3lDk3z          18861                   181  0   0   \n",
       "3      2012-12-30      6K3lDk3z           2409                   181  0   0   \n",
       "4      2010-04-13      6K3lDk3z          18861                   181  0   0   \n",
       "\n",
       "   ***  \n",
       "0    0  \n",
       "1    0  \n",
       "2    0  \n",
       "3    0  \n",
       "4    0  "
      ]
     },
     "execution_count": 51,
     "metadata": {},
     "output_type": "execute_result"
    }
   ],
   "source": [
    "test_df[['inspection_date', 'restaurant_id', 'inspection_id', 'restaurant_id_number', '*', '**', '***']].head()"
   ]
  },
  {
   "cell_type": "code",
   "execution_count": null,
   "metadata": {
    "collapsed": true
   },
   "outputs": [],
   "source": [
    "# predict\n",
    "# make sure the restaurant_id_number matches to the same restaurant id in both train and test\n",
    "# is it bad for the restauant id to be counted as a feature in the regression?\n",
    "# why is test_df bigger than the submission set?\n",
    "# make sure that all of the submission restaurants are in the training set\n",
    "# make plot for 1, 2, and 3 star separately for each change in feature and plot features alone too"
   ]
  },
  {
   "cell_type": "code",
   "execution_count": 113,
   "metadata": {
    "collapsed": false
   },
   "outputs": [
    {
     "data": {
      "text/plain": [
       "array([1438,  946, 1700, ..., 1688, 1376,  704])"
      ]
     },
     "execution_count": 113,
     "metadata": {},
     "output_type": "execute_result"
    }
   ],
   "source": [
    "restaurant_cats.categories.get_indexer(submission.restaurant_id)"
   ]
  },
  {
   "cell_type": "code",
   "execution_count": 45,
   "metadata": {
    "collapsed": false
   },
   "outputs": [
    {
     "data": {
      "text/plain": [
       "restaurant_id                       object\n",
       "review_date                 datetime64[ns]\n",
       "tip_likes                          float64\n",
       "review_id                           object\n",
       "review_stars                       float64\n",
       "review_text                         object\n",
       "review_type                         object\n",
       "user_id                             object\n",
       "review_votes                        object\n",
       "user_average_stars                 float64\n",
       "user_compliments                    object\n",
       "user_elite                          object\n",
       "user_fans                            int64\n",
       "user_friends                        object\n",
       "user_name                           object\n",
       "user_review_count                    int64\n",
       "user_type                           object\n",
       "user_votes                          object\n",
       "user_yelping_since                  object\n",
       "restaurant_attributes               object\n",
       "restaurant_categories               object\n",
       "restaurant_city                     object\n",
       "restaurant_full_address             object\n",
       "restaurant_hours                    object\n",
       "restaurant_latitude                float64\n",
       "restaurant_longitude               float64\n",
       "restaurant_name                     object\n",
       "restaurant_neighborhoods            object\n",
       "restaurant_open                       bool\n",
       "restaurant_review_count              int64\n",
       "restaurant_stars                   float64\n",
       "restaurant_state                    object\n",
       "restaurant_type                     object\n",
       "checkin_info                        object\n",
       "checkin_type                        object\n",
       "inspection_id                        int64\n",
       "inspection_date             datetime64[ns]\n",
       "*                                    int64\n",
       "**                                   int64\n",
       "***                                  int64\n",
       "time_delta                         float64\n",
       "restaurant_id_number                 int16\n",
       "dtype: object"
      ]
     },
     "execution_count": 45,
     "metadata": {},
     "output_type": "execute_result"
    }
   ],
   "source": [
    "train_df.dtypes"
   ]
  },
  {
   "cell_type": "code",
   "execution_count": null,
   "metadata": {
    "collapsed": false
   },
   "outputs": [],
   "source": []
  },
  {
   "cell_type": "code",
   "execution_count": null,
   "metadata": {
    "collapsed": true
   },
   "outputs": [],
   "source": []
  },
  {
   "cell_type": "code",
   "execution_count": 65,
   "metadata": {
    "collapsed": false
   },
   "outputs": [
    {
     "data": {
      "text/plain": [
       "<matplotlib.axes._subplots.AxesSubplot at 0x10e3ba550>"
      ]
     },
     "execution_count": 65,
     "metadata": {},
     "output_type": "execute_result"
    },
    {
     "data": {
      "image/png": "[encoded data removed]",
      "text/plain": [
       "<matplotlib.figure.Figure at 0x1795dbb10>"
      ]
     },
     "metadata": {},
     "output_type": "display_data"
    }
   ],
   "source": [
    "training_response.restaurant_id.value_counts().hist()"
   ]
  },
  {
   "cell_type": "code",
   "execution_count": 60,
   "metadata": {
    "collapsed": false
   },
   "outputs": [
    {
     "data": {
      "text/html": [
       "<div style=\"max-height:1000px;max-width:1500px;overflow:auto;\">\n",
       "<table border=\"1\" class=\"dataframe\">\n",
       "  <thead>\n",
       "    <tr style=\"text-align: right;\">\n",
       "      <th></th>\n",
       "      <th>inspection_id</th>\n",
       "      <th>*</th>\n",
       "      <th>**</th>\n",
       "      <th>***</th>\n",
       "    </tr>\n",
       "    <tr>\n",
       "      <th>restaurant_id</th>\n",
       "      <th></th>\n",
       "      <th></th>\n",
       "      <th></th>\n",
       "      <th></th>\n",
       "    </tr>\n",
       "  </thead>\n",
       "  <tbody>\n",
       "    <tr>\n",
       "      <th>0ZED0WED</th>\n",
       "      <td>409835</td>\n",
       "      <td>106</td>\n",
       "      <td>20</td>\n",
       "      <td>29</td>\n",
       "    </tr>\n",
       "    <tr>\n",
       "      <th>0ZED1B3D</th>\n",
       "      <td>213682</td>\n",
       "      <td>37</td>\n",
       "      <td>5</td>\n",
       "      <td>9</td>\n",
       "    </tr>\n",
       "    <tr>\n",
       "      <th>0ZED4ED9</th>\n",
       "      <td>113417</td>\n",
       "      <td>40</td>\n",
       "      <td>0</td>\n",
       "      <td>5</td>\n",
       "    </tr>\n",
       "    <tr>\n",
       "      <th>0ZED4pED</th>\n",
       "      <td>325997</td>\n",
       "      <td>132</td>\n",
       "      <td>20</td>\n",
       "      <td>40</td>\n",
       "    </tr>\n",
       "    <tr>\n",
       "      <th>0ZED543D</th>\n",
       "      <td>108885</td>\n",
       "      <td>35</td>\n",
       "      <td>8</td>\n",
       "      <td>0</td>\n",
       "    </tr>\n",
       "    <tr>\n",
       "      <th>0ZED6loD</th>\n",
       "      <td>73468</td>\n",
       "      <td>12</td>\n",
       "      <td>0</td>\n",
       "      <td>3</td>\n",
       "    </tr>\n",
       "    <tr>\n",
       "      <th>0ZED7GOD</th>\n",
       "      <td>250998</td>\n",
       "      <td>19</td>\n",
       "      <td>3</td>\n",
       "      <td>9</td>\n",
       "    </tr>\n",
       "    <tr>\n",
       "      <th>0ZED8pED</th>\n",
       "      <td>277832</td>\n",
       "      <td>81</td>\n",
       "      <td>2</td>\n",
       "      <td>18</td>\n",
       "    </tr>\n",
       "    <tr>\n",
       "      <th>0ZED9B3D</th>\n",
       "      <td>233606</td>\n",
       "      <td>2</td>\n",
       "      <td>0</td>\n",
       "      <td>2</td>\n",
       "    </tr>\n",
       "    <tr>\n",
       "      <th>0ZEDAB3D</th>\n",
       "      <td>355045</td>\n",
       "      <td>117</td>\n",
       "      <td>12</td>\n",
       "      <td>11</td>\n",
       "    </tr>\n",
       "    <tr>\n",
       "      <th>0ZEDBxoD</th>\n",
       "      <td>594425</td>\n",
       "      <td>145</td>\n",
       "      <td>5</td>\n",
       "      <td>21</td>\n",
       "    </tr>\n",
       "    <tr>\n",
       "      <th>0ZEDD8ED</th>\n",
       "      <td>260948</td>\n",
       "      <td>104</td>\n",
       "      <td>10</td>\n",
       "      <td>21</td>\n",
       "    </tr>\n",
       "    <tr>\n",
       "      <th>0ZEDGWOD</th>\n",
       "      <td>605813</td>\n",
       "      <td>266</td>\n",
       "      <td>28</td>\n",
       "      <td>43</td>\n",
       "    </tr>\n",
       "    <tr>\n",
       "      <th>0ZEDKkOD</th>\n",
       "      <td>217880</td>\n",
       "      <td>35</td>\n",
       "      <td>3</td>\n",
       "      <td>4</td>\n",
       "    </tr>\n",
       "    <tr>\n",
       "      <th>0ZEDL8ED</th>\n",
       "      <td>214822</td>\n",
       "      <td>30</td>\n",
       "      <td>2</td>\n",
       "      <td>5</td>\n",
       "    </tr>\n",
       "    <tr>\n",
       "      <th>0ZEDMl3D</th>\n",
       "      <td>252414</td>\n",
       "      <td>70</td>\n",
       "      <td>11</td>\n",
       "      <td>34</td>\n",
       "    </tr>\n",
       "    <tr>\n",
       "      <th>0ZEDNpoD</th>\n",
       "      <td>142652</td>\n",
       "      <td>24</td>\n",
       "      <td>1</td>\n",
       "      <td>7</td>\n",
       "    </tr>\n",
       "    <tr>\n",
       "      <th>0ZEDPkED</th>\n",
       "      <td>417525</td>\n",
       "      <td>167</td>\n",
       "      <td>24</td>\n",
       "      <td>42</td>\n",
       "    </tr>\n",
       "    <tr>\n",
       "      <th>0ZEDQG3D</th>\n",
       "      <td>342680</td>\n",
       "      <td>47</td>\n",
       "      <td>4</td>\n",
       "      <td>8</td>\n",
       "    </tr>\n",
       "    <tr>\n",
       "      <th>0ZEDV4oD</th>\n",
       "      <td>25123</td>\n",
       "      <td>0</td>\n",
       "      <td>0</td>\n",
       "      <td>0</td>\n",
       "    </tr>\n",
       "    <tr>\n",
       "      <th>0ZEDWxOD</th>\n",
       "      <td>327740</td>\n",
       "      <td>118</td>\n",
       "      <td>9</td>\n",
       "      <td>22</td>\n",
       "    </tr>\n",
       "    <tr>\n",
       "      <th>0ZEDXGED</th>\n",
       "      <td>265039</td>\n",
       "      <td>12</td>\n",
       "      <td>0</td>\n",
       "      <td>6</td>\n",
       "    </tr>\n",
       "    <tr>\n",
       "      <th>0ZEDYk3D</th>\n",
       "      <td>236730</td>\n",
       "      <td>63</td>\n",
       "      <td>3</td>\n",
       "      <td>6</td>\n",
       "    </tr>\n",
       "    <tr>\n",
       "      <th>0ZEDZ4oD</th>\n",
       "      <td>409514</td>\n",
       "      <td>73</td>\n",
       "      <td>3</td>\n",
       "      <td>49</td>\n",
       "    </tr>\n",
       "    <tr>\n",
       "      <th>0ZEDax3D</th>\n",
       "      <td>190261</td>\n",
       "      <td>29</td>\n",
       "      <td>4</td>\n",
       "      <td>2</td>\n",
       "    </tr>\n",
       "    <tr>\n",
       "      <th>0ZEDbxoD</th>\n",
       "      <td>485458</td>\n",
       "      <td>128</td>\n",
       "      <td>13</td>\n",
       "      <td>36</td>\n",
       "    </tr>\n",
       "    <tr>\n",
       "      <th>0ZEDdkED</th>\n",
       "      <td>374742</td>\n",
       "      <td>96</td>\n",
       "      <td>5</td>\n",
       "      <td>13</td>\n",
       "    </tr>\n",
       "    <tr>\n",
       "      <th>0ZEDeW3D</th>\n",
       "      <td>49874</td>\n",
       "      <td>31</td>\n",
       "      <td>2</td>\n",
       "      <td>14</td>\n",
       "    </tr>\n",
       "    <tr>\n",
       "      <th>0ZEDglOD</th>\n",
       "      <td>60746</td>\n",
       "      <td>6</td>\n",
       "      <td>1</td>\n",
       "      <td>0</td>\n",
       "    </tr>\n",
       "    <tr>\n",
       "      <th>0ZEDj7oD</th>\n",
       "      <td>259255</td>\n",
       "      <td>89</td>\n",
       "      <td>9</td>\n",
       "      <td>31</td>\n",
       "    </tr>\n",
       "    <tr>\n",
       "      <th>...</th>\n",
       "      <td>...</td>\n",
       "      <td>...</td>\n",
       "      <td>...</td>\n",
       "      <td>...</td>\n",
       "    </tr>\n",
       "    <tr>\n",
       "      <th>ydEjDdoW</th>\n",
       "      <td>385556</td>\n",
       "      <td>105</td>\n",
       "      <td>8</td>\n",
       "      <td>30</td>\n",
       "    </tr>\n",
       "    <tr>\n",
       "      <th>ydEjJeEW</th>\n",
       "      <td>94397</td>\n",
       "      <td>10</td>\n",
       "      <td>0</td>\n",
       "      <td>3</td>\n",
       "    </tr>\n",
       "    <tr>\n",
       "      <th>ydEjKB3W</th>\n",
       "      <td>355532</td>\n",
       "      <td>76</td>\n",
       "      <td>1</td>\n",
       "      <td>29</td>\n",
       "    </tr>\n",
       "    <tr>\n",
       "      <th>ydEjLgoW</th>\n",
       "      <td>158390</td>\n",
       "      <td>32</td>\n",
       "      <td>2</td>\n",
       "      <td>2</td>\n",
       "    </tr>\n",
       "    <tr>\n",
       "      <th>ydEjM1OW</th>\n",
       "      <td>353397</td>\n",
       "      <td>243</td>\n",
       "      <td>19</td>\n",
       "      <td>59</td>\n",
       "    </tr>\n",
       "    <tr>\n",
       "      <th>ydEjP1oW</th>\n",
       "      <td>230503</td>\n",
       "      <td>36</td>\n",
       "      <td>2</td>\n",
       "      <td>8</td>\n",
       "    </tr>\n",
       "    <tr>\n",
       "      <th>ydEjQ2OW</th>\n",
       "      <td>472635</td>\n",
       "      <td>195</td>\n",
       "      <td>6</td>\n",
       "      <td>22</td>\n",
       "    </tr>\n",
       "    <tr>\n",
       "      <th>ydEjRdEW</th>\n",
       "      <td>325632</td>\n",
       "      <td>38</td>\n",
       "      <td>3</td>\n",
       "      <td>21</td>\n",
       "    </tr>\n",
       "    <tr>\n",
       "      <th>ydEjV9EW</th>\n",
       "      <td>391303</td>\n",
       "      <td>95</td>\n",
       "      <td>7</td>\n",
       "      <td>8</td>\n",
       "    </tr>\n",
       "    <tr>\n",
       "      <th>ydEjW23W</th>\n",
       "      <td>445498</td>\n",
       "      <td>60</td>\n",
       "      <td>2</td>\n",
       "      <td>20</td>\n",
       "    </tr>\n",
       "    <tr>\n",
       "      <th>ydEjXDoW</th>\n",
       "      <td>276859</td>\n",
       "      <td>62</td>\n",
       "      <td>6</td>\n",
       "      <td>21</td>\n",
       "    </tr>\n",
       "    <tr>\n",
       "      <th>ydEjYdOW</th>\n",
       "      <td>275098</td>\n",
       "      <td>91</td>\n",
       "      <td>12</td>\n",
       "      <td>17</td>\n",
       "    </tr>\n",
       "    <tr>\n",
       "      <th>ydEjZ2EW</th>\n",
       "      <td>147937</td>\n",
       "      <td>46</td>\n",
       "      <td>6</td>\n",
       "      <td>4</td>\n",
       "    </tr>\n",
       "    <tr>\n",
       "      <th>ydEja1OW</th>\n",
       "      <td>102776</td>\n",
       "      <td>13</td>\n",
       "      <td>2</td>\n",
       "      <td>4</td>\n",
       "    </tr>\n",
       "    <tr>\n",
       "      <th>ydEjbBEW</th>\n",
       "      <td>361319</td>\n",
       "      <td>120</td>\n",
       "      <td>0</td>\n",
       "      <td>54</td>\n",
       "    </tr>\n",
       "    <tr>\n",
       "      <th>ydEjdVoW</th>\n",
       "      <td>413548</td>\n",
       "      <td>55</td>\n",
       "      <td>6</td>\n",
       "      <td>24</td>\n",
       "    </tr>\n",
       "    <tr>\n",
       "      <th>ydEjeOW0</th>\n",
       "      <td>421094</td>\n",
       "      <td>219</td>\n",
       "      <td>35</td>\n",
       "      <td>44</td>\n",
       "    </tr>\n",
       "    <tr>\n",
       "      <th>ydEjeeOW</th>\n",
       "      <td>300873</td>\n",
       "      <td>90</td>\n",
       "      <td>9</td>\n",
       "      <td>11</td>\n",
       "    </tr>\n",
       "    <tr>\n",
       "      <th>ydEjgP3W</th>\n",
       "      <td>192934</td>\n",
       "      <td>20</td>\n",
       "      <td>2</td>\n",
       "      <td>0</td>\n",
       "    </tr>\n",
       "    <tr>\n",
       "      <th>ydEjjPEW</th>\n",
       "      <td>299775</td>\n",
       "      <td>67</td>\n",
       "      <td>2</td>\n",
       "      <td>20</td>\n",
       "    </tr>\n",
       "    <tr>\n",
       "      <th>ydEjldoW</th>\n",
       "      <td>439626</td>\n",
       "      <td>96</td>\n",
       "      <td>15</td>\n",
       "      <td>12</td>\n",
       "    </tr>\n",
       "    <tr>\n",
       "      <th>ydEjmVOW</th>\n",
       "      <td>219048</td>\n",
       "      <td>28</td>\n",
       "      <td>7</td>\n",
       "      <td>12</td>\n",
       "    </tr>\n",
       "    <tr>\n",
       "      <th>ydEjnBEW</th>\n",
       "      <td>53071</td>\n",
       "      <td>0</td>\n",
       "      <td>0</td>\n",
       "      <td>0</td>\n",
       "    </tr>\n",
       "    <tr>\n",
       "      <th>ydEjp9oW</th>\n",
       "      <td>217524</td>\n",
       "      <td>61</td>\n",
       "      <td>2</td>\n",
       "      <td>3</td>\n",
       "    </tr>\n",
       "    <tr>\n",
       "      <th>ydEjqgOW</th>\n",
       "      <td>63802</td>\n",
       "      <td>22</td>\n",
       "      <td>0</td>\n",
       "      <td>0</td>\n",
       "    </tr>\n",
       "    <tr>\n",
       "      <th>ydEjrDEW</th>\n",
       "      <td>192934</td>\n",
       "      <td>18</td>\n",
       "      <td>2</td>\n",
       "      <td>12</td>\n",
       "    </tr>\n",
       "    <tr>\n",
       "      <th>ydEjvBEW</th>\n",
       "      <td>404526</td>\n",
       "      <td>27</td>\n",
       "      <td>4</td>\n",
       "      <td>2</td>\n",
       "    </tr>\n",
       "    <tr>\n",
       "      <th>ydEjw23W</th>\n",
       "      <td>93751</td>\n",
       "      <td>12</td>\n",
       "      <td>2</td>\n",
       "      <td>8</td>\n",
       "    </tr>\n",
       "    <tr>\n",
       "      <th>ydEjx9oW</th>\n",
       "      <td>244667</td>\n",
       "      <td>62</td>\n",
       "      <td>1</td>\n",
       "      <td>15</td>\n",
       "    </tr>\n",
       "    <tr>\n",
       "      <th>ydEjz7EW</th>\n",
       "      <td>211487</td>\n",
       "      <td>74</td>\n",
       "      <td>2</td>\n",
       "      <td>5</td>\n",
       "    </tr>\n",
       "  </tbody>\n",
       "</table>\n",
       "<p>1851 rows × 4 columns</p>\n",
       "</div>"
      ],
      "text/plain": [
       "               inspection_id    *  **  ***\n",
       "restaurant_id                             \n",
       "0ZED0WED              409835  106  20   29\n",
       "0ZED1B3D              213682   37   5    9\n",
       "0ZED4ED9              113417   40   0    5\n",
       "0ZED4pED              325997  132  20   40\n",
       "0ZED543D              108885   35   8    0\n",
       "0ZED6loD               73468   12   0    3\n",
       "0ZED7GOD              250998   19   3    9\n",
       "0ZED8pED              277832   81   2   18\n",
       "0ZED9B3D              233606    2   0    2\n",
       "0ZEDAB3D              355045  117  12   11\n",
       "0ZEDBxoD              594425  145   5   21\n",
       "0ZEDD8ED              260948  104  10   21\n",
       "0ZEDGWOD              605813  266  28   43\n",
       "0ZEDKkOD              217880   35   3    4\n",
       "0ZEDL8ED              214822   30   2    5\n",
       "0ZEDMl3D              252414   70  11   34\n",
       "0ZEDNpoD              142652   24   1    7\n",
       "0ZEDPkED              417525  167  24   42\n",
       "0ZEDQG3D              342680   47   4    8\n",
       "0ZEDV4oD               25123    0   0    0\n",
       "0ZEDWxOD              327740  118   9   22\n",
       "0ZEDXGED              265039   12   0    6\n",
       "0ZEDYk3D              236730   63   3    6\n",
       "0ZEDZ4oD              409514   73   3   49\n",
       "0ZEDax3D              190261   29   4    2\n",
       "0ZEDbxoD              485458  128  13   36\n",
       "0ZEDdkED              374742   96   5   13\n",
       "0ZEDeW3D               49874   31   2   14\n",
       "0ZEDglOD               60746    6   1    0\n",
       "0ZEDj7oD              259255   89   9   31\n",
       "...                      ...  ...  ..  ...\n",
       "ydEjDdoW              385556  105   8   30\n",
       "ydEjJeEW               94397   10   0    3\n",
       "ydEjKB3W              355532   76   1   29\n",
       "ydEjLgoW              158390   32   2    2\n",
       "ydEjM1OW              353397  243  19   59\n",
       "ydEjP1oW              230503   36   2    8\n",
       "ydEjQ2OW              472635  195   6   22\n",
       "ydEjRdEW              325632   38   3   21\n",
       "ydEjV9EW              391303   95   7    8\n",
       "ydEjW23W              445498   60   2   20\n",
       "ydEjXDoW              276859   62   6   21\n",
       "ydEjYdOW              275098   91  12   17\n",
       "ydEjZ2EW              147937   46   6    4\n",
       "ydEja1OW              102776   13   2    4\n",
       "ydEjbBEW              361319  120   0   54\n",
       "ydEjdVoW              413548   55   6   24\n",
       "ydEjeOW0              421094  219  35   44\n",
       "ydEjeeOW              300873   90   9   11\n",
       "ydEjgP3W              192934   20   2    0\n",
       "ydEjjPEW              299775   67   2   20\n",
       "ydEjldoW              439626   96  15   12\n",
       "ydEjmVOW              219048   28   7   12\n",
       "ydEjnBEW               53071    0   0    0\n",
       "ydEjp9oW              217524   61   2    3\n",
       "ydEjqgOW               63802   22   0    0\n",
       "ydEjrDEW              192934   18   2   12\n",
       "ydEjvBEW              404526   27   4    2\n",
       "ydEjw23W               93751   12   2    8\n",
       "ydEjx9oW              244667   62   1   15\n",
       "ydEjz7EW              211487   74   2    5\n",
       "\n",
       "[1851 rows x 4 columns]"
      ]
     },
     "execution_count": 60,
     "metadata": {},
     "output_type": "execute_result"
    }
   ],
   "source": [
    "training_response.groupby('restaurant_id').sum()"
   ]
  },
  {
   "cell_type": "code",
   "execution_count": 68,
   "metadata": {
    "collapsed": false
   },
   "outputs": [
    {
     "data": {
      "text/plain": [
       "<seaborn.axisgrid.FacetGrid at 0x1349622d0>"
      ]
     },
     "execution_count": 68,
     "metadata": {},
     "output_type": "execute_result"
    },
    {
     "data": {
      "image/png": "[encoded data removed]",
      "text/plain": [
       "<matplotlib.figure.Figure at 0x1337da190>"
      ]
     },
     "metadata": {},
     "output_type": "display_data"
    }
   ],
   "source": [
    "sns.factorplot('inspection_date', '***', data=training_response[training_response.restaurant_id == '1JEbamOR'].sort('inspection_date'), size=5)"
   ]
  }
 ],
 "metadata": {
  "kernelspec": {
   "display_name": "Python 2",
   "language": "python",
   "name": "python2"
  },
  "language_info": {
   "codemirror_mode": {
    "name": "ipython",
    "version": 2
   },
   "file_extension": ".py",
   "mimetype": "text/x-python",
   "name": "python",
   "nbconvert_exporter": "python",
   "pygments_lexer": "ipython2",
   "version": "2.7.9"
  }
 },
 "nbformat": 4,
 "nbformat_minor": 0
}
