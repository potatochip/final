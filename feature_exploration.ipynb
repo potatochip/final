{
 "cells": [
  {
   "cell_type": "code",
   "execution_count": 63,
   "metadata": {
    "collapsed": true
   },
   "outputs": [],
   "source": [
    "%matplotlib inline\n",
    "\n",
    "import numpy as np\n",
    "import pandas as pd\n",
    "import seaborn as sns\n",
    "import matplotlib.pyplot as plt\n",
    "from pandas.io.json import json_normalize\n",
    "import json\n",
    "\n",
    "plt.rcParams[\"figure.figsize\"] = (10, 8)"
   ]
  },
  {
   "cell_type": "code",
   "execution_count": 3,
   "metadata": {
    "collapsed": true
   },
   "outputs": [],
   "source": [
    "def byteify(input):\n",
    "    if isinstance(input, dict):\n",
    "        return {byteify(key):byteify(value) for key,value in input.iteritems()}\n",
    "    elif isinstance(input, list):\n",
    "        return [byteify(element) for element in input]\n",
    "    elif isinstance(input, unicode):\n",
    "        return input.encode('utf-8')\n",
    "    else:\n",
    "        return input"
   ]
  },
  {
   "cell_type": "code",
   "execution_count": 4,
   "metadata": {
    "collapsed": false
   },
   "outputs": [],
   "source": [
    "data = []\n",
    "with open(\"data/yelp_academic_dataset_review.json\", 'r') as f:\n",
    "    for line in f:\n",
    "        data.append(byteify(json.loads(line)))\n",
    "reviews = json_normalize(data)"
   ]
  },
  {
   "cell_type": "code",
   "execution_count": 5,
   "metadata": {
    "collapsed": true
   },
   "outputs": [],
   "source": [
    "data = []\n",
    "with open(\"data/yelp_academic_dataset_tip.json\", 'r') as f:\n",
    "    for line in f:\n",
    "        data.append(byteify(json.loads(line)))\n",
    "tips = json_normalize(data)"
   ]
  },
  {
   "cell_type": "code",
   "execution_count": 64,
   "metadata": {
    "collapsed": false
   },
   "outputs": [
    {
     "data": {
      "text/plain": [
       "{'business_id', 'date', 'text', 'type', 'user_id'}"
      ]
     },
     "execution_count": 64,
     "metadata": {},
     "output_type": "execute_result"
    }
   ],
   "source": [
    "set(reviews.columns.tolist()).intersection(tips.columns.tolist())"
   ]
  },
  {
   "cell_type": "code",
   "execution_count": 6,
   "metadata": {
    "collapsed": false
   },
   "outputs": [
    {
     "data": {
      "text/plain": [
       "(230371, 10)"
      ]
     },
     "execution_count": 6,
     "metadata": {},
     "output_type": "execute_result"
    }
   ],
   "source": [
    "reviews.shape"
   ]
  },
  {
   "cell_type": "code",
   "execution_count": 66,
   "metadata": {
    "collapsed": false
   },
   "outputs": [
    {
     "data": {
      "text/plain": [
       "(24072, 6)"
      ]
     },
     "execution_count": 66,
     "metadata": {},
     "output_type": "execute_result"
    }
   ],
   "source": [
    "tips.shape"
   ]
  },
  {
   "cell_type": "code",
   "execution_count": 67,
   "metadata": {
    "collapsed": false
   },
   "outputs": [],
   "source": [
    "# some nan's will exist because of this where reviews columns and tips columns don't match up\n",
    "reviews_tips = reviews.append(tips)"
   ]
  },
  {
   "cell_type": "code",
   "execution_count": 68,
   "metadata": {
    "collapsed": false
   },
   "outputs": [
    {
     "data": {
      "text/plain": [
       "(254443, 11)"
      ]
     },
     "execution_count": 68,
     "metadata": {},
     "output_type": "execute_result"
    }
   ],
   "source": [
    "reviews_tips.shape"
   ]
  },
  {
   "cell_type": "code",
   "execution_count": 69,
   "metadata": {
    "collapsed": false
   },
   "outputs": [
    {
     "data": {
      "text/plain": [
       "Index([u'business_id', u'date', u'likes', u'review_id', u'stars', u'text',\n",
       "       u'type', u'user_id', u'votes.cool', u'votes.funny', u'votes.useful'],\n",
       "      dtype='object')"
      ]
     },
     "execution_count": 69,
     "metadata": {},
     "output_type": "execute_result"
    }
   ],
   "source": [
    "reviews_tips.columns"
   ]
  },
  {
   "cell_type": "code",
   "execution_count": 70,
   "metadata": {
    "collapsed": false
   },
   "outputs": [],
   "source": [
    "reviews_tips.columns = [u'restaurant_id', u'review_date', u'tip_likes', u'review_id', u'review_stars', u'review_text', u'review_type', u'user_id', u'review_votes.cool', u'review_votes.funny', u'review_votes.useful']"
   ]
  },
  {
   "cell_type": "code",
   "execution_count": 71,
   "metadata": {
    "collapsed": false
   },
   "outputs": [],
   "source": [
    "data = []\n",
    "with open(\"data/yelp_academic_dataset_user.json\", 'r') as f:\n",
    "    for line in f:\n",
    "        data.append(byteify(json.loads(line)))\n",
    "users = json_normalize(data)"
   ]
  },
  {
   "cell_type": "code",
   "execution_count": 72,
   "metadata": {
    "collapsed": false
   },
   "outputs": [],
   "source": [
    "users.columns = [u'user_average_stars', u'user_compliments.cool', u'user_compliments.cute', u'user_compliments.funny', u'user_compliments.hot', u'user_compliments.list', u'user_compliments.more', u'user_compliments.note', u'user_compliments.photos', u'user_compliments.plain', u'user_compliments.profile', u'user_compliments.writer', u'user_elite', u'user_fans', u'user_friends', u'user_name', u'user_review_count', u'user_type', u'user_id', u'user_votes.cool', u'user_votes.funny', u'user_votes.useful', u'user_yelping_since']"
   ]
  },
  {
   "cell_type": "code",
   "execution_count": 73,
   "metadata": {
    "collapsed": false
   },
   "outputs": [
    {
     "data": {
      "text/plain": [
       "{u'user_id'}"
      ]
     },
     "execution_count": 73,
     "metadata": {},
     "output_type": "execute_result"
    }
   ],
   "source": [
    "set(reviews_tips.columns.tolist()).intersection(users.columns.tolist())"
   ]
  },
  {
   "cell_type": "code",
   "execution_count": 49,
   "metadata": {
    "collapsed": false
   },
   "outputs": [
    {
     "ename": "NameError",
     "evalue": "name 'users' is not defined",
     "output_type": "error",
     "traceback": [
      "\u001b[0;31m---------------------------------------------------------------------------\u001b[0m",
      "\u001b[0;31mNameError\u001b[0m                                 Traceback (most recent call last)",
      "\u001b[0;32m<ipython-input-49-d0fb63b6c43e>\u001b[0m in \u001b[0;36m<module>\u001b[0;34m()\u001b[0m\n\u001b[0;32m----> 1\u001b[0;31m \u001b[0musers\u001b[0m\u001b[0;34m.\u001b[0m\u001b[0mshape\u001b[0m\u001b[0;34m\u001b[0m\u001b[0m\n\u001b[0m",
      "\u001b[0;31mNameError\u001b[0m: name 'users' is not defined"
     ]
    }
   ],
   "source": [
    "users.shape"
   ]
  },
  {
   "cell_type": "code",
   "execution_count": 62,
   "metadata": {
    "collapsed": false
   },
   "outputs": [
    {
     "ename": "InvalidDocument",
     "evalue": "key 'votes.cool' must not contain '.'",
     "output_type": "error",
     "traceback": [
      "\u001b[0;31m---------------------------------------------------------------------------\u001b[0m",
      "\u001b[0;31mInvalidDocument\u001b[0m                           Traceback (most recent call last)",
      "\u001b[0;32m<ipython-input-62-2722f7bd0e02>\u001b[0m in \u001b[0;36m<module>\u001b[0;34m()\u001b[0m\n\u001b[1;32m      2\u001b[0m \u001b[0;31m#     db[collection].save(row[1].to_json())\u001b[0m\u001b[0;34m\u001b[0m\u001b[0;34m\u001b[0m\u001b[0m\n\u001b[1;32m      3\u001b[0m \u001b[0;32mfor\u001b[0m \u001b[0mi\u001b[0m \u001b[0;32min\u001b[0m \u001b[0mreviews\u001b[0m\u001b[0;34m.\u001b[0m\u001b[0miterrows\u001b[0m\u001b[0;34m(\u001b[0m\u001b[0;34m)\u001b[0m\u001b[0;34m:\u001b[0m\u001b[0;34m\u001b[0m\u001b[0m\n\u001b[0;32m----> 4\u001b[0;31m     \u001b[0mdb\u001b[0m\u001b[0;34m[\u001b[0m\u001b[0;34m'test'\u001b[0m\u001b[0;34m]\u001b[0m\u001b[0;34m.\u001b[0m\u001b[0msave\u001b[0m\u001b[0;34m(\u001b[0m\u001b[0mjson\u001b[0m\u001b[0;34m.\u001b[0m\u001b[0mloads\u001b[0m\u001b[0;34m(\u001b[0m\u001b[0mi\u001b[0m\u001b[0;34m[\u001b[0m\u001b[0;36m1\u001b[0m\u001b[0;34m]\u001b[0m\u001b[0;34m.\u001b[0m\u001b[0mto_json\u001b[0m\u001b[0;34m(\u001b[0m\u001b[0;34m)\u001b[0m\u001b[0;34m)\u001b[0m\u001b[0;34m)\u001b[0m\u001b[0;34m\u001b[0m\u001b[0m\n\u001b[0m\u001b[1;32m      5\u001b[0m     \u001b[0;32mbreak\u001b[0m\u001b[0;34m\u001b[0m\u001b[0m\n",
      "\u001b[0;32m/Users/amangum/Virtualenvs/metis/lib/python2.7/site-packages/pymongo/collection.pyc\u001b[0m in \u001b[0;36msave\u001b[0;34m(self, to_save, manipulate, check_keys, **kwargs)\u001b[0m\n\u001b[1;32m   1901\u001b[0m             \u001b[0;32mif\u001b[0m \u001b[0;34m\"_id\"\u001b[0m \u001b[0;32mnot\u001b[0m \u001b[0;32min\u001b[0m \u001b[0mto_save\u001b[0m\u001b[0;34m:\u001b[0m\u001b[0;34m\u001b[0m\u001b[0m\n\u001b[1;32m   1902\u001b[0m                 return self._insert(sock_info, to_save, True,\n\u001b[0;32m-> 1903\u001b[0;31m                                     check_keys, manipulate, write_concern)\n\u001b[0m\u001b[1;32m   1904\u001b[0m             \u001b[0;32melse\u001b[0m\u001b[0;34m:\u001b[0m\u001b[0;34m\u001b[0m\u001b[0m\n\u001b[1;32m   1905\u001b[0m                 self._update(sock_info, {\"_id\": to_save[\"_id\"]}, to_save, True,\n",
      "\u001b[0;32m/Users/amangum/Virtualenvs/metis/lib/python2.7/site-packages/pymongo/collection.pyc\u001b[0m in \u001b[0;36m_insert\u001b[0;34m(self, sock_info, docs, ordered, check_keys, manipulate, write_concern)\u001b[0m\n\u001b[1;32m    428\u001b[0m             results = message._do_batched_write_command(\n\u001b[1;32m    429\u001b[0m                 \u001b[0mself\u001b[0m\u001b[0;34m.\u001b[0m\u001b[0mdatabase\u001b[0m\u001b[0;34m.\u001b[0m\u001b[0mname\u001b[0m \u001b[0;34m+\u001b[0m \u001b[0;34m\".$cmd\"\u001b[0m\u001b[0;34m,\u001b[0m \u001b[0m_INSERT\u001b[0m\u001b[0;34m,\u001b[0m \u001b[0mcommand\u001b[0m\u001b[0;34m,\u001b[0m\u001b[0;34m\u001b[0m\u001b[0m\n\u001b[0;32m--> 430\u001b[0;31m                 gen(), check_keys, self.codec_options, sock_info)\n\u001b[0m\u001b[1;32m    431\u001b[0m             \u001b[0m_check_write_command_response\u001b[0m\u001b[0;34m(\u001b[0m\u001b[0mresults\u001b[0m\u001b[0;34m)\u001b[0m\u001b[0;34m\u001b[0m\u001b[0m\n\u001b[1;32m    432\u001b[0m         \u001b[0;32melse\u001b[0m\u001b[0;34m:\u001b[0m\u001b[0;34m\u001b[0m\u001b[0m\n",
      "\u001b[0;31mInvalidDocument\u001b[0m: key 'votes.cool' must not contain '.'"
     ]
    }
   ],
   "source": [
    "# for index, row in enumerate(df.iterrows()):\n",
    "#     db[collection].save(row[1].to_json())\n",
    "for i in reviews.iterrows():\n",
    "    db['test'].save(json.loads(i[1].to_json()))\n",
    "    break"
   ]
  },
  {
   "cell_type": "code",
   "execution_count": 75,
   "metadata": {
    "collapsed": true
   },
   "outputs": [],
   "source": [
    "users_reviews_tips = pd.merge(reviews_tips, users, how='left', on='user_id')"
   ]
  },
  {
   "cell_type": "code",
   "execution_count": 76,
   "metadata": {
    "collapsed": false
   },
   "outputs": [
    {
     "data": {
      "text/plain": [
       "(254443, 33)"
      ]
     },
     "execution_count": 76,
     "metadata": {},
     "output_type": "execute_result"
    }
   ],
   "source": [
    "users_reviews_tips.shape"
   ]
  },
  {
   "cell_type": "code",
   "execution_count": 77,
   "metadata": {
    "collapsed": false
   },
   "outputs": [],
   "source": [
    "data = []\n",
    "with open(\"data/yelp_academic_dataset_business.json\", 'r') as f:\n",
    "    for line in f:\n",
    "        data.append(byteify(json.loads(line)))\n",
    "restaurants = json_normalize(data)"
   ]
  },
  {
   "cell_type": "code",
   "execution_count": 78,
   "metadata": {
    "collapsed": false,
    "scrolled": true
   },
   "outputs": [
    {
     "data": {
      "text/plain": [
       "[u'restaurant_attributes.accepts_credit_cards',\n",
       " u'restaurant_attributes.ages_allowed',\n",
       " u'restaurant_attributes.alcohol',\n",
       " u'restaurant_attributes.ambience.casual',\n",
       " u'restaurant_attributes.ambience.classy',\n",
       " u'restaurant_attributes.ambience.divey',\n",
       " u'restaurant_attributes.ambience.hipster',\n",
       " u'restaurant_attributes.ambience.intimate',\n",
       " u'restaurant_attributes.ambience.romantic',\n",
       " u'restaurant_attributes.ambience.touristy',\n",
       " u'restaurant_attributes.ambience.trendy',\n",
       " u'restaurant_attributes.ambience.upscale',\n",
       " u'restaurant_attributes.attire',\n",
       " u'restaurant_attributes.byob',\n",
       " u'restaurant_attributes.byob/corkage',\n",
       " u'restaurant_attributes.by_appointment_only',\n",
       " u'restaurant_attributes.caters',\n",
       " u'restaurant_attributes.coat_check',\n",
       " u'restaurant_attributes.corkage',\n",
       " u'restaurant_attributes.delivery',\n",
       " u'restaurant_attributes.dietary_restrictions.dairy-free',\n",
       " u'restaurant_attributes.dietary_restrictions.gluten-free',\n",
       " u'restaurant_attributes.dietary_restrictions.halal',\n",
       " u'restaurant_attributes.dietary_restrictions.kosher',\n",
       " u'restaurant_attributes.dietary_restrictions.soy-free',\n",
       " u'restaurant_attributes.dietary_restrictions.vegan',\n",
       " u'restaurant_attributes.dietary_restrictions.vegetarian',\n",
       " u'restaurant_attributes.dogs_allowed',\n",
       " u'restaurant_attributes.drive-thru',\n",
       " u'restaurant_attributes.good_for_dancing',\n",
       " u'restaurant_attributes.good_for_groups',\n",
       " u'restaurant_attributes.good_for_kids',\n",
       " u'restaurant_attributes.good_for.breakfast',\n",
       " u'restaurant_attributes.good_for.brunch',\n",
       " u'restaurant_attributes.good_for.dessert',\n",
       " u'restaurant_attributes.good_for.dinner',\n",
       " u'restaurant_attributes.good_for.latenight',\n",
       " u'restaurant_attributes.good_for.lunch',\n",
       " u'restaurant_attributes.good_for_kids',\n",
       " u'restaurant_attributes.happy_hour',\n",
       " u'restaurant_attributes.has_tv',\n",
       " u'restaurant_attributes.music.background_music',\n",
       " u'restaurant_attributes.music.dj',\n",
       " u'restaurant_attributes.music.jukebox',\n",
       " u'restaurant_attributes.music.karaoke',\n",
       " u'restaurant_attributes.music.live',\n",
       " u'restaurant_attributes.music.video',\n",
       " u'restaurant_attributes.noise_level',\n",
       " u'restaurant_attributes.open_24_hours',\n",
       " u'restaurant_attributes.order_at_counter',\n",
       " u'restaurant_attributes.outdoor_seating',\n",
       " u'restaurant_attributes.parking.garage',\n",
       " u'restaurant_attributes.parking.lot',\n",
       " u'restaurant_attributes.parking.street',\n",
       " u'restaurant_attributes.parking.valet',\n",
       " u'restaurant_attributes.parking.validated',\n",
       " u'restaurant_attributes.payment_types.amex',\n",
       " u'restaurant_attributes.payment_types.cash_only',\n",
       " u'restaurant_attributes.payment_types.discover',\n",
       " u'restaurant_attributes.payment_types.mastercard',\n",
       " u'restaurant_attributes.payment_types.visa',\n",
       " u'restaurant_attributes.price_range',\n",
       " u'restaurant_attributes.smoking',\n",
       " u'restaurant_attributes.take-out',\n",
       " u'restaurant_attributes.takes_reservations',\n",
       " u'restaurant_attributes.waiter_service',\n",
       " u'restaurant_attributes.wheelchair_accessible',\n",
       " u'restaurant_attributes.wi-fi',\n",
       " u'restaurant_business_id',\n",
       " u'restaurant_categories',\n",
       " u'restaurant_city',\n",
       " u'restaurant_full_address',\n",
       " u'restaurant_hours.friday.close',\n",
       " u'restaurant_hours.friday.open',\n",
       " u'restaurant_hours.monday.close',\n",
       " u'restaurant_hours.monday.open',\n",
       " u'restaurant_hours.saturday.close',\n",
       " u'restaurant_hours.saturday.open',\n",
       " u'restaurant_hours.sunday.close',\n",
       " u'restaurant_hours.sunday.open',\n",
       " u'restaurant_hours.thursday.close',\n",
       " u'restaurant_hours.thursday.open',\n",
       " u'restaurant_hours.tuesday.close',\n",
       " u'restaurant_hours.tuesday.open',\n",
       " u'restaurant_hours.wednesday.close',\n",
       " u'restaurant_hours.wednesday.open',\n",
       " u'restaurant_latitude',\n",
       " u'restaurant_longitude',\n",
       " u'restaurant_name',\n",
       " u'restaurant_neighborhoods',\n",
       " u'restaurant_open',\n",
       " u'restaurant_review_count',\n",
       " u'restaurant_stars',\n",
       " u'restaurant_state',\n",
       " u'restaurant_type']"
      ]
     },
     "execution_count": 78,
     "metadata": {},
     "output_type": "execute_result"
    }
   ],
   "source": [
    "['restaurant_'+i.strip().lower().replace(\" \", \"_\") for i in [u'attributes.Accepts Credit Cards',\n",
    "                           u'attributes.Ages Allowed',\n",
    "                                u'attributes.Alcohol',\n",
    "                        u'attributes.Ambience.casual',\n",
    "                        u'attributes.Ambience.classy',\n",
    "                         u'attributes.Ambience.divey',\n",
    "                       u'attributes.Ambience.hipster',\n",
    "                      u'attributes.Ambience.intimate',\n",
    "                      u'attributes.Ambience.romantic',\n",
    "                      u'attributes.Ambience.touristy',\n",
    "                        u'attributes.Ambience.trendy',\n",
    "                       u'attributes.Ambience.upscale',\n",
    "                                 u'attributes.Attire',\n",
    "                                   u'attributes.BYOB',\n",
    "                           u'attributes.BYOB/Corkage',\n",
    "                    u'attributes.By Appointment Only',\n",
    "                                 u'attributes.Caters',\n",
    "                             u'attributes.Coat Check',\n",
    "                                u'attributes.Corkage',\n",
    "                               u'attributes.Delivery',\n",
    "        u'attributes.Dietary Restrictions.dairy-free',\n",
    "       u'attributes.Dietary Restrictions.gluten-free',\n",
    "             u'attributes.Dietary Restrictions.halal',\n",
    "            u'attributes.Dietary Restrictions.kosher',\n",
    "          u'attributes.Dietary Restrictions.soy-free',\n",
    "             u'attributes.Dietary Restrictions.vegan',\n",
    "        u'attributes.Dietary Restrictions.vegetarian',\n",
    "                           u'attributes.Dogs Allowed',\n",
    "                             u'attributes.Drive-Thru',\n",
    "                       u'attributes.Good For Dancing',\n",
    "                        u'attributes.Good For Groups',\n",
    "                          u'attributes.Good For Kids',\n",
    "                     u'attributes.Good For.breakfast',\n",
    "                        u'attributes.Good For.brunch',\n",
    "                       u'attributes.Good For.dessert',\n",
    "                        u'attributes.Good For.dinner',\n",
    "                     u'attributes.Good For.latenight',\n",
    "                         u'attributes.Good For.lunch',\n",
    "                          u'attributes.Good for Kids',\n",
    "                             u'attributes.Happy Hour',\n",
    "                                 u'attributes.Has TV',\n",
    "                 u'attributes.Music.background_music',\n",
    "                               u'attributes.Music.dj',\n",
    "                          u'attributes.Music.jukebox',\n",
    "                          u'attributes.Music.karaoke',\n",
    "                             u'attributes.Music.live',\n",
    "                            u'attributes.Music.video',\n",
    "                            u'attributes.Noise Level',\n",
    "                          u'attributes.Open 24 Hours',\n",
    "                       u'attributes.Order at Counter',\n",
    "                        u'attributes.Outdoor Seating',\n",
    "                         u'attributes.Parking.garage',\n",
    "                            u'attributes.Parking.lot',\n",
    "                         u'attributes.Parking.street',\n",
    "                          u'attributes.Parking.valet',\n",
    "                      u'attributes.Parking.validated',\n",
    "                     u'attributes.Payment Types.amex',\n",
    "                u'attributes.Payment Types.cash_only',\n",
    "                 u'attributes.Payment Types.discover',\n",
    "               u'attributes.Payment Types.mastercard',\n",
    "                     u'attributes.Payment Types.visa',\n",
    "                            u'attributes.Price Range',\n",
    "                                u'attributes.Smoking',\n",
    "                               u'attributes.Take-out',\n",
    "                     u'attributes.Takes Reservations',\n",
    "                         u'attributes.Waiter Service',\n",
    "                  u'attributes.Wheelchair Accessible',\n",
    "                                  u'attributes.Wi-Fi',\n",
    "                                       u'business_id',\n",
    "                                        u'categories',\n",
    "                                              u'city',\n",
    "                                      u'full_address',\n",
    "                                u'hours.Friday.close',\n",
    "                                 u'hours.Friday.open',\n",
    "                                u'hours.Monday.close',\n",
    "                                 u'hours.Monday.open',\n",
    "                              u'hours.Saturday.close',\n",
    "                               u'hours.Saturday.open',\n",
    "                                u'hours.Sunday.close',\n",
    "                                 u'hours.Sunday.open',\n",
    "                              u'hours.Thursday.close',\n",
    "                               u'hours.Thursday.open',\n",
    "                               u'hours.Tuesday.close',\n",
    "                                u'hours.Tuesday.open',\n",
    "                             u'hours.Wednesday.close',\n",
    "                              u'hours.Wednesday.open',\n",
    "                                          u'latitude',\n",
    "                                         u'longitude',\n",
    "                                              u'name',\n",
    "                                     u'neighborhoods',\n",
    "                                              u'open',\n",
    "                                      u'review_count',\n",
    "                                             u'stars',\n",
    "                                             u'state',\n",
    "                                              u'type']]"
   ]
  },
  {
   "cell_type": "code",
   "execution_count": 79,
   "metadata": {
    "collapsed": false
   },
   "outputs": [],
   "source": [
    "restaurants.columns = [u'restaurant_attributes.accepts_credit_cards', u'restaurant_attributes.ages_allowed', u'restaurant_attributes.alcohol', u'restaurant_attributes.ambience.casual', u'restaurant_attributes.ambience.classy', u'restaurant_attributes.ambience.divey', u'restaurant_attributes.ambience.hipster', u'restaurant_attributes.ambience.intimate', u'restaurant_attributes.ambience.romantic', u'restaurant_attributes.ambience.touristy', u'restaurant_attributes.ambience.trendy', u'restaurant_attributes.ambience.upscale', u'restaurant_attributes.attire', u'restaurant_attributes.byob', u'restaurant_attributes.byob/corkage', u'restaurant_attributes.by_appointment_only', u'restaurant_attributes.caters', u'restaurant_attributes.coat_check', u'restaurant_attributes.corkage', u'restaurant_attributes.delivery', u'restaurant_attributes.dietary_restrictions.dairy-free', u'restaurant_attributes.dietary_restrictions.gluten-free', u'restaurant_attributes.dietary_restrictions.halal', u'restaurant_attributes.dietary_restrictions.kosher', u'restaurant_attributes.dietary_restrictions.soy-free', u'restaurant_attributes.dietary_restrictions.vegan', u'restaurant_attributes.dietary_restrictions.vegetarian', u'restaurant_attributes.dogs_allowed', u'restaurant_attributes.drive-thru', u'restaurant_attributes.good_for_dancing', u'restaurant_attributes.good_for_groups', u'restaurant_attributes.good_for_kids', u'restaurant_attributes.good_for.breakfast', u'restaurant_attributes.good_for.brunch', u'restaurant_attributes.good_for.dessert', u'restaurant_attributes.good_for.dinner', u'restaurant_attributes.good_for.latenight', u'restaurant_attributes.good_for.lunch', u'restaurant_attributes.good_for_kids', u'restaurant_attributes.happy_hour', u'restaurant_attributes.has_tv', u'restaurant_attributes.music.background_music', u'restaurant_attributes.music.dj', u'restaurant_attributes.music.jukebox', u'restaurant_attributes.music.karaoke', u'restaurant_attributes.music.live', u'restaurant_attributes.music.video', u'restaurant_attributes.noise_level', u'restaurant_attributes.open_24_hours', u'restaurant_attributes.order_at_counter', u'restaurant_attributes.outdoor_seating', u'restaurant_attributes.parking.garage', u'restaurant_attributes.parking.lot', u'restaurant_attributes.parking.street', u'restaurant_attributes.parking.valet', u'restaurant_attributes.parking.validated', u'restaurant_attributes.payment_types.amex', u'restaurant_attributes.payment_types.cash_only', u'restaurant_attributes.payment_types.discover', u'restaurant_attributes.payment_types.mastercard', u'restaurant_attributes.payment_types.visa', u'restaurant_attributes.price_range', u'restaurant_attributes.smoking', u'restaurant_attributes.take-out', u'restaurant_attributes.takes_reservations', u'restaurant_attributes.waiter_service', u'restaurant_attributes.wheelchair_accessible', u'restaurant_attributes.wi-fi', u'restaurant_id', u'restaurant_categories', u'restaurant_city', u'restaurant_full_address', u'restaurant_hours.friday.close', u'restaurant_hours.friday.open', u'restaurant_hours.monday.close', u'restaurant_hours.monday.open', u'restaurant_hours.saturday.close', u'restaurant_hours.saturday.open', u'restaurant_hours.sunday.close', u'restaurant_hours.sunday.open', u'restaurant_hours.thursday.close', u'restaurant_hours.thursday.open', u'restaurant_hours.tuesday.close', u'restaurant_hours.tuesday.open', u'restaurant_hours.wednesday.close', u'restaurant_hours.wednesday.open', u'restaurant_latitude', u'restaurant_longitude', u'restaurant_name', u'restaurant_neighborhoods', u'restaurant_open', u'restaurant_review_count', u'restaurant_stars', u'restaurant_state', u'restaurant_type']"
   ]
  },
  {
   "cell_type": "code",
   "execution_count": 80,
   "metadata": {
    "collapsed": false
   },
   "outputs": [
    {
     "data": {
      "text/plain": [
       "(1930, 95)"
      ]
     },
     "execution_count": 80,
     "metadata": {},
     "output_type": "execute_result"
    }
   ],
   "source": [
    "restaurants.shape"
   ]
  },
  {
   "cell_type": "code",
   "execution_count": 81,
   "metadata": {
    "collapsed": false
   },
   "outputs": [
    {
     "data": {
      "text/plain": [
       "{u'restaurant_id'}"
      ]
     },
     "execution_count": 81,
     "metadata": {},
     "output_type": "execute_result"
    }
   ],
   "source": [
    "set(users_reviews_tips.columns.tolist()).intersection(restaurants.columns.tolist())"
   ]
  },
  {
   "cell_type": "code",
   "execution_count": 82,
   "metadata": {
    "collapsed": false
   },
   "outputs": [
    {
     "data": {
      "text/plain": [
       "(1930, 95)"
      ]
     },
     "execution_count": 82,
     "metadata": {},
     "output_type": "execute_result"
    }
   ],
   "source": [
    "restaurants.shape"
   ]
  },
  {
   "cell_type": "code",
   "execution_count": 83,
   "metadata": {
    "collapsed": false
   },
   "outputs": [],
   "source": [
    "restaurants_users_reviews_tips = pd.merge(users_reviews_tips, restaurants, how='outer', on='restaurant_id')"
   ]
  },
  {
   "cell_type": "code",
   "execution_count": 84,
   "metadata": {
    "collapsed": false
   },
   "outputs": [
    {
     "data": {
      "text/plain": [
       "(254443, 127)"
      ]
     },
     "execution_count": 84,
     "metadata": {},
     "output_type": "execute_result"
    }
   ],
   "source": [
    "restaurants_users_reviews_tips.shape"
   ]
  },
  {
   "cell_type": "code",
   "execution_count": 85,
   "metadata": {
    "collapsed": false
   },
   "outputs": [],
   "source": [
    "data = []\n",
    "with open(\"data/yelp_academic_dataset_checkin.json\", 'r') as f:\n",
    "    for line in f:\n",
    "        data.append(byteify(json.loads(line)))\n",
    "checkins = pd.DataFrame(data)"
   ]
  },
  {
   "cell_type": "code",
   "execution_count": 86,
   "metadata": {
    "collapsed": false
   },
   "outputs": [
    {
     "data": {
      "text/plain": [
       "set()"
      ]
     },
     "execution_count": 86,
     "metadata": {},
     "output_type": "execute_result"
    }
   ],
   "source": [
    "set(restaurants_users_reviews_tips.columns.tolist()).intersection(checkins.columns.tolist())"
   ]
  },
  {
   "cell_type": "code",
   "execution_count": 87,
   "metadata": {
    "collapsed": true
   },
   "outputs": [],
   "source": [
    "checkins.columns = [u'restaurant_id', u'checkin_info', u'checkin_type']"
   ]
  },
  {
   "cell_type": "code",
   "execution_count": 88,
   "metadata": {
    "collapsed": false
   },
   "outputs": [
    {
     "data": {
      "text/plain": [
       "(1630, 3)"
      ]
     },
     "execution_count": 88,
     "metadata": {},
     "output_type": "execute_result"
    }
   ],
   "source": [
    "checkins.shape"
   ]
  },
  {
   "cell_type": "code",
   "execution_count": 89,
   "metadata": {
    "collapsed": true
   },
   "outputs": [],
   "source": [
    "full_features = pd.merge(restaurants_users_reviews_tips, checkins, how='left', on='restaurant_id')"
   ]
  },
  {
   "cell_type": "code",
   "execution_count": 90,
   "metadata": {
    "collapsed": false
   },
   "outputs": [
    {
     "data": {
      "text/plain": [
       "(254443, 129)"
      ]
     },
     "execution_count": 90,
     "metadata": {},
     "output_type": "execute_result"
    }
   ],
   "source": [
    "full_features.shape"
   ]
  },
  {
   "cell_type": "code",
   "execution_count": 91,
   "metadata": {
    "collapsed": true
   },
   "outputs": [],
   "source": [
    "id_map = pd.read_csv(\"data/restaurant_ids_to_yelp_ids.csv\")"
   ]
  },
  {
   "cell_type": "code",
   "execution_count": 92,
   "metadata": {
    "collapsed": true
   },
   "outputs": [],
   "source": [
    "id_dict = {}\n",
    "# each Yelp ID may correspond to up to 4 Boston IDs\n",
    "for i, row in id_map.iterrows():\n",
    "    # get the Boston ID\n",
    "    boston_id = row[\"restaurant_id\"]\n",
    "    \n",
    "    # get the non-null Yelp IDs\n",
    "    non_null_mask = ~pd.isnull(row.ix[1:])\n",
    "    yelp_ids = row[1:][non_null_mask].values\n",
    "    \n",
    "    for yelp_id in yelp_ids:\n",
    "        id_dict[yelp_id] = boston_id"
   ]
  },
  {
   "cell_type": "code",
   "execution_count": 93,
   "metadata": {
    "collapsed": false
   },
   "outputs": [],
   "source": [
    "# replace yelp business_id with boston restaurant_id\n",
    "map_to_boston_ids = lambda yelp_id: id_dict[yelp_id] if yelp_id in id_dict else np.nan\n",
    "full_features.restaurant_id = full_features.restaurant_id.map(map_to_boston_ids)\n"
   ]
  },
  {
   "cell_type": "code",
   "execution_count": 94,
   "metadata": {
    "collapsed": false
   },
   "outputs": [
    {
     "data": {
      "text/plain": [
       "(254443, 129)"
      ]
     },
     "execution_count": 94,
     "metadata": {},
     "output_type": "execute_result"
    }
   ],
   "source": [
    "full_features.shape"
   ]
  },
  {
   "cell_type": "code",
   "execution_count": 95,
   "metadata": {
    "collapsed": true
   },
   "outputs": [],
   "source": [
    "# drop restaurants not found in boston data\n",
    "full_features = full_features[pd.notnull(full_features.restaurant_id)]"
   ]
  },
  {
   "cell_type": "code",
   "execution_count": 96,
   "metadata": {
    "collapsed": false
   },
   "outputs": [
    {
     "data": {
      "text/plain": [
       "(252767, 129)"
      ]
     },
     "execution_count": 96,
     "metadata": {},
     "output_type": "execute_result"
    }
   ],
   "source": [
    "full_features.shape"
   ]
  },
  {
   "cell_type": "code",
   "execution_count": 97,
   "metadata": {
    "collapsed": false
   },
   "outputs": [],
   "source": [
    "training_response = pd.read_csv(\"data/train_labels.csv\", index_col=None)\n",
    "training_response.columns = ['inspection_id', 'inspection_date', 'restaurant_id', 'score_lvl_1', 'score_lvl_2', 'score_lvl_3']"
   ]
  },
  {
   "cell_type": "code",
   "execution_count": 98,
   "metadata": {
    "collapsed": false
   },
   "outputs": [
    {
     "data": {
      "text/plain": [
       "(27088, 6)"
      ]
     },
     "execution_count": 98,
     "metadata": {},
     "output_type": "execute_result"
    }
   ],
   "source": [
    "training_response.shape"
   ]
  },
  {
   "cell_type": "code",
   "execution_count": 99,
   "metadata": {
    "collapsed": false
   },
   "outputs": [
    {
     "data": {
      "text/plain": [
       "['inspection_id',\n",
       " 'inspection_date',\n",
       " 'restaurant_id',\n",
       " 'score_lvl_1',\n",
       " 'score_lvl_2',\n",
       " 'score_lvl_3']"
      ]
     },
     "execution_count": 99,
     "metadata": {},
     "output_type": "execute_result"
    }
   ],
   "source": [
    "training_response.columns.tolist()"
   ]
  },
  {
   "cell_type": "code",
   "execution_count": 100,
   "metadata": {
    "collapsed": false
   },
   "outputs": [],
   "source": [
    "training_response['inspection_date'] = pd.to_datetime(pd.Series(training_response.inspection_date))"
   ]
  },
  {
   "cell_type": "code",
   "execution_count": 101,
   "metadata": {
    "collapsed": false
   },
   "outputs": [],
   "source": [
    "# training_response['inspection_date']"
   ]
  },
  {
   "cell_type": "code",
   "execution_count": 102,
   "metadata": {
    "collapsed": false
   },
   "outputs": [
    {
     "data": {
      "text/plain": [
       "{'restaurant_id'}"
      ]
     },
     "execution_count": 102,
     "metadata": {},
     "output_type": "execute_result"
    }
   ],
   "source": [
    "set(full_features.columns.tolist()).intersection(training_response.columns.tolist())"
   ]
  },
  {
   "cell_type": "code",
   "execution_count": 103,
   "metadata": {
    "collapsed": false
   },
   "outputs": [
    {
     "data": {
      "text/plain": [
       "inspection_id               int64\n",
       "inspection_date    datetime64[ns]\n",
       "restaurant_id              object\n",
       "score_lvl_1                 int64\n",
       "score_lvl_2                 int64\n",
       "score_lvl_3                 int64\n",
       "dtype: object"
      ]
     },
     "execution_count": 103,
     "metadata": {},
     "output_type": "execute_result"
    }
   ],
   "source": [
    "training_response.dtypes"
   ]
  },
  {
   "cell_type": "code",
   "execution_count": 104,
   "metadata": {
    "collapsed": true
   },
   "outputs": [],
   "source": [
    "full_features_response = pd.merge(full_features, training_response, on='restaurant_id')"
   ]
  },
  {
   "cell_type": "code",
   "execution_count": 105,
   "metadata": {
    "collapsed": false
   },
   "outputs": [
    {
     "data": {
      "text/plain": [
       "(4071065, 134)"
      ]
     },
     "execution_count": 105,
     "metadata": {},
     "output_type": "execute_result"
    }
   ],
   "source": [
    "full_features_response.shape"
   ]
  },
  {
   "cell_type": "code",
   "execution_count": 106,
   "metadata": {
    "collapsed": false
   },
   "outputs": [
    {
     "data": {
      "text/plain": [
       "review_date                object\n",
       "inspection_date    datetime64[ns]\n",
       "dtype: object"
      ]
     },
     "execution_count": 106,
     "metadata": {},
     "output_type": "execute_result"
    }
   ],
   "source": [
    "full_features_response[['review_date', 'inspection_date']].dtypes"
   ]
  },
  {
   "cell_type": "code",
   "execution_count": 107,
   "metadata": {
    "collapsed": false,
    "scrolled": true
   },
   "outputs": [],
   "source": [
    "no_future = full_features_response[full_features_response.inspection_date > full_features_response.review_date]"
   ]
  },
  {
   "cell_type": "code",
   "execution_count": 108,
   "metadata": {
    "collapsed": false,
    "scrolled": false
   },
   "outputs": [
    {
     "data": {
      "text/plain": [
       "(0, 134)"
      ]
     },
     "execution_count": 108,
     "metadata": {},
     "output_type": "execute_result"
    }
   ],
   "source": [
    "no_future.shape"
   ]
  },
  {
   "cell_type": "code",
   "execution_count": 109,
   "metadata": {
    "collapsed": false
   },
   "outputs": [
    {
     "data": {
      "text/plain": [
       "(0, 134)"
      ]
     },
     "execution_count": 109,
     "metadata": {},
     "output_type": "execute_result"
    }
   ],
   "source": [
    "no_future[pd.notnull(no_future.restaurant_id)].shape"
   ]
  },
  {
   "cell_type": "code",
   "execution_count": 110,
   "metadata": {
    "collapsed": false
   },
   "outputs": [],
   "source": [
    "# no_future['time_delta'] = (no_future.inspection_date - no_future.review_date).astype('timedelta64[D]')\n",
    "\n",
    "# restaurant_cats = pd.Categorical.from_array(no_future.restaurant_id)\n",
    "# no_future['restaurant_id_number'] = restaurant_cats.codes\n",
    "\n",
    "# no_future['vote_cool'] = [i[1]['cool'] for i in no_future.review_votes.iteritems()]\n",
    "# no_future['vote_funny'] = [i[1]['funny'] for i in no_future.review_votes.iteritems()]\n",
    "# no_future['vote_useful'] = [i[1]['useful'] for i in no_future.review_votes.iteritems()]\n",
    "# no_future = no_future.drop('review_votes')\n"
   ]
  },
  {
   "cell_type": "code",
   "execution_count": 64,
   "metadata": {
    "collapsed": false
   },
   "outputs": [],
   "source": [
    "pickled = pd.read_pickle('models/training_df.pkl')"
   ]
  },
  {
   "cell_type": "code",
   "execution_count": 33,
   "metadata": {
    "collapsed": true
   },
   "outputs": [],
   "source": [
    "store = pd.HDFStore('models/mystore.h5')"
   ]
  },
  {
   "cell_type": "code",
   "execution_count": 18,
   "metadata": {
    "collapsed": true
   },
   "outputs": [],
   "source": [
    "# del pickled"
   ]
  },
  {
   "cell_type": "code",
   "execution_count": 29,
   "metadata": {
    "collapsed": false
   },
   "outputs": [],
   "source": [
    "test = pickled['review_text'].apply(lambda x: x.decode('utf-8'))"
   ]
  },
  {
   "cell_type": "code",
   "execution_count": 32,
   "metadata": {
    "collapsed": false
   },
   "outputs": [],
   "source": [
    "# pickled['review_text'].apply(lambda x: unicodedata.normalize('NFKD', x.decode('utf-8')).encode('ascii','ignore'))"
   ]
  },
  {
   "cell_type": "code",
   "execution_count": 5,
   "metadata": {
    "collapsed": false
   },
   "outputs": [
    {
     "data": {
      "text/plain": [
       "restaurant_id              object\n",
       "review_text                object\n",
       "user_id                    object\n",
       "restaurant_categories      object\n",
       "restaurant_name            object\n",
       "restaurant_neighborhood    object\n",
       "dtype: object"
      ]
     },
     "execution_count": 5,
     "metadata": {},
     "output_type": "execute_result"
    }
   ],
   "source": [
    "pickled.dtypes[pickled.dtypes=='object']"
   ]
  },
  {
   "cell_type": "code",
   "execution_count": 27,
   "metadata": {
    "collapsed": false
   },
   "outputs": [],
   "source": [
    "types = pickled.apply(lambda x: pd.lib.infer_dtype(x.values))"
   ]
  },
  {
   "cell_type": "code",
   "execution_count": 1,
   "metadata": {
    "collapsed": false
   },
   "outputs": [
    {
     "ename": "NameError",
     "evalue": "name 'types' is not defined",
     "output_type": "error",
     "traceback": [
      "\u001b[0;31m---------------------------------------------------------------------------\u001b[0m",
      "\u001b[0;31mNameError\u001b[0m                                 Traceback (most recent call last)",
      "\u001b[0;32m<ipython-input-1-34d983d2a3a7>\u001b[0m in \u001b[0;36m<module>\u001b[0;34m()\u001b[0m\n\u001b[0;32m----> 1\u001b[0;31m \u001b[0mtypes\u001b[0m\u001b[0;34m[\u001b[0m\u001b[0mtypes\u001b[0m\u001b[0;34m==\u001b[0m\u001b[0;34m'unicode'\u001b[0m\u001b[0;34m]\u001b[0m\u001b[0;34m\u001b[0m\u001b[0m\n\u001b[0m",
      "\u001b[0;31mNameError\u001b[0m: name 'types' is not defined"
     ]
    }
   ],
   "source": [
    "types[types=='unicode']"
   ]
  },
  {
   "cell_type": "code",
   "execution_count": 231,
   "metadata": {
    "collapsed": false
   },
   "outputs": [],
   "source": [
    "test = pd.DataFrame(pickled['restaurant_categories'].tolist(), columns=['restaurant_category_1', 'restaurant_category_2', 'restaurant_category_3', 'restaurant_category_4', 'restaurant_category_5', 'restaurant_category_6', 'restaurant_category_7'])"
   ]
  },
  {
   "cell_type": "code",
   "execution_count": 232,
   "metadata": {
    "collapsed": true
   },
   "outputs": [],
   "source": [
    "cats = test.restaurant_category_1.astype('category').cat.categories.tolist() + test.restaurant_category_2.astype('category').cat.categories.tolist() + test.restaurant_category_3.astype('category').cat.categories.tolist() + test.restaurant_category_4.astype('category').cat.categories.tolist() + test.restaurant_category_5.astype('category').cat.categories.tolist() + test.restaurant_category_6.astype('category').cat.categories.tolist() + test.restaurant_category_7.astype('category').cat.categories.tolist()"
   ]
  },
  {
   "cell_type": "code",
   "execution_count": 237,
   "metadata": {
    "collapsed": false
   },
   "outputs": [],
   "source": [
    "# test.restaurant_category_1.astype('category', categories=set(cats))"
   ]
  },
  {
   "cell_type": "code",
   "execution_count": 30,
   "metadata": {
    "collapsed": false
   },
   "outputs": [
    {
     "data": {
      "text/plain": [
       "0          This is a pretty typical cafe.  The sandwiches...\n",
       "1          I agree with other reviewers - this is a prett...\n",
       "2          Decent enough food, but very overpriced. Just ...\n",
       "3          The muffins are great...esp the blueberry!  I ...\n",
       "4          Well, well, well, look at me reviewing the res...\n",
       "5          The only place downtown where you can get away...\n",
       "6          This is the place I like to go for deli sandwi...\n",
       "7          This is the place I like to go for deli sandwi...\n",
       "8          This is the place I like to go for deli sandwi...\n",
       "9          This is the place I like to go for deli sandwi...\n",
       "10         This is the place I like to go for deli sandwi...\n",
       "11         This is the place I like to go for deli sandwi...\n",
       "12         This is the place I like to go for deli sandwi...\n",
       "13         This is the place I like to go for deli sandwi...\n",
       "14         This is the place I like to go for deli sandwi...\n",
       "15         This is the place I like to go for deli sandwi...\n",
       "16         This is the place I like to go for deli sandwi...\n",
       "17         This is the place I like to go for deli sandwi...\n",
       "18         This is the place I like to go for deli sandwi...\n",
       "19         Delicato is a great place for lunch on the go ...\n",
       "20         Delicato is a great place for lunch on the go ...\n",
       "21         Delicato is a great place for lunch on the go ...\n",
       "22         Delicato is a great place for lunch on the go ...\n",
       "23         Delicato is a great place for lunch on the go ...\n",
       "24         Delicato is a great place for lunch on the go ...\n",
       "25         Delicato is a great place for lunch on the go ...\n",
       "26         Delicato is a great place for lunch on the go ...\n",
       "27         Delicato is a great place for lunch on the go ...\n",
       "28         Delicato is a great place for lunch on the go ...\n",
       "29         Delicato is a great place for lunch on the go ...\n",
       "                                 ...                        \n",
       "4071035    First let me say is never understand how peopl...\n",
       "4071036    First let me say is never understand how peopl...\n",
       "4071037    First let me say is never understand how peopl...\n",
       "4071038    The food's very good.  Their pita and rice are...\n",
       "4071039    The food's very good.  Their pita and rice are...\n",
       "4071040    The food's very good.  Their pita and rice are...\n",
       "4071041                                  Tryin the beef gyro\n",
       "4071042                                  Tryin the beef gyro\n",
       "4071043                                  Tryin the beef gyro\n",
       "4071044    Awesome gyros so fresh so surprisingly good pita!\n",
       "4071045    Awesome gyros so fresh so surprisingly good pita!\n",
       "4071046    Awesome gyros so fresh so surprisingly good pita!\n",
       "4071047                                         Check it out\n",
       "4071048                                         Check it out\n",
       "4071049                                         Check it out\n",
       "4071050    Best for takeout. Only about 7 bar seats again...\n",
       "4071051    Best for takeout. Only about 7 bar seats again...\n",
       "4071052    Best for takeout. Only about 7 bar seats again...\n",
       "4071053    Ordering online is super easy! And if you're l...\n",
       "4071054    Ordering online is super easy! And if you're l...\n",
       "4071055    Ordering online is super easy! And if you're l...\n",
       "4071056         I highly recommend the fried mac and cheese!\n",
       "4071057         I highly recommend the fried mac and cheese!\n",
       "4071058         I highly recommend the fried mac and cheese!\n",
       "4071059    They have super friendly staff. Super attentiv...\n",
       "4071060    They have super friendly staff. Super attentiv...\n",
       "4071061    They have super friendly staff. Super attentiv...\n",
       "4071062    Great spanikopita! Wonderful dolmades! Very ni...\n",
       "4071063    Great spanikopita! Wonderful dolmades! Very ni...\n",
       "4071064    Great spanikopita! Wonderful dolmades! Very ni...\n",
       "Name: review_text, dtype: object"
      ]
     },
     "execution_count": 30,
     "metadata": {},
     "output_type": "execute_result"
    }
   ],
   "source": [
    "import unicodedata\n",
    "pickled['review_text'].apply(lambda x: unicodedata.normalize('NFKD', x).encode('ascii','ignore'))"
   ]
  },
  {
   "cell_type": "code",
   "execution_count": 104,
   "metadata": {
    "collapsed": false
   },
   "outputs": [],
   "source": [
    "for col in types[types=='unicode'].index:\n",
    "    pickled[col] = pickled[col].apply(lambda x: x.encode('ascii','ignore')).astype('str')"
   ]
  },
  {
   "cell_type": "code",
   "execution_count": null,
   "metadata": {
    "collapsed": false
   },
   "outputs": [],
   "source": [
    "store.append('df_mixed', pickled, data_columns=True, dropna=False)"
   ]
  },
  {
   "cell_type": "code",
   "execution_count": 2,
   "metadata": {
    "collapsed": false
   },
   "outputs": [],
   "source": [
    "import data_grab\n",
    "train_df, test_df = data_grab.load_dataframes()"
   ]
  },
  {
   "cell_type": "code",
   "execution_count": 3,
   "metadata": {
    "collapsed": false
   },
   "outputs": [],
   "source": [
    "# pd.set_option('display.max_rows', 100)\n",
    "triplex = train_df.sort('inspection_date').set_index(['restaurant_id','inspection_date', 'review_date'])"
   ]
  },
  {
   "cell_type": "code",
   "execution_count": 4,
   "metadata": {
    "collapsed": false,
    "scrolled": true
   },
   "outputs": [
    {
     "data": {
      "text/html": [
       "<div style=\"max-height:1000px;max-width:1500px;overflow:auto;\">\n",
       "<table border=\"1\" class=\"dataframe\">\n",
       "  <thead>\n",
       "    <tr style=\"text-align: right;\">\n",
       "      <th></th>\n",
       "      <th></th>\n",
       "      <th></th>\n",
       "      <th>tip_likes</th>\n",
       "      <th>review_id</th>\n",
       "      <th>review_stars</th>\n",
       "      <th>review_text</th>\n",
       "      <th>review_type</th>\n",
       "      <th>user_id</th>\n",
       "      <th>review_votes</th>\n",
       "      <th>user_average_stars</th>\n",
       "      <th>user_compliments</th>\n",
       "      <th>user_elite</th>\n",
       "      <th>...</th>\n",
       "      <th>restaurant_state</th>\n",
       "      <th>restaurant_type</th>\n",
       "      <th>checkin_info</th>\n",
       "      <th>checkin_type</th>\n",
       "      <th>inspection_id</th>\n",
       "      <th>*</th>\n",
       "      <th>**</th>\n",
       "      <th>***</th>\n",
       "      <th>time_delta</th>\n",
       "      <th>restaurant_id_number</th>\n",
       "    </tr>\n",
       "    <tr>\n",
       "      <th>restaurant_id</th>\n",
       "      <th>inspection_date</th>\n",
       "      <th>review_date</th>\n",
       "      <th></th>\n",
       "      <th></th>\n",
       "      <th></th>\n",
       "      <th></th>\n",
       "      <th></th>\n",
       "      <th></th>\n",
       "      <th></th>\n",
       "      <th></th>\n",
       "      <th></th>\n",
       "      <th></th>\n",
       "      <th></th>\n",
       "      <th></th>\n",
       "      <th></th>\n",
       "      <th></th>\n",
       "      <th></th>\n",
       "      <th></th>\n",
       "      <th></th>\n",
       "      <th></th>\n",
       "      <th></th>\n",
       "      <th></th>\n",
       "      <th></th>\n",
       "    </tr>\n",
       "  </thead>\n",
       "  <tbody>\n",
       "    <tr>\n",
       "      <th rowspan=\"5\" valign=\"top\">1JEbP4oR</th>\n",
       "      <th rowspan=\"5\" valign=\"top\">2006-10-04</th>\n",
       "      <th>2009-08-23</th>\n",
       "      <td>NaN</td>\n",
       "      <td>-oeRykmfb4hQj_nCbJhzaQ</td>\n",
       "      <td>1</td>\n",
       "      <td>dont eat here, i got food poisining, and i see...</td>\n",
       "      <td>review</td>\n",
       "      <td>pZ6PT1plKcPe43bERqZMzw</td>\n",
       "      <td>{u'funny': 0, u'useful': 0, u'cool': 0}</td>\n",
       "      <td>3.14</td>\n",
       "      <td>{}</td>\n",
       "      <td>[]</td>\n",
       "      <td>...</td>\n",
       "      <td>MA</td>\n",
       "      <td>business</td>\n",
       "      <td>NaN</td>\n",
       "      <td>NaN</td>\n",
       "      <td>10144</td>\n",
       "      <td>0</td>\n",
       "      <td>0</td>\n",
       "      <td>0</td>\n",
       "      <td>-1054</td>\n",
       "      <td>88</td>\n",
       "    </tr>\n",
       "    <tr>\n",
       "      <th>2010-08-23</th>\n",
       "      <td>NaN</td>\n",
       "      <td>w3_pFjG0UZuGU0F6mpFvKg</td>\n",
       "      <td>4</td>\n",
       "      <td>This place makes me happy for two reasons: the...</td>\n",
       "      <td>review</td>\n",
       "      <td>-2ui9VojWKW2UJlGJyLVYg</td>\n",
       "      <td>{u'funny': 0, u'useful': 0, u'cool': 0}</td>\n",
       "      <td>4.11</td>\n",
       "      <td>{u'profile': 1, u'funny': 1, u'hot': 2, u'cool...</td>\n",
       "      <td>[]</td>\n",
       "      <td>...</td>\n",
       "      <td>MA</td>\n",
       "      <td>business</td>\n",
       "      <td>NaN</td>\n",
       "      <td>NaN</td>\n",
       "      <td>10144</td>\n",
       "      <td>0</td>\n",
       "      <td>0</td>\n",
       "      <td>0</td>\n",
       "      <td>-1419</td>\n",
       "      <td>88</td>\n",
       "    </tr>\n",
       "    <tr>\n",
       "      <th>2008-04-28</th>\n",
       "      <td>NaN</td>\n",
       "      <td>6bq0RMIr1sxHjaXnMcFvgg</td>\n",
       "      <td>4</td>\n",
       "      <td>Great under new owner, the food is improving! ...</td>\n",
       "      <td>review</td>\n",
       "      <td>wH0AulL7umy2h5zZG7Tqjw</td>\n",
       "      <td>{u'funny': 0, u'useful': 1, u'cool': 2}</td>\n",
       "      <td>3.94</td>\n",
       "      <td>{u'plain': 1, u'cool': 1}</td>\n",
       "      <td>[]</td>\n",
       "      <td>...</td>\n",
       "      <td>MA</td>\n",
       "      <td>business</td>\n",
       "      <td>NaN</td>\n",
       "      <td>NaN</td>\n",
       "      <td>10144</td>\n",
       "      <td>0</td>\n",
       "      <td>0</td>\n",
       "      <td>0</td>\n",
       "      <td>-572</td>\n",
       "      <td>88</td>\n",
       "    </tr>\n",
       "    <tr>\n",
       "      <th>2010-11-28</th>\n",
       "      <td>NaN</td>\n",
       "      <td>JBrotsf2FTqREoLlQsyUcg</td>\n",
       "      <td>4</td>\n",
       "      <td>Our family sticks to the calimari (when they h...</td>\n",
       "      <td>review</td>\n",
       "      <td>D1V-IlIWoH3UJ7eIrsGamg</td>\n",
       "      <td>{u'funny': 0, u'useful': 0, u'cool': 0}</td>\n",
       "      <td>4.23</td>\n",
       "      <td>{u'funny': 1, u'cool': 1}</td>\n",
       "      <td>[]</td>\n",
       "      <td>...</td>\n",
       "      <td>MA</td>\n",
       "      <td>business</td>\n",
       "      <td>NaN</td>\n",
       "      <td>NaN</td>\n",
       "      <td>10144</td>\n",
       "      <td>0</td>\n",
       "      <td>0</td>\n",
       "      <td>0</td>\n",
       "      <td>-1516</td>\n",
       "      <td>88</td>\n",
       "    </tr>\n",
       "    <tr>\n",
       "      <th>2009-07-04</th>\n",
       "      <td>NaN</td>\n",
       "      <td>zRdsatfS0XlypPzQtxGi2g</td>\n",
       "      <td>3</td>\n",
       "      <td>When I lived in Southie, Fish Pier was about t...</td>\n",
       "      <td>review</td>\n",
       "      <td>IkuSKxJPrOlygcLQqfwdHQ</td>\n",
       "      <td>{u'funny': 0, u'useful': 1, u'cool': 0}</td>\n",
       "      <td>3.55</td>\n",
       "      <td>{u'profile': 1, u'funny': 6, u'cute': 1, u'pla...</td>\n",
       "      <td>[2006, 2007, 2011, 2012, 2013]</td>\n",
       "      <td>...</td>\n",
       "      <td>MA</td>\n",
       "      <td>business</td>\n",
       "      <td>NaN</td>\n",
       "      <td>NaN</td>\n",
       "      <td>10144</td>\n",
       "      <td>0</td>\n",
       "      <td>0</td>\n",
       "      <td>0</td>\n",
       "      <td>-1004</td>\n",
       "      <td>88</td>\n",
       "    </tr>\n",
       "  </tbody>\n",
       "</table>\n",
       "<p>5 rows × 39 columns</p>\n",
       "</div>"
      ],
      "text/plain": [
       "                                           tip_likes               review_id  \\\n",
       "restaurant_id inspection_date review_date                                      \n",
       "1JEbP4oR      2006-10-04      2009-08-23         NaN  -oeRykmfb4hQj_nCbJhzaQ   \n",
       "                              2010-08-23         NaN  w3_pFjG0UZuGU0F6mpFvKg   \n",
       "                              2008-04-28         NaN  6bq0RMIr1sxHjaXnMcFvgg   \n",
       "                              2010-11-28         NaN  JBrotsf2FTqREoLlQsyUcg   \n",
       "                              2009-07-04         NaN  zRdsatfS0XlypPzQtxGi2g   \n",
       "\n",
       "                                           review_stars  \\\n",
       "restaurant_id inspection_date review_date                 \n",
       "1JEbP4oR      2006-10-04      2009-08-23              1   \n",
       "                              2010-08-23              4   \n",
       "                              2008-04-28              4   \n",
       "                              2010-11-28              4   \n",
       "                              2009-07-04              3   \n",
       "\n",
       "                                                                                 review_text  \\\n",
       "restaurant_id inspection_date review_date                                                      \n",
       "1JEbP4oR      2006-10-04      2009-08-23   dont eat here, i got food poisining, and i see...   \n",
       "                              2010-08-23   This place makes me happy for two reasons: the...   \n",
       "                              2008-04-28   Great under new owner, the food is improving! ...   \n",
       "                              2010-11-28   Our family sticks to the calimari (when they h...   \n",
       "                              2009-07-04   When I lived in Southie, Fish Pier was about t...   \n",
       "\n",
       "                                          review_type                 user_id  \\\n",
       "restaurant_id inspection_date review_date                                       \n",
       "1JEbP4oR      2006-10-04      2009-08-23       review  pZ6PT1plKcPe43bERqZMzw   \n",
       "                              2010-08-23       review  -2ui9VojWKW2UJlGJyLVYg   \n",
       "                              2008-04-28       review  wH0AulL7umy2h5zZG7Tqjw   \n",
       "                              2010-11-28       review  D1V-IlIWoH3UJ7eIrsGamg   \n",
       "                              2009-07-04       review  IkuSKxJPrOlygcLQqfwdHQ   \n",
       "\n",
       "                                                                      review_votes  \\\n",
       "restaurant_id inspection_date review_date                                            \n",
       "1JEbP4oR      2006-10-04      2009-08-23   {u'funny': 0, u'useful': 0, u'cool': 0}   \n",
       "                              2010-08-23   {u'funny': 0, u'useful': 0, u'cool': 0}   \n",
       "                              2008-04-28   {u'funny': 0, u'useful': 1, u'cool': 2}   \n",
       "                              2010-11-28   {u'funny': 0, u'useful': 0, u'cool': 0}   \n",
       "                              2009-07-04   {u'funny': 0, u'useful': 1, u'cool': 0}   \n",
       "\n",
       "                                           user_average_stars  \\\n",
       "restaurant_id inspection_date review_date                       \n",
       "1JEbP4oR      2006-10-04      2009-08-23                 3.14   \n",
       "                              2010-08-23                 4.11   \n",
       "                              2008-04-28                 3.94   \n",
       "                              2010-11-28                 4.23   \n",
       "                              2009-07-04                 3.55   \n",
       "\n",
       "                                                                            user_compliments  \\\n",
       "restaurant_id inspection_date review_date                                                      \n",
       "1JEbP4oR      2006-10-04      2009-08-23                                                  {}   \n",
       "                              2010-08-23   {u'profile': 1, u'funny': 1, u'hot': 2, u'cool...   \n",
       "                              2008-04-28                           {u'plain': 1, u'cool': 1}   \n",
       "                              2010-11-28                           {u'funny': 1, u'cool': 1}   \n",
       "                              2009-07-04   {u'profile': 1, u'funny': 6, u'cute': 1, u'pla...   \n",
       "\n",
       "                                                               user_elite  \\\n",
       "restaurant_id inspection_date review_date                                   \n",
       "1JEbP4oR      2006-10-04      2009-08-23                               []   \n",
       "                              2010-08-23                               []   \n",
       "                              2008-04-28                               []   \n",
       "                              2010-11-28                               []   \n",
       "                              2009-07-04   [2006, 2007, 2011, 2012, 2013]   \n",
       "\n",
       "                                                  ...           \\\n",
       "restaurant_id inspection_date review_date         ...            \n",
       "1JEbP4oR      2006-10-04      2009-08-23          ...            \n",
       "                              2010-08-23          ...            \n",
       "                              2008-04-28          ...            \n",
       "                              2010-11-28          ...            \n",
       "                              2009-07-04          ...            \n",
       "\n",
       "                                           restaurant_state restaurant_type  \\\n",
       "restaurant_id inspection_date review_date                                     \n",
       "1JEbP4oR      2006-10-04      2009-08-23                 MA        business   \n",
       "                              2010-08-23                 MA        business   \n",
       "                              2008-04-28                 MA        business   \n",
       "                              2010-11-28                 MA        business   \n",
       "                              2009-07-04                 MA        business   \n",
       "\n",
       "                                          checkin_info  checkin_type  \\\n",
       "restaurant_id inspection_date review_date                              \n",
       "1JEbP4oR      2006-10-04      2009-08-23           NaN           NaN   \n",
       "                              2010-08-23           NaN           NaN   \n",
       "                              2008-04-28           NaN           NaN   \n",
       "                              2010-11-28           NaN           NaN   \n",
       "                              2009-07-04           NaN           NaN   \n",
       "\n",
       "                                          inspection_id  * ** *** time_delta  \\\n",
       "restaurant_id inspection_date review_date                                      \n",
       "1JEbP4oR      2006-10-04      2009-08-23          10144  0  0   0      -1054   \n",
       "                              2010-08-23          10144  0  0   0      -1419   \n",
       "                              2008-04-28          10144  0  0   0       -572   \n",
       "                              2010-11-28          10144  0  0   0      -1516   \n",
       "                              2009-07-04          10144  0  0   0      -1004   \n",
       "\n",
       "                                          restaurant_id_number  \n",
       "restaurant_id inspection_date review_date                       \n",
       "1JEbP4oR      2006-10-04      2009-08-23                    88  \n",
       "                              2010-08-23                    88  \n",
       "                              2008-04-28                    88  \n",
       "                              2010-11-28                    88  \n",
       "                              2009-07-04                    88  \n",
       "\n",
       "[5 rows x 39 columns]"
      ]
     },
     "execution_count": 4,
     "metadata": {},
     "output_type": "execute_result"
    }
   ],
   "source": [
    "triplex.head()"
   ]
  },
  {
   "cell_type": "code",
   "execution_count": 229,
   "metadata": {
    "collapsed": false
   },
   "outputs": [],
   "source": [
    "def pull_features(df):\n",
    "    features = df[['time_delta', 'review_text']]\n",
    "    features.review_text = features.review_text.apply(lambda x: len(x))\n",
    "    response = df[['score_lvl_1', 'score_lvl_2', 'score_lvl_3']].astype(np.float64)\n",
    "    return features, response"
   ]
  },
  {
   "cell_type": "code",
   "execution_count": 230,
   "metadata": {
    "collapsed": false
   },
   "outputs": [],
   "source": [
    "X, y = pull_features(train_df)"
   ]
  },
  {
   "cell_type": "code",
   "execution_count": null,
   "metadata": {
    "collapsed": false
   },
   "outputs": [],
   "source": [
    "from sklearn.linear_model import LinearRegression\n",
    "ols = LinearRegression()\n",
    "model = ols.fit(X,y)"
   ]
  },
  {
   "cell_type": "code",
   "execution_count": null,
   "metadata": {
    "collapsed": false
   },
   "outputs": [],
   "source": [
    "model.score(X,y)"
   ]
  },
  {
   "cell_type": "code",
   "execution_count": 233,
   "metadata": {
    "collapsed": false
   },
   "outputs": [],
   "source": [
    "data = pd.concat([X, y], axis=1)\n",
    "transformed_data = pd.concat([X, train_df['transformed_score']], axis=1)"
   ]
  },
  {
   "cell_type": "code",
   "execution_count": 57,
   "metadata": {
    "collapsed": false
   },
   "outputs": [
    {
     "data": {
      "text/plain": [
       "array([[<matplotlib.axes._subplots.AxesSubplot object at 0x10d1ca650>,\n",
       "        <matplotlib.axes._subplots.AxesSubplot object at 0x1148782d0>]], dtype=object)"
      ]
     },
     "execution_count": 57,
     "metadata": {},
     "output_type": "execute_result"
    },
    {
     "data": {
      "image/png": "[encoded data removed]",
      "text/plain": [
       "<matplotlib.figure.Figure at 0x10ac2dd10>"
      ]
     },
     "metadata": {},
     "output_type": "display_data"
    }
   ],
   "source": [
    "X.hist(bins=50)"
   ]
  },
  {
   "cell_type": "code",
   "execution_count": 221,
   "metadata": {
    "collapsed": false,
    "scrolled": true
   },
   "outputs": [
    {
     "data": {
      "text/plain": [
       "array([[<matplotlib.axes._subplots.AxesSubplot object at 0x1cd8c7390>,\n",
       "        <matplotlib.axes._subplots.AxesSubplot object at 0x2bb2eb650>],\n",
       "       [<matplotlib.axes._subplots.AxesSubplot object at 0x26694dc90>,\n",
       "        <matplotlib.axes._subplots.AxesSubplot object at 0x266939990>]], dtype=object)"
      ]
     },
     "execution_count": 221,
     "metadata": {},
     "output_type": "execute_result"
    },
    {
     "data": {
      "image/png": "[encoded data removed]",
      "text/plain": [
       "<matplotlib.figure.Figure at 0x1cdbdbfd0>"
      ]
     },
     "metadata": {},
     "output_type": "display_data"
    }
   ],
   "source": [
    "y.hist(bins=50)"
   ]
  },
  {
   "cell_type": "code",
   "execution_count": 155,
   "metadata": {
    "collapsed": false
   },
   "outputs": [
    {
     "data": {
      "text/plain": [
       "<matplotlib.axes._subplots.AxesSubplot at 0x1d0952b50>"
      ]
     },
     "execution_count": 155,
     "metadata": {},
     "output_type": "execute_result"
    },
    {
     "data": {
      "image/png": "[encoded data removed]",
      "text/plain": [
       "<matplotlib.figure.Figure at 0x1cf6cce90>"
      ]
     },
     "metadata": {},
     "output_type": "display_data"
    }
   ],
   "source": [
    "trans_y.hist(bins=100)"
   ]
  },
  {
   "cell_type": "code",
   "execution_count": 226,
   "metadata": {
    "collapsed": false
   },
   "outputs": [
    {
     "ename": "NameError",
     "evalue": "name 'X' is not defined",
     "output_type": "error",
     "traceback": [
      "\u001b[0;31m---------------------------------------------------------------------------\u001b[0m",
      "\u001b[0;31mNameError\u001b[0m                                 Traceback (most recent call last)",
      "\u001b[0;32m<ipython-input-226-76cb59bf3114>\u001b[0m in \u001b[0;36m<module>\u001b[0;34m()\u001b[0m\n\u001b[0;32m----> 1\u001b[0;31m \u001b[0mplt\u001b[0m\u001b[0;34m.\u001b[0m\u001b[0mplot\u001b[0m\u001b[0;34m(\u001b[0m\u001b[0mX\u001b[0m\u001b[0;34m[\u001b[0m\u001b[0;34m'review_text'\u001b[0m\u001b[0;34m]\u001b[0m\u001b[0;34m,\u001b[0m \u001b[0my\u001b[0m\u001b[0;34m[\u001b[0m\u001b[0;34m'**'\u001b[0m\u001b[0;34m]\u001b[0m\u001b[0;34m,\u001b[0m \u001b[0;34m'.'\u001b[0m\u001b[0;34m,\u001b[0m \u001b[0malpha\u001b[0m\u001b[0;34m=\u001b[0m\u001b[0;36m.5\u001b[0m\u001b[0;34m)\u001b[0m\u001b[0;34m\u001b[0m\u001b[0m\n\u001b[0m",
      "\u001b[0;31mNameError\u001b[0m: name 'X' is not defined"
     ]
    }
   ],
   "source": [
    "plt.plot(X['review_text'], y['**'], '.', alpha=.5)"
   ]
  },
  {
   "cell_type": "code",
   "execution_count": 169,
   "metadata": {
    "collapsed": false
   },
   "outputs": [
    {
     "data": {
      "image/png": "[encoded data removed]",
      "text/plain": [
       "<matplotlib.figure.Figure at 0x14407a650>"
      ]
     },
     "metadata": {},
     "output_type": "display_data"
    }
   ],
   "source": [
    "f, ax = plt.subplots(figsize=(10, 10))\n",
    "cmap = sns.blend_palette([\"#00008B\", \"#6A5ACD\", \"#F0F8FF\",\n",
    "                          \"#FFE6F8\", \"#C71585\", \"#8B0000\"], as_cmap=True)\n",
    "sns.corrplot(data, annot=False, diag_names=False, cmap=cmap)\n",
    "ax.grid(False);"
   ]
  },
  {
   "cell_type": "code",
   "execution_count": 9,
   "metadata": {
    "collapsed": false
   },
   "outputs": [],
   "source": [
    "import text_processors\n",
    "tfidf_matrix = text_processors.load_tfidf_matrix()"
   ]
  },
  {
   "cell_type": "code",
   "execution_count": 10,
   "metadata": {
    "collapsed": false
   },
   "outputs": [
    {
     "data": {
      "text/plain": [
       "-0.0012309889619115388"
      ]
     },
     "execution_count": 10,
     "metadata": {},
     "output_type": "execute_result"
    }
   ],
   "source": [
    "from sklearn.cross_validation import cross_val_score\n",
    "np.mean(cross_val_score(LinearRegression(), X, y, cv=3))"
   ]
  },
  {
   "cell_type": "code",
   "execution_count": 37,
   "metadata": {
    "collapsed": false
   },
   "outputs": [],
   "source": [
    "scr_lst = []\n",
    "for i in y.columns.tolist():\n",
    "    scr_lst.append(np.mean(cross_val_score(LinearRegression(), X, y[i], cv=3)))"
   ]
  },
  {
   "cell_type": "code",
   "execution_count": 39,
   "metadata": {
    "collapsed": false
   },
   "outputs": [
    {
     "data": {
      "text/plain": [
       "[-0.0012243804254890762, -0.00029430434557065066, -0.0014663357924205773]"
      ]
     },
     "execution_count": 39,
     "metadata": {},
     "output_type": "execute_result"
    }
   ],
   "source": [
    "scr_lst"
   ]
  },
  {
   "cell_type": "code",
   "execution_count": 53,
   "metadata": {
    "collapsed": false
   },
   "outputs": [
    {
     "data": {
      "text/html": [
       "<div style=\"max-height:1000px;max-width:1500px;overflow:auto;\">\n",
       "<table border=\"1\" class=\"dataframe\">\n",
       "  <thead>\n",
       "    <tr style=\"text-align: right;\">\n",
       "      <th></th>\n",
       "      <th>0</th>\n",
       "    </tr>\n",
       "  </thead>\n",
       "  <tbody>\n",
       "    <tr>\n",
       "      <th>0</th>\n",
       "      <td>0.892943</td>\n",
       "    </tr>\n",
       "    <tr>\n",
       "      <th>1</th>\n",
       "      <td>0.867476</td>\n",
       "    </tr>\n",
       "    <tr>\n",
       "      <th>2</th>\n",
       "      <td>0.922157</td>\n",
       "    </tr>\n",
       "    <tr>\n",
       "      <th>3</th>\n",
       "      <td>0.896690</td>\n",
       "    </tr>\n",
       "    <tr>\n",
       "      <th>4</th>\n",
       "      <td>0.925227</td>\n",
       "    </tr>\n",
       "  </tbody>\n",
       "</table>\n",
       "</div>"
      ],
      "text/plain": [
       "          0\n",
       "0  0.892943\n",
       "1  0.867476\n",
       "2  0.922157\n",
       "3  0.896690\n",
       "4  0.925227"
      ]
     },
     "execution_count": 53,
     "metadata": {},
     "output_type": "execute_result"
    }
   ],
   "source": [
    "m2 = LinearRegression().fit(X, y['***']).predict(X_test)\n",
    "pd.DataFrame(m2).head()"
   ]
  },
  {
   "cell_type": "code",
   "execution_count": 18,
   "metadata": {
    "collapsed": false
   },
   "outputs": [],
   "source": [
    "X_test, y_test = pull_features(test_df)"
   ]
  },
  {
   "cell_type": "code",
   "execution_count": 19,
   "metadata": {
    "collapsed": false
   },
   "outputs": [],
   "source": [
    "predictions = model.predict(X_test)\n",
    "# predictions = np.clip(predictions, 0, np.inf)\n",
    "# try clipping after averaging scores also"
   ]
  },
  {
   "cell_type": "code",
   "execution_count": 20,
   "metadata": {
    "collapsed": false
   },
   "outputs": [
    {
     "data": {
      "text/html": [
       "<div style=\"max-height:1000px;max-width:1500px;overflow:auto;\">\n",
       "<table border=\"1\" class=\"dataframe\">\n",
       "  <thead>\n",
       "    <tr style=\"text-align: right;\">\n",
       "      <th></th>\n",
       "      <th>0</th>\n",
       "      <th>1</th>\n",
       "      <th>2</th>\n",
       "    </tr>\n",
       "  </thead>\n",
       "  <tbody>\n",
       "    <tr>\n",
       "      <th>0</th>\n",
       "      <td>4.237228</td>\n",
       "      <td>0.388498</td>\n",
       "      <td>0.892943</td>\n",
       "    </tr>\n",
       "    <tr>\n",
       "      <th>1</th>\n",
       "      <td>4.201040</td>\n",
       "      <td>0.398774</td>\n",
       "      <td>0.867476</td>\n",
       "    </tr>\n",
       "    <tr>\n",
       "      <th>2</th>\n",
       "      <td>4.265308</td>\n",
       "      <td>0.377573</td>\n",
       "      <td>0.922157</td>\n",
       "    </tr>\n",
       "    <tr>\n",
       "      <th>3</th>\n",
       "      <td>4.229120</td>\n",
       "      <td>0.387848</td>\n",
       "      <td>0.896690</td>\n",
       "    </tr>\n",
       "    <tr>\n",
       "      <th>4</th>\n",
       "      <td>4.338169</td>\n",
       "      <td>0.371937</td>\n",
       "      <td>0.925227</td>\n",
       "    </tr>\n",
       "  </tbody>\n",
       "</table>\n",
       "</div>"
      ],
      "text/plain": [
       "          0         1         2\n",
       "0  4.237228  0.388498  0.892943\n",
       "1  4.201040  0.398774  0.867476\n",
       "2  4.265308  0.377573  0.922157\n",
       "3  4.229120  0.387848  0.896690\n",
       "4  4.338169  0.371937  0.925227"
      ]
     },
     "execution_count": 20,
     "metadata": {},
     "output_type": "execute_result"
    }
   ],
   "source": [
    "pd.DataFrame(predictions).head()"
   ]
  },
  {
   "cell_type": "code",
   "execution_count": 73,
   "metadata": {
    "collapsed": false
   },
   "outputs": [],
   "source": [
    "new_submission = data_grab.get_submission().copy()\n",
    "# train_labels, train_targets = data_grab.get_response()"
   ]
  },
  {
   "cell_type": "code",
   "execution_count": 188,
   "metadata": {
    "collapsed": false
   },
   "outputs": [],
   "source": [
    "temp_df = test_df.copy()\n",
    "temp_df[['*','**','***']] = predictions"
   ]
  },
  {
   "cell_type": "code",
   "execution_count": 208,
   "metadata": {
    "collapsed": false
   },
   "outputs": [],
   "source": [
    "submit_scores = temp_df.groupby(['restaurant_id', 'inspection_date', 'inspection_id'])['*','**','***'].mean()"
   ]
  },
  {
   "cell_type": "code",
   "execution_count": 178,
   "metadata": {
    "collapsed": false
   },
   "outputs": [],
   "source": [
    "temp = submit_scores.reset_index().set_index('inspection_id')\n",
    "indexed = temp.reindex(new_submission.index)"
   ]
  },
  {
   "cell_type": "code",
   "execution_count": 85,
   "metadata": {
    "collapsed": false
   },
   "outputs": [
    {
     "data": {
      "text/html": [
       "<div style=\"max-height:1000px;max-width:1500px;overflow:auto;\">\n",
       "<table border=\"1\" class=\"dataframe\">\n",
       "  <thead>\n",
       "    <tr style=\"text-align: right;\">\n",
       "      <th></th>\n",
       "      <th>restaurant_id</th>\n",
       "      <th>inspection_date</th>\n",
       "      <th>*</th>\n",
       "      <th>**</th>\n",
       "      <th>***</th>\n",
       "    </tr>\n",
       "    <tr>\n",
       "      <th>id</th>\n",
       "      <th></th>\n",
       "      <th></th>\n",
       "      <th></th>\n",
       "      <th></th>\n",
       "      <th></th>\n",
       "    </tr>\n",
       "  </thead>\n",
       "  <tbody>\n",
       "    <tr>\n",
       "      <th>14916</th>\n",
       "      <td>nkOvZOBW</td>\n",
       "      <td>2014-12-17</td>\n",
       "      <td>4.271066</td>\n",
       "      <td>0.379941</td>\n",
       "      <td>0.913390</td>\n",
       "    </tr>\n",
       "    <tr>\n",
       "      <th>29767</th>\n",
       "      <td>WwOaAnOB</td>\n",
       "      <td>2013-12-30</td>\n",
       "      <td>4.276481</td>\n",
       "      <td>0.377986</td>\n",
       "      <td>0.918537</td>\n",
       "    </tr>\n",
       "    <tr>\n",
       "      <th>29338</th>\n",
       "      <td>we39kvOk</td>\n",
       "      <td>2011-04-08</td>\n",
       "      <td>4.314311</td>\n",
       "      <td>0.368737</td>\n",
       "      <td>0.940380</td>\n",
       "    </tr>\n",
       "    <tr>\n",
       "      <th>7219</th>\n",
       "      <td>dj3d5Xo9</td>\n",
       "      <td>2013-12-30</td>\n",
       "      <td>4.260858</td>\n",
       "      <td>0.384555</td>\n",
       "      <td>0.900714</td>\n",
       "    </tr>\n",
       "    <tr>\n",
       "      <th>20979</th>\n",
       "      <td>XJ3rBW3R</td>\n",
       "      <td>2008-03-31</td>\n",
       "      <td>4.316896</td>\n",
       "      <td>0.369364</td>\n",
       "      <td>0.937839</td>\n",
       "    </tr>\n",
       "  </tbody>\n",
       "</table>\n",
       "</div>"
      ],
      "text/plain": [
       "      restaurant_id inspection_date         *        **       ***\n",
       "id                                                               \n",
       "14916      nkOvZOBW      2014-12-17  4.271066  0.379941  0.913390\n",
       "29767      WwOaAnOB      2013-12-30  4.276481  0.377986  0.918537\n",
       "29338      we39kvOk      2011-04-08  4.314311  0.368737  0.940380\n",
       "7219       dj3d5Xo9      2013-12-30  4.260858  0.384555  0.900714\n",
       "20979      XJ3rBW3R      2008-03-31  4.316896  0.369364  0.937839"
      ]
     },
     "execution_count": 85,
     "metadata": {},
     "output_type": "execute_result"
    }
   ],
   "source": [
    "indexed.head()"
   ]
  },
  {
   "cell_type": "code",
   "execution_count": 95,
   "metadata": {
    "collapsed": true
   },
   "outputs": [],
   "source": [
    "new_submission.iloc[:, -3:] = np.round(indexed[['*','**','***']]).astype(int)"
   ]
  },
  {
   "cell_type": "code",
   "execution_count": 96,
   "metadata": {
    "collapsed": false
   },
   "outputs": [
    {
     "data": {
      "text/html": [
       "<div style=\"max-height:1000px;max-width:1500px;overflow:auto;\">\n",
       "<table border=\"1\" class=\"dataframe\">\n",
       "  <thead>\n",
       "    <tr style=\"text-align: right;\">\n",
       "      <th></th>\n",
       "      <th>date</th>\n",
       "      <th>restaurant_id</th>\n",
       "      <th>*</th>\n",
       "      <th>**</th>\n",
       "      <th>***</th>\n",
       "    </tr>\n",
       "    <tr>\n",
       "      <th>id</th>\n",
       "      <th></th>\n",
       "      <th></th>\n",
       "      <th></th>\n",
       "      <th></th>\n",
       "      <th></th>\n",
       "    </tr>\n",
       "  </thead>\n",
       "  <tbody>\n",
       "    <tr>\n",
       "      <th>14916</th>\n",
       "      <td>2014-12-17</td>\n",
       "      <td>nkOvZOBW</td>\n",
       "      <td>4</td>\n",
       "      <td>0</td>\n",
       "      <td>1</td>\n",
       "    </tr>\n",
       "    <tr>\n",
       "      <th>29767</th>\n",
       "      <td>2013-12-30</td>\n",
       "      <td>WwOaAnOB</td>\n",
       "      <td>4</td>\n",
       "      <td>0</td>\n",
       "      <td>1</td>\n",
       "    </tr>\n",
       "    <tr>\n",
       "      <th>29338</th>\n",
       "      <td>2011-04-08</td>\n",
       "      <td>we39kvOk</td>\n",
       "      <td>4</td>\n",
       "      <td>0</td>\n",
       "      <td>1</td>\n",
       "    </tr>\n",
       "    <tr>\n",
       "      <th>7219</th>\n",
       "      <td>2013-12-30</td>\n",
       "      <td>dj3d5Xo9</td>\n",
       "      <td>4</td>\n",
       "      <td>0</td>\n",
       "      <td>1</td>\n",
       "    </tr>\n",
       "    <tr>\n",
       "      <th>20979</th>\n",
       "      <td>2008-03-31</td>\n",
       "      <td>XJ3rBW3R</td>\n",
       "      <td>4</td>\n",
       "      <td>0</td>\n",
       "      <td>1</td>\n",
       "    </tr>\n",
       "  </tbody>\n",
       "</table>\n",
       "</div>"
      ],
      "text/plain": [
       "             date restaurant_id  *  **  ***\n",
       "id                                         \n",
       "14916  2014-12-17      nkOvZOBW  4   0    1\n",
       "29767  2013-12-30      WwOaAnOB  4   0    1\n",
       "29338  2011-04-08      we39kvOk  4   0    1\n",
       "7219   2013-12-30      dj3d5Xo9  4   0    1\n",
       "20979  2008-03-31      XJ3rBW3R  4   0    1"
      ]
     },
     "execution_count": 96,
     "metadata": {},
     "output_type": "execute_result"
    }
   ],
   "source": [
    "new_submission.head()"
   ]
  },
  {
   "cell_type": "code",
   "execution_count": 97,
   "metadata": {
    "collapsed": false
   },
   "outputs": [],
   "source": [
    "new_submission.to_csv('predictions/ols.csv')"
   ]
  },
  {
   "cell_type": "code",
   "execution_count": 115,
   "metadata": {
    "collapsed": true
   },
   "outputs": [],
   "source": [
    "#finish plots then work on feature transfomration\n",
    "# make sure that all of the submission restaurants are in the training set\n",
    "# jitter plots\n",
    "# make feature combining algorithm to choose which increase accuracy\n",
    "# with predicted scores clipped before and after averaging\n",
    "# with and without restaurant_id_number included. technically dont need it because each row corresponds with a restaurant"
   ]
  },
  {
   "cell_type": "code",
   "execution_count": 205,
   "metadata": {
    "collapsed": false
   },
   "outputs": [
    {
     "data": {
      "text/plain": [
       "(4071065, 142)"
      ]
     },
     "execution_count": 205,
     "metadata": {},
     "output_type": "execute_result"
    }
   ],
   "source": [
    "train_df.shape"
   ]
  },
  {
   "cell_type": "code",
   "execution_count": null,
   "metadata": {
    "collapsed": true
   },
   "outputs": [],
   "source": []
  }
 ],
 "metadata": {
  "kernelspec": {
   "display_name": "Python 2",
   "language": "python",
   "name": "python2"
  },
  "language_info": {
   "codemirror_mode": {
    "name": "ipython",
    "version": 2
   },
   "file_extension": ".py",
   "mimetype": "text/x-python",
   "name": "python",
   "nbconvert_exporter": "python",
   "pygments_lexer": "ipython2",
   "version": "2.7.9"
  }
 },
 "nbformat": 4,
 "nbformat_minor": 0
}
