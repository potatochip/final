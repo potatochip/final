{
 "cells": [
  {
   "cell_type": "code",
   "execution_count": 4,
   "metadata": {
    "collapsed": true
   },
   "outputs": [],
   "source": [
    "%matplotlib inline\n",
    "\n",
    "import numpy as np\n",
    "import pandas as pd\n",
    "import seaborn as sns\n",
    "import matplotlib.pyplot as plt\n",
    "\n",
    "plt.rcParams[\"figure.figsize\"] = (10, 8)"
   ]
  },
  {
   "cell_type": "code",
   "execution_count": 256,
   "metadata": {
    "collapsed": false
   },
   "outputs": [],
   "source": [
    "with open(\"data/yelp_academic_dataset_review.json\", 'r') as f:\n",
    "    # the file is not actually valid json since each line is an individual\n",
    "    # dict -- we will add brackets on the very beginning and ending in order\n",
    "    # to make this an array of dicts and join the array entries with commas\n",
    "    review_json = '[' + ','.join(f.readlines()) + ']'\n",
    "# read in the json as a DataFrame\n",
    "reviews = pd.read_json(review_json)"
   ]
  },
  {
   "cell_type": "code",
   "execution_count": 257,
   "metadata": {
    "collapsed": true
   },
   "outputs": [],
   "source": [
    "with open(\"data/yelp_academic_dataset_tip.json\", 'r') as f:\n",
    "    # the file is not actually valid json since each line is an individual\n",
    "    # dict -- we will add brackets on the very beginning and ending in order\n",
    "    # to make this an array of dicts and join the array entries with commas\n",
    "    tip_json = '[' + ','.join(f.readlines()) + ']'\n",
    "# read in the json as a DataFrame\n",
    "tips = pd.read_json(tip_json)"
   ]
  },
  {
   "cell_type": "code",
   "execution_count": 258,
   "metadata": {
    "collapsed": false
   },
   "outputs": [
    {
     "data": {
      "text/plain": [
       "{u'business_id', u'date', u'text', u'type', u'user_id'}"
      ]
     },
     "execution_count": 258,
     "metadata": {},
     "output_type": "execute_result"
    }
   ],
   "source": [
    "set(reviews.columns.tolist()).intersection(tips.columns.tolist())"
   ]
  },
  {
   "cell_type": "code",
   "execution_count": 259,
   "metadata": {
    "collapsed": false
   },
   "outputs": [
    {
     "data": {
      "text/plain": [
       "(230371, 8)"
      ]
     },
     "execution_count": 259,
     "metadata": {},
     "output_type": "execute_result"
    }
   ],
   "source": [
    "reviews.shape"
   ]
  },
  {
   "cell_type": "code",
   "execution_count": 260,
   "metadata": {
    "collapsed": false
   },
   "outputs": [
    {
     "data": {
      "text/plain": [
       "(24072, 6)"
      ]
     },
     "execution_count": 260,
     "metadata": {},
     "output_type": "execute_result"
    }
   ],
   "source": [
    "tips.shape\n"
   ]
  },
  {
   "cell_type": "code",
   "execution_count": 261,
   "metadata": {
    "collapsed": false
   },
   "outputs": [],
   "source": [
    "# some nan's will exist because of this where reviews columns and tips columns don't match up\n",
    "reviews_tips = reviews.append(tips)"
   ]
  },
  {
   "cell_type": "code",
   "execution_count": 262,
   "metadata": {
    "collapsed": false
   },
   "outputs": [
    {
     "data": {
      "text/plain": [
       "(254443, 9)"
      ]
     },
     "execution_count": 262,
     "metadata": {},
     "output_type": "execute_result"
    }
   ],
   "source": [
    "reviews_tips.shape"
   ]
  },
  {
   "cell_type": "code",
   "execution_count": 263,
   "metadata": {
    "collapsed": false
   },
   "outputs": [],
   "source": [
    "reviews_tips.columns = [u'restaurant_id', u'review_date', u'tip_likes', u'review_id', u'review_stars', u'review_text', u'review_type', u'user_id', u'review_votes']"
   ]
  },
  {
   "cell_type": "code",
   "execution_count": 264,
   "metadata": {
    "collapsed": false
   },
   "outputs": [],
   "source": [
    "with open(\"data/yelp_academic_dataset_user.json\", 'r') as f:\n",
    "    # the file is not actually valid json since each line is an individual\n",
    "    # dict -- we will add brackets on the very beginning and ending in order\n",
    "    # to make this an array of dicts and join the array entries with commas\n",
    "    user_json = '[' + ','.join(f.readlines()) + ']'\n",
    "# read in the json as a DataFrame\n",
    "users = pd.read_json(user_json)"
   ]
  },
  {
   "cell_type": "code",
   "execution_count": 265,
   "metadata": {
    "collapsed": true
   },
   "outputs": [],
   "source": [
    "users.columns = [u'user_average_stars', u'user_compliments', u'user_elite', u'user_fans', u'user_friends', u'user_name', u'user_review_count', u'user_type', u'user_id', u'user_votes', u'user_yelping_since']"
   ]
  },
  {
   "cell_type": "code",
   "execution_count": 266,
   "metadata": {
    "collapsed": false
   },
   "outputs": [
    {
     "data": {
      "text/plain": [
       "{u'user_id'}"
      ]
     },
     "execution_count": 266,
     "metadata": {},
     "output_type": "execute_result"
    }
   ],
   "source": [
    "set(reviews_tips.columns.tolist()).intersection(users.columns.tolist())"
   ]
  },
  {
   "cell_type": "code",
   "execution_count": 267,
   "metadata": {
    "collapsed": false
   },
   "outputs": [
    {
     "data": {
      "text/plain": [
       "(68650, 11)"
      ]
     },
     "execution_count": 267,
     "metadata": {},
     "output_type": "execute_result"
    }
   ],
   "source": [
    "users.shape"
   ]
  },
  {
   "cell_type": "code",
   "execution_count": 268,
   "metadata": {
    "collapsed": true
   },
   "outputs": [],
   "source": [
    "users_reviews_tips = pd.merge(reviews_tips, users, on='user_id')"
   ]
  },
  {
   "cell_type": "code",
   "execution_count": 269,
   "metadata": {
    "collapsed": false
   },
   "outputs": [
    {
     "data": {
      "text/plain": [
       "(254443, 19)"
      ]
     },
     "execution_count": 269,
     "metadata": {},
     "output_type": "execute_result"
    }
   ],
   "source": [
    "users_reviews_tips.shape"
   ]
  },
  {
   "cell_type": "code",
   "execution_count": 270,
   "metadata": {
    "collapsed": false
   },
   "outputs": [],
   "source": [
    "with open(\"data/yelp_academic_dataset_business.json\", 'r') as f:\n",
    "    # the file is not actually valid json since each line is an individual\n",
    "    # dict -- we will add brackets on the very beginning and ending in order\n",
    "    # to make this an array of dicts and join the array entries with commas\n",
    "    restaurant_json = '[' + ','.join(f.readlines()) + ']'\n",
    "# read in the json as a DataFrame\n",
    "restaurants = pd.read_json(restaurant_json)"
   ]
  },
  {
   "cell_type": "code",
   "execution_count": 271,
   "metadata": {
    "collapsed": false
   },
   "outputs": [],
   "source": [
    "restaurants.columns = [u'restaurant_attributes', u'restaurant_id', u'restaurant_categories', u'restaurant_city', u'restaurant_full_address', u'restaurant_hours', u'restaurant_latitude', u'restaurant_longitude', u'restaurant_name', u'restaurant_neighborhoods', u'restaurant_open', u'restaurant_review_count', u'restaurant_stars', u'restaurant_state', u'restaurant_type']"
   ]
  },
  {
   "cell_type": "code",
   "execution_count": 272,
   "metadata": {
    "collapsed": false
   },
   "outputs": [
    {
     "data": {
      "text/plain": [
       "{u'restaurant_id'}"
      ]
     },
     "execution_count": 272,
     "metadata": {},
     "output_type": "execute_result"
    }
   ],
   "source": [
    "set(users_reviews_tips.columns.tolist()).intersection(restaurants.columns.tolist())"
   ]
  },
  {
   "cell_type": "code",
   "execution_count": 273,
   "metadata": {
    "collapsed": false
   },
   "outputs": [
    {
     "data": {
      "text/plain": [
       "(1930, 15)"
      ]
     },
     "execution_count": 273,
     "metadata": {},
     "output_type": "execute_result"
    }
   ],
   "source": [
    "restaurants.shape"
   ]
  },
  {
   "cell_type": "code",
   "execution_count": 274,
   "metadata": {
    "collapsed": false
   },
   "outputs": [],
   "source": [
    "restaurants_users_reviews_tips = pd.merge(users_reviews_tips, restaurants, on='restaurant_id')"
   ]
  },
  {
   "cell_type": "code",
   "execution_count": 275,
   "metadata": {
    "collapsed": false
   },
   "outputs": [
    {
     "data": {
      "text/plain": [
       "(254443, 33)"
      ]
     },
     "execution_count": 275,
     "metadata": {},
     "output_type": "execute_result"
    }
   ],
   "source": [
    "restaurants_users_reviews_tips.shape"
   ]
  },
  {
   "cell_type": "code",
   "execution_count": 276,
   "metadata": {
    "collapsed": false
   },
   "outputs": [],
   "source": [
    "with open(\"data/yelp_academic_dataset_checkin.json\", 'r') as f:\n",
    "    # the file is not actually valid json since each line is an individual\n",
    "    # dict -- we will add brackets on the very beginning and ending in order\n",
    "    # to make this an array of dicts and join the array entries with commas\n",
    "    checkin_json = '[' + ','.join(f.readlines()) + ']'\n",
    "# read in the json as a DataFrame\n",
    "checkins = pd.read_json(checkin_json)"
   ]
  },
  {
   "cell_type": "code",
   "execution_count": 277,
   "metadata": {
    "collapsed": true
   },
   "outputs": [],
   "source": [
    "checkins.columns = [u'restaurant_id', u'checkin_info', u'checkin_type']"
   ]
  },
  {
   "cell_type": "code",
   "execution_count": 278,
   "metadata": {
    "collapsed": false
   },
   "outputs": [
    {
     "data": {
      "text/plain": [
       "{u'restaurant_id'}"
      ]
     },
     "execution_count": 278,
     "metadata": {},
     "output_type": "execute_result"
    }
   ],
   "source": [
    "set(restaurants_users_reviews_tips.columns.tolist()).intersection(checkins.columns.tolist())"
   ]
  },
  {
   "cell_type": "code",
   "execution_count": 279,
   "metadata": {
    "collapsed": false
   },
   "outputs": [
    {
     "data": {
      "text/plain": [
       "(1630, 3)"
      ]
     },
     "execution_count": 279,
     "metadata": {},
     "output_type": "execute_result"
    }
   ],
   "source": [
    "checkins.shape"
   ]
  },
  {
   "cell_type": "code",
   "execution_count": 280,
   "metadata": {
    "collapsed": true
   },
   "outputs": [],
   "source": [
    "full_features = pd.merge(restaurants_users_reviews_tips, checkins, how='left', on='restaurant_id')"
   ]
  },
  {
   "cell_type": "code",
   "execution_count": 281,
   "metadata": {
    "collapsed": false
   },
   "outputs": [
    {
     "data": {
      "text/plain": [
       "(254443, 35)"
      ]
     },
     "execution_count": 281,
     "metadata": {},
     "output_type": "execute_result"
    }
   ],
   "source": [
    "full_features.shape"
   ]
  },
  {
   "cell_type": "code",
   "execution_count": 282,
   "metadata": {
    "collapsed": true
   },
   "outputs": [],
   "source": [
    "id_map = pd.read_csv(\"data/restaurant_ids_to_yelp_ids.csv\")"
   ]
  },
  {
   "cell_type": "code",
   "execution_count": 283,
   "metadata": {
    "collapsed": true
   },
   "outputs": [],
   "source": [
    "id_dict = {}\n",
    "# each Yelp ID may correspond to up to 4 Boston IDs\n",
    "for i, row in id_map.iterrows():\n",
    "    # get the Boston ID\n",
    "    boston_id = row[\"restaurant_id\"]\n",
    "    \n",
    "    # get the non-null Yelp IDs\n",
    "    non_null_mask = ~pd.isnull(row.ix[1:])\n",
    "    yelp_ids = row[1:][non_null_mask].values\n",
    "    \n",
    "    for yelp_id in yelp_ids:\n",
    "        id_dict[yelp_id] = boston_id"
   ]
  },
  {
   "cell_type": "code",
   "execution_count": 284,
   "metadata": {
    "collapsed": false
   },
   "outputs": [],
   "source": [
    "# replace yelp business_id with boston restaurant_id\n",
    "map_to_boston_ids = lambda yelp_id: id_dict[yelp_id] if yelp_id in id_dict else np.nan\n",
    "full_features.restaurant_id = full_features.restaurant_id.map(map_to_boston_ids)\n"
   ]
  },
  {
   "cell_type": "code",
   "execution_count": 197,
   "metadata": {
    "collapsed": false
   },
   "outputs": [
    {
     "data": {
      "text/plain": [
       "(254443, 35)"
      ]
     },
     "execution_count": 197,
     "metadata": {},
     "output_type": "execute_result"
    }
   ],
   "source": [
    "full_features.shape"
   ]
  },
  {
   "cell_type": "code",
   "execution_count": 329,
   "metadata": {
    "collapsed": true
   },
   "outputs": [],
   "source": [
    "# drop restaurants not found in boston data\n",
    "full_features = full_features[pd.notnull(full_features.restaurant_id)]"
   ]
  },
  {
   "cell_type": "code",
   "execution_count": 330,
   "metadata": {
    "collapsed": false
   },
   "outputs": [
    {
     "data": {
      "text/plain": [
       "(252767, 35)"
      ]
     },
     "execution_count": 330,
     "metadata": {},
     "output_type": "execute_result"
    }
   ],
   "source": [
    "full_features.shape"
   ]
  },
  {
   "cell_type": "code",
   "execution_count": 295,
   "metadata": {
    "collapsed": false
   },
   "outputs": [],
   "source": [
    "training_response = pd.read_csv(\"data/train_labels.csv\", index_col=None)\n",
    "training_response.columns = ['inspection_id', 'inspection_date', 'restaurant_id', '*', '**', '***']"
   ]
  },
  {
   "cell_type": "code",
   "execution_count": 302,
   "metadata": {
    "collapsed": false
   },
   "outputs": [
    {
     "data": {
      "text/plain": [
       "(27088, 6)"
      ]
     },
     "execution_count": 302,
     "metadata": {},
     "output_type": "execute_result"
    }
   ],
   "source": [
    "training_response.shape"
   ]
  },
  {
   "cell_type": "code",
   "execution_count": 307,
   "metadata": {
    "collapsed": false
   },
   "outputs": [],
   "source": [
    "training_response.inspection_date = pd.to_datetime(pd.Series(training_response.inspection_date))"
   ]
  },
  {
   "cell_type": "code",
   "execution_count": 298,
   "metadata": {
    "collapsed": false
   },
   "outputs": [
    {
     "data": {
      "text/plain": [
       "{'restaurant_id'}"
      ]
     },
     "execution_count": 298,
     "metadata": {},
     "output_type": "execute_result"
    }
   ],
   "source": [
    "set(full_features.columns.tolist()).intersection(training_response.columns.tolist())"
   ]
  },
  {
   "cell_type": "code",
   "execution_count": 299,
   "metadata": {
    "collapsed": true
   },
   "outputs": [],
   "source": [
    "full_features_response = pd.merge(full_features, training_response, on='restaurant_id')"
   ]
  },
  {
   "cell_type": "code",
   "execution_count": 205,
   "metadata": {
    "collapsed": false
   },
   "outputs": [
    {
     "data": {
      "text/plain": [
       "(4071065, 40)"
      ]
     },
     "execution_count": 205,
     "metadata": {},
     "output_type": "execute_result"
    }
   ],
   "source": [
    "full_features_response.shape"
   ]
  },
  {
   "cell_type": "code",
   "execution_count": 206,
   "metadata": {
    "collapsed": false,
    "scrolled": true
   },
   "outputs": [],
   "source": [
    "no_future = full_features_response[full_features_response.inspection_date > full_features_response.review_date]"
   ]
  },
  {
   "cell_type": "code",
   "execution_count": 207,
   "metadata": {
    "collapsed": false,
    "scrolled": false
   },
   "outputs": [
    {
     "data": {
      "text/plain": [
       "(1923796, 40)"
      ]
     },
     "execution_count": 207,
     "metadata": {},
     "output_type": "execute_result"
    }
   ],
   "source": [
    "no_future.shape"
   ]
  },
  {
   "cell_type": "code",
   "execution_count": 208,
   "metadata": {
    "collapsed": false
   },
   "outputs": [
    {
     "data": {
      "text/plain": [
       "(1923796, 40)"
      ]
     },
     "execution_count": 208,
     "metadata": {},
     "output_type": "execute_result"
    }
   ],
   "source": [
    "no_future[pd.notnull(no_future.restaurant_id)].shape"
   ]
  },
  {
   "cell_type": "code",
   "execution_count": 40,
   "metadata": {
    "collapsed": false
   },
   "outputs": [],
   "source": [
    "no_future['time_delta'] = (no_future.inspection_date - no_future.review_date).astype('timedelta64[D]')\n",
    "\n",
    "restaurant_cats = pd.Categorical.from_array(no_future.restaurant_id)\n",
    "no_future['restaurant_id_number'] = restaurant_cats.codes\n",
    "\n",
    "# no_future['vote_cool'] = [i[1]['cool'] for i in no_future.review_votes.iteritems()]\n",
    "# no_future['vote_funny'] = [i[1]['funny'] for i in no_future.review_votes.iteritems()]\n",
    "# no_future['vote_useful'] = [i[1]['useful'] for i in no_future.review_votes.iteritems()]\n",
    "# no_future = no_future.drop('review_votes')\n"
   ]
  },
  {
   "cell_type": "code",
   "execution_count": 1,
   "metadata": {
    "collapsed": false
   },
   "outputs": [],
   "source": [
    "import data_grab\n",
    "train_df, test_df = data_grab.load_dataframes()"
   ]
  },
  {
   "cell_type": "code",
   "execution_count": 3,
   "metadata": {
    "collapsed": false
   },
   "outputs": [],
   "source": [
    "# pd.set_option('display.max_rows', 100)\n",
    "triplex = train_df.sort('inspection_date').set_index(['restaurant_id','inspection_date', 'review_date'])"
   ]
  },
  {
   "cell_type": "code",
   "execution_count": 4,
   "metadata": {
    "collapsed": false,
    "scrolled": true
   },
   "outputs": [
    {
     "data": {
      "text/html": [
       "<div style=\"max-height:1000px;max-width:1500px;overflow:auto;\">\n",
       "<table border=\"1\" class=\"dataframe\">\n",
       "  <thead>\n",
       "    <tr style=\"text-align: right;\">\n",
       "      <th></th>\n",
       "      <th></th>\n",
       "      <th></th>\n",
       "      <th>tip_likes</th>\n",
       "      <th>review_id</th>\n",
       "      <th>review_stars</th>\n",
       "      <th>review_text</th>\n",
       "      <th>review_type</th>\n",
       "      <th>user_id</th>\n",
       "      <th>review_votes</th>\n",
       "      <th>user_average_stars</th>\n",
       "      <th>user_compliments</th>\n",
       "      <th>user_elite</th>\n",
       "      <th>...</th>\n",
       "      <th>restaurant_state</th>\n",
       "      <th>restaurant_type</th>\n",
       "      <th>checkin_info</th>\n",
       "      <th>checkin_type</th>\n",
       "      <th>inspection_id</th>\n",
       "      <th>*</th>\n",
       "      <th>**</th>\n",
       "      <th>***</th>\n",
       "      <th>time_delta</th>\n",
       "      <th>restaurant_id_number</th>\n",
       "    </tr>\n",
       "    <tr>\n",
       "      <th>restaurant_id</th>\n",
       "      <th>inspection_date</th>\n",
       "      <th>review_date</th>\n",
       "      <th></th>\n",
       "      <th></th>\n",
       "      <th></th>\n",
       "      <th></th>\n",
       "      <th></th>\n",
       "      <th></th>\n",
       "      <th></th>\n",
       "      <th></th>\n",
       "      <th></th>\n",
       "      <th></th>\n",
       "      <th></th>\n",
       "      <th></th>\n",
       "      <th></th>\n",
       "      <th></th>\n",
       "      <th></th>\n",
       "      <th></th>\n",
       "      <th></th>\n",
       "      <th></th>\n",
       "      <th></th>\n",
       "      <th></th>\n",
       "      <th></th>\n",
       "    </tr>\n",
       "  </thead>\n",
       "  <tbody>\n",
       "    <tr>\n",
       "      <th rowspan=\"5\" valign=\"top\">1JEbP4oR</th>\n",
       "      <th rowspan=\"5\" valign=\"top\">2006-10-04</th>\n",
       "      <th>2009-08-23</th>\n",
       "      <td>NaN</td>\n",
       "      <td>-oeRykmfb4hQj_nCbJhzaQ</td>\n",
       "      <td>1</td>\n",
       "      <td>dont eat here, i got food poisining, and i see...</td>\n",
       "      <td>review</td>\n",
       "      <td>pZ6PT1plKcPe43bERqZMzw</td>\n",
       "      <td>{u'funny': 0, u'useful': 0, u'cool': 0}</td>\n",
       "      <td>3.14</td>\n",
       "      <td>{}</td>\n",
       "      <td>[]</td>\n",
       "      <td>...</td>\n",
       "      <td>MA</td>\n",
       "      <td>business</td>\n",
       "      <td>NaN</td>\n",
       "      <td>NaN</td>\n",
       "      <td>10144</td>\n",
       "      <td>0</td>\n",
       "      <td>0</td>\n",
       "      <td>0</td>\n",
       "      <td>-1054</td>\n",
       "      <td>88</td>\n",
       "    </tr>\n",
       "    <tr>\n",
       "      <th>2010-08-23</th>\n",
       "      <td>NaN</td>\n",
       "      <td>w3_pFjG0UZuGU0F6mpFvKg</td>\n",
       "      <td>4</td>\n",
       "      <td>This place makes me happy for two reasons: the...</td>\n",
       "      <td>review</td>\n",
       "      <td>-2ui9VojWKW2UJlGJyLVYg</td>\n",
       "      <td>{u'funny': 0, u'useful': 0, u'cool': 0}</td>\n",
       "      <td>4.11</td>\n",
       "      <td>{u'profile': 1, u'funny': 1, u'hot': 2, u'cool...</td>\n",
       "      <td>[]</td>\n",
       "      <td>...</td>\n",
       "      <td>MA</td>\n",
       "      <td>business</td>\n",
       "      <td>NaN</td>\n",
       "      <td>NaN</td>\n",
       "      <td>10144</td>\n",
       "      <td>0</td>\n",
       "      <td>0</td>\n",
       "      <td>0</td>\n",
       "      <td>-1419</td>\n",
       "      <td>88</td>\n",
       "    </tr>\n",
       "    <tr>\n",
       "      <th>2008-04-28</th>\n",
       "      <td>NaN</td>\n",
       "      <td>6bq0RMIr1sxHjaXnMcFvgg</td>\n",
       "      <td>4</td>\n",
       "      <td>Great under new owner, the food is improving! ...</td>\n",
       "      <td>review</td>\n",
       "      <td>wH0AulL7umy2h5zZG7Tqjw</td>\n",
       "      <td>{u'funny': 0, u'useful': 1, u'cool': 2}</td>\n",
       "      <td>3.94</td>\n",
       "      <td>{u'plain': 1, u'cool': 1}</td>\n",
       "      <td>[]</td>\n",
       "      <td>...</td>\n",
       "      <td>MA</td>\n",
       "      <td>business</td>\n",
       "      <td>NaN</td>\n",
       "      <td>NaN</td>\n",
       "      <td>10144</td>\n",
       "      <td>0</td>\n",
       "      <td>0</td>\n",
       "      <td>0</td>\n",
       "      <td>-572</td>\n",
       "      <td>88</td>\n",
       "    </tr>\n",
       "    <tr>\n",
       "      <th>2010-11-28</th>\n",
       "      <td>NaN</td>\n",
       "      <td>JBrotsf2FTqREoLlQsyUcg</td>\n",
       "      <td>4</td>\n",
       "      <td>Our family sticks to the calimari (when they h...</td>\n",
       "      <td>review</td>\n",
       "      <td>D1V-IlIWoH3UJ7eIrsGamg</td>\n",
       "      <td>{u'funny': 0, u'useful': 0, u'cool': 0}</td>\n",
       "      <td>4.23</td>\n",
       "      <td>{u'funny': 1, u'cool': 1}</td>\n",
       "      <td>[]</td>\n",
       "      <td>...</td>\n",
       "      <td>MA</td>\n",
       "      <td>business</td>\n",
       "      <td>NaN</td>\n",
       "      <td>NaN</td>\n",
       "      <td>10144</td>\n",
       "      <td>0</td>\n",
       "      <td>0</td>\n",
       "      <td>0</td>\n",
       "      <td>-1516</td>\n",
       "      <td>88</td>\n",
       "    </tr>\n",
       "    <tr>\n",
       "      <th>2009-07-04</th>\n",
       "      <td>NaN</td>\n",
       "      <td>zRdsatfS0XlypPzQtxGi2g</td>\n",
       "      <td>3</td>\n",
       "      <td>When I lived in Southie, Fish Pier was about t...</td>\n",
       "      <td>review</td>\n",
       "      <td>IkuSKxJPrOlygcLQqfwdHQ</td>\n",
       "      <td>{u'funny': 0, u'useful': 1, u'cool': 0}</td>\n",
       "      <td>3.55</td>\n",
       "      <td>{u'profile': 1, u'funny': 6, u'cute': 1, u'pla...</td>\n",
       "      <td>[2006, 2007, 2011, 2012, 2013]</td>\n",
       "      <td>...</td>\n",
       "      <td>MA</td>\n",
       "      <td>business</td>\n",
       "      <td>NaN</td>\n",
       "      <td>NaN</td>\n",
       "      <td>10144</td>\n",
       "      <td>0</td>\n",
       "      <td>0</td>\n",
       "      <td>0</td>\n",
       "      <td>-1004</td>\n",
       "      <td>88</td>\n",
       "    </tr>\n",
       "  </tbody>\n",
       "</table>\n",
       "<p>5 rows × 39 columns</p>\n",
       "</div>"
      ],
      "text/plain": [
       "                                           tip_likes               review_id  \\\n",
       "restaurant_id inspection_date review_date                                      \n",
       "1JEbP4oR      2006-10-04      2009-08-23         NaN  -oeRykmfb4hQj_nCbJhzaQ   \n",
       "                              2010-08-23         NaN  w3_pFjG0UZuGU0F6mpFvKg   \n",
       "                              2008-04-28         NaN  6bq0RMIr1sxHjaXnMcFvgg   \n",
       "                              2010-11-28         NaN  JBrotsf2FTqREoLlQsyUcg   \n",
       "                              2009-07-04         NaN  zRdsatfS0XlypPzQtxGi2g   \n",
       "\n",
       "                                           review_stars  \\\n",
       "restaurant_id inspection_date review_date                 \n",
       "1JEbP4oR      2006-10-04      2009-08-23              1   \n",
       "                              2010-08-23              4   \n",
       "                              2008-04-28              4   \n",
       "                              2010-11-28              4   \n",
       "                              2009-07-04              3   \n",
       "\n",
       "                                                                                 review_text  \\\n",
       "restaurant_id inspection_date review_date                                                      \n",
       "1JEbP4oR      2006-10-04      2009-08-23   dont eat here, i got food poisining, and i see...   \n",
       "                              2010-08-23   This place makes me happy for two reasons: the...   \n",
       "                              2008-04-28   Great under new owner, the food is improving! ...   \n",
       "                              2010-11-28   Our family sticks to the calimari (when they h...   \n",
       "                              2009-07-04   When I lived in Southie, Fish Pier was about t...   \n",
       "\n",
       "                                          review_type                 user_id  \\\n",
       "restaurant_id inspection_date review_date                                       \n",
       "1JEbP4oR      2006-10-04      2009-08-23       review  pZ6PT1plKcPe43bERqZMzw   \n",
       "                              2010-08-23       review  -2ui9VojWKW2UJlGJyLVYg   \n",
       "                              2008-04-28       review  wH0AulL7umy2h5zZG7Tqjw   \n",
       "                              2010-11-28       review  D1V-IlIWoH3UJ7eIrsGamg   \n",
       "                              2009-07-04       review  IkuSKxJPrOlygcLQqfwdHQ   \n",
       "\n",
       "                                                                      review_votes  \\\n",
       "restaurant_id inspection_date review_date                                            \n",
       "1JEbP4oR      2006-10-04      2009-08-23   {u'funny': 0, u'useful': 0, u'cool': 0}   \n",
       "                              2010-08-23   {u'funny': 0, u'useful': 0, u'cool': 0}   \n",
       "                              2008-04-28   {u'funny': 0, u'useful': 1, u'cool': 2}   \n",
       "                              2010-11-28   {u'funny': 0, u'useful': 0, u'cool': 0}   \n",
       "                              2009-07-04   {u'funny': 0, u'useful': 1, u'cool': 0}   \n",
       "\n",
       "                                           user_average_stars  \\\n",
       "restaurant_id inspection_date review_date                       \n",
       "1JEbP4oR      2006-10-04      2009-08-23                 3.14   \n",
       "                              2010-08-23                 4.11   \n",
       "                              2008-04-28                 3.94   \n",
       "                              2010-11-28                 4.23   \n",
       "                              2009-07-04                 3.55   \n",
       "\n",
       "                                                                            user_compliments  \\\n",
       "restaurant_id inspection_date review_date                                                      \n",
       "1JEbP4oR      2006-10-04      2009-08-23                                                  {}   \n",
       "                              2010-08-23   {u'profile': 1, u'funny': 1, u'hot': 2, u'cool...   \n",
       "                              2008-04-28                           {u'plain': 1, u'cool': 1}   \n",
       "                              2010-11-28                           {u'funny': 1, u'cool': 1}   \n",
       "                              2009-07-04   {u'profile': 1, u'funny': 6, u'cute': 1, u'pla...   \n",
       "\n",
       "                                                               user_elite  \\\n",
       "restaurant_id inspection_date review_date                                   \n",
       "1JEbP4oR      2006-10-04      2009-08-23                               []   \n",
       "                              2010-08-23                               []   \n",
       "                              2008-04-28                               []   \n",
       "                              2010-11-28                               []   \n",
       "                              2009-07-04   [2006, 2007, 2011, 2012, 2013]   \n",
       "\n",
       "                                                  ...           \\\n",
       "restaurant_id inspection_date review_date         ...            \n",
       "1JEbP4oR      2006-10-04      2009-08-23          ...            \n",
       "                              2010-08-23          ...            \n",
       "                              2008-04-28          ...            \n",
       "                              2010-11-28          ...            \n",
       "                              2009-07-04          ...            \n",
       "\n",
       "                                           restaurant_state restaurant_type  \\\n",
       "restaurant_id inspection_date review_date                                     \n",
       "1JEbP4oR      2006-10-04      2009-08-23                 MA        business   \n",
       "                              2010-08-23                 MA        business   \n",
       "                              2008-04-28                 MA        business   \n",
       "                              2010-11-28                 MA        business   \n",
       "                              2009-07-04                 MA        business   \n",
       "\n",
       "                                          checkin_info  checkin_type  \\\n",
       "restaurant_id inspection_date review_date                              \n",
       "1JEbP4oR      2006-10-04      2009-08-23           NaN           NaN   \n",
       "                              2010-08-23           NaN           NaN   \n",
       "                              2008-04-28           NaN           NaN   \n",
       "                              2010-11-28           NaN           NaN   \n",
       "                              2009-07-04           NaN           NaN   \n",
       "\n",
       "                                          inspection_id  * ** *** time_delta  \\\n",
       "restaurant_id inspection_date review_date                                      \n",
       "1JEbP4oR      2006-10-04      2009-08-23          10144  0  0   0      -1054   \n",
       "                              2010-08-23          10144  0  0   0      -1419   \n",
       "                              2008-04-28          10144  0  0   0       -572   \n",
       "                              2010-11-28          10144  0  0   0      -1516   \n",
       "                              2009-07-04          10144  0  0   0      -1004   \n",
       "\n",
       "                                          restaurant_id_number  \n",
       "restaurant_id inspection_date review_date                       \n",
       "1JEbP4oR      2006-10-04      2009-08-23                    88  \n",
       "                              2010-08-23                    88  \n",
       "                              2008-04-28                    88  \n",
       "                              2010-11-28                    88  \n",
       "                              2009-07-04                    88  \n",
       "\n",
       "[5 rows x 39 columns]"
      ]
     },
     "execution_count": 4,
     "metadata": {},
     "output_type": "execute_result"
    }
   ],
   "source": [
    "triplex.head()"
   ]
  },
  {
   "cell_type": "code",
   "execution_count": 2,
   "metadata": {
    "collapsed": false
   },
   "outputs": [],
   "source": [
    "def pull_features(df):\n",
    "    features = df[['time_delta', 'review_text']]\n",
    "    features.review_text = features.review_text.apply(lambda x: len(x))\n",
    "    response = df[['*', '**', '***']].astype(np.float64)\n",
    "    return features, response"
   ]
  },
  {
   "cell_type": "code",
   "execution_count": 5,
   "metadata": {
    "collapsed": false
   },
   "outputs": [],
   "source": [
    "X, y = pull_features(train_df)"
   ]
  },
  {
   "cell_type": "code",
   "execution_count": 6,
   "metadata": {
    "collapsed": false
   },
   "outputs": [],
   "source": [
    "from sklearn.linear_model import LinearRegression\n",
    "ols = LinearRegression()\n",
    "model = ols.fit(X,y)"
   ]
  },
  {
   "cell_type": "code",
   "execution_count": 7,
   "metadata": {
    "collapsed": false
   },
   "outputs": [
    {
     "data": {
      "text/plain": [
       "0.00015613079400389474"
      ]
     },
     "execution_count": 7,
     "metadata": {},
     "output_type": "execute_result"
    }
   ],
   "source": [
    "model.score(X,y)"
   ]
  },
  {
   "cell_type": "code",
   "execution_count": 8,
   "metadata": {
    "collapsed": false
   },
   "outputs": [],
   "source": [
    "trans_y = pd.DataFrame(y.multiply([1,3,5], axis=1).sum(axis=1), columns=['transformed_score'])\n",
    "data = pd.concat([X, y], axis=1)\n",
    "trans_data = pd.concat([X, trans_y], axis=1)"
   ]
  },
  {
   "cell_type": "code",
   "execution_count": 57,
   "metadata": {
    "collapsed": false
   },
   "outputs": [
    {
     "data": {
      "text/plain": [
       "array([[<matplotlib.axes._subplots.AxesSubplot object at 0x10d1ca650>,\n",
       "        <matplotlib.axes._subplots.AxesSubplot object at 0x1148782d0>]], dtype=object)"
      ]
     },
     "execution_count": 57,
     "metadata": {},
     "output_type": "execute_result"
    },
    {
     "data": {
      "image/png": "[encoded data removed]",
      "text/plain": [
       "<matplotlib.figure.Figure at 0x10ac2dd10>"
      ]
     },
     "metadata": {},
     "output_type": "display_data"
    }
   ],
   "source": [
    "X.hist(bins=50)"
   ]
  },
  {
   "cell_type": "code",
   "execution_count": 221,
   "metadata": {
    "collapsed": false,
    "scrolled": true
   },
   "outputs": [
    {
     "data": {
      "text/plain": [
       "array([[<matplotlib.axes._subplots.AxesSubplot object at 0x1cd8c7390>,\n",
       "        <matplotlib.axes._subplots.AxesSubplot object at 0x2bb2eb650>],\n",
       "       [<matplotlib.axes._subplots.AxesSubplot object at 0x26694dc90>,\n",
       "        <matplotlib.axes._subplots.AxesSubplot object at 0x266939990>]], dtype=object)"
      ]
     },
     "execution_count": 221,
     "metadata": {},
     "output_type": "execute_result"
    },
    {
     "data": {
      "image/png": "[encoded data removed]",
      "text/plain": [
       "<matplotlib.figure.Figure at 0x1cdbdbfd0>"
      ]
     },
     "metadata": {},
     "output_type": "display_data"
    }
   ],
   "source": [
    "y.hist(bins=50)"
   ]
  },
  {
   "cell_type": "code",
   "execution_count": 155,
   "metadata": {
    "collapsed": false
   },
   "outputs": [
    {
     "data": {
      "text/plain": [
       "<matplotlib.axes._subplots.AxesSubplot at 0x1d0952b50>"
      ]
     },
     "execution_count": 155,
     "metadata": {},
     "output_type": "execute_result"
    },
    {
     "data": {
      "image/png": "[encoded data removed]",
      "text/plain": [
       "<matplotlib.figure.Figure at 0x1cf6cce90>"
      ]
     },
     "metadata": {},
     "output_type": "display_data"
    }
   ],
   "source": [
    "trans_y.hist(bins=100)"
   ]
  },
  {
   "cell_type": "code",
   "execution_count": null,
   "metadata": {
    "collapsed": false
   },
   "outputs": [],
   "source": [
    "g = sns.FacetGrid(trans_data, margin_titles=True)\n",
    "g.map(sns.regplot, 'time_delta', 'transformed_score', color=\".3\", fit_reg=False, x_jitter=.1);"
   ]
  },
  {
   "cell_type": "code",
   "execution_count": null,
   "metadata": {
    "collapsed": false
   },
   "outputs": [],
   "source": [
    "sns.distplot(X['time_delta'] )"
   ]
  },
  {
   "cell_type": "code",
   "execution_count": 50,
   "metadata": {
    "collapsed": false
   },
   "outputs": [
    {
     "data": {
      "text/plain": [
       "[<matplotlib.lines.Line2D at 0x10acd0110>]"
      ]
     },
     "execution_count": 50,
     "metadata": {},
     "output_type": "execute_result"
    },
    {
     "data": {
      "image/png": "[encoded data removed]",
      "text/plain": [
       "<matplotlib.figure.Figure at 0x10abb9bd0>"
      ]
     },
     "metadata": {},
     "output_type": "display_data"
    }
   ],
   "source": [
    "plt.plot(X['review_text'], trans_y, '.', alpha=0.2)"
   ]
  },
  {
   "cell_type": "code",
   "execution_count": 169,
   "metadata": {
    "collapsed": false
   },
   "outputs": [
    {
     "data": {
      "image/png": "[encoded data removed]",
      "text/plain": [
       "<matplotlib.figure.Figure at 0x14407a650>"
      ]
     },
     "metadata": {},
     "output_type": "display_data"
    }
   ],
   "source": [
    "f, ax = plt.subplots(figsize=(10, 10))\n",
    "cmap = sns.blend_palette([\"#00008B\", \"#6A5ACD\", \"#F0F8FF\",\n",
    "                          \"#FFE6F8\", \"#C71585\", \"#8B0000\"], as_cmap=True)\n",
    "sns.corrplot(data, annot=False, diag_names=False, cmap=cmap)\n",
    "ax.grid(False);"
   ]
  },
  {
   "cell_type": "code",
   "execution_count": 17,
   "metadata": {
    "collapsed": false
   },
   "outputs": [
    {
     "data": {
      "text/plain": [
       "-0.0012309889619115388"
      ]
     },
     "execution_count": 17,
     "metadata": {},
     "output_type": "execute_result"
    }
   ],
   "source": [
    "from sklearn.cross_validation import cross_val_score\n",
    "np.mean(cross_val_score(LinearRegression(), X, y, cv=3))"
   ]
  },
  {
   "cell_type": "code",
   "execution_count": 27,
   "metadata": {
    "collapsed": false
   },
   "outputs": [
    {
     "data": {
      "text/plain": [
       "array([ 1.,  1.,  1.])"
      ]
     },
     "execution_count": 27,
     "metadata": {},
     "output_type": "execute_result"
    }
   ],
   "source": [
    "Xa=[[1,2,3,4],[1,2,3,4],[1,2,3,4],[1,2,3,4],[1,2,3,4]]\n",
    "ya=[[1,2,3,4],[1,2,3,4],[1,2,3,4],[1,2,3,4],[1,2,3,4]]\n",
    "cross_val_score(LinearRegression(), Xa, ya, n_jobs=-1)"
   ]
  },
  {
   "cell_type": "code",
   "execution_count": 196,
   "metadata": {
    "collapsed": false
   },
   "outputs": [],
   "source": [
    "X_test, y_test = pull_features(test_df)"
   ]
  },
  {
   "cell_type": "code",
   "execution_count": 46,
   "metadata": {
    "collapsed": false
   },
   "outputs": [
    {
     "data": {
      "text/html": [
       "<div style=\"max-height:1000px;max-width:1500px;overflow:auto;\">\n",
       "<table border=\"1\" class=\"dataframe\">\n",
       "  <thead>\n",
       "    <tr style=\"text-align: right;\">\n",
       "      <th></th>\n",
       "      <th>time_delta</th>\n",
       "      <th>review_text</th>\n",
       "    </tr>\n",
       "  </thead>\n",
       "  <tbody>\n",
       "    <tr>\n",
       "      <th>0</th>\n",
       "      <td>1688</td>\n",
       "      <td>417</td>\n",
       "    </tr>\n",
       "    <tr>\n",
       "      <th>1</th>\n",
       "      <td>2680</td>\n",
       "      <td>417</td>\n",
       "    </tr>\n",
       "    <tr>\n",
       "      <th>2</th>\n",
       "      <td>596</td>\n",
       "      <td>216</td>\n",
       "    </tr>\n",
       "    <tr>\n",
       "      <th>3</th>\n",
       "      <td>1588</td>\n",
       "      <td>216</td>\n",
       "    </tr>\n",
       "    <tr>\n",
       "      <th>4</th>\n",
       "      <td>242</td>\n",
       "      <td>1241</td>\n",
       "    </tr>\n",
       "  </tbody>\n",
       "</table>\n",
       "</div>"
      ],
      "text/plain": [
       "   time_delta  review_text\n",
       "0        1688          417\n",
       "1        2680          417\n",
       "2         596          216\n",
       "3        1588          216\n",
       "4         242         1241"
      ]
     },
     "execution_count": 46,
     "metadata": {},
     "output_type": "execute_result"
    }
   ],
   "source": [
    "X_test.head()"
   ]
  },
  {
   "cell_type": "code",
   "execution_count": 47,
   "metadata": {
    "collapsed": false
   },
   "outputs": [],
   "source": [
    "predictions = model.predict(X_test)\n",
    "predictions = np.clip(predictions, 0, np.inf)\n",
    "# try clipping after averaging scores also"
   ]
  },
  {
   "cell_type": "code",
   "execution_count": 48,
   "metadata": {
    "collapsed": false
   },
   "outputs": [
    {
     "data": {
      "text/plain": [
       "array([[ 4.23722761,  0.38849799,  0.89294277],\n",
       "       [ 4.20103984,  0.39877352,  0.86747585],\n",
       "       [ 4.2653079 ,  0.37757261,  0.92215705],\n",
       "       ..., \n",
       "       [ 4.25066454,  0.3871499 ,  0.89449795],\n",
       "       [ 4.24599515,  0.38847577,  0.89121189],\n",
       "       [ 4.28755988,  0.37118072,  0.93805189]])"
      ]
     },
     "execution_count": 48,
     "metadata": {},
     "output_type": "execute_result"
    }
   ],
   "source": [
    "predictions"
   ]
  },
  {
   "cell_type": "code",
   "execution_count": 73,
   "metadata": {
    "collapsed": false
   },
   "outputs": [],
   "source": [
    "new_submission = data_grab.get_submission().copy()\n",
    "# train_labels, train_targets = data_grab.get_response()"
   ]
  },
  {
   "cell_type": "code",
   "execution_count": 188,
   "metadata": {
    "collapsed": false
   },
   "outputs": [],
   "source": [
    "temp_df = test_df.copy()\n",
    "temp_df[['*','**','***']] = predictions"
   ]
  },
  {
   "cell_type": "code",
   "execution_count": 208,
   "metadata": {
    "collapsed": false
   },
   "outputs": [],
   "source": [
    "submit_scores = temp_df.groupby(['restaurant_id', 'inspection_date', 'inspection_id'])['*','**','***'].mean()"
   ]
  },
  {
   "cell_type": "code",
   "execution_count": 178,
   "metadata": {
    "collapsed": false
   },
   "outputs": [],
   "source": [
    "temp = submit_scores.reset_index().set_index('inspection_id')\n",
    "indexed = temp.reindex(new_submission.index)"
   ]
  },
  {
   "cell_type": "code",
   "execution_count": 85,
   "metadata": {
    "collapsed": false
   },
   "outputs": [
    {
     "data": {
      "text/html": [
       "<div style=\"max-height:1000px;max-width:1500px;overflow:auto;\">\n",
       "<table border=\"1\" class=\"dataframe\">\n",
       "  <thead>\n",
       "    <tr style=\"text-align: right;\">\n",
       "      <th></th>\n",
       "      <th>restaurant_id</th>\n",
       "      <th>inspection_date</th>\n",
       "      <th>*</th>\n",
       "      <th>**</th>\n",
       "      <th>***</th>\n",
       "    </tr>\n",
       "    <tr>\n",
       "      <th>id</th>\n",
       "      <th></th>\n",
       "      <th></th>\n",
       "      <th></th>\n",
       "      <th></th>\n",
       "      <th></th>\n",
       "    </tr>\n",
       "  </thead>\n",
       "  <tbody>\n",
       "    <tr>\n",
       "      <th>14916</th>\n",
       "      <td>nkOvZOBW</td>\n",
       "      <td>2014-12-17</td>\n",
       "      <td>4.271066</td>\n",
       "      <td>0.379941</td>\n",
       "      <td>0.913390</td>\n",
       "    </tr>\n",
       "    <tr>\n",
       "      <th>29767</th>\n",
       "      <td>WwOaAnOB</td>\n",
       "      <td>2013-12-30</td>\n",
       "      <td>4.276481</td>\n",
       "      <td>0.377986</td>\n",
       "      <td>0.918537</td>\n",
       "    </tr>\n",
       "    <tr>\n",
       "      <th>29338</th>\n",
       "      <td>we39kvOk</td>\n",
       "      <td>2011-04-08</td>\n",
       "      <td>4.314311</td>\n",
       "      <td>0.368737</td>\n",
       "      <td>0.940380</td>\n",
       "    </tr>\n",
       "    <tr>\n",
       "      <th>7219</th>\n",
       "      <td>dj3d5Xo9</td>\n",
       "      <td>2013-12-30</td>\n",
       "      <td>4.260858</td>\n",
       "      <td>0.384555</td>\n",
       "      <td>0.900714</td>\n",
       "    </tr>\n",
       "    <tr>\n",
       "      <th>20979</th>\n",
       "      <td>XJ3rBW3R</td>\n",
       "      <td>2008-03-31</td>\n",
       "      <td>4.316896</td>\n",
       "      <td>0.369364</td>\n",
       "      <td>0.937839</td>\n",
       "    </tr>\n",
       "  </tbody>\n",
       "</table>\n",
       "</div>"
      ],
      "text/plain": [
       "      restaurant_id inspection_date         *        **       ***\n",
       "id                                                               \n",
       "14916      nkOvZOBW      2014-12-17  4.271066  0.379941  0.913390\n",
       "29767      WwOaAnOB      2013-12-30  4.276481  0.377986  0.918537\n",
       "29338      we39kvOk      2011-04-08  4.314311  0.368737  0.940380\n",
       "7219       dj3d5Xo9      2013-12-30  4.260858  0.384555  0.900714\n",
       "20979      XJ3rBW3R      2008-03-31  4.316896  0.369364  0.937839"
      ]
     },
     "execution_count": 85,
     "metadata": {},
     "output_type": "execute_result"
    }
   ],
   "source": [
    "indexed.head()"
   ]
  },
  {
   "cell_type": "code",
   "execution_count": 95,
   "metadata": {
    "collapsed": true
   },
   "outputs": [],
   "source": [
    "new_submission.iloc[:, -3:] = np.round(indexed[['*','**','***']]).astype(int)"
   ]
  },
  {
   "cell_type": "code",
   "execution_count": 96,
   "metadata": {
    "collapsed": false
   },
   "outputs": [
    {
     "data": {
      "text/html": [
       "<div style=\"max-height:1000px;max-width:1500px;overflow:auto;\">\n",
       "<table border=\"1\" class=\"dataframe\">\n",
       "  <thead>\n",
       "    <tr style=\"text-align: right;\">\n",
       "      <th></th>\n",
       "      <th>date</th>\n",
       "      <th>restaurant_id</th>\n",
       "      <th>*</th>\n",
       "      <th>**</th>\n",
       "      <th>***</th>\n",
       "    </tr>\n",
       "    <tr>\n",
       "      <th>id</th>\n",
       "      <th></th>\n",
       "      <th></th>\n",
       "      <th></th>\n",
       "      <th></th>\n",
       "      <th></th>\n",
       "    </tr>\n",
       "  </thead>\n",
       "  <tbody>\n",
       "    <tr>\n",
       "      <th>14916</th>\n",
       "      <td>2014-12-17</td>\n",
       "      <td>nkOvZOBW</td>\n",
       "      <td>4</td>\n",
       "      <td>0</td>\n",
       "      <td>1</td>\n",
       "    </tr>\n",
       "    <tr>\n",
       "      <th>29767</th>\n",
       "      <td>2013-12-30</td>\n",
       "      <td>WwOaAnOB</td>\n",
       "      <td>4</td>\n",
       "      <td>0</td>\n",
       "      <td>1</td>\n",
       "    </tr>\n",
       "    <tr>\n",
       "      <th>29338</th>\n",
       "      <td>2011-04-08</td>\n",
       "      <td>we39kvOk</td>\n",
       "      <td>4</td>\n",
       "      <td>0</td>\n",
       "      <td>1</td>\n",
       "    </tr>\n",
       "    <tr>\n",
       "      <th>7219</th>\n",
       "      <td>2013-12-30</td>\n",
       "      <td>dj3d5Xo9</td>\n",
       "      <td>4</td>\n",
       "      <td>0</td>\n",
       "      <td>1</td>\n",
       "    </tr>\n",
       "    <tr>\n",
       "      <th>20979</th>\n",
       "      <td>2008-03-31</td>\n",
       "      <td>XJ3rBW3R</td>\n",
       "      <td>4</td>\n",
       "      <td>0</td>\n",
       "      <td>1</td>\n",
       "    </tr>\n",
       "  </tbody>\n",
       "</table>\n",
       "</div>"
      ],
      "text/plain": [
       "             date restaurant_id  *  **  ***\n",
       "id                                         \n",
       "14916  2014-12-17      nkOvZOBW  4   0    1\n",
       "29767  2013-12-30      WwOaAnOB  4   0    1\n",
       "29338  2011-04-08      we39kvOk  4   0    1\n",
       "7219   2013-12-30      dj3d5Xo9  4   0    1\n",
       "20979  2008-03-31      XJ3rBW3R  4   0    1"
      ]
     },
     "execution_count": 96,
     "metadata": {},
     "output_type": "execute_result"
    }
   ],
   "source": [
    "new_submission.head()"
   ]
  },
  {
   "cell_type": "code",
   "execution_count": 97,
   "metadata": {
    "collapsed": false
   },
   "outputs": [],
   "source": [
    "new_submission.to_csv('predictions/ols.csv')"
   ]
  },
  {
   "cell_type": "code",
   "execution_count": null,
   "metadata": {
    "collapsed": true
   },
   "outputs": [],
   "source": [
    "# incoroprate identical value test into submit and fit function\n",
    "# average results\n",
    "# make sure that all of the submission restaurants are in the training set\n",
    "# make plot for 1, 2, and 3 star separately for each change in feature and plot features alone too\n",
    "# jitter plots\n",
    "# why does the submission file have more line items after the prediction file is averaged?\n",
    "# make feature combining algorithm to choose which increase accuracy\n",
    "# with predicted scores clipped before and after averaging\n",
    "# transform all the features\n",
    "# with and without restaurant_id_number included. technically dont need it because each row corresponds with a restaurant"
   ]
  },
  {
   "cell_type": "code",
   "execution_count": 47,
   "metadata": {
    "collapsed": false
   },
   "outputs": [
    {
     "data": {
      "text/plain": [
       "Int64Index([      0,       1,       2,       3,       4,       5,       6,\n",
       "                  7,       8,       9, \n",
       "            ...\n",
       "            4071055, 4071056, 4071057, 4071058, 4071059, 4071060, 4071061,\n",
       "            4071062, 4071063, 4071064],\n",
       "           dtype='int64', length=4071065)"
      ]
     },
     "execution_count": 47,
     "metadata": {},
     "output_type": "execute_result"
    }
   ],
   "source": [
    "train_df.index"
   ]
  },
  {
   "cell_type": "code",
   "execution_count": null,
   "metadata": {
    "collapsed": true
   },
   "outputs": [],
   "source": []
  }
 ],
 "metadata": {
  "kernelspec": {
   "display_name": "Python 2",
   "language": "python",
   "name": "python2"
  },
  "language_info": {
   "codemirror_mode": {
    "name": "ipython",
    "version": 2
   },
   "file_extension": ".py",
   "mimetype": "text/x-python",
   "name": "python",
   "nbconvert_exporter": "python",
   "pygments_lexer": "ipython2",
   "version": "2.7.9"
  }
 },
 "nbformat": 4,
 "nbformat_minor": 0
}
