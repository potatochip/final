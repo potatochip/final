{
 "cells": [
  {
   "cell_type": "code",
   "execution_count": 1,
   "metadata": {
    "collapsed": true
   },
   "outputs": [],
   "source": [
    "%matplotlib inline\n",
    "\n",
    "import numpy as np\n",
    "import pandas as pd\n",
    "import seaborn as sns\n",
    "import matplotlib.pyplot as plt\n",
    "from pandas.io.json import json_normalize\n",
    "import json\n",
    "\n",
    "plt.rcParams[\"figure.figsize\"] = (10, 8)"
   ]
  },
  {
   "cell_type": "code",
   "execution_count": 2,
   "metadata": {
    "collapsed": true
   },
   "outputs": [],
   "source": [
    "def byteify(input):\n",
    "    if isinstance(input, dict):\n",
    "        return {byteify(key):byteify(value) for key,value in input.iteritems()}\n",
    "    elif isinstance(input, list):\n",
    "        return [byteify(element) for element in input]\n",
    "    elif isinstance(input, unicode):\n",
    "        return input.encode('utf-8')\n",
    "    else:\n",
    "        return input"
   ]
  },
  {
   "cell_type": "code",
   "execution_count": 3,
   "metadata": {
    "collapsed": false
   },
   "outputs": [],
   "source": [
    "training_response = pd.read_csv(\"data/train_labels.csv\", index_col=None)\n",
    "training_response.columns = ['inspection_id', 'inspection_date', 'restaurant_id', 'score_lvl_1', 'score_lvl_2', 'score_lvl_3']"
   ]
  },
  {
   "cell_type": "code",
   "execution_count": 4,
   "metadata": {
    "collapsed": false
   },
   "outputs": [
    {
     "data": {
      "text/plain": [
       "(27088, 6)"
      ]
     },
     "execution_count": 4,
     "metadata": {},
     "output_type": "execute_result"
    }
   ],
   "source": [
    "training_response.shape"
   ]
  },
  {
   "cell_type": "code",
   "execution_count": 5,
   "metadata": {
    "collapsed": true
   },
   "outputs": [],
   "source": [
    "def map_ids(df):\n",
    "    id_map = pd.read_csv(\"data/restaurant_ids_to_yelp_ids.csv\")\n",
    "    id_dict = {}\n",
    "    # each Yelp ID may correspond to up to 4 Boston IDs\n",
    "    for i, row in id_map.iterrows():\n",
    "        # get the Boston ID\n",
    "        boston_id = row[\"restaurant_id\"]\n",
    "        # get the non-null Yelp IDs\n",
    "        non_null_mask = ~pd.isnull(row.ix[1:])\n",
    "        yelp_ids = row[1:][non_null_mask].values\n",
    "        for yelp_id in yelp_ids:\n",
    "            id_dict[yelp_id] = boston_id\n",
    "    # replace yelp business_id with boston restaurant_id\n",
    "    map_to_boston_ids = lambda yelp_id: id_dict[yelp_id] if yelp_id in id_dict else np.nan\n",
    "\n",
    "    print(\"shape before mapping ids: {}\".format(df.shape))\n",
    "    df.restaurant_id = df.restaurant_id.map(map_to_boston_ids)\n",
    "    print(\"shape after mapping ids: {}\".format(df.shape))\n",
    "    return df"
   ]
  },
  {
   "cell_type": "code",
   "execution_count": 6,
   "metadata": {
    "collapsed": false
   },
   "outputs": [
    {
     "data": {
      "text/plain": [
       "(27088, 6)"
      ]
     },
     "execution_count": 6,
     "metadata": {},
     "output_type": "execute_result"
    }
   ],
   "source": [
    "training_response.shape"
   ]
  },
  {
   "cell_type": "markdown",
   "metadata": {},
   "source": [
    "## each restaurant only has a single id associated with it by boston but every time a restaurant changes names then yelp gives it a new id"
   ]
  },
  {
   "cell_type": "code",
   "execution_count": 104,
   "metadata": {
    "collapsed": false
   },
   "outputs": [],
   "source": [
    "data = []\n",
    "with open(\"data/yelp_academic_dataset_business.json\", 'r') as f:\n",
    "    for line in f:\n",
    "        data.append(byteify(json.loads(line)))\n",
    "restaurants = json_normalize(data)"
   ]
  },
  {
   "cell_type": "code",
   "execution_count": 105,
   "metadata": {
    "collapsed": true
   },
   "outputs": [],
   "source": [
    "    shorter = restaurants['attributes.Good For Kids'].tolist()\n",
    "    longer = restaurants['attributes.Good for Kids'].fillna(0).tolist()\n",
    "    new_kids_on_the_block = []\n",
    "    for index, val in enumerate(longer):\n",
    "        if val == 0:\n",
    "            new_kids_on_the_block.append(shorter[index])\n",
    "        else:\n",
    "            new_kids_on_the_block.append(val)\n",
    "    restaurants.drop('attributes.Good For Kids', axis=1, inplace=True)"
   ]
  },
  {
   "cell_type": "code",
   "execution_count": 106,
   "metadata": {
    "collapsed": false
   },
   "outputs": [],
   "source": [
    "restaurants.columns = ['restaurant_attributes_accepts_credit_cards', 'restaurant_attributes_ages_allowed', 'restaurant_attributes_alcohol', 'restaurant_attributes_ambience_casual', 'restaurant_attributes_ambience_classy', 'restaurant_attributes_ambience_divey', 'restaurant_attributes_ambience_hipster', 'restaurant_attributes_ambience_intimate', 'restaurant_attributes_ambience_romantic', 'restaurant_attributes_ambience_touristy', 'restaurant_attributes_ambience_trendy', 'restaurant_attributes_ambience_upscale', 'restaurant_attributes_attire', 'restaurant_attributes_byob', 'restaurant_attributes_byob-corkage', 'restaurant_attributes_by_appointment_only', 'restaurant_attributes_caters', 'restaurant_attributes_coat_check', 'restaurant_attributes_corkage', 'restaurant_attributes_delivery', 'restaurant_attributes_dietary_restrictions_dairy-free', 'restaurant_attributes_dietary_restrictions_gluten-free', 'restaurant_attributes_dietary_restrictions_halal', 'restaurant_attributes_dietary_restrictions_kosher', 'restaurant_attributes_dietary_restrictions_soy-free', 'restaurant_attributes_dietary_restrictions_vegan', 'restaurant_attributes_dietary_restrictions_vegetarian', 'restaurant_attributes_dogs_allowed', 'restaurant_attributes_drive-thr', 'restaurant_attributes_good_for_dancing', 'restaurant_attributes_good_for_groups', 'restaurant_attributes_good_for_breakfast', 'restaurant_attributes_good_for_brunch', 'restaurant_attributes_good_for_dessert', 'restaurant_attributes_good_for_dinner', 'restaurant_attributes_good_for_latenight', 'restaurant_attributes_good_for_lunch', 'restaurant_attributes_good_for_kids', 'restaurant_attributes_happy_hour', 'restaurant_attributes_has_tv', 'restaurant_attributes_music_background_music', 'restaurant_attributes_music_dj', 'restaurant_attributes_music_jukebox', 'restaurant_attributes_music_karaoke', 'restaurant_attributes_music_live', 'restaurant_attributes_music_video', 'restaurant_attributes_noise_level', 'restaurant_attributes_open_24_hours', 'restaurant_attributes_order_at_counter', 'restaurant_attributes_outdoor_seating', 'restaurant_attributes_parking_garage', 'restaurant_attributes_parking_lot', 'restaurant_attributes_parking_street', 'restaurant_attributes_parking_valet', 'restaurant_attributes_parking_validated', 'restaurant_attributes_payment_types_amex', 'restaurant_attributes_payment_types_cash_only', 'restaurant_attributes_payment_types_discover', 'restaurant_attributes_payment_types_mastercard', 'restaurant_attributes_payment_types_visa', 'restaurant_attributes_price_range', 'restaurant_attributes_smoking', 'restaurant_attributes_take-out', 'restaurant_attributes_takes_reservations', 'restaurant_attributes_waiter_service', 'restaurant_attributes_wheelchair_accessible', 'restaurant_attributes_wi-fi', 'restaurant_id', 'restaurant_categories', 'restaurant_city', 'restaurant_full_address', 'restaurant_hours_friday_close', 'restaurant_hours_friday_open', 'restaurant_hours_monday_close', 'restaurant_hours_monday_open', 'restaurant_hours_saturday_close', 'restaurant_hours_saturday_open', 'restaurant_hours_sunday_close', 'restaurant_hours_sunday_open', 'restaurant_hours_thursday_close', 'restaurant_hours_thursday_open', 'restaurant_hours_tuesday_close', 'restaurant_hours_tuesday_open', 'restaurant_hours_wednesday_close', 'restaurant_hours_wednesday_open', 'restaurant_latitude', 'restaurant_longitude', 'restaurant_name', 'restaurant_neighborhoods', 'restaurant_open', 'restaurant_review_count', 'restaurant_stars', 'restaurant_state', 'restaurant_type']"
   ]
  },
  {
   "cell_type": "code",
   "execution_count": 107,
   "metadata": {
    "collapsed": false
   },
   "outputs": [
    {
     "data": {
      "text/plain": [
       "(1930, 94)"
      ]
     },
     "execution_count": 107,
     "metadata": {},
     "output_type": "execute_result"
    }
   ],
   "source": [
    "restaurants.shape"
   ]
  },
  {
   "cell_type": "code",
   "execution_count": 108,
   "metadata": {
    "collapsed": false
   },
   "outputs": [],
   "source": [
    "restaurants.restaurant_id = restaurants.restaurant_id.map(map_to_boston_ids)"
   ]
  },
  {
   "cell_type": "code",
   "execution_count": 109,
   "metadata": {
    "collapsed": true
   },
   "outputs": [],
   "source": [
    "def easy_bools(df, column):\n",
    "    # converts nans to false\n",
    "    df[column] = df[column].fillna(False).astype('bool')\n",
    "    return df"
   ]
  },
  {
   "cell_type": "code",
   "execution_count": 110,
   "metadata": {
    "collapsed": false
   },
   "outputs": [],
   "source": [
    "df = restaurants\n",
    "df = easy_bools(df, 'restaurant_attributes_accepts_credit_cards')\n",
    "df = easy_bools(df, 'restaurant_attributes_byob')\n",
    "df = easy_bools(df, 'restaurant_attributes_by_appointment_only')\n",
    "df = easy_bools(df, 'restaurant_attributes_caters')\n",
    "df = easy_bools(df, 'restaurant_attributes_coat_check')\n",
    "df = easy_bools(df, 'restaurant_attributes_corkage')\n",
    "df = easy_bools(df, 'restaurant_attributes_delivery')\n",
    "df = easy_bools(df, 'restaurant_attributes_dietary_restrictions_dairy-free')\n",
    "df = easy_bools(df, 'restaurant_attributes_dietary_restrictions_gluten-free')\n",
    "df = easy_bools(df, 'restaurant_attributes_dietary_restrictions_halal')\n",
    "df = easy_bools(df, 'restaurant_attributes_dietary_restrictions_kosher')\n",
    "df = easy_bools(df, 'restaurant_attributes_dietary_restrictions_soy-free')\n",
    "df = easy_bools(df, 'restaurant_attributes_dietary_restrictions_vegan')\n",
    "df = easy_bools(df, 'restaurant_attributes_dietary_restrictions_vegetarian')\n",
    "df = easy_bools(df, 'restaurant_attributes_dogs_allowed')\n",
    "df = easy_bools(df, 'restaurant_attributes_drive-thr')\n",
    "df = easy_bools(df, 'restaurant_attributes_good_for_dancing')\n",
    "df = easy_bools(df, 'restaurant_attributes_good_for_groups')\n",
    "df = easy_bools(df, 'restaurant_attributes_good_for_breakfast')\n",
    "df = easy_bools(df, 'restaurant_attributes_good_for_brunch')\n",
    "df = easy_bools(df, 'restaurant_attributes_good_for_dessert')\n",
    "df = easy_bools(df, 'restaurant_attributes_good_for_dinner')\n",
    "df = easy_bools(df, 'restaurant_attributes_good_for_latenight')\n",
    "df = easy_bools(df, 'restaurant_attributes_good_for_lunch')\n",
    "df = easy_bools(df, 'restaurant_attributes_good_for_kids')\n",
    "df = easy_bools(df, 'restaurant_attributes_happy_hour')\n",
    "df = easy_bools(df, 'restaurant_attributes_has_tv')\n",
    "df = easy_bools(df, 'restaurant_attributes_open_24_hours')\n",
    "df = easy_bools(df, 'restaurant_attributes_order_at_counter')\n",
    "df = easy_bools(df, 'restaurant_attributes_outdoor_seating')\n",
    "df = easy_bools(df, 'restaurant_attributes_payment_types_amex')\n",
    "df = easy_bools(df, 'restaurant_attributes_payment_types_cash_only')\n",
    "df = easy_bools(df, 'restaurant_attributes_payment_types_discover')\n",
    "df = easy_bools(df, 'restaurant_attributes_payment_types_mastercard')\n",
    "df = easy_bools(df, 'restaurant_attributes_payment_types_visa')\n",
    "df = easy_bools(df, 'restaurant_attributes_take-out')\n",
    "df = easy_bools(df, 'restaurant_attributes_takes_reservations')\n",
    "df = easy_bools(df, 'restaurant_attributes_waiter_service')\n",
    "df = easy_bools(df, 'restaurant_attributes_wheelchair_accessible')\n",
    "restaurants = df"
   ]
  },
  {
   "cell_type": "code",
   "execution_count": 189,
   "metadata": {
    "collapsed": false
   },
   "outputs": [],
   "source": [
    "new = restaurants.drop('restaurant_stars', axis=1).groupby('restaurant_id').max()"
   ]
  },
  {
   "cell_type": "code",
   "execution_count": 194,
   "metadata": {
    "collapsed": true
   },
   "outputs": [],
   "source": [
    "stars = restaurants.groupby('restaurant_id')['restaurant_stars'].median()"
   ]
  },
  {
   "cell_type": "code",
   "execution_count": 203,
   "metadata": {
    "collapsed": false
   },
   "outputs": [
    {
     "data": {
      "text/plain": [
       "(1867, 92)"
      ]
     },
     "execution_count": 203,
     "metadata": {},
     "output_type": "execute_result"
    }
   ],
   "source": [
    "new.shape"
   ]
  },
  {
   "cell_type": "code",
   "execution_count": 210,
   "metadata": {
    "collapsed": false
   },
   "outputs": [],
   "source": [
    "final = pd.concat([new, stars], axis=1).reset_index()"
   ]
  },
  {
   "cell_type": "code",
   "execution_count": 212,
   "metadata": {
    "collapsed": false
   },
   "outputs": [
    {
     "data": {
      "text/plain": [
       "(1867, 94)"
      ]
     },
     "execution_count": 212,
     "metadata": {},
     "output_type": "execute_result"
    }
   ],
   "source": [
    "final.shape"
   ]
  },
  {
   "cell_type": "code",
   "execution_count": 213,
   "metadata": {
    "collapsed": false
   },
   "outputs": [
    {
     "data": {
      "text/plain": [
       "(1930, 94)"
      ]
     },
     "execution_count": 213,
     "metadata": {},
     "output_type": "execute_result"
    }
   ],
   "source": [
    "restaurants.shape"
   ]
  },
  {
   "cell_type": "code",
   "execution_count": 215,
   "metadata": {
    "collapsed": false
   },
   "outputs": [
    {
     "data": {
      "text/html": [
       "<div>\n",
       "<table border=\"1\" class=\"dataframe\">\n",
       "  <thead>\n",
       "    <tr style=\"text-align: right;\">\n",
       "      <th></th>\n",
       "      <th>restaurant_attributes_accepts_credit_cards</th>\n",
       "      <th>restaurant_attributes_ages_allowed</th>\n",
       "      <th>restaurant_attributes_alcohol</th>\n",
       "      <th>restaurant_attributes_ambience_casual</th>\n",
       "      <th>restaurant_attributes_ambience_classy</th>\n",
       "      <th>restaurant_attributes_ambience_divey</th>\n",
       "      <th>restaurant_attributes_ambience_hipster</th>\n",
       "      <th>restaurant_attributes_ambience_intimate</th>\n",
       "      <th>restaurant_attributes_ambience_romantic</th>\n",
       "      <th>restaurant_attributes_ambience_touristy</th>\n",
       "      <th>...</th>\n",
       "      <th>restaurant_hours_wednesday_open</th>\n",
       "      <th>restaurant_latitude</th>\n",
       "      <th>restaurant_longitude</th>\n",
       "      <th>restaurant_name</th>\n",
       "      <th>restaurant_neighborhoods</th>\n",
       "      <th>restaurant_open</th>\n",
       "      <th>restaurant_review_count</th>\n",
       "      <th>restaurant_stars</th>\n",
       "      <th>restaurant_state</th>\n",
       "      <th>restaurant_type</th>\n",
       "    </tr>\n",
       "  </thead>\n",
       "  <tbody>\n",
       "    <tr>\n",
       "      <th>527</th>\n",
       "      <td>True</td>\n",
       "      <td>NaN</td>\n",
       "      <td>full_bar</td>\n",
       "      <td>False</td>\n",
       "      <td>False</td>\n",
       "      <td>False</td>\n",
       "      <td>False</td>\n",
       "      <td>False</td>\n",
       "      <td>False</td>\n",
       "      <td>False</td>\n",
       "      <td>...</td>\n",
       "      <td>NaN</td>\n",
       "      <td>42.352874</td>\n",
       "      <td>-71.071368</td>\n",
       "      <td>Taj Boston</td>\n",
       "      <td>[Back Bay]</td>\n",
       "      <td>True</td>\n",
       "      <td>132</td>\n",
       "      <td>3.5</td>\n",
       "      <td>MA</td>\n",
       "      <td>business</td>\n",
       "    </tr>\n",
       "    <tr>\n",
       "      <th>1301</th>\n",
       "      <td>True</td>\n",
       "      <td>NaN</td>\n",
       "      <td>NaN</td>\n",
       "      <td>NaN</td>\n",
       "      <td>NaN</td>\n",
       "      <td>NaN</td>\n",
       "      <td>NaN</td>\n",
       "      <td>NaN</td>\n",
       "      <td>NaN</td>\n",
       "      <td>NaN</td>\n",
       "      <td>...</td>\n",
       "      <td>NaN</td>\n",
       "      <td>42.352896</td>\n",
       "      <td>-71.071334</td>\n",
       "      <td>The Lounge at Taj Boston</td>\n",
       "      <td>[Back Bay]</td>\n",
       "      <td>True</td>\n",
       "      <td>62</td>\n",
       "      <td>3.5</td>\n",
       "      <td>MA</td>\n",
       "      <td>business</td>\n",
       "    </tr>\n",
       "    <tr>\n",
       "      <th>1677</th>\n",
       "      <td>True</td>\n",
       "      <td>NaN</td>\n",
       "      <td>full_bar</td>\n",
       "      <td>False</td>\n",
       "      <td>False</td>\n",
       "      <td>False</td>\n",
       "      <td>False</td>\n",
       "      <td>True</td>\n",
       "      <td>False</td>\n",
       "      <td>False</td>\n",
       "      <td>...</td>\n",
       "      <td>12:00</td>\n",
       "      <td>42.352896</td>\n",
       "      <td>-71.071334</td>\n",
       "      <td>The Bar at Taj Boston</td>\n",
       "      <td>[Back Bay]</td>\n",
       "      <td>True</td>\n",
       "      <td>33</td>\n",
       "      <td>4.0</td>\n",
       "      <td>MA</td>\n",
       "      <td>business</td>\n",
       "    </tr>\n",
       "    <tr>\n",
       "      <th>1705</th>\n",
       "      <td>True</td>\n",
       "      <td>NaN</td>\n",
       "      <td>full_bar</td>\n",
       "      <td>False</td>\n",
       "      <td>False</td>\n",
       "      <td>False</td>\n",
       "      <td>False</td>\n",
       "      <td>False</td>\n",
       "      <td>False</td>\n",
       "      <td>False</td>\n",
       "      <td>...</td>\n",
       "      <td>17:30</td>\n",
       "      <td>42.352793</td>\n",
       "      <td>-71.071570</td>\n",
       "      <td>The Cafe at Taj Boston</td>\n",
       "      <td>[Back Bay]</td>\n",
       "      <td>True</td>\n",
       "      <td>41</td>\n",
       "      <td>3.0</td>\n",
       "      <td>MA</td>\n",
       "      <td>business</td>\n",
       "    </tr>\n",
       "  </tbody>\n",
       "</table>\n",
       "<p>4 rows × 94 columns</p>\n",
       "</div>"
      ],
      "text/plain": [
       "     restaurant_attributes_accepts_credit_cards  \\\n",
       "527                                        True   \n",
       "1301                                       True   \n",
       "1677                                       True   \n",
       "1705                                       True   \n",
       "\n",
       "     restaurant_attributes_ages_allowed restaurant_attributes_alcohol  \\\n",
       "527                                 NaN                      full_bar   \n",
       "1301                                NaN                           NaN   \n",
       "1677                                NaN                      full_bar   \n",
       "1705                                NaN                      full_bar   \n",
       "\n",
       "     restaurant_attributes_ambience_casual  \\\n",
       "527                                  False   \n",
       "1301                                   NaN   \n",
       "1677                                 False   \n",
       "1705                                 False   \n",
       "\n",
       "     restaurant_attributes_ambience_classy  \\\n",
       "527                                  False   \n",
       "1301                                   NaN   \n",
       "1677                                 False   \n",
       "1705                                 False   \n",
       "\n",
       "     restaurant_attributes_ambience_divey  \\\n",
       "527                                 False   \n",
       "1301                                  NaN   \n",
       "1677                                False   \n",
       "1705                                False   \n",
       "\n",
       "     restaurant_attributes_ambience_hipster  \\\n",
       "527                                   False   \n",
       "1301                                    NaN   \n",
       "1677                                  False   \n",
       "1705                                  False   \n",
       "\n",
       "     restaurant_attributes_ambience_intimate  \\\n",
       "527                                    False   \n",
       "1301                                     NaN   \n",
       "1677                                    True   \n",
       "1705                                   False   \n",
       "\n",
       "     restaurant_attributes_ambience_romantic  \\\n",
       "527                                    False   \n",
       "1301                                     NaN   \n",
       "1677                                   False   \n",
       "1705                                   False   \n",
       "\n",
       "     restaurant_attributes_ambience_touristy       ...        \\\n",
       "527                                    False       ...         \n",
       "1301                                     NaN       ...         \n",
       "1677                                   False       ...         \n",
       "1705                                   False       ...         \n",
       "\n",
       "     restaurant_hours_wednesday_open restaurant_latitude restaurant_longitude  \\\n",
       "527                              NaN           42.352874           -71.071368   \n",
       "1301                             NaN           42.352896           -71.071334   \n",
       "1677                           12:00           42.352896           -71.071334   \n",
       "1705                           17:30           42.352793           -71.071570   \n",
       "\n",
       "               restaurant_name restaurant_neighborhoods restaurant_open  \\\n",
       "527                 Taj Boston               [Back Bay]            True   \n",
       "1301  The Lounge at Taj Boston               [Back Bay]            True   \n",
       "1677     The Bar at Taj Boston               [Back Bay]            True   \n",
       "1705    The Cafe at Taj Boston               [Back Bay]            True   \n",
       "\n",
       "     restaurant_review_count restaurant_stars restaurant_state restaurant_type  \n",
       "527                      132              3.5               MA        business  \n",
       "1301                      62              3.5               MA        business  \n",
       "1677                      33              4.0               MA        business  \n",
       "1705                      41              3.0               MA        business  \n",
       "\n",
       "[4 rows x 94 columns]"
      ]
     },
     "execution_count": 215,
     "metadata": {},
     "output_type": "execute_result"
    }
   ],
   "source": [
    "restaurants[restaurants.restaurant_id == 'JBEyR138']"
   ]
  },
  {
   "cell_type": "code",
   "execution_count": 271,
   "metadata": {
    "collapsed": false
   },
   "outputs": [
    {
     "data": {
      "text/plain": [
       "array([['JBEyR138', True, nan, 'full_bar', False, False, False, False,\n",
       "        True, False, False, False, True, 'dressy', False, nan, False,\n",
       "        False, False, False, False, False, False, False, False, False,\n",
       "        False, False, True, False, False, True, False, True, False, False,\n",
       "        False, False, True, False, True, True, False, False, False, False,\n",
       "        False, 'quiet', False, False, False, False, False, True, True,\n",
       "        False, False, False, False, False, False, 4.0, 'no', False, True,\n",
       "        True, True, 'paid',\n",
       "        ['Indian', 'American (New)', 'British', 'Restaurants'], 'Boston',\n",
       "        '15 Arlington St\\nBack Bay\\nBoston, MA 02116', '22:30', '17:30',\n",
       "        '23:30', '17:30', '22:30', '17:30', '23:30', '17:30', '23:30',\n",
       "        '17:30', '23:30', '17:30', '23:30', '17:30', 42.3528958,\n",
       "        -71.0713336, 'The Lounge at Taj Boston', ['Back Bay'], True, 132,\n",
       "        'MA', 'business', 3.5]], dtype=object)"
      ]
     },
     "execution_count": 271,
     "metadata": {},
     "output_type": "execute_result"
    }
   ],
   "source": [
    "final[final.restaurant_id == 'JBEyR138'].values"
   ]
  },
  {
   "cell_type": "code",
   "execution_count": 218,
   "metadata": {
    "collapsed": false
   },
   "outputs": [
    {
     "data": {
      "text/plain": [
       "(24072, 6)"
      ]
     },
     "execution_count": 218,
     "metadata": {},
     "output_type": "execute_result"
    }
   ],
   "source": [
    "tips.shape"
   ]
  },
  {
   "cell_type": "code",
   "execution_count": 263,
   "metadata": {
    "collapsed": false
   },
   "outputs": [],
   "source": [
    "data = []\n",
    "with open(\"data/yelp_academic_dataset_checkin.json\", 'r') as f:\n",
    "    for line in f:\n",
    "        data.append(byteify(json.loads(line)))\n",
    "checkins = pd.DataFrame(data)"
   ]
  },
  {
   "cell_type": "code",
   "execution_count": 264,
   "metadata": {
    "collapsed": true
   },
   "outputs": [],
   "source": [
    "checkins.columns = [u'restaurant_id', u'checkin_info', u'checkin_type']"
   ]
  },
  {
   "cell_type": "code",
   "execution_count": 265,
   "metadata": {
    "collapsed": false
   },
   "outputs": [],
   "source": [
    "# sum the checkin values\n",
    "checkins['checkin_counts'] = checkins['checkin_info'].apply(lambda x: np.nan if pd.isnull(x) else sum(x.values()))\n",
    "checkins.drop('checkin_info', axis=1, inplace=True)"
   ]
  },
  {
   "cell_type": "code",
   "execution_count": 266,
   "metadata": {
    "collapsed": false
   },
   "outputs": [],
   "source": [
    "checkins.restaurant_id = checkins.restaurant_id.map(map_to_boston_ids)"
   ]
  },
  {
   "cell_type": "code",
   "execution_count": 267,
   "metadata": {
    "collapsed": false
   },
   "outputs": [],
   "source": [
    "x = checkins.groupby('restaurant_id').sum()"
   ]
  },
  {
   "cell_type": "code",
   "execution_count": 268,
   "metadata": {
    "collapsed": false
   },
   "outputs": [
    {
     "data": {
      "text/plain": [
       "(1592, 2)"
      ]
     },
     "execution_count": 268,
     "metadata": {},
     "output_type": "execute_result"
    }
   ],
   "source": [
    "x.reset_index().shape"
   ]
  },
  {
   "cell_type": "code",
   "execution_count": 270,
   "metadata": {
    "collapsed": false
   },
   "outputs": [
    {
     "data": {
      "text/plain": [
       "(1630, 3)"
      ]
     },
     "execution_count": 270,
     "metadata": {},
     "output_type": "execute_result"
    }
   ],
   "source": [
    "checkins.shape"
   ]
  },
  {
   "cell_type": "code",
   "execution_count": 15,
   "metadata": {
    "collapsed": false
   },
   "outputs": [],
   "source": [
    "restaurants_checkins = pd.merge(restaurants, checkins, on='restaurant_id', how='left')"
   ]
  },
  {
   "cell_type": "code",
   "execution_count": 7,
   "metadata": {
    "collapsed": true
   },
   "outputs": [],
   "source": [
    "data = []\n",
    "with open(\"data/yelp_academic_dataset_tip.json\", 'r') as f:\n",
    "    for line in f:\n",
    "        data.append(byteify(json.loads(line)))\n",
    "tips = json_normalize(data)"
   ]
  },
  {
   "cell_type": "code",
   "execution_count": 8,
   "metadata": {
    "collapsed": true
   },
   "outputs": [],
   "source": [
    "data = []\n",
    "with open(\"data/yelp_academic_dataset_review.json\", 'r') as f:\n",
    "    for line in f:\n",
    "        data.append(byteify(json.loads(line)))\n",
    "reviews = json_normalize(data)"
   ]
  },
  {
   "cell_type": "code",
   "execution_count": 9,
   "metadata": {
    "collapsed": false
   },
   "outputs": [
    {
     "data": {
      "text/plain": [
       "(230371, 10)"
      ]
     },
     "execution_count": 9,
     "metadata": {},
     "output_type": "execute_result"
    }
   ],
   "source": [
    "reviews.shape"
   ]
  },
  {
   "cell_type": "code",
   "execution_count": 10,
   "metadata": {
    "collapsed": false
   },
   "outputs": [
    {
     "data": {
      "text/plain": [
       "(24072, 6)"
      ]
     },
     "execution_count": 10,
     "metadata": {},
     "output_type": "execute_result"
    }
   ],
   "source": [
    "tips.shape"
   ]
  },
  {
   "cell_type": "markdown",
   "metadata": {},
   "source": [
    "### making tips.likes the same category as review.votes.useful and zero for everything else"
   ]
  },
  {
   "cell_type": "code",
   "execution_count": 11,
   "metadata": {
    "collapsed": false
   },
   "outputs": [],
   "source": [
    "tips = tips.rename(columns = {'likes':'votes.useful'})"
   ]
  },
  {
   "cell_type": "code",
   "execution_count": 22,
   "metadata": {
    "collapsed": false
   },
   "outputs": [],
   "source": [
    "# some nan's will exist because of this where reviews columns and tips columns don't match up\n",
    "reviews_tips = reviews.append(tips)"
   ]
  },
  {
   "cell_type": "code",
   "execution_count": 23,
   "metadata": {
    "collapsed": false
   },
   "outputs": [
    {
     "data": {
      "text/plain": [
       "(254443, 10)"
      ]
     },
     "execution_count": 23,
     "metadata": {},
     "output_type": "execute_result"
    }
   ],
   "source": [
    "reviews_tips.shape"
   ]
  },
  {
   "cell_type": "code",
   "execution_count": 24,
   "metadata": {
    "collapsed": false
   },
   "outputs": [],
   "source": [
    "reviews_tips.columns = [u'restaurant_id', u'review_date', u'review_id', u'review_stars', u'review_text', u'review_type', u'user_id', u'review_votes_cool', u'review_votes_funny', u'review_votes_useful']"
   ]
  },
  {
   "cell_type": "code",
   "execution_count": 25,
   "metadata": {
    "collapsed": false
   },
   "outputs": [],
   "source": [
    "reviews_tips.review_votes_useful.fillna(0, inplace=True)\n",
    "reviews_tips.review_votes_cool.fillna(0, inplace=True)\n",
    "reviews_tips.review_votes_funny.fillna(0, inplace=True)"
   ]
  },
  {
   "cell_type": "code",
   "execution_count": 26,
   "metadata": {
    "collapsed": false
   },
   "outputs": [
    {
     "name": "stdout",
     "output_type": "stream",
     "text": [
      "shape before mapping ids: (254443, 10)\n",
      "shape after mapping ids: (254443, 10)\n"
     ]
    }
   ],
   "source": [
    "reviews_tips = map_ids(reviews_tips)"
   ]
  },
  {
   "cell_type": "code",
   "execution_count": 27,
   "metadata": {
    "collapsed": false
   },
   "outputs": [],
   "source": [
    "reviews_tips_training_response = pd.merge(reviews_tips, training_response, on='restaurant_id', how='right')"
   ]
  },
  {
   "cell_type": "code",
   "execution_count": 28,
   "metadata": {
    "collapsed": false
   },
   "outputs": [
    {
     "data": {
      "text/plain": [
       "(4071065, 15)"
      ]
     },
     "execution_count": 28,
     "metadata": {},
     "output_type": "execute_result"
    }
   ],
   "source": [
    "reviews_tips_training_response.shape"
   ]
  },
  {
   "cell_type": "code",
   "execution_count": 65,
   "metadata": {
    "collapsed": false
   },
   "outputs": [],
   "source": [
    "# no_future = reviews_tips_training_response[reviews_tips_training_response.review_date < reviews_tips_training_response.inspection_date]\n"
   ]
  },
  {
   "cell_type": "code",
   "execution_count": 66,
   "metadata": {
    "collapsed": false
   },
   "outputs": [],
   "source": [
    "# remove the past due dates in the groupby not before\n",
    "g = reviews_tips_training_response[['restaurant_id', 'inspection_date', 'review_text', 'review_date']].groupby(['restaurant_id', 'inspection_date'])"
   ]
  },
  {
   "cell_type": "code",
   "execution_count": 60,
   "metadata": {
    "collapsed": false
   },
   "outputs": [
    {
     "data": {
      "text/html": [
       "<div>\n",
       "<table border=\"1\" class=\"dataframe\">\n",
       "  <thead>\n",
       "    <tr style=\"text-align: right;\">\n",
       "      <th></th>\n",
       "      <th>restaurant_id</th>\n",
       "      <th>inspection_date</th>\n",
       "      <th>review_text</th>\n",
       "      <th>review_date</th>\n",
       "    </tr>\n",
       "  </thead>\n",
       "  <tbody>\n",
       "    <tr>\n",
       "      <th>690543</th>\n",
       "      <td>rJoQ9oVj</td>\n",
       "      <td>2012-04-10</td>\n",
       "      <td>Grab a seat at the bar, order the house cabern...</td>\n",
       "      <td>2005-07-10</td>\n",
       "    </tr>\n",
       "    <tr>\n",
       "      <th>690544</th>\n",
       "      <td>rJoQ9oVj</td>\n",
       "      <td>2012-04-10</td>\n",
       "      <td>MMMMMMMM Great place for a first date. I recom...</td>\n",
       "      <td>2005-07-29</td>\n",
       "    </tr>\n",
       "    <tr>\n",
       "      <th>690545</th>\n",
       "      <td>rJoQ9oVj</td>\n",
       "      <td>2012-04-10</td>\n",
       "      <td>I can't think of another way to say it: One of...</td>\n",
       "      <td>2006-03-19</td>\n",
       "    </tr>\n",
       "    <tr>\n",
       "      <th>690546</th>\n",
       "      <td>rJoQ9oVj</td>\n",
       "      <td>2012-04-10</td>\n",
       "      <td>So 75 Chestnut reopened a couple of weeks ago ...</td>\n",
       "      <td>2006-05-24</td>\n",
       "    </tr>\n",
       "    <tr>\n",
       "      <th>690547</th>\n",
       "      <td>rJoQ9oVj</td>\n",
       "      <td>2012-04-10</td>\n",
       "      <td>The food has gone from very good to terrible d...</td>\n",
       "      <td>2006-07-04</td>\n",
       "    </tr>\n",
       "  </tbody>\n",
       "</table>\n",
       "</div>"
      ],
      "text/plain": [
       "       restaurant_id inspection_date  \\\n",
       "690543      rJoQ9oVj      2012-04-10   \n",
       "690544      rJoQ9oVj      2012-04-10   \n",
       "690545      rJoQ9oVj      2012-04-10   \n",
       "690546      rJoQ9oVj      2012-04-10   \n",
       "690547      rJoQ9oVj      2012-04-10   \n",
       "\n",
       "                                              review_text review_date  \n",
       "690543  Grab a seat at the bar, order the house cabern...  2005-07-10  \n",
       "690544  MMMMMMMM Great place for a first date. I recom...  2005-07-29  \n",
       "690545  I can't think of another way to say it: One of...  2006-03-19  \n",
       "690546  So 75 Chestnut reopened a couple of weeks ago ...  2006-05-24  \n",
       "690547  The food has gone from very good to terrible d...  2006-07-04  "
      ]
     },
     "execution_count": 60,
     "metadata": {},
     "output_type": "execute_result"
    }
   ],
   "source": [
    "g.get_group(('rJoQ9oVj', '2012-04-10')).head()"
   ]
  },
  {
   "cell_type": "code",
   "execution_count": 73,
   "metadata": {
    "collapsed": false
   },
   "outputs": [],
   "source": [
    "text = g.apply(lambda x: ' '.join(x[x.review_date <= x.inspection_date]['review_text']))"
   ]
  },
  {
   "cell_type": "code",
   "execution_count": 125,
   "metadata": {
    "collapsed": false
   },
   "outputs": [],
   "source": [
    "# pd.merge(reviews_tips_training_response.drop_duplicates(['restaurant_id', 'inspection_date']), text.reset_index().rename(columns={0: 'review_text'}), on='review_text').shape\n",
    "no_dupes = reviews_tips_training_response.drop_duplicates(['restaurant_id', 'inspection_date'])\n",
    "no_dupes.set_index(['restaurant_id', 'inspection_date'], inplace=True)"
   ]
  },
  {
   "cell_type": "code",
   "execution_count": 126,
   "metadata": {
    "collapsed": false
   },
   "outputs": [
    {
     "data": {
      "text/plain": [
       "review_date                                                   2005-12-11\n",
       "review_id                                         zQH071b6x9g1ZHbhJnaNKw\n",
       "review_stars                                                           4\n",
       "review_text            This is the place I like to go for deli sandwi...\n",
       "review_type                                                       review\n",
       "user_id                                           NfvN6-zeU0RsD0Q_Sk-DSQ\n",
       "review_votes_cool                                                      1\n",
       "review_votes_funny                                                     0\n",
       "review_votes_useful                                                    1\n",
       "inspection_id                                                      27889\n",
       "score_lvl_1                                                            7\n",
       "score_lvl_2                                                            0\n",
       "score_lvl_3                                                            1\n",
       "Name: (p03824Om, 2012-08-02), dtype: object"
      ]
     },
     "execution_count": 126,
     "metadata": {},
     "output_type": "execute_result"
    }
   ],
   "source": [
    "no_dupes.iloc[1]"
   ]
  },
  {
   "cell_type": "code",
   "execution_count": 127,
   "metadata": {
    "collapsed": false
   },
   "outputs": [
    {
     "data": {
      "text/plain": [
       "\"This is the place I like to go for deli sandwiches (and salads/soups) when in the Financial District. I'm not sure what makes this place stand out from the million other deli sandwich places in the area. Maybe it's the lack of pretentiousness of it all: a few specials each day (tuna melt, roast beef on rye, turkey club - you get the picture) but they are also happy to let you make your own sandwich from their extensive ingredients list - all for one fixed price. Maybe it's the fact they always seem to be in a good mood. Maybe it's the lack of queue (usually a bad sign, but this place is hidden away in a back alley). Maybe it's something else altogether. But I like it anyway.\""
      ]
     },
     "execution_count": 127,
     "metadata": {},
     "output_type": "execute_result"
    }
   ],
   "source": [
    "no_dupes.iloc[1]['review_text']"
   ]
  },
  {
   "cell_type": "code",
   "execution_count": 128,
   "metadata": {
    "collapsed": false
   },
   "outputs": [],
   "source": [
    "no_dupes.review_text = text"
   ]
  },
  {
   "cell_type": "code",
   "execution_count": 130,
   "metadata": {
    "collapsed": false
   },
   "outputs": [
    {
     "data": {
      "text/plain": [
       "review_date                                                   2005-12-11\n",
       "review_id                                         zQH071b6x9g1ZHbhJnaNKw\n",
       "review_stars                                                           4\n",
       "review_text            This is the place I like to go for deli sandwi...\n",
       "review_type                                                       review\n",
       "user_id                                           NfvN6-zeU0RsD0Q_Sk-DSQ\n",
       "review_votes_cool                                                      1\n",
       "review_votes_funny                                                     0\n",
       "review_votes_useful                                                    1\n",
       "inspection_id                                                      27889\n",
       "score_lvl_1                                                            7\n",
       "score_lvl_2                                                            0\n",
       "score_lvl_3                                                            1\n",
       "Name: (p03824Om, 2012-08-02), dtype: object"
      ]
     },
     "execution_count": 130,
     "metadata": {},
     "output_type": "execute_result"
    }
   ],
   "source": [
    "no_dupes.iloc[1]"
   ]
  },
  {
   "cell_type": "code",
   "execution_count": 131,
   "metadata": {
    "collapsed": false
   },
   "outputs": [
    {
     "data": {
      "text/plain": [
       "'This is the place I like to go for deli sandwiches (and salads/soups) when in the Financial District. I\\'m not sure what makes this place stand out from the million other deli sandwich places in the area. Maybe it\\'s the lack of pretentiousness of it all: a few specials each day (tuna melt, roast beef on rye, turkey club - you get the picture) but they are also happy to let you make your own sandwich from their extensive ingredients list - all for one fixed price. Maybe it\\'s the fact they always seem to be in a good mood. Maybe it\\'s the lack of queue (usually a bad sign, but this place is hidden away in a back alley). Maybe it\\'s something else altogether. But I like it anyway. Delicato is a great place for lunch on the go in Downtown Crossing.  There are always several delicious soups to choose from and the sandwiches are simple and yummy.  I haven\\'t tried the entrees, but every time I\\'m in there someone orders one and they look pretty tasty as well.  Plus there\\'s never a long line and the staff is extremely friendly.  The only downside is that they don\\'t take credit cards, so come ready with cash. Definitely worth a try if you\\'re tired with your usual lunch options and want something simple, fresh and new. Delicato is a surprisingly tasty place for being located in an Alley.  They are a little expensive but what isn\\'t in Downtown Boston.  They have a bunch of different sandwiches on the menu (try the Broker) but can also make almost anything you dream up.  And you get the delicious bonus of pasta salad and pickle.  They have a selection of soups and hot entrees daily as well.   The people behind the counter are really super nice and always remember me when I go in.  Only problem is that the line situation is a little confused because it is hard to tell where to stand if you want a sandwich and where to stand if you want an entree.  All in all though four thumbs up! Did you ever notice that no matter where you get lunch in Downtown Boston...it costs $7.00?  Is this some sort of sick collusion?  \\n\\nAnywhooo...for about $7.00, you can get a very nice lunch at this little, out of the way spot.  They are good for take out (if you plan to eat in cube world) or tables if you want to sit in a nice deli atmosphere.  Lot\\'s of sandwich selections on the big menu board, but a custom sandwich is no problem at all.  With heavy competition for your belly , these guys throw a little pasta salad at you just to keeps things honest and separate themselves a bit.  Shhhh....don\\'t tell them the sandwiches are good enough that they don\\'t have to!  Oh, and breakfast here is dang good too.  An honest egg sandwich... I think I ate here every day for a solid six months last year and then took a new job and didn\\'t get to venture out for lunch as often, but Cafe Delicato\\'s chili keeps me coming back for more whenever I get the chance.  The owner and the staff are super friendly!! Whoa. This place is good. Monday through Friday mornings are made better by the presence of Delicato. I try to expand my horizons past a bacon, egg and cheese (extra cheese) on a bagel, but it\\'s just so delicious that I can\\'t seem to deny it. Matched with a Vitamin Water or Nantucket Nectars and you\\'ll have yourself a pretty excellent breakfast.\\n\\nLunch is also good. I\\'ll be honest, I haven\\'t had too much from there in terms of the lunch menu, but what I have had (BLT, grilled cheese with bacon) - I like bacon - is really tasty. You also get a pretty tangy side of pasta salad, always a nice bonus to any meal. There is also a pretty decent drink selection. Extra bonus? Their menu is available online, so if you aren\\'t quite sure what you want that day, but you\\'re really curious about the specials, just pop online and check it out. Awesome. I love a place that allows me to be fat and lazy at the same time.\\n\\nI\\'ve gotta give props to the excellent staff. So friendly. They clearly don\\'t judge me every time I go in and order the same thing for breakfast, and they even ask me if I am picking anything up for my friends at work. They started to recognize me only after a few visits, which is pretty awesome considering how swamped it can get in the morning.\\n\\nGood amount of seating available, but don\\'t expect to take a huge party there. It\\'s a nice spot to sit down for lunch (or breakfast) and read the paper or a book. Just don\\'t be that person who hogs the table when there are clearly people waiting to grab a seat.\\n\\nTalk about food selection. I know, I know, I\\'ve only gotten the same thing over a couple times. But their menu is just so huge that I get overwhelmed and blurt out the first thing with bacon that comes to mind. That\\'s another bonus to having the menu online. You can prep before going in and not be swayed by all the fall back easy things to order.\\n\\nHours are from Monday to Friday, open until 3, so it\\'s definitely a great place to check out during the work week. It\\'s worth making a few trips there as well because there are so many options. And it\\'s just a cute little deli. Who doesn\\'t like that? This is easily one of my favorite places to get breakfast.  They have a huge selection and very reasonable prices.  For $4.95 you get 2 eggs with choice of meat, homefries and toast.  They also have great breakfast sandwiches for $2.75.  Their omelets are phenomenal and all are under $6.00 save for the egg whites only omelet.  I\\'ve only been here a few times for lunch, they have a wide range of wraps, sandwiches, hot panini\\'s and salads.  And there are always tasty looking specials of the day.  All in all a fantastic bargain!  Athena, the lady who takes the orders, is one of the nicest people I\\'ve ever met, so be sure to say hello :) Everyday I love this place more and more.  The ladies of my office and I have taken to getting breakfast sandwiches here and I have now had to limit myself just to one a week.  Bacon, Egg and Extra Cheese on a bagel with a little ketchup.  That makes a depressing morning stuck in the office, not quite as terrible.  The staff knows us and always asks if we want the usual.  Good times all around!  \\nAs Jocelyn C\\' said , the bottled drinks selection is the best for the area!  anything from soda to vitamin water to honest ade and tea!  I seriously and truly love Delicato!  Too many exclamation marks! This off the beaten path spot is a place you should find.  I would rate it higher but I\\'ve only been here a few times.  However every time I\\'ve been here it\\'s been very good and I can\\'t wait to get over more.  A huge menu (with very small print) with all sorts of sandwiches that have names (personally a big fan of The Cowboy).  Friendly staff.  Big portions.  Quality food.  What\\'s not to like.  Be aware though the set up is a little funky with the line/ordering. Five stars for you!\\n\\nAs I sit here updating my review on Delicato, I am munching on a grilled cheese with bacon (of course) and a side of pasta salad. The only thing that could have made this better is if I had remembered to pick up a chocolate chip cookie. Next time.\\n\\nThe service is great, the menu is huge, the chocolate chip cookies are delicious (when you pull it apart, chocolate oozes... gorgeous) and it\\'s just a nice place to grab either a quick bite to eat or to sit with a friend and chat for a while. You are always greeted with a smile.\\n\\nI don\\'t even know what else to say. It\\'s just fabulous, and you should really try it. I always walked past this place on my way to Viga for lunch. \\nI finally went in a got a special that was amazing! The wrap had turkey, lettuce, creamy dijon dressing, bacon, and boursin cheese. The wrap came with a side of pasta salad. the amount of food was comperable to the price. \\n\\nI have gone back when the speical was over and the closest thing to it is the mayor sandwich, which was also great. \\n\\nI feel that I am always in the way when I am there since there is not much room and i feel that lines dont have much structure but I can deal with that for a great sandwich. Delicato has become a regular in the lunch rotation now that I\\'ve been there a few more times.  Good portions, quality ingredients and a great staff.  Don\\'t hesitate to go here for breakfast sandwiches either.  They do a mean bacon, egg and cheese. Just ate here for the first time and it\\'s right by my office. It\\'s very convenient and great service. I was in and out with my meal in under 5 minutes which is not easy to find.  \\n\\nI ordered a lunch special but I think it\\'s on the regular menu.  Turkey wrap with sprouts, lettuce, tomato, carrots and dijon mustard.  Good but not great. I think the mustard was bland which didn\\'t help, so it was only ok, nothing jumped out at me.  But it did come with some pasta salad and a pickel which was a surprise;)  \\n\\nI will try it again because the reviews are good and it\\'s easy and other things looked good on the menu.  Cute little place too! This is a great sandwich shop next to Old City Hall. Above average Deli.  Good Bread, good veggies, mediocre coldcuts.\\n\\nThe only thing is why get a Deli Sandwich, when you could get a sub instead? Consider this the \"Cheers\" of breakfast joints.  \\n\\nI went here on a recent freezing cold day, and was immediately warmed up upon walking into the cafe.  With lots of seating, yummy and affordable breakfast options, and friendly servers, it\\'s the perfect downtown breakfast destination.  It seemed like I was the only newcomer in the place, as the staff greeted every other customer by name.  Our omelets came out quickly and were thoroughly delicious.  I will definitely be going back and trying more of the options.\\n\\nOnly downside: no fancy coffee drinks, just multiple varieties of coffee in carafes.  But there\\'s a Starbucks on the corner, so if you really need a latte to start your morning, you can always grab one once you leave here. I love Delicato Cafe.  Whether it be the Frenchman for breakfast (ham, swiss cheese, and tomato melted together in warm, buttery croissant) or the Cowgirl (chicken breast, melted Brie cheese, honey Dijon, lettuce, tomato, and onions on grilled ciabatta bread) for lunch, I am always happy and FULL when I leave.  Lou, the owner, is great about remembering my name *and* my order.  The woman who works the cash register, Rufina, personifies \"service with a smile.\"  If you work in Downtown Boston or are a tourist just passing through, I highly recommend finding the tiny street/alley that is City Hall Avenue and stopping in for a meal.  You will not leave disappointed or hungry. I eat here quite often because my office is only a block away. The food is good and quick, and they are always willing to change things up for me upon request. I love their soups, and the specials are often great. I normally order the salad special or a greek salad with tuna. If I\\'m really hungry, I\\'ll get a special or a turkey ruben. Prices are fair, and good is quick. If you aren\\'t familiar with the restaurant, it can be confusing on where you order (there are two counters, one for salads/soups/specials and the other for sandwiches). Once you are clear on that, it\\'s great. Oh, breakfast is delicious as well! Delicato is by far my favorite lunch spot in the area.  Believe me, I work a few blocks from here and I\\'ve tried it all  All the food here is quality; the salads are beautiful, the sandwiches are hearty (and come with pasta salad and the best fresh pickle in Boston, for my money).  The standouts for me are the Investor, a chicken salad sandwich with boursin cheese on focaccia) and the quiche special.  \\n\\nThey post their daily specials online (another feature that puts Delicato above the rest), and I check always hoping to see that quiche.   On quiche days, my coworkers and I sprint down here for the delicious, flaky crust veggie quiche with a Caesar side salad.  YUM.  I love and trust this place, so much so that it was the only place I got lunch from while the boil-water order was on.  It may be a dollar or two pricier than neighboring joints, but it is so worth it. I had breakfast here, (couple of ham, egg and cheese sandwiches), and they were pretty good. Both were under $6 total and in Boston where food can get pricey, this is a good find. Just wish they were open on weekends. Still, great to find friendly people working the counter. Well, I have only had one experience here. I waited in a very long line to get a chicken Caesar salad. I saw lots of good looking food precede me, and because of that I was hopeful about my chicken Caesar salad.However, it was disappointing. The dressing was definitely bottled, and not particularly good. There were not many croutons and they were boxed. They weren\\'t awful, just not great. There was a good amount of Parmesan cheese. The chicken was OK. No gristle which I happen to find important, but, there wasn\\'t really any flavor, either. My salad cost $6.99 I opted to get a side order of garlic bread, which I am glad I ordered, they did charge me $1.40 for the bread, and considering I did not get the pita bread they normally offer, I thought that was a bit of a high up charge for a couple of small little pieces of garlic bread. But, not a big deal, I asked for it and I got it.  I would probably try this place again sometime because I saw someone get a fresh mozzarella salad that looked good as well as some decent looking sandwiches, but I won\\'t rush back. Delicato is one of the premier cafe/lunch spots in Boston. Why, you ask? Quality, fresh ingredients, daily and weekly specials, wide selection and friendly service. \\n\\nMy favorite thing about Delicato is the daily specials (available online). Whether it is crab stuffed Dover sole over rice, Spaghetti and Meatballs, their famous quiche, lasagna, chicken and broccoli or any of their countless others, Delicato prepares these specials each and every day. As a customer, it is always good to see lots of turnover with the food, especially when that food is high quality. \\n\\nI also enjoy their salads, especially the Mediterranean (Mixed greens, Feta cheese, tomatoes, cucumber, red onions, Kalamata olives, pepperoncini, carrots, hummus, basil roasted pepper, pita chips) if I\\'m feeling like a lighter lunch.\\n\\nThough I don\\'t have the authority to speak on all of their sandwiches, they are well made and properly portioned. The only sub-par thing I have eaten at Delicato was a bowl of clam chowder (which I am very picky about anyways). \\n\\nWhenever I am looking for various options, freshly prepared meals and quality ingredients, Delicato is a go-to. Two reasons I love Delicato? Breakfast and lunch!\\n\\nBreakfast: \\n- Fun coffee flavors by Green Mountain, available in paper to go cups\\n- Broad selection of breakfast sandwiches, breakfast burritos, and various egg preparations like scrambled, fried, omelet, etc\\n- Assortment of muffins, bagels and English muffins for the toaster or hot griddle\\n\\nLunch:\\n- Soups and chili\\n- Cold and hot specialty sandwiches and including the make-your-own option \\n- Solid drink section that includes premium juice brands such as Honest Tea, Naked, Nantucket Nectars, etc\\n- Daily meal specials\\n\\nSometimes they are a little backed up during the work day rush hours, but I don\\'t mind the wait. It\\'s the attention to small details that keeps me coming back. Super tasty & fast! We tried the COWGIRL MELT and the PILGRIM SALAD, both were very fresh and flavorful. We didn\\'t even need dressing on the salad, there was so much great stuff going on in there. The salad also came out before we were done paying, and the sandwich just seconds after. Very sweet staff, and reasonable prices for the area (~$7). The salad was pretty small though, definitely wouldn\\'t be enough for a normal lunch. I went to Delicato because of the overwhelmingly positive reviews on yelp, and I\\'ve concluded that it is not worth the hype. \\n\\nThey give you a lot of food for your money (considering most delis only give you a sandwhich for $7 and Delicato gives you pasta salad and a pickle).\\n\\nI may be on the picky side here, but I hate paying for something that I could have made at home and brought to work to taste the same. The Mayflower wrap was good, but it was canned cranberry + mayo + turkey and bacon with greens - the wrap fell apart because it was stuffed but not tight enough to hold together and it dripped everywhere.\\n\\nI am not OK with eating food that is prepared hap-hazardly during my lunch break, even a Tide pen can\\'t get an oily stain out of your clothes if something happens. \\n\\nThe pasta salad was al-dente which was good, but lacked flavor or spice.  \\n\\nThe picke as previous yelpers have mentioned, was excellent. By far the best part of the meal.\\n\\nI may return for breakfast as it has gotten such good reviews and try again. I guess I should have gone more conservative with my choices, I got the Spanish Omelette and didn\\'t nearly have the stomach for it, and while it was around $6.00 for the omlette, homefries, and english muffin, the addition of a medium coffee and 2 slices of bacon set me back $10.00 (Why HELLLLO Starbucks....NOT).\\n\\nAside from that, I do very much appreciate their Texas hot sauce packets. It wasn\\'t bad. It wasn\\'t great. It\\'s just a very, VERY, simple little spot next to Starbucks. I ordered a western omelet with a side of dry rye toast and homefries.\\n\\nThe food came out quickly, very hot, and just as I had ordered it. The omelet was good, not greasy, and the stuff inside was of good quality. My only dislike was the American cheese inside the omelet; just a personal preference, next time, I\\'ll ask to omit. Stayed at the Omni Parker House, which is just down the street, and asked for breakfast recommendations outside of the hotel and this was one of them.\\n\\nFor a quick breakfast, with diner type food, this is just fine.  The staff was incredibly friendly and the service was quick.  Downside, there\\'s the girl who took the order, and she brings it to your table, and has to refill the coffee and take the phone calls... at least the morning we were there, it was WAY to much for one person.\\n\\nThe food wasn\\'t fabulous, but it was good.  I had a cheese omlette, with American cheese, and was a little surprised to see white cheese flowing out of the eggs, but then maybe others choose the white American, so that was fine.  That said, it was not a fluffy omlette, it was a folded omlett.  Flavor was good, but nothing mind-blowing.\\n\\nToast was toast and the homefries were a little on the greasy side.\\n\\nWas the food acceptable?  Absolutely.  Would I stop in again?  Maybe, but if I was one who often had hangovers... I\\'d be there every chance I got!  Would have loved a place like this near work in Chicago back in the days when I needed to start my day with a good dose of grease. mmm-mmm-good. Great fresh food. I had a chicken salad BLT wrap. Fresh ingredients, fresh pasta on the side, fresh tortilla. It was amazing. It\\'s a deli style restaurant, meaning you walk up and order what you want. The staff is quick and friendly. I would definitely go back! Like a lot of the places in the area, Delicate caters to the 9-5 lifers, and as such is only open for breakfast and lunch.  The sandwiches are more substantial than their salads, and they\\'re a better deal as well, considering they\\'re roughly the same price.  I recommend the Cowgirl.  Fresh, hot, and fast, but nothing that really distinguishes it from the half dozen sandwich/salad places in downtown. Just went to Delicato for the first time this week, went twice for lunch. Definitely will become a regular lunch spot for me. They have nice wraps and sandwiches. I got a chicken salad wrap and BLT. I enjoyed both, they were fresh and well made. They add a side of pasta salad which is a nice addition. The price is very reasonable for downtown. Very solid spot. Delicato is a little deli counter service type place nestled over by City Hall. \\n\\nA lot of people go for the breakfast, but I\\'ve only ever been for lunch. Their sandwiches are generally spot on. The Cowgirl is a personal favorite although I always feel weird ordering it because it sounds like it\\'s a version of The Cowboy but for women: it\\'s not. It\\'s an ooey-gooey brie melt with chicken breast and the right pairing with a sweet honey Dijon. I don\\'t think I\\'ve ever really been disappointed by any of their sandwiches (although the boursin/roast beef wrap tastes like what I make with a few supplies from Shaw\\'s, which is good but not worth the ~$7 price). \\n\\nThe sandwiches all come with a side of pasta salad and a deli pickle which make quite a tasty lunch that\\'s quite filling. Usually at around $7 it\\'s a pretty good value, at least in terms on the area. \\n\\nM g/f loves their caprese salad for some reason, despite every time I sample it being pretty disappointed. It\\'s sort of bland and seems like they just got all the same ingredients I again can pick up at Shaw\\'s and do the exact same thing at home and have it come out slightly better for presumably cheaper. \\n\\nAlways check their specials! They have 4 different chalkboards with different daily specials: one has the sandwiches, one has the salads, one has the daily soup selection, and the final one is the lunch special. They had corned beef on St. Paddy\\'s Day and it was better than any of the \"Irish\" places I went. \\n\\nAll in all, I\\'m a solid fan of this place. I just went here for the first time today. My coworkers have been going there and coming back with these yummy looking sandwiches, so I decided to give it a try. The menu is large with lots of different sandwich options, as well as soups of the day, and salads. The line moved pretty fast, but was a bit disorganized and just a tad frantic. I ordered to go and got my sandwich pretty fast. It also comes with a side of pasta salad which is nice. When I got back to my desk i have to say I was just a little disappointed. The Turkey is not freshly sliced, it was that slightly slimy processed turkey you buy in packages. The Brie was in the form of a weird Spread instead of slices of Brie. The bread however was yummy, Crunchy on the outside and soft inside. It was a kind of focaccia which was very good. The pasta salad was also good. Over all it was just ok.  I might give this place a try again, but disappointed in the first try. Saw a LevelUp credit for this place, and since I work very close by, decided to hop in on a whim and grab lunch.  Maybe because I\\'m used to real New York Deli, or massive Al\\'s subs, but I just felt so let down my Delicato sandwich.  I also didn\\'t know it came with pasta salad and pickle, and I hate when my sandwich gets pickle juice on it...the worst!  I guess I\\'ll know better for next time, if I go back, but there are just too many better options in the area. Points for finding this place, you are an off the beaten path traveler of downtown Boston. I only know about this tiny cafe because I work around the corner. It is located on a side walkway in between downtown crossing and government center. Unimposing, it has its menu on display by the door, so you can check out its selection without having to walk in. But seriously, you\\'re gonna find something you like, you might as well go in.\\n\\nThere is a decent selection of sandwiches, soups, salads, and hot foods. I\\'ve only had sandwiches, but if the other options are like those, then its definitely worth a try. The ingredients are fresh and of good quality. The sandwich options consist of turkey, chicken, roast beef, genoa salami, etc. They are paired with a variety of cheese including the standards provolone and swiss as well as some more esoteric varieties such as brie and mozzarella. \"The Favorite\" (ironically *my* favorite) has turkey, mozzarella, lettuce, tomato, olive oil, roasted red peppers, and basil on a focaccia roll. (Also, the bread selection is fantastic and fresh. No stale or boring bread) The sandwich is served with a pasta salad and pickle. It\\'s a perfect sized meal.\\n\\nThe only reason I don\\'t attend Delicato Cafe too often are the prices. It is a little pricey (although nothing ridiculous). The difference is the sides. It\\'s a little more than I\\'d like to pay on a regular basis, but I\\'ll certainly stop in when I feel like treating myself.\\n\\nBONUS - Delicato Cafe is now working with LevelUp, the app where you can pay with your smartphone and build toward bonus credit to spend at the restaurant. You get a credit for your first time and $5 back for every $50 you spend. That\\'s certainly an incentive to pop in more often! Delicato is a fantastic little place to grab breakfast or lunch for reasonable prices downtown. The owner, Lou, is ridiculously friendly, as is the rest of his staff. \\n\\nAll the daily entrees and soups are homemade (shoutout to Jerry), but I generally opt for the Patriot - a chicken salad BLT. The chicken salad is to die for! Order the Patriot, or the Cape Codder (a wrap with cranberry sauce - it\\'s delish I swear). \\n\\nI also love getting the special sandwiches, which often include sprouts. Everything is super fresh! Plus every sandwich comes with a pickle and tasty pasta salad, a full meal for aroun $7.\\n\\nI\\'ve ordered a hungover breakfast sandwich or two, and they put plenty of cheese on those babies. Mmmmm.\\n\\nDelicato has also catered some work events for my old job, they were on time, everyone raved about the food, and prices were great! I highly recommend. I usually come here once or twice a week for lunch, since I\\'m a 9-5 (more like 7-5) lifer in the area.  Like many restaurants around here, this place usually gets most of it\\'s business from the lunch time crowd, so yeah this small place can get a bit crowded, but lines do go fairly quick. \\n\\nThis place offers all types of sandwiches and paninis, as well as soups, salads, daily specials.  The food is decent, but there are better sandwich and soup spots in the area. Ohh they also do breakfast as well, with the normal breakfast foods like eggs, bacon, sausage, toast, and pancakes. Ehhh nothing special, so why do I come here then? Because it\\'s right around the corner from work and it\\'s too damn cold out! \\n\\nIt\\'s always the same three people working in here the owner, who handles the money , the girl on the sandwiches, and SSS guy (soup/salad/specials dude).  I come here maybe once or twice a week, I have tried a variety of things. So normally I stick I\\'m with the SSS guy. Soups can be a bit oily (especially the chili), like a centimeter\\'s worth of oil layering the top of it. Salads aren\\'t bad, sometimes they\\'ll have creative salad specials, one time I got curry chicken salad (interesting, not bad at all!). As for specials, they\\'ll have pasta offerings, like the American Chop Suey, which was a bit greasy and comes with a side of garlic bread. I must admit even though there are better places to eat around here, I am a regular, just because it\\'s quick and I need something to get me through the 10 hour days, plus I don\\'t really have time to enjoy the food! I\\'ll save time for the weekends! I use Delicato for catering lunches for my office. I have nothing negative to say about them! Lou, the owner is wonderful and very accomodating even in the times I have had to call him last minute for things! They offer all types of sandwiches on all different types of breads. The deli meat is always fresh and tasty as well as the veggies and cheeses. I will continue to do business with them as they offer the best catered sandwich platters in the area. I have frequent work in the office next door., and I mean directly next door, the buildings are up against each other, the entrances 20 feet from each other. I am in that building one out of three business days, more or less. There are people from other agencies that are at all these same meetings with me, along with contractors we work with. Delicato makes a decent sandwich, nothing to rave about, but dependable. I used to come here a lot.\\n\\nI never go there any more, and neither do the people I work with. Last time we came here one of the women in our group was humiliated by a man who I believe is the owner. He\\'s the tall guy that\\'s always there and acts  like he owns the place, but I\\'m not sure. The woman who was disrespected is extremely intelligent and hard working, and her abilities are widely respected. Her counsel is sought by some very important people. On the day in question, she apparently asked a question about the menu, and he thought the question was stupid. He told her how ridiculous her question was in a very loud and disrespectful manner, laughing and treating her like she was stupid, sharing her stupid question loudly with the cook, who also laughed at her apparent stupidity.\\n\\nShe reddened, but she acted cool and sat with us like nothing had happened. I suppressed a fleeting urge to go over give that moron a dope slap.  I was ready to just walk out but I didn\\'t want to embarrass her, she was acting as if nothing happened, so that;s what I did. None of us had a big discussion about it afterwards, but none of us has been back there since. That man is an ass. I decided to try this place for lunch as it offered a LevelUp discount. Figured it was safe to order the first item on their long wraps list, the Californian. Wrong. Really mediocre. Low quality turkey, boring cheese, and COLD. Not room temp, COLD. I don\\'t like COLD food. Also a little bitter tasting... maybe it\\'s the yucky wrap they use. I imagine other menu items are.better but I would not trust the wraps. chicken salad had way too much mayo that overwhelmed it.   I wish I tried the chicken parm special which looked pretty good.  This was a very weak first impression. This was my everyday lunch spot for about a year. Super friendly staff who will definitely remember you and your order if you are a regular. Try the cape codder (with cheese!) Great soup & sandwiches! Surprisingly good panini. I\\'d come here again!'"
      ]
     },
     "execution_count": 131,
     "metadata": {},
     "output_type": "execute_result"
    }
   ],
   "source": [
    "no_dupes.iloc[1]['review_text']"
   ]
  },
  {
   "cell_type": "code",
   "execution_count": 94,
   "metadata": {
    "collapsed": false
   },
   "outputs": [
    {
     "data": {
      "text/plain": [
       "(27088, 15)"
      ]
     },
     "execution_count": 94,
     "metadata": {},
     "output_type": "execute_result"
    }
   ],
   "source": [
    "reviews_tips_training_response.drop_duplicates(['restaurant_id', 'inspection_date']).shape"
   ]
  },
  {
   "cell_type": "code",
   "execution_count": 97,
   "metadata": {
    "collapsed": false
   },
   "outputs": [
    {
     "data": {
      "text/plain": [
       "(27088, 3)"
      ]
     },
     "execution_count": 97,
     "metadata": {},
     "output_type": "execute_result"
    }
   ],
   "source": [
    "text.reset_index().rename(columns={0: 'review_text'}).shape"
   ]
  },
  {
   "cell_type": "code",
   "execution_count": 45,
   "metadata": {
    "collapsed": false
   },
   "outputs": [
    {
     "ename": "KeyboardInterrupt",
     "evalue": "",
     "output_type": "error",
     "traceback": [
      "\u001b[0;31m---------------------------------------------------------------------------\u001b[0m",
      "\u001b[0;31mKeyboardInterrupt\u001b[0m                         Traceback (most recent call last)",
      "\u001b[0;32m<ipython-input-45-156f58d6179c>\u001b[0m in \u001b[0;36m<module>\u001b[0;34m()\u001b[0m\n\u001b[1;32m      1\u001b[0m \u001b[0;31m# no_future.groupby(['restaurant_id', 'inspection_date'])['review_text'].transform(lambda x: ' '.join(x))\u001b[0m\u001b[0;34m\u001b[0m\u001b[0;34m\u001b[0m\u001b[0m\n\u001b[0;32m----> 2\u001b[0;31m \u001b[0mflats\u001b[0m \u001b[0;34m=\u001b[0m \u001b[0mno_future\u001b[0m\u001b[0;34m[\u001b[0m\u001b[0;34m[\u001b[0m\u001b[0;34m'restaurant_id'\u001b[0m\u001b[0;34m,\u001b[0m \u001b[0;34m'inspection_date'\u001b[0m\u001b[0;34m,\u001b[0m \u001b[0;34m'review_text'\u001b[0m\u001b[0;34m]\u001b[0m\u001b[0;34m]\u001b[0m\u001b[0;34m.\u001b[0m\u001b[0mgroupby\u001b[0m\u001b[0;34m(\u001b[0m\u001b[0;34m[\u001b[0m\u001b[0;34m'restaurant_id'\u001b[0m\u001b[0;34m,\u001b[0m \u001b[0;34m'inspection_date'\u001b[0m\u001b[0;34m]\u001b[0m\u001b[0;34m)\u001b[0m\u001b[0;34m[\u001b[0m\u001b[0;34m'review_text'\u001b[0m\u001b[0;34m]\u001b[0m\u001b[0;34m.\u001b[0m\u001b[0mapply\u001b[0m\u001b[0;34m(\u001b[0m\u001b[0;32mlambda\u001b[0m \u001b[0mx\u001b[0m\u001b[0;34m:\u001b[0m \u001b[0;34m' '\u001b[0m\u001b[0;34m.\u001b[0m\u001b[0mjoin\u001b[0m\u001b[0;34m(\u001b[0m\u001b[0mx\u001b[0m\u001b[0;34m)\u001b[0m\u001b[0;34m)\u001b[0m\u001b[0;34m\u001b[0m\u001b[0m\n\u001b[0m\u001b[1;32m      3\u001b[0m \u001b[0;31m# no_future['review_text'] = no_future[['restaurant_id', 'inspection_date', 'review_text']].groupby(['restaurant_id', 'inspection_date'])['review_text'].transform(lambda x: ' '.join(x))\u001b[0m\u001b[0;34m\u001b[0m\u001b[0;34m\u001b[0m\u001b[0m\n",
      "\u001b[0;32m/Users/amangum/anaconda/lib/python2.7/site-packages/pandas/core/groupby.pyc\u001b[0m in \u001b[0;36mapply\u001b[0;34m(self, func, *args, **kwargs)\u001b[0m\n\u001b[1;32m    669\u001b[0m         \u001b[0;31m# ignore SettingWithCopy here in case the user mutates\u001b[0m\u001b[0;34m\u001b[0m\u001b[0;34m\u001b[0m\u001b[0m\n\u001b[1;32m    670\u001b[0m         \u001b[0;32mwith\u001b[0m \u001b[0moption_context\u001b[0m\u001b[0;34m(\u001b[0m\u001b[0;34m'mode.chained_assignment'\u001b[0m\u001b[0;34m,\u001b[0m\u001b[0mNone\u001b[0m\u001b[0;34m)\u001b[0m\u001b[0;34m:\u001b[0m\u001b[0;34m\u001b[0m\u001b[0m\n\u001b[0;32m--> 671\u001b[0;31m             \u001b[0;32mreturn\u001b[0m \u001b[0mself\u001b[0m\u001b[0;34m.\u001b[0m\u001b[0m_python_apply_general\u001b[0m\u001b[0;34m(\u001b[0m\u001b[0mf\u001b[0m\u001b[0;34m)\u001b[0m\u001b[0;34m\u001b[0m\u001b[0m\n\u001b[0m\u001b[1;32m    672\u001b[0m \u001b[0;34m\u001b[0m\u001b[0m\n\u001b[1;32m    673\u001b[0m     \u001b[0;32mdef\u001b[0m \u001b[0m_python_apply_general\u001b[0m\u001b[0;34m(\u001b[0m\u001b[0mself\u001b[0m\u001b[0;34m,\u001b[0m \u001b[0mf\u001b[0m\u001b[0;34m)\u001b[0m\u001b[0;34m:\u001b[0m\u001b[0;34m\u001b[0m\u001b[0m\n",
      "\u001b[0;32m/Users/amangum/anaconda/lib/python2.7/site-packages/pandas/core/groupby.pyc\u001b[0m in \u001b[0;36m_python_apply_general\u001b[0;34m(self, f)\u001b[0m\n\u001b[1;32m    673\u001b[0m     \u001b[0;32mdef\u001b[0m \u001b[0m_python_apply_general\u001b[0m\u001b[0;34m(\u001b[0m\u001b[0mself\u001b[0m\u001b[0;34m,\u001b[0m \u001b[0mf\u001b[0m\u001b[0;34m)\u001b[0m\u001b[0;34m:\u001b[0m\u001b[0;34m\u001b[0m\u001b[0m\n\u001b[1;32m    674\u001b[0m         keys, values, mutated = self.grouper.apply(f, self._selected_obj,\n\u001b[0;32m--> 675\u001b[0;31m                                                    self.axis)\n\u001b[0m\u001b[1;32m    676\u001b[0m \u001b[0;34m\u001b[0m\u001b[0m\n\u001b[1;32m    677\u001b[0m         return self._wrap_applied_output(keys, values,\n",
      "\u001b[0;32m/Users/amangum/anaconda/lib/python2.7/site-packages/pandas/core/groupby.pyc\u001b[0m in \u001b[0;36mapply\u001b[0;34m(self, f, data, axis)\u001b[0m\n\u001b[1;32m   1292\u001b[0m             \u001b[0;31m# group might be modified\u001b[0m\u001b[0;34m\u001b[0m\u001b[0;34m\u001b[0m\u001b[0m\n\u001b[1;32m   1293\u001b[0m             \u001b[0mgroup_axes\u001b[0m \u001b[0;34m=\u001b[0m \u001b[0m_get_axes\u001b[0m\u001b[0;34m(\u001b[0m\u001b[0mgroup\u001b[0m\u001b[0;34m)\u001b[0m\u001b[0;34m\u001b[0m\u001b[0m\n\u001b[0;32m-> 1294\u001b[0;31m             \u001b[0mres\u001b[0m \u001b[0;34m=\u001b[0m \u001b[0mf\u001b[0m\u001b[0;34m(\u001b[0m\u001b[0mgroup\u001b[0m\u001b[0;34m)\u001b[0m\u001b[0;34m\u001b[0m\u001b[0m\n\u001b[0m\u001b[1;32m   1295\u001b[0m             \u001b[0;32mif\u001b[0m \u001b[0;32mnot\u001b[0m \u001b[0m_is_indexed_like\u001b[0m\u001b[0;34m(\u001b[0m\u001b[0mres\u001b[0m\u001b[0;34m,\u001b[0m \u001b[0mgroup_axes\u001b[0m\u001b[0;34m)\u001b[0m\u001b[0;34m:\u001b[0m\u001b[0;34m\u001b[0m\u001b[0m\n\u001b[1;32m   1296\u001b[0m                 \u001b[0mmutated\u001b[0m \u001b[0;34m=\u001b[0m \u001b[0mTrue\u001b[0m\u001b[0;34m\u001b[0m\u001b[0m\n",
      "\u001b[0;32m/Users/amangum/anaconda/lib/python2.7/site-packages/pandas/core/groupby.pyc\u001b[0m in \u001b[0;36mf\u001b[0;34m(g)\u001b[0m\n\u001b[1;32m    665\u001b[0m         \u001b[0;34m@\u001b[0m\u001b[0mwraps\u001b[0m\u001b[0;34m(\u001b[0m\u001b[0mfunc\u001b[0m\u001b[0;34m)\u001b[0m\u001b[0;34m\u001b[0m\u001b[0m\n\u001b[1;32m    666\u001b[0m         \u001b[0;32mdef\u001b[0m \u001b[0mf\u001b[0m\u001b[0;34m(\u001b[0m\u001b[0mg\u001b[0m\u001b[0;34m)\u001b[0m\u001b[0;34m:\u001b[0m\u001b[0;34m\u001b[0m\u001b[0m\n\u001b[0;32m--> 667\u001b[0;31m             \u001b[0;32mreturn\u001b[0m \u001b[0mfunc\u001b[0m\u001b[0;34m(\u001b[0m\u001b[0mg\u001b[0m\u001b[0;34m,\u001b[0m \u001b[0;34m*\u001b[0m\u001b[0margs\u001b[0m\u001b[0;34m,\u001b[0m \u001b[0;34m**\u001b[0m\u001b[0mkwargs\u001b[0m\u001b[0;34m)\u001b[0m\u001b[0;34m\u001b[0m\u001b[0m\n\u001b[0m\u001b[1;32m    668\u001b[0m \u001b[0;34m\u001b[0m\u001b[0m\n\u001b[1;32m    669\u001b[0m         \u001b[0;31m# ignore SettingWithCopy here in case the user mutates\u001b[0m\u001b[0;34m\u001b[0m\u001b[0;34m\u001b[0m\u001b[0m\n",
      "\u001b[0;32m<ipython-input-45-156f58d6179c>\u001b[0m in \u001b[0;36m<lambda>\u001b[0;34m(x)\u001b[0m\n\u001b[1;32m      1\u001b[0m \u001b[0;31m# no_future.groupby(['restaurant_id', 'inspection_date'])['review_text'].transform(lambda x: ' '.join(x))\u001b[0m\u001b[0;34m\u001b[0m\u001b[0;34m\u001b[0m\u001b[0m\n\u001b[0;32m----> 2\u001b[0;31m \u001b[0mflats\u001b[0m \u001b[0;34m=\u001b[0m \u001b[0mno_future\u001b[0m\u001b[0;34m[\u001b[0m\u001b[0;34m[\u001b[0m\u001b[0;34m'restaurant_id'\u001b[0m\u001b[0;34m,\u001b[0m \u001b[0;34m'inspection_date'\u001b[0m\u001b[0;34m,\u001b[0m \u001b[0;34m'review_text'\u001b[0m\u001b[0;34m]\u001b[0m\u001b[0;34m]\u001b[0m\u001b[0;34m.\u001b[0m\u001b[0mgroupby\u001b[0m\u001b[0;34m(\u001b[0m\u001b[0;34m[\u001b[0m\u001b[0;34m'restaurant_id'\u001b[0m\u001b[0;34m,\u001b[0m \u001b[0;34m'inspection_date'\u001b[0m\u001b[0;34m]\u001b[0m\u001b[0;34m)\u001b[0m\u001b[0;34m[\u001b[0m\u001b[0;34m'review_text'\u001b[0m\u001b[0;34m]\u001b[0m\u001b[0;34m.\u001b[0m\u001b[0mapply\u001b[0m\u001b[0;34m(\u001b[0m\u001b[0;32mlambda\u001b[0m \u001b[0mx\u001b[0m\u001b[0;34m:\u001b[0m \u001b[0;34m' '\u001b[0m\u001b[0;34m.\u001b[0m\u001b[0mjoin\u001b[0m\u001b[0;34m(\u001b[0m\u001b[0mx\u001b[0m\u001b[0;34m)\u001b[0m\u001b[0;34m)\u001b[0m\u001b[0;34m\u001b[0m\u001b[0m\n\u001b[0m\u001b[1;32m      3\u001b[0m \u001b[0;31m# no_future['review_text'] = no_future[['restaurant_id', 'inspection_date', 'review_text']].groupby(['restaurant_id', 'inspection_date'])['review_text'].transform(lambda x: ' '.join(x))\u001b[0m\u001b[0;34m\u001b[0m\u001b[0;34m\u001b[0m\u001b[0m\n",
      "\u001b[0;31mKeyboardInterrupt\u001b[0m: "
     ]
    }
   ],
   "source": [
    "# no_future.groupby(['restaurant_id', 'inspection_date'])['review_text'].transform(lambda x: ' '.join(x))\n",
    "flats = no_future[['restaurant_id', 'inspection_date', 'review_text']].groupby(['restaurant_id', 'inspection_date'])['review_text'].apply(lambda x: ' '.join(x))\n",
    "# no_future['review_text'] = no_future[['restaurant_id', 'inspection_date', 'review_text']].groupby(['restaurant_id', 'inspection_date'])['review_text'].transform(lambda x: ' '.join(x))"
   ]
  },
  {
   "cell_type": "code",
   "execution_count": 39,
   "metadata": {
    "collapsed": false
   },
   "outputs": [
    {
     "data": {
      "text/plain": [
       "(25797, 15)"
      ]
     },
     "execution_count": 39,
     "metadata": {},
     "output_type": "execute_result"
    }
   ],
   "source": [
    "no_future.drop_duplicates(['restaurant_id', 'inspection_date', 'review_text']).shape"
   ]
  },
  {
   "cell_type": "code",
   "execution_count": 40,
   "metadata": {
    "collapsed": false
   },
   "outputs": [
    {
     "data": {
      "text/plain": [
       "(1923796, 15)"
      ]
     },
     "execution_count": 40,
     "metadata": {},
     "output_type": "execute_result"
    }
   ],
   "source": [
    "no_future.shape"
   ]
  },
  {
   "cell_type": "code",
   "execution_count": 41,
   "metadata": {
    "collapsed": false
   },
   "outputs": [
    {
     "data": {
      "text/plain": [
       "(27088, 6)"
      ]
     },
     "execution_count": 41,
     "metadata": {},
     "output_type": "execute_result"
    }
   ],
   "source": [
    "training_response.shape"
   ]
  },
  {
   "cell_type": "code",
   "execution_count": 134,
   "metadata": {
    "collapsed": true
   },
   "outputs": [],
   "source": [
    "df = pickled"
   ]
  },
  {
   "cell_type": "code",
   "execution_count": 146,
   "metadata": {
    "collapsed": true
   },
   "outputs": [],
   "source": [
    "# groupby restaurant_id and inspection_date\n",
    "g = df[['restaurant_id', 'inspection_date', 'review_text', 'review_date']].groupby(['restaurant_id', 'inspection_date'])\n",
    "# remove the reviews that occur after the inspection date and combine reviews for the same restaurant/date\n",
    "texts = g.apply(lambda x: ' '.join(x[x.review_date <= x.inspection_date]['review_text']))\n",
    "# remove duplicates\n",
    "no_dupes = df.drop_duplicates(['restaurant_id', 'inspection_date'])\n",
    "no_dupes.set_index(['restaurant_id', 'inspection_date'], inplace=True)\n",
    "no_dupes.review_text = texts"
   ]
  },
  {
   "cell_type": "code",
   "execution_count": 147,
   "metadata": {
    "collapsed": false
   },
   "outputs": [
    {
     "data": {
      "text/plain": [
       "(27088,)"
      ]
     },
     "execution_count": 147,
     "metadata": {},
     "output_type": "execute_result"
    }
   ],
   "source": [
    "no_dupes.review_text.shape"
   ]
  },
  {
   "cell_type": "code",
   "execution_count": 148,
   "metadata": {
    "collapsed": false
   },
   "outputs": [
    {
     "data": {
      "text/plain": [
       "(27088,)"
      ]
     },
     "execution_count": 148,
     "metadata": {},
     "output_type": "execute_result"
    }
   ],
   "source": [
    "no_dupes.review_text.dropna().shape"
   ]
  },
  {
   "cell_type": "code",
   "execution_count": 140,
   "metadata": {
    "collapsed": false
   },
   "outputs": [
    {
     "data": {
      "text/plain": [
       "(4071065,)"
      ]
     },
     "execution_count": 140,
     "metadata": {},
     "output_type": "execute_result"
    }
   ],
   "source": [
    "df.review_text.dropna().shape"
   ]
  },
  {
   "cell_type": "code",
   "execution_count": null,
   "metadata": {
    "collapsed": false
   },
   "outputs": [],
   "source": []
  },
  {
   "cell_type": "code",
   "execution_count": null,
   "metadata": {
    "collapsed": true
   },
   "outputs": [],
   "source": []
  },
  {
   "cell_type": "code",
   "execution_count": 261,
   "metadata": {
    "collapsed": true
   },
   "outputs": [],
   "source": [
    "def flatten_reviews(label_df, reviews):\n",
    "    \"\"\"\n",
    "        label_df: inspection dataframe with date, restaurant_id\n",
    "        reviews: dataframe of reviews\n",
    "        Returns all of the text of reviews previous to each\n",
    "        inspection listed in label_df.\n",
    "    \"\"\"\n",
    "    reviews_dictionary = {}\n",
    "    N = len(label_df)\n",
    "\n",
    "    for i, (pid, row) in enumerate(label_df.iterrows()):\n",
    "        # we want to only get reviews for this restaurant that ocurred before the inspection\n",
    "        pre_inspection_mask = (reviews.review_date < row.inspection_date) & (reviews.restaurant_id == row.restaurant_id)\n",
    "\n",
    "        # pre-inspection reviews\n",
    "        pre_inspection_reviews = reviews[pre_inspection_mask]\n",
    "\n",
    "        # join the text\n",
    "        all_text = ' '.join(pre_inspection_reviews.review_text)\n",
    "\n",
    "        # store in dictionary\n",
    "        reviews_dictionary[pid] = all_text\n",
    "\n",
    "        if i % 2500 == 0:\n",
    "            print '{} out of {}'.format(i, N)\n",
    "\n",
    "    # return series in same order as the original data frame\n",
    "    return pd.Series(reviews_dictionary)[label_df.index]"
   ]
  },
  {
   "cell_type": "code",
   "execution_count": 272,
   "metadata": {
    "collapsed": false
   },
   "outputs": [],
   "source": [
    "data = []\n",
    "with open(\"data/yelp_academic_dataset_user.json\", 'r') as f:\n",
    "    for line in f:\n",
    "        data.append(byteify(json.loads(line)))\n",
    "users = json_normalize(data)"
   ]
  },
  {
   "cell_type": "code",
   "execution_count": 273,
   "metadata": {
    "collapsed": false
   },
   "outputs": [],
   "source": [
    "users.columns = [u'user_average_stars', u'user_compliments.cool', u'user_compliments.cute', u'user_compliments.funny', u'user_compliments.hot', u'user_compliments.list', u'user_compliments.more', u'user_compliments.note', u'user_compliments.photos', u'user_compliments.plain', u'user_compliments.profile', u'user_compliments.writer', u'user_elite', u'user_fans', u'user_friends', u'user_name', u'user_review_count', u'user_type', u'user_id', u'user_votes.cool', u'user_votes.funny', u'user_votes.useful', u'user_yelping_since']"
   ]
  },
  {
   "cell_type": "code",
   "execution_count": 275,
   "metadata": {
    "collapsed": false
   },
   "outputs": [
    {
     "data": {
      "text/plain": [
       "(68650, 23)"
      ]
     },
     "execution_count": 275,
     "metadata": {},
     "output_type": "execute_result"
    }
   ],
   "source": [
    "users.shape"
   ]
  },
  {
   "cell_type": "code",
   "execution_count": 181,
   "metadata": {
    "collapsed": true
   },
   "outputs": [],
   "source": [
    "reviews_tips_users = pd.merge(reviews_tips, users, how='left', on='user_id')"
   ]
  },
  {
   "cell_type": "code",
   "execution_count": 182,
   "metadata": {
    "collapsed": false
   },
   "outputs": [
    {
     "data": {
      "text/plain": [
       "(254443, 32)"
      ]
     },
     "execution_count": 182,
     "metadata": {},
     "output_type": "execute_result"
    }
   ],
   "source": [
    "reviews_tips_users.shape"
   ]
  },
  {
   "cell_type": "code",
   "execution_count": 189,
   "metadata": {
    "collapsed": false
   },
   "outputs": [],
   "source": [
    "reviews_tips_users_restaurants_checkins = pd.merge(reviews_tips_users, restaurants_checkins, how='outer', on='business_id')"
   ]
  },
  {
   "cell_type": "code",
   "execution_count": 190,
   "metadata": {
    "collapsed": false
   },
   "outputs": [
    {
     "data": {
      "text/plain": [
       "(254443, 127)"
      ]
     },
     "execution_count": 190,
     "metadata": {},
     "output_type": "execute_result"
    }
   ],
   "source": [
    "reviews_tips_users_restaurants_checkins.shape"
   ]
  },
  {
   "cell_type": "code",
   "execution_count": 191,
   "metadata": {
    "collapsed": false
   },
   "outputs": [],
   "source": [
    "reviews_tips_users_restaurants_checkins = reviews_tips_users_restaurants_checkins.rename(columns = {'business_id':'restaurant_id'})\n",
    "reviews_tips_users_restaurants_checkins.restaurant_id = reviews_tips_users_restaurants_checkins.restaurant_id.map(map_to_boston_ids)"
   ]
  },
  {
   "cell_type": "code",
   "execution_count": 193,
   "metadata": {
    "collapsed": false
   },
   "outputs": [],
   "source": [
    "features_response = pd.merge(training_response, reviews_tips_users_restaurants_checkins, on='restaurant_id', how='left')"
   ]
  },
  {
   "cell_type": "code",
   "execution_count": 194,
   "metadata": {
    "collapsed": false
   },
   "outputs": [
    {
     "data": {
      "text/plain": [
       "(4071065, 132)"
      ]
     },
     "execution_count": 194,
     "metadata": {},
     "output_type": "execute_result"
    }
   ],
   "source": [
    "features_response.shape"
   ]
  },
  {
   "cell_type": "code",
   "execution_count": 195,
   "metadata": {
    "collapsed": true
   },
   "outputs": [],
   "source": [
    "# drop restaurants not found in boston data\n",
    "features_response = features_response[pd.notnull(features_response.restaurant_id)]"
   ]
  },
  {
   "cell_type": "code",
   "execution_count": 196,
   "metadata": {
    "collapsed": false
   },
   "outputs": [
    {
     "data": {
      "text/plain": [
       "(4071065, 132)"
      ]
     },
     "execution_count": 196,
     "metadata": {},
     "output_type": "execute_result"
    }
   ],
   "source": [
    "features_response.shape"
   ]
  },
  {
   "cell_type": "code",
   "execution_count": 132,
   "metadata": {
    "collapsed": false
   },
   "outputs": [],
   "source": [
    "pickled = pd.read_pickle('pickle_jar/training_df.pkl')"
   ]
  },
  {
   "cell_type": "code",
   "execution_count": 133,
   "metadata": {
    "collapsed": false
   },
   "outputs": [
    {
     "data": {
      "text/plain": [
       "(4071065, 131)"
      ]
     },
     "execution_count": 133,
     "metadata": {},
     "output_type": "execute_result"
    }
   ],
   "source": [
    "pickled.shape"
   ]
  },
  {
   "cell_type": "code",
   "execution_count": 313,
   "metadata": {
    "collapsed": false
   },
   "outputs": [
    {
     "name": "stderr",
     "output_type": "stream",
     "text": [
      "/Users/amangum/anaconda/lib/python2.7/site-packages/pandas/core/generic.py:2177: SettingWithCopyWarning: \n",
      "A value is trying to be set on a copy of a slice from a DataFrame.\n",
      "Try using .loc[row_indexer,col_indexer] = value instead\n",
      "\n",
      "See the the caveats in the documentation: http://pandas.pydata.org/pandas-docs/stable/indexing.html#indexing-view-versus-copy\n",
      "  self[name] = value\n"
     ]
    }
   ],
   "source": [
    "no_future.review_text = no_future.groupby(['restaurant_id', 'inspection_date'])['review_text'].transform(lambda x: ' '.join(x))"
   ]
  },
  {
   "cell_type": "code",
   "execution_count": 391,
   "metadata": {
    "collapsed": false
   },
   "outputs": [],
   "source": [
    "singles = no_future.drop_duplicates('inspection_id')"
   ]
  },
  {
   "cell_type": "code",
   "execution_count": 398,
   "metadata": {
    "collapsed": false
   },
   "outputs": [
    {
     "data": {
      "text/plain": [
       "(25797, 129)"
      ]
     },
     "execution_count": 398,
     "metadata": {},
     "output_type": "execute_result"
    }
   ],
   "source": [
    "singles.set_index(['restaurant_id', 'inspection_date']).shape"
   ]
  },
  {
   "cell_type": "code",
   "execution_count": 400,
   "metadata": {
    "collapsed": false
   },
   "outputs": [
    {
     "data": {
      "text/plain": [
       "2"
      ]
     },
     "execution_count": 400,
     "metadata": {},
     "output_type": "execute_result"
    }
   ],
   "source": [
    "training_response.ndim"
   ]
  },
  {
   "cell_type": "code",
   "execution_count": 397,
   "metadata": {
    "collapsed": false
   },
   "outputs": [
    {
     "ename": "ValueError",
     "evalue": "Wrong number of dimensions",
     "output_type": "error",
     "traceback": [
      "\u001b[0;31m---------------------------------------------------------------------------\u001b[0m",
      "\u001b[0;31mValueError\u001b[0m                                Traceback (most recent call last)",
      "\u001b[0;32m<ipython-input-397-f144568402c9>\u001b[0m in \u001b[0;36m<module>\u001b[0;34m()\u001b[0m\n\u001b[0;32m----> 1\u001b[0;31m \u001b[0mflat\u001b[0m \u001b[0;34m=\u001b[0m  \u001b[0mpd\u001b[0m\u001b[0;34m.\u001b[0m\u001b[0mmerge\u001b[0m\u001b[0;34m(\u001b[0m\u001b[0mtraining_response\u001b[0m\u001b[0;34m,\u001b[0m \u001b[0msingles\u001b[0m\u001b[0;34m,\u001b[0m \u001b[0mhow\u001b[0m\u001b[0;34m=\u001b[0m\u001b[0;34m'left'\u001b[0m\u001b[0;34m)\u001b[0m\u001b[0;34m\u001b[0m\u001b[0m\n\u001b[0m",
      "\u001b[0;32m/Users/amangum/Virtualenvs/metis/lib/python2.7/site-packages/pandas/tools/merge.pyc\u001b[0m in \u001b[0;36mmerge\u001b[0;34m(left, right, how, on, left_on, right_on, left_index, right_index, sort, suffixes, copy)\u001b[0m\n\u001b[1;32m     36\u001b[0m                          \u001b[0mright_index\u001b[0m\u001b[0;34m=\u001b[0m\u001b[0mright_index\u001b[0m\u001b[0;34m,\u001b[0m \u001b[0msort\u001b[0m\u001b[0;34m=\u001b[0m\u001b[0msort\u001b[0m\u001b[0;34m,\u001b[0m \u001b[0msuffixes\u001b[0m\u001b[0;34m=\u001b[0m\u001b[0msuffixes\u001b[0m\u001b[0;34m,\u001b[0m\u001b[0;34m\u001b[0m\u001b[0m\n\u001b[1;32m     37\u001b[0m                          copy=copy)\n\u001b[0;32m---> 38\u001b[0;31m     \u001b[0;32mreturn\u001b[0m \u001b[0mop\u001b[0m\u001b[0;34m.\u001b[0m\u001b[0mget_result\u001b[0m\u001b[0;34m(\u001b[0m\u001b[0;34m)\u001b[0m\u001b[0;34m\u001b[0m\u001b[0m\n\u001b[0m\u001b[1;32m     39\u001b[0m \u001b[0;32mif\u001b[0m \u001b[0m__debug__\u001b[0m\u001b[0;34m:\u001b[0m\u001b[0;34m\u001b[0m\u001b[0m\n\u001b[1;32m     40\u001b[0m     \u001b[0mmerge\u001b[0m\u001b[0;34m.\u001b[0m\u001b[0m__doc__\u001b[0m \u001b[0;34m=\u001b[0m \u001b[0m_merge_doc\u001b[0m \u001b[0;34m%\u001b[0m \u001b[0;34m'\\nleft : DataFrame'\u001b[0m\u001b[0;34m\u001b[0m\u001b[0m\n",
      "\u001b[0;32m/Users/amangum/Virtualenvs/metis/lib/python2.7/site-packages/pandas/tools/merge.pyc\u001b[0m in \u001b[0;36mget_result\u001b[0;34m(self)\u001b[0m\n\u001b[1;32m    198\u001b[0m             \u001b[0;34m[\u001b[0m\u001b[0;34m(\u001b[0m\u001b[0mldata\u001b[0m\u001b[0;34m,\u001b[0m \u001b[0mlindexers\u001b[0m\u001b[0;34m)\u001b[0m\u001b[0;34m,\u001b[0m \u001b[0;34m(\u001b[0m\u001b[0mrdata\u001b[0m\u001b[0;34m,\u001b[0m \u001b[0mrindexers\u001b[0m\u001b[0;34m)\u001b[0m\u001b[0;34m]\u001b[0m\u001b[0;34m,\u001b[0m\u001b[0;34m\u001b[0m\u001b[0m\n\u001b[1;32m    199\u001b[0m             \u001b[0maxes\u001b[0m\u001b[0;34m=\u001b[0m\u001b[0;34m[\u001b[0m\u001b[0mllabels\u001b[0m\u001b[0;34m.\u001b[0m\u001b[0mappend\u001b[0m\u001b[0;34m(\u001b[0m\u001b[0mrlabels\u001b[0m\u001b[0;34m)\u001b[0m\u001b[0;34m,\u001b[0m \u001b[0mjoin_index\u001b[0m\u001b[0;34m]\u001b[0m\u001b[0;34m,\u001b[0m\u001b[0;34m\u001b[0m\u001b[0m\n\u001b[0;32m--> 200\u001b[0;31m             concat_axis=0, copy=self.copy)\n\u001b[0m\u001b[1;32m    201\u001b[0m \u001b[0;34m\u001b[0m\u001b[0m\n\u001b[1;32m    202\u001b[0m         \u001b[0mtyp\u001b[0m \u001b[0;34m=\u001b[0m \u001b[0mself\u001b[0m\u001b[0;34m.\u001b[0m\u001b[0mleft\u001b[0m\u001b[0;34m.\u001b[0m\u001b[0m_constructor\u001b[0m\u001b[0;34m\u001b[0m\u001b[0m\n",
      "\u001b[0;32m/Users/amangum/Virtualenvs/metis/lib/python2.7/site-packages/pandas/core/internals.pyc\u001b[0m in \u001b[0;36mconcatenate_block_managers\u001b[0;34m(mgrs_indexers, axes, concat_axis, copy)\u001b[0m\n\u001b[1;32m   4057\u001b[0m                                                 copy=copy),\n\u001b[1;32m   4058\u001b[0m                          placement=placement)\n\u001b[0;32m-> 4059\u001b[0;31m               for placement, join_units in concat_plan]\n\u001b[0m\u001b[1;32m   4060\u001b[0m \u001b[0;34m\u001b[0m\u001b[0m\n\u001b[1;32m   4061\u001b[0m     \u001b[0;32mreturn\u001b[0m \u001b[0mBlockManager\u001b[0m\u001b[0;34m(\u001b[0m\u001b[0mblocks\u001b[0m\u001b[0;34m,\u001b[0m \u001b[0maxes\u001b[0m\u001b[0;34m)\u001b[0m\u001b[0;34m\u001b[0m\u001b[0m\n",
      "\u001b[0;32m/Users/amangum/Virtualenvs/metis/lib/python2.7/site-packages/pandas/core/internals.pyc\u001b[0m in \u001b[0;36mconcatenate_join_units\u001b[0;34m(join_units, concat_axis, copy)\u001b[0m\n\u001b[1;32m   4150\u001b[0m     to_concat = [ju.get_reindexed_values(empty_dtype=empty_dtype,\n\u001b[1;32m   4151\u001b[0m                                          upcasted_na=upcasted_na)\n\u001b[0;32m-> 4152\u001b[0;31m                  for ju in join_units]\n\u001b[0m\u001b[1;32m   4153\u001b[0m \u001b[0;34m\u001b[0m\u001b[0m\n\u001b[1;32m   4154\u001b[0m     \u001b[0;32mif\u001b[0m \u001b[0mlen\u001b[0m\u001b[0;34m(\u001b[0m\u001b[0mto_concat\u001b[0m\u001b[0;34m)\u001b[0m \u001b[0;34m==\u001b[0m \u001b[0;36m1\u001b[0m\u001b[0;34m:\u001b[0m\u001b[0;34m\u001b[0m\u001b[0m\n",
      "\u001b[0;32m/Users/amangum/Virtualenvs/metis/lib/python2.7/site-packages/pandas/core/internals.pyc\u001b[0m in \u001b[0;36mget_reindexed_values\u001b[0;34m(self, empty_dtype, upcasted_na)\u001b[0m\n\u001b[1;32m   4424\u001b[0m                 \u001b[0;31m# External code requested filling/upcasting, bool values must\u001b[0m\u001b[0;34m\u001b[0m\u001b[0;34m\u001b[0m\u001b[0m\n\u001b[1;32m   4425\u001b[0m                 \u001b[0;31m# be upcasted to object to avoid being upcasted to numeric.\u001b[0m\u001b[0;34m\u001b[0m\u001b[0;34m\u001b[0m\u001b[0m\n\u001b[0;32m-> 4426\u001b[0;31m                 \u001b[0mvalues\u001b[0m \u001b[0;34m=\u001b[0m \u001b[0mself\u001b[0m\u001b[0;34m.\u001b[0m\u001b[0mblock\u001b[0m\u001b[0;34m.\u001b[0m\u001b[0mastype\u001b[0m\u001b[0;34m(\u001b[0m\u001b[0mnp\u001b[0m\u001b[0;34m.\u001b[0m\u001b[0mobject_\u001b[0m\u001b[0;34m)\u001b[0m\u001b[0;34m.\u001b[0m\u001b[0mvalues\u001b[0m\u001b[0;34m\u001b[0m\u001b[0m\n\u001b[0m\u001b[1;32m   4427\u001b[0m             \u001b[0;32melse\u001b[0m\u001b[0;34m:\u001b[0m\u001b[0;34m\u001b[0m\u001b[0m\n\u001b[1;32m   4428\u001b[0m                 \u001b[0;31m# No dtype upcasting is done here, it will be performed during\u001b[0m\u001b[0;34m\u001b[0m\u001b[0;34m\u001b[0m\u001b[0m\n",
      "\u001b[0;32m/Users/amangum/Virtualenvs/metis/lib/python2.7/site-packages/pandas/core/internals.pyc\u001b[0m in \u001b[0;36mastype\u001b[0;34m(self, dtype, copy, raise_on_error, values, **kwargs)\u001b[0m\n\u001b[1;32m    371\u001b[0m     \u001b[0;32mdef\u001b[0m \u001b[0mastype\u001b[0m\u001b[0;34m(\u001b[0m\u001b[0mself\u001b[0m\u001b[0;34m,\u001b[0m \u001b[0mdtype\u001b[0m\u001b[0;34m,\u001b[0m \u001b[0mcopy\u001b[0m\u001b[0;34m=\u001b[0m\u001b[0mFalse\u001b[0m\u001b[0;34m,\u001b[0m \u001b[0mraise_on_error\u001b[0m\u001b[0;34m=\u001b[0m\u001b[0mTrue\u001b[0m\u001b[0;34m,\u001b[0m \u001b[0mvalues\u001b[0m\u001b[0;34m=\u001b[0m\u001b[0mNone\u001b[0m\u001b[0;34m,\u001b[0m \u001b[0;34m**\u001b[0m\u001b[0mkwargs\u001b[0m\u001b[0;34m)\u001b[0m\u001b[0;34m:\u001b[0m\u001b[0;34m\u001b[0m\u001b[0m\n\u001b[1;32m    372\u001b[0m         return self._astype(dtype, copy=copy, raise_on_error=raise_on_error,\n\u001b[0;32m--> 373\u001b[0;31m                             values=values, **kwargs)\n\u001b[0m\u001b[1;32m    374\u001b[0m \u001b[0;34m\u001b[0m\u001b[0m\n\u001b[1;32m    375\u001b[0m     def _astype(self, dtype, copy=False, raise_on_error=True, values=None,\n",
      "\u001b[0;32m/Users/amangum/Virtualenvs/metis/lib/python2.7/site-packages/pandas/core/internals.pyc\u001b[0m in \u001b[0;36m_astype\u001b[0;34m(self, dtype, copy, raise_on_error, values, klass)\u001b[0m\n\u001b[1;32m   1769\u001b[0m         return make_block(values,\n\u001b[1;32m   1770\u001b[0m                           \u001b[0mndim\u001b[0m\u001b[0;34m=\u001b[0m\u001b[0mself\u001b[0m\u001b[0;34m.\u001b[0m\u001b[0mndim\u001b[0m\u001b[0;34m,\u001b[0m\u001b[0;34m\u001b[0m\u001b[0m\n\u001b[0;32m-> 1771\u001b[0;31m                           placement=self.mgr_locs)\n\u001b[0m\u001b[1;32m   1772\u001b[0m \u001b[0;34m\u001b[0m\u001b[0m\n\u001b[1;32m   1773\u001b[0m     \u001b[0;32mdef\u001b[0m \u001b[0mto_native_types\u001b[0m\u001b[0;34m(\u001b[0m\u001b[0mself\u001b[0m\u001b[0;34m,\u001b[0m \u001b[0mslicer\u001b[0m\u001b[0;34m=\u001b[0m\u001b[0mNone\u001b[0m\u001b[0;34m,\u001b[0m \u001b[0mna_rep\u001b[0m\u001b[0;34m=\u001b[0m\u001b[0;34m''\u001b[0m\u001b[0;34m,\u001b[0m \u001b[0mquoting\u001b[0m\u001b[0;34m=\u001b[0m\u001b[0mNone\u001b[0m\u001b[0;34m,\u001b[0m \u001b[0;34m**\u001b[0m\u001b[0mkwargs\u001b[0m\u001b[0;34m)\u001b[0m\u001b[0;34m:\u001b[0m\u001b[0;34m\u001b[0m\u001b[0m\n",
      "\u001b[0;32m/Users/amangum/Virtualenvs/metis/lib/python2.7/site-packages/pandas/core/internals.pyc\u001b[0m in \u001b[0;36mmake_block\u001b[0;34m(values, placement, klass, ndim, dtype, fastpath)\u001b[0m\n\u001b[1;32m   2099\u001b[0m \u001b[0;34m\u001b[0m\u001b[0m\n\u001b[1;32m   2100\u001b[0m     return klass(values, ndim=ndim, fastpath=fastpath,\n\u001b[0;32m-> 2101\u001b[0;31m                  placement=placement)\n\u001b[0m\u001b[1;32m   2102\u001b[0m \u001b[0;34m\u001b[0m\u001b[0m\n\u001b[1;32m   2103\u001b[0m \u001b[0;34m\u001b[0m\u001b[0m\n",
      "\u001b[0;32m/Users/amangum/Virtualenvs/metis/lib/python2.7/site-packages/pandas/core/internals.pyc\u001b[0m in \u001b[0;36m__init__\u001b[0;34m(self, values, ndim, fastpath, placement)\u001b[0m\n\u001b[1;32m   1447\u001b[0m         super(ObjectBlock, self).__init__(values, ndim=ndim,\n\u001b[1;32m   1448\u001b[0m                                           \u001b[0mfastpath\u001b[0m\u001b[0;34m=\u001b[0m\u001b[0mfastpath\u001b[0m\u001b[0;34m,\u001b[0m\u001b[0;34m\u001b[0m\u001b[0m\n\u001b[0;32m-> 1449\u001b[0;31m                                           placement=placement)\n\u001b[0m\u001b[1;32m   1450\u001b[0m \u001b[0;34m\u001b[0m\u001b[0m\n\u001b[1;32m   1451\u001b[0m     \u001b[0;34m@\u001b[0m\u001b[0mproperty\u001b[0m\u001b[0;34m\u001b[0m\u001b[0m\n",
      "\u001b[0;32m/Users/amangum/Virtualenvs/metis/lib/python2.7/site-packages/pandas/core/internals.pyc\u001b[0m in \u001b[0;36m__init__\u001b[0;34m(self, values, placement, ndim, fastpath)\u001b[0m\n\u001b[1;32m     66\u001b[0m             \u001b[0mndim\u001b[0m \u001b[0;34m=\u001b[0m \u001b[0mvalues\u001b[0m\u001b[0;34m.\u001b[0m\u001b[0mndim\u001b[0m\u001b[0;34m\u001b[0m\u001b[0m\n\u001b[1;32m     67\u001b[0m         \u001b[0;32melif\u001b[0m \u001b[0mvalues\u001b[0m\u001b[0;34m.\u001b[0m\u001b[0mndim\u001b[0m \u001b[0;34m!=\u001b[0m \u001b[0mndim\u001b[0m\u001b[0;34m:\u001b[0m\u001b[0;34m\u001b[0m\u001b[0m\n\u001b[0;32m---> 68\u001b[0;31m             \u001b[0;32mraise\u001b[0m \u001b[0mValueError\u001b[0m\u001b[0;34m(\u001b[0m\u001b[0;34m'Wrong number of dimensions'\u001b[0m\u001b[0;34m)\u001b[0m\u001b[0;34m\u001b[0m\u001b[0m\n\u001b[0m\u001b[1;32m     69\u001b[0m         \u001b[0mself\u001b[0m\u001b[0;34m.\u001b[0m\u001b[0mndim\u001b[0m \u001b[0;34m=\u001b[0m \u001b[0mndim\u001b[0m\u001b[0;34m\u001b[0m\u001b[0m\n\u001b[1;32m     70\u001b[0m \u001b[0;34m\u001b[0m\u001b[0m\n",
      "\u001b[0;31mValueError\u001b[0m: Wrong number of dimensions"
     ]
    }
   ],
   "source": [
    "flat =  pd.merge(training_response, singles, how='left')"
   ]
  },
  {
   "cell_type": "code",
   "execution_count": null,
   "metadata": {
    "collapsed": true
   },
   "outputs": [],
   "source": [
    "flat.shape"
   ]
  },
  {
   "cell_type": "code",
   "execution_count": 18,
   "metadata": {
    "collapsed": true
   },
   "outputs": [],
   "source": [
    "# del pickled"
   ]
  },
  {
   "cell_type": "code",
   "execution_count": 29,
   "metadata": {
    "collapsed": false
   },
   "outputs": [],
   "source": [
    "test = pickled['review_text'].apply(lambda x: x.decode('utf-8'))"
   ]
  },
  {
   "cell_type": "code",
   "execution_count": 32,
   "metadata": {
    "collapsed": false
   },
   "outputs": [],
   "source": [
    "# pickled['review_text'].apply(lambda x: unicodedata.normalize('NFKD', x.decode('utf-8')).encode('ascii','ignore'))"
   ]
  },
  {
   "cell_type": "code",
   "execution_count": 5,
   "metadata": {
    "collapsed": false
   },
   "outputs": [
    {
     "data": {
      "text/plain": [
       "restaurant_id              object\n",
       "review_text                object\n",
       "user_id                    object\n",
       "restaurant_categories      object\n",
       "restaurant_name            object\n",
       "restaurant_neighborhood    object\n",
       "dtype: object"
      ]
     },
     "execution_count": 5,
     "metadata": {},
     "output_type": "execute_result"
    }
   ],
   "source": [
    "pickled.dtypes[pickled.dtypes=='object']"
   ]
  },
  {
   "cell_type": "code",
   "execution_count": 27,
   "metadata": {
    "collapsed": false
   },
   "outputs": [],
   "source": [
    "types = pickled.apply(lambda x: pd.lib.infer_dtype(x.values))"
   ]
  },
  {
   "cell_type": "code",
   "execution_count": 1,
   "metadata": {
    "collapsed": false
   },
   "outputs": [
    {
     "ename": "NameError",
     "evalue": "name 'types' is not defined",
     "output_type": "error",
     "traceback": [
      "\u001b[0;31m---------------------------------------------------------------------------\u001b[0m",
      "\u001b[0;31mNameError\u001b[0m                                 Traceback (most recent call last)",
      "\u001b[0;32m<ipython-input-1-34d983d2a3a7>\u001b[0m in \u001b[0;36m<module>\u001b[0;34m()\u001b[0m\n\u001b[0;32m----> 1\u001b[0;31m \u001b[0mtypes\u001b[0m\u001b[0;34m[\u001b[0m\u001b[0mtypes\u001b[0m\u001b[0;34m==\u001b[0m\u001b[0;34m'unicode'\u001b[0m\u001b[0;34m]\u001b[0m\u001b[0;34m\u001b[0m\u001b[0m\n\u001b[0m",
      "\u001b[0;31mNameError\u001b[0m: name 'types' is not defined"
     ]
    }
   ],
   "source": [
    "types[types=='unicode']"
   ]
  },
  {
   "cell_type": "code",
   "execution_count": 231,
   "metadata": {
    "collapsed": false
   },
   "outputs": [],
   "source": [
    "test = pd.DataFrame(pickled['restaurant_categories'].tolist(), columns=['restaurant_category_1', 'restaurant_category_2', 'restaurant_category_3', 'restaurant_category_4', 'restaurant_category_5', 'restaurant_category_6', 'restaurant_category_7'])"
   ]
  },
  {
   "cell_type": "code",
   "execution_count": 232,
   "metadata": {
    "collapsed": true
   },
   "outputs": [],
   "source": [
    "cats = test.restaurant_category_1.astype('category').cat.categories.tolist() + test.restaurant_category_2.astype('category').cat.categories.tolist() + test.restaurant_category_3.astype('category').cat.categories.tolist() + test.restaurant_category_4.astype('category').cat.categories.tolist() + test.restaurant_category_5.astype('category').cat.categories.tolist() + test.restaurant_category_6.astype('category').cat.categories.tolist() + test.restaurant_category_7.astype('category').cat.categories.tolist()"
   ]
  },
  {
   "cell_type": "code",
   "execution_count": 237,
   "metadata": {
    "collapsed": false
   },
   "outputs": [],
   "source": [
    "# test.restaurant_category_1.astype('category', categories=set(cats))"
   ]
  },
  {
   "cell_type": "code",
   "execution_count": 30,
   "metadata": {
    "collapsed": false
   },
   "outputs": [
    {
     "data": {
      "text/plain": [
       "0          This is a pretty typical cafe.  The sandwiches...\n",
       "1          I agree with other reviewers - this is a prett...\n",
       "2          Decent enough food, but very overpriced. Just ...\n",
       "3          The muffins are great...esp the blueberry!  I ...\n",
       "4          Well, well, well, look at me reviewing the res...\n",
       "5          The only place downtown where you can get away...\n",
       "6          This is the place I like to go for deli sandwi...\n",
       "7          This is the place I like to go for deli sandwi...\n",
       "8          This is the place I like to go for deli sandwi...\n",
       "9          This is the place I like to go for deli sandwi...\n",
       "10         This is the place I like to go for deli sandwi...\n",
       "11         This is the place I like to go for deli sandwi...\n",
       "12         This is the place I like to go for deli sandwi...\n",
       "13         This is the place I like to go for deli sandwi...\n",
       "14         This is the place I like to go for deli sandwi...\n",
       "15         This is the place I like to go for deli sandwi...\n",
       "16         This is the place I like to go for deli sandwi...\n",
       "17         This is the place I like to go for deli sandwi...\n",
       "18         This is the place I like to go for deli sandwi...\n",
       "19         Delicato is a great place for lunch on the go ...\n",
       "20         Delicato is a great place for lunch on the go ...\n",
       "21         Delicato is a great place for lunch on the go ...\n",
       "22         Delicato is a great place for lunch on the go ...\n",
       "23         Delicato is a great place for lunch on the go ...\n",
       "24         Delicato is a great place for lunch on the go ...\n",
       "25         Delicato is a great place for lunch on the go ...\n",
       "26         Delicato is a great place for lunch on the go ...\n",
       "27         Delicato is a great place for lunch on the go ...\n",
       "28         Delicato is a great place for lunch on the go ...\n",
       "29         Delicato is a great place for lunch on the go ...\n",
       "                                 ...                        \n",
       "4071035    First let me say is never understand how peopl...\n",
       "4071036    First let me say is never understand how peopl...\n",
       "4071037    First let me say is never understand how peopl...\n",
       "4071038    The food's very good.  Their pita and rice are...\n",
       "4071039    The food's very good.  Their pita and rice are...\n",
       "4071040    The food's very good.  Their pita and rice are...\n",
       "4071041                                  Tryin the beef gyro\n",
       "4071042                                  Tryin the beef gyro\n",
       "4071043                                  Tryin the beef gyro\n",
       "4071044    Awesome gyros so fresh so surprisingly good pita!\n",
       "4071045    Awesome gyros so fresh so surprisingly good pita!\n",
       "4071046    Awesome gyros so fresh so surprisingly good pita!\n",
       "4071047                                         Check it out\n",
       "4071048                                         Check it out\n",
       "4071049                                         Check it out\n",
       "4071050    Best for takeout. Only about 7 bar seats again...\n",
       "4071051    Best for takeout. Only about 7 bar seats again...\n",
       "4071052    Best for takeout. Only about 7 bar seats again...\n",
       "4071053    Ordering online is super easy! And if you're l...\n",
       "4071054    Ordering online is super easy! And if you're l...\n",
       "4071055    Ordering online is super easy! And if you're l...\n",
       "4071056         I highly recommend the fried mac and cheese!\n",
       "4071057         I highly recommend the fried mac and cheese!\n",
       "4071058         I highly recommend the fried mac and cheese!\n",
       "4071059    They have super friendly staff. Super attentiv...\n",
       "4071060    They have super friendly staff. Super attentiv...\n",
       "4071061    They have super friendly staff. Super attentiv...\n",
       "4071062    Great spanikopita! Wonderful dolmades! Very ni...\n",
       "4071063    Great spanikopita! Wonderful dolmades! Very ni...\n",
       "4071064    Great spanikopita! Wonderful dolmades! Very ni...\n",
       "Name: review_text, dtype: object"
      ]
     },
     "execution_count": 30,
     "metadata": {},
     "output_type": "execute_result"
    }
   ],
   "source": [
    "import unicodedata\n",
    "pickled['review_text'].apply(lambda x: unicodedata.normalize('NFKD', x).encode('ascii','ignore'))"
   ]
  },
  {
   "cell_type": "code",
   "execution_count": 104,
   "metadata": {
    "collapsed": false
   },
   "outputs": [],
   "source": [
    "for col in types[types=='unicode'].index:\n",
    "    pickled[col] = pickled[col].apply(lambda x: x.encode('ascii','ignore')).astype('str')"
   ]
  },
  {
   "cell_type": "code",
   "execution_count": null,
   "metadata": {
    "collapsed": false
   },
   "outputs": [],
   "source": [
    "store.append('df_mixed', pickled, data_columns=True, dropna=False)"
   ]
  },
  {
   "cell_type": "code",
   "execution_count": 279,
   "metadata": {
    "collapsed": false
   },
   "outputs": [],
   "source": [
    "import data_grab\n",
    "train_df, test_df = data_grab.load_dataframes()"
   ]
  },
  {
   "cell_type": "code",
   "execution_count": 281,
   "metadata": {
    "collapsed": false
   },
   "outputs": [
    {
     "data": {
      "text/plain": [
       "(4071065, 131)"
      ]
     },
     "execution_count": 281,
     "metadata": {},
     "output_type": "execute_result"
    }
   ],
   "source": [
    "train_df.shape"
   ]
  },
  {
   "cell_type": "code",
   "execution_count": 3,
   "metadata": {
    "collapsed": false
   },
   "outputs": [],
   "source": [
    "# pd.set_option('display.max_rows', 100)\n",
    "triplex = train_df.sort('inspection_date').set_index(['restaurant_id','inspection_date', 'review_date'])"
   ]
  },
  {
   "cell_type": "code",
   "execution_count": 4,
   "metadata": {
    "collapsed": false,
    "scrolled": true
   },
   "outputs": [
    {
     "data": {
      "text/html": [
       "<div style=\"max-height:1000px;max-width:1500px;overflow:auto;\">\n",
       "<table border=\"1\" class=\"dataframe\">\n",
       "  <thead>\n",
       "    <tr style=\"text-align: right;\">\n",
       "      <th></th>\n",
       "      <th></th>\n",
       "      <th></th>\n",
       "      <th>tip_likes</th>\n",
       "      <th>review_id</th>\n",
       "      <th>review_stars</th>\n",
       "      <th>review_text</th>\n",
       "      <th>review_type</th>\n",
       "      <th>user_id</th>\n",
       "      <th>review_votes</th>\n",
       "      <th>user_average_stars</th>\n",
       "      <th>user_compliments</th>\n",
       "      <th>user_elite</th>\n",
       "      <th>...</th>\n",
       "      <th>restaurant_state</th>\n",
       "      <th>restaurant_type</th>\n",
       "      <th>checkin_info</th>\n",
       "      <th>checkin_type</th>\n",
       "      <th>inspection_id</th>\n",
       "      <th>*</th>\n",
       "      <th>**</th>\n",
       "      <th>***</th>\n",
       "      <th>time_delta</th>\n",
       "      <th>restaurant_id_number</th>\n",
       "    </tr>\n",
       "    <tr>\n",
       "      <th>restaurant_id</th>\n",
       "      <th>inspection_date</th>\n",
       "      <th>review_date</th>\n",
       "      <th></th>\n",
       "      <th></th>\n",
       "      <th></th>\n",
       "      <th></th>\n",
       "      <th></th>\n",
       "      <th></th>\n",
       "      <th></th>\n",
       "      <th></th>\n",
       "      <th></th>\n",
       "      <th></th>\n",
       "      <th></th>\n",
       "      <th></th>\n",
       "      <th></th>\n",
       "      <th></th>\n",
       "      <th></th>\n",
       "      <th></th>\n",
       "      <th></th>\n",
       "      <th></th>\n",
       "      <th></th>\n",
       "      <th></th>\n",
       "      <th></th>\n",
       "    </tr>\n",
       "  </thead>\n",
       "  <tbody>\n",
       "    <tr>\n",
       "      <th rowspan=\"5\" valign=\"top\">1JEbP4oR</th>\n",
       "      <th rowspan=\"5\" valign=\"top\">2006-10-04</th>\n",
       "      <th>2009-08-23</th>\n",
       "      <td>NaN</td>\n",
       "      <td>-oeRykmfb4hQj_nCbJhzaQ</td>\n",
       "      <td>1</td>\n",
       "      <td>dont eat here, i got food poisining, and i see...</td>\n",
       "      <td>review</td>\n",
       "      <td>pZ6PT1plKcPe43bERqZMzw</td>\n",
       "      <td>{u'funny': 0, u'useful': 0, u'cool': 0}</td>\n",
       "      <td>3.14</td>\n",
       "      <td>{}</td>\n",
       "      <td>[]</td>\n",
       "      <td>...</td>\n",
       "      <td>MA</td>\n",
       "      <td>business</td>\n",
       "      <td>NaN</td>\n",
       "      <td>NaN</td>\n",
       "      <td>10144</td>\n",
       "      <td>0</td>\n",
       "      <td>0</td>\n",
       "      <td>0</td>\n",
       "      <td>-1054</td>\n",
       "      <td>88</td>\n",
       "    </tr>\n",
       "    <tr>\n",
       "      <th>2010-08-23</th>\n",
       "      <td>NaN</td>\n",
       "      <td>w3_pFjG0UZuGU0F6mpFvKg</td>\n",
       "      <td>4</td>\n",
       "      <td>This place makes me happy for two reasons: the...</td>\n",
       "      <td>review</td>\n",
       "      <td>-2ui9VojWKW2UJlGJyLVYg</td>\n",
       "      <td>{u'funny': 0, u'useful': 0, u'cool': 0}</td>\n",
       "      <td>4.11</td>\n",
       "      <td>{u'profile': 1, u'funny': 1, u'hot': 2, u'cool...</td>\n",
       "      <td>[]</td>\n",
       "      <td>...</td>\n",
       "      <td>MA</td>\n",
       "      <td>business</td>\n",
       "      <td>NaN</td>\n",
       "      <td>NaN</td>\n",
       "      <td>10144</td>\n",
       "      <td>0</td>\n",
       "      <td>0</td>\n",
       "      <td>0</td>\n",
       "      <td>-1419</td>\n",
       "      <td>88</td>\n",
       "    </tr>\n",
       "    <tr>\n",
       "      <th>2008-04-28</th>\n",
       "      <td>NaN</td>\n",
       "      <td>6bq0RMIr1sxHjaXnMcFvgg</td>\n",
       "      <td>4</td>\n",
       "      <td>Great under new owner, the food is improving! ...</td>\n",
       "      <td>review</td>\n",
       "      <td>wH0AulL7umy2h5zZG7Tqjw</td>\n",
       "      <td>{u'funny': 0, u'useful': 1, u'cool': 2}</td>\n",
       "      <td>3.94</td>\n",
       "      <td>{u'plain': 1, u'cool': 1}</td>\n",
       "      <td>[]</td>\n",
       "      <td>...</td>\n",
       "      <td>MA</td>\n",
       "      <td>business</td>\n",
       "      <td>NaN</td>\n",
       "      <td>NaN</td>\n",
       "      <td>10144</td>\n",
       "      <td>0</td>\n",
       "      <td>0</td>\n",
       "      <td>0</td>\n",
       "      <td>-572</td>\n",
       "      <td>88</td>\n",
       "    </tr>\n",
       "    <tr>\n",
       "      <th>2010-11-28</th>\n",
       "      <td>NaN</td>\n",
       "      <td>JBrotsf2FTqREoLlQsyUcg</td>\n",
       "      <td>4</td>\n",
       "      <td>Our family sticks to the calimari (when they h...</td>\n",
       "      <td>review</td>\n",
       "      <td>D1V-IlIWoH3UJ7eIrsGamg</td>\n",
       "      <td>{u'funny': 0, u'useful': 0, u'cool': 0}</td>\n",
       "      <td>4.23</td>\n",
       "      <td>{u'funny': 1, u'cool': 1}</td>\n",
       "      <td>[]</td>\n",
       "      <td>...</td>\n",
       "      <td>MA</td>\n",
       "      <td>business</td>\n",
       "      <td>NaN</td>\n",
       "      <td>NaN</td>\n",
       "      <td>10144</td>\n",
       "      <td>0</td>\n",
       "      <td>0</td>\n",
       "      <td>0</td>\n",
       "      <td>-1516</td>\n",
       "      <td>88</td>\n",
       "    </tr>\n",
       "    <tr>\n",
       "      <th>2009-07-04</th>\n",
       "      <td>NaN</td>\n",
       "      <td>zRdsatfS0XlypPzQtxGi2g</td>\n",
       "      <td>3</td>\n",
       "      <td>When I lived in Southie, Fish Pier was about t...</td>\n",
       "      <td>review</td>\n",
       "      <td>IkuSKxJPrOlygcLQqfwdHQ</td>\n",
       "      <td>{u'funny': 0, u'useful': 1, u'cool': 0}</td>\n",
       "      <td>3.55</td>\n",
       "      <td>{u'profile': 1, u'funny': 6, u'cute': 1, u'pla...</td>\n",
       "      <td>[2006, 2007, 2011, 2012, 2013]</td>\n",
       "      <td>...</td>\n",
       "      <td>MA</td>\n",
       "      <td>business</td>\n",
       "      <td>NaN</td>\n",
       "      <td>NaN</td>\n",
       "      <td>10144</td>\n",
       "      <td>0</td>\n",
       "      <td>0</td>\n",
       "      <td>0</td>\n",
       "      <td>-1004</td>\n",
       "      <td>88</td>\n",
       "    </tr>\n",
       "  </tbody>\n",
       "</table>\n",
       "<p>5 rows × 39 columns</p>\n",
       "</div>"
      ],
      "text/plain": [
       "                                           tip_likes               review_id  \\\n",
       "restaurant_id inspection_date review_date                                      \n",
       "1JEbP4oR      2006-10-04      2009-08-23         NaN  -oeRykmfb4hQj_nCbJhzaQ   \n",
       "                              2010-08-23         NaN  w3_pFjG0UZuGU0F6mpFvKg   \n",
       "                              2008-04-28         NaN  6bq0RMIr1sxHjaXnMcFvgg   \n",
       "                              2010-11-28         NaN  JBrotsf2FTqREoLlQsyUcg   \n",
       "                              2009-07-04         NaN  zRdsatfS0XlypPzQtxGi2g   \n",
       "\n",
       "                                           review_stars  \\\n",
       "restaurant_id inspection_date review_date                 \n",
       "1JEbP4oR      2006-10-04      2009-08-23              1   \n",
       "                              2010-08-23              4   \n",
       "                              2008-04-28              4   \n",
       "                              2010-11-28              4   \n",
       "                              2009-07-04              3   \n",
       "\n",
       "                                                                                 review_text  \\\n",
       "restaurant_id inspection_date review_date                                                      \n",
       "1JEbP4oR      2006-10-04      2009-08-23   dont eat here, i got food poisining, and i see...   \n",
       "                              2010-08-23   This place makes me happy for two reasons: the...   \n",
       "                              2008-04-28   Great under new owner, the food is improving! ...   \n",
       "                              2010-11-28   Our family sticks to the calimari (when they h...   \n",
       "                              2009-07-04   When I lived in Southie, Fish Pier was about t...   \n",
       "\n",
       "                                          review_type                 user_id  \\\n",
       "restaurant_id inspection_date review_date                                       \n",
       "1JEbP4oR      2006-10-04      2009-08-23       review  pZ6PT1plKcPe43bERqZMzw   \n",
       "                              2010-08-23       review  -2ui9VojWKW2UJlGJyLVYg   \n",
       "                              2008-04-28       review  wH0AulL7umy2h5zZG7Tqjw   \n",
       "                              2010-11-28       review  D1V-IlIWoH3UJ7eIrsGamg   \n",
       "                              2009-07-04       review  IkuSKxJPrOlygcLQqfwdHQ   \n",
       "\n",
       "                                                                      review_votes  \\\n",
       "restaurant_id inspection_date review_date                                            \n",
       "1JEbP4oR      2006-10-04      2009-08-23   {u'funny': 0, u'useful': 0, u'cool': 0}   \n",
       "                              2010-08-23   {u'funny': 0, u'useful': 0, u'cool': 0}   \n",
       "                              2008-04-28   {u'funny': 0, u'useful': 1, u'cool': 2}   \n",
       "                              2010-11-28   {u'funny': 0, u'useful': 0, u'cool': 0}   \n",
       "                              2009-07-04   {u'funny': 0, u'useful': 1, u'cool': 0}   \n",
       "\n",
       "                                           user_average_stars  \\\n",
       "restaurant_id inspection_date review_date                       \n",
       "1JEbP4oR      2006-10-04      2009-08-23                 3.14   \n",
       "                              2010-08-23                 4.11   \n",
       "                              2008-04-28                 3.94   \n",
       "                              2010-11-28                 4.23   \n",
       "                              2009-07-04                 3.55   \n",
       "\n",
       "                                                                            user_compliments  \\\n",
       "restaurant_id inspection_date review_date                                                      \n",
       "1JEbP4oR      2006-10-04      2009-08-23                                                  {}   \n",
       "                              2010-08-23   {u'profile': 1, u'funny': 1, u'hot': 2, u'cool...   \n",
       "                              2008-04-28                           {u'plain': 1, u'cool': 1}   \n",
       "                              2010-11-28                           {u'funny': 1, u'cool': 1}   \n",
       "                              2009-07-04   {u'profile': 1, u'funny': 6, u'cute': 1, u'pla...   \n",
       "\n",
       "                                                               user_elite  \\\n",
       "restaurant_id inspection_date review_date                                   \n",
       "1JEbP4oR      2006-10-04      2009-08-23                               []   \n",
       "                              2010-08-23                               []   \n",
       "                              2008-04-28                               []   \n",
       "                              2010-11-28                               []   \n",
       "                              2009-07-04   [2006, 2007, 2011, 2012, 2013]   \n",
       "\n",
       "                                                  ...           \\\n",
       "restaurant_id inspection_date review_date         ...            \n",
       "1JEbP4oR      2006-10-04      2009-08-23          ...            \n",
       "                              2010-08-23          ...            \n",
       "                              2008-04-28          ...            \n",
       "                              2010-11-28          ...            \n",
       "                              2009-07-04          ...            \n",
       "\n",
       "                                           restaurant_state restaurant_type  \\\n",
       "restaurant_id inspection_date review_date                                     \n",
       "1JEbP4oR      2006-10-04      2009-08-23                 MA        business   \n",
       "                              2010-08-23                 MA        business   \n",
       "                              2008-04-28                 MA        business   \n",
       "                              2010-11-28                 MA        business   \n",
       "                              2009-07-04                 MA        business   \n",
       "\n",
       "                                          checkin_info  checkin_type  \\\n",
       "restaurant_id inspection_date review_date                              \n",
       "1JEbP4oR      2006-10-04      2009-08-23           NaN           NaN   \n",
       "                              2010-08-23           NaN           NaN   \n",
       "                              2008-04-28           NaN           NaN   \n",
       "                              2010-11-28           NaN           NaN   \n",
       "                              2009-07-04           NaN           NaN   \n",
       "\n",
       "                                          inspection_id  * ** *** time_delta  \\\n",
       "restaurant_id inspection_date review_date                                      \n",
       "1JEbP4oR      2006-10-04      2009-08-23          10144  0  0   0      -1054   \n",
       "                              2010-08-23          10144  0  0   0      -1419   \n",
       "                              2008-04-28          10144  0  0   0       -572   \n",
       "                              2010-11-28          10144  0  0   0      -1516   \n",
       "                              2009-07-04          10144  0  0   0      -1004   \n",
       "\n",
       "                                          restaurant_id_number  \n",
       "restaurant_id inspection_date review_date                       \n",
       "1JEbP4oR      2006-10-04      2009-08-23                    88  \n",
       "                              2010-08-23                    88  \n",
       "                              2008-04-28                    88  \n",
       "                              2010-11-28                    88  \n",
       "                              2009-07-04                    88  \n",
       "\n",
       "[5 rows x 39 columns]"
      ]
     },
     "execution_count": 4,
     "metadata": {},
     "output_type": "execute_result"
    }
   ],
   "source": [
    "triplex.head()"
   ]
  },
  {
   "cell_type": "code",
   "execution_count": 229,
   "metadata": {
    "collapsed": false
   },
   "outputs": [],
   "source": [
    "def pull_features(df):\n",
    "    features = df[['time_delta', 'review_text']]\n",
    "    features.review_text = features.review_text.apply(lambda x: len(x))\n",
    "    response = df[['score_lvl_1', 'score_lvl_2', 'score_lvl_3']].astype(np.float64)\n",
    "    return features, response"
   ]
  },
  {
   "cell_type": "code",
   "execution_count": 230,
   "metadata": {
    "collapsed": false
   },
   "outputs": [],
   "source": [
    "X, y = pull_features(train_df)"
   ]
  },
  {
   "cell_type": "code",
   "execution_count": null,
   "metadata": {
    "collapsed": false
   },
   "outputs": [],
   "source": [
    "from sklearn.linear_model import LinearRegression\n",
    "ols = LinearRegression()\n",
    "model = ols.fit(X,y)"
   ]
  },
  {
   "cell_type": "code",
   "execution_count": null,
   "metadata": {
    "collapsed": false
   },
   "outputs": [],
   "source": [
    "model.score(X,y)"
   ]
  },
  {
   "cell_type": "code",
   "execution_count": 233,
   "metadata": {
    "collapsed": false
   },
   "outputs": [],
   "source": [
    "data = pd.concat([X, y], axis=1)\n",
    "transformed_data = pd.concat([X, train_df['transformed_score']], axis=1)"
   ]
  },
  {
   "cell_type": "code",
   "execution_count": 57,
   "metadata": {
    "collapsed": false
   },
   "outputs": [
    {
     "data": {
      "text/plain": [
       "array([[<matplotlib.axes._subplots.AxesSubplot object at 0x10d1ca650>,\n",
       "        <matplotlib.axes._subplots.AxesSubplot object at 0x1148782d0>]], dtype=object)"
      ]
     },
     "execution_count": 57,
     "metadata": {},
     "output_type": "execute_result"
    },
    {
     "data": {
      "image/png": "[encoded data removed]",
      "text/plain": [
       "<matplotlib.figure.Figure at 0x10ac2dd10>"
      ]
     },
     "metadata": {},
     "output_type": "display_data"
    }
   ],
   "source": [
    "X.hist(bins=50)"
   ]
  },
  {
   "cell_type": "code",
   "execution_count": 221,
   "metadata": {
    "collapsed": false,
    "scrolled": true
   },
   "outputs": [
    {
     "data": {
      "text/plain": [
       "array([[<matplotlib.axes._subplots.AxesSubplot object at 0x1cd8c7390>,\n",
       "        <matplotlib.axes._subplots.AxesSubplot object at 0x2bb2eb650>],\n",
       "       [<matplotlib.axes._subplots.AxesSubplot object at 0x26694dc90>,\n",
       "        <matplotlib.axes._subplots.AxesSubplot object at 0x266939990>]], dtype=object)"
      ]
     },
     "execution_count": 221,
     "metadata": {},
     "output_type": "execute_result"
    },
    {
     "data": {
      "image/png": "[encoded data removed]",
      "text/plain": [
       "<matplotlib.figure.Figure at 0x1cdbdbfd0>"
      ]
     },
     "metadata": {},
     "output_type": "display_data"
    }
   ],
   "source": [
    "y.hist(bins=50)"
   ]
  },
  {
   "cell_type": "code",
   "execution_count": 155,
   "metadata": {
    "collapsed": false
   },
   "outputs": [
    {
     "data": {
      "text/plain": [
       "<matplotlib.axes._subplots.AxesSubplot at 0x1d0952b50>"
      ]
     },
     "execution_count": 155,
     "metadata": {},
     "output_type": "execute_result"
    },
    {
     "data": {
      "image/png": "[encoded data removed]",
      "text/plain": [
       "<matplotlib.figure.Figure at 0x1cf6cce90>"
      ]
     },
     "metadata": {},
     "output_type": "display_data"
    }
   ],
   "source": [
    "trans_y.hist(bins=100)"
   ]
  },
  {
   "cell_type": "code",
   "execution_count": 226,
   "metadata": {
    "collapsed": false
   },
   "outputs": [
    {
     "ename": "NameError",
     "evalue": "name 'X' is not defined",
     "output_type": "error",
     "traceback": [
      "\u001b[0;31m---------------------------------------------------------------------------\u001b[0m",
      "\u001b[0;31mNameError\u001b[0m                                 Traceback (most recent call last)",
      "\u001b[0;32m<ipython-input-226-76cb59bf3114>\u001b[0m in \u001b[0;36m<module>\u001b[0;34m()\u001b[0m\n\u001b[0;32m----> 1\u001b[0;31m \u001b[0mplt\u001b[0m\u001b[0;34m.\u001b[0m\u001b[0mplot\u001b[0m\u001b[0;34m(\u001b[0m\u001b[0mX\u001b[0m\u001b[0;34m[\u001b[0m\u001b[0;34m'review_text'\u001b[0m\u001b[0;34m]\u001b[0m\u001b[0;34m,\u001b[0m \u001b[0my\u001b[0m\u001b[0;34m[\u001b[0m\u001b[0;34m'**'\u001b[0m\u001b[0;34m]\u001b[0m\u001b[0;34m,\u001b[0m \u001b[0;34m'.'\u001b[0m\u001b[0;34m,\u001b[0m \u001b[0malpha\u001b[0m\u001b[0;34m=\u001b[0m\u001b[0;36m.5\u001b[0m\u001b[0;34m)\u001b[0m\u001b[0;34m\u001b[0m\u001b[0m\n\u001b[0m",
      "\u001b[0;31mNameError\u001b[0m: name 'X' is not defined"
     ]
    }
   ],
   "source": [
    "plt.plot(X['review_text'], y['**'], '.', alpha=.5)"
   ]
  },
  {
   "cell_type": "code",
   "execution_count": 169,
   "metadata": {
    "collapsed": false
   },
   "outputs": [
    {
     "data": {
      "image/png": "[encoded data removed]",
      "text/plain": [
       "<matplotlib.figure.Figure at 0x14407a650>"
      ]
     },
     "metadata": {},
     "output_type": "display_data"
    }
   ],
   "source": [
    "f, ax = plt.subplots(figsize=(10, 10))\n",
    "cmap = sns.blend_palette([\"#00008B\", \"#6A5ACD\", \"#F0F8FF\",\n",
    "                          \"#FFE6F8\", \"#C71585\", \"#8B0000\"], as_cmap=True)\n",
    "sns.corrplot(data, annot=False, diag_names=False, cmap=cmap)\n",
    "ax.grid(False);"
   ]
  },
  {
   "cell_type": "code",
   "execution_count": 9,
   "metadata": {
    "collapsed": false
   },
   "outputs": [],
   "source": [
    "import text_processors\n",
    "tfidf_matrix = text_processors.load_tfidf_matrix()"
   ]
  },
  {
   "cell_type": "code",
   "execution_count": 10,
   "metadata": {
    "collapsed": false
   },
   "outputs": [
    {
     "data": {
      "text/plain": [
       "-0.0012309889619115388"
      ]
     },
     "execution_count": 10,
     "metadata": {},
     "output_type": "execute_result"
    }
   ],
   "source": [
    "from sklearn.cross_validation import cross_val_score\n",
    "np.mean(cross_val_score(LinearRegression(), X, y, cv=3))"
   ]
  },
  {
   "cell_type": "code",
   "execution_count": 37,
   "metadata": {
    "collapsed": false
   },
   "outputs": [],
   "source": [
    "scr_lst = []\n",
    "for i in y.columns.tolist():\n",
    "    scr_lst.append(np.mean(cross_val_score(LinearRegression(), X, y[i], cv=3)))"
   ]
  },
  {
   "cell_type": "code",
   "execution_count": 39,
   "metadata": {
    "collapsed": false
   },
   "outputs": [
    {
     "data": {
      "text/plain": [
       "[-0.0012243804254890762, -0.00029430434557065066, -0.0014663357924205773]"
      ]
     },
     "execution_count": 39,
     "metadata": {},
     "output_type": "execute_result"
    }
   ],
   "source": [
    "scr_lst"
   ]
  },
  {
   "cell_type": "code",
   "execution_count": 53,
   "metadata": {
    "collapsed": false
   },
   "outputs": [
    {
     "data": {
      "text/html": [
       "<div style=\"max-height:1000px;max-width:1500px;overflow:auto;\">\n",
       "<table border=\"1\" class=\"dataframe\">\n",
       "  <thead>\n",
       "    <tr style=\"text-align: right;\">\n",
       "      <th></th>\n",
       "      <th>0</th>\n",
       "    </tr>\n",
       "  </thead>\n",
       "  <tbody>\n",
       "    <tr>\n",
       "      <th>0</th>\n",
       "      <td>0.892943</td>\n",
       "    </tr>\n",
       "    <tr>\n",
       "      <th>1</th>\n",
       "      <td>0.867476</td>\n",
       "    </tr>\n",
       "    <tr>\n",
       "      <th>2</th>\n",
       "      <td>0.922157</td>\n",
       "    </tr>\n",
       "    <tr>\n",
       "      <th>3</th>\n",
       "      <td>0.896690</td>\n",
       "    </tr>\n",
       "    <tr>\n",
       "      <th>4</th>\n",
       "      <td>0.925227</td>\n",
       "    </tr>\n",
       "  </tbody>\n",
       "</table>\n",
       "</div>"
      ],
      "text/plain": [
       "          0\n",
       "0  0.892943\n",
       "1  0.867476\n",
       "2  0.922157\n",
       "3  0.896690\n",
       "4  0.925227"
      ]
     },
     "execution_count": 53,
     "metadata": {},
     "output_type": "execute_result"
    }
   ],
   "source": [
    "m2 = LinearRegression().fit(X, y['***']).predict(X_test)\n",
    "pd.DataFrame(m2).head()"
   ]
  },
  {
   "cell_type": "code",
   "execution_count": 18,
   "metadata": {
    "collapsed": false
   },
   "outputs": [],
   "source": [
    "X_test, y_test = pull_features(test_df)"
   ]
  },
  {
   "cell_type": "code",
   "execution_count": 19,
   "metadata": {
    "collapsed": false
   },
   "outputs": [],
   "source": [
    "predictions = model.predict(X_test)\n",
    "# predictions = np.clip(predictions, 0, np.inf)\n",
    "# try clipping after averaging scores also"
   ]
  },
  {
   "cell_type": "code",
   "execution_count": 20,
   "metadata": {
    "collapsed": false
   },
   "outputs": [
    {
     "data": {
      "text/html": [
       "<div style=\"max-height:1000px;max-width:1500px;overflow:auto;\">\n",
       "<table border=\"1\" class=\"dataframe\">\n",
       "  <thead>\n",
       "    <tr style=\"text-align: right;\">\n",
       "      <th></th>\n",
       "      <th>0</th>\n",
       "      <th>1</th>\n",
       "      <th>2</th>\n",
       "    </tr>\n",
       "  </thead>\n",
       "  <tbody>\n",
       "    <tr>\n",
       "      <th>0</th>\n",
       "      <td>4.237228</td>\n",
       "      <td>0.388498</td>\n",
       "      <td>0.892943</td>\n",
       "    </tr>\n",
       "    <tr>\n",
       "      <th>1</th>\n",
       "      <td>4.201040</td>\n",
       "      <td>0.398774</td>\n",
       "      <td>0.867476</td>\n",
       "    </tr>\n",
       "    <tr>\n",
       "      <th>2</th>\n",
       "      <td>4.265308</td>\n",
       "      <td>0.377573</td>\n",
       "      <td>0.922157</td>\n",
       "    </tr>\n",
       "    <tr>\n",
       "      <th>3</th>\n",
       "      <td>4.229120</td>\n",
       "      <td>0.387848</td>\n",
       "      <td>0.896690</td>\n",
       "    </tr>\n",
       "    <tr>\n",
       "      <th>4</th>\n",
       "      <td>4.338169</td>\n",
       "      <td>0.371937</td>\n",
       "      <td>0.925227</td>\n",
       "    </tr>\n",
       "  </tbody>\n",
       "</table>\n",
       "</div>"
      ],
      "text/plain": [
       "          0         1         2\n",
       "0  4.237228  0.388498  0.892943\n",
       "1  4.201040  0.398774  0.867476\n",
       "2  4.265308  0.377573  0.922157\n",
       "3  4.229120  0.387848  0.896690\n",
       "4  4.338169  0.371937  0.925227"
      ]
     },
     "execution_count": 20,
     "metadata": {},
     "output_type": "execute_result"
    }
   ],
   "source": [
    "pd.DataFrame(predictions).head()"
   ]
  },
  {
   "cell_type": "code",
   "execution_count": 73,
   "metadata": {
    "collapsed": false
   },
   "outputs": [],
   "source": [
    "new_submission = data_grab.get_submission().copy()\n",
    "# train_labels, train_targets = data_grab.get_response()"
   ]
  },
  {
   "cell_type": "code",
   "execution_count": 188,
   "metadata": {
    "collapsed": false
   },
   "outputs": [],
   "source": [
    "temp_df = test_df.copy()\n",
    "temp_df[['*','**','***']] = predictions"
   ]
  },
  {
   "cell_type": "code",
   "execution_count": 208,
   "metadata": {
    "collapsed": false
   },
   "outputs": [],
   "source": [
    "submit_scores = temp_df.groupby(['restaurant_id', 'inspection_date', 'inspection_id'])['*','**','***'].mean()"
   ]
  },
  {
   "cell_type": "code",
   "execution_count": 178,
   "metadata": {
    "collapsed": false
   },
   "outputs": [],
   "source": [
    "temp = submit_scores.reset_index().set_index('inspection_id')\n",
    "indexed = temp.reindex(new_submission.index)"
   ]
  },
  {
   "cell_type": "code",
   "execution_count": 85,
   "metadata": {
    "collapsed": false
   },
   "outputs": [
    {
     "data": {
      "text/html": [
       "<div style=\"max-height:1000px;max-width:1500px;overflow:auto;\">\n",
       "<table border=\"1\" class=\"dataframe\">\n",
       "  <thead>\n",
       "    <tr style=\"text-align: right;\">\n",
       "      <th></th>\n",
       "      <th>restaurant_id</th>\n",
       "      <th>inspection_date</th>\n",
       "      <th>*</th>\n",
       "      <th>**</th>\n",
       "      <th>***</th>\n",
       "    </tr>\n",
       "    <tr>\n",
       "      <th>id</th>\n",
       "      <th></th>\n",
       "      <th></th>\n",
       "      <th></th>\n",
       "      <th></th>\n",
       "      <th></th>\n",
       "    </tr>\n",
       "  </thead>\n",
       "  <tbody>\n",
       "    <tr>\n",
       "      <th>14916</th>\n",
       "      <td>nkOvZOBW</td>\n",
       "      <td>2014-12-17</td>\n",
       "      <td>4.271066</td>\n",
       "      <td>0.379941</td>\n",
       "      <td>0.913390</td>\n",
       "    </tr>\n",
       "    <tr>\n",
       "      <th>29767</th>\n",
       "      <td>WwOaAnOB</td>\n",
       "      <td>2013-12-30</td>\n",
       "      <td>4.276481</td>\n",
       "      <td>0.377986</td>\n",
       "      <td>0.918537</td>\n",
       "    </tr>\n",
       "    <tr>\n",
       "      <th>29338</th>\n",
       "      <td>we39kvOk</td>\n",
       "      <td>2011-04-08</td>\n",
       "      <td>4.314311</td>\n",
       "      <td>0.368737</td>\n",
       "      <td>0.940380</td>\n",
       "    </tr>\n",
       "    <tr>\n",
       "      <th>7219</th>\n",
       "      <td>dj3d5Xo9</td>\n",
       "      <td>2013-12-30</td>\n",
       "      <td>4.260858</td>\n",
       "      <td>0.384555</td>\n",
       "      <td>0.900714</td>\n",
       "    </tr>\n",
       "    <tr>\n",
       "      <th>20979</th>\n",
       "      <td>XJ3rBW3R</td>\n",
       "      <td>2008-03-31</td>\n",
       "      <td>4.316896</td>\n",
       "      <td>0.369364</td>\n",
       "      <td>0.937839</td>\n",
       "    </tr>\n",
       "  </tbody>\n",
       "</table>\n",
       "</div>"
      ],
      "text/plain": [
       "      restaurant_id inspection_date         *        **       ***\n",
       "id                                                               \n",
       "14916      nkOvZOBW      2014-12-17  4.271066  0.379941  0.913390\n",
       "29767      WwOaAnOB      2013-12-30  4.276481  0.377986  0.918537\n",
       "29338      we39kvOk      2011-04-08  4.314311  0.368737  0.940380\n",
       "7219       dj3d5Xo9      2013-12-30  4.260858  0.384555  0.900714\n",
       "20979      XJ3rBW3R      2008-03-31  4.316896  0.369364  0.937839"
      ]
     },
     "execution_count": 85,
     "metadata": {},
     "output_type": "execute_result"
    }
   ],
   "source": [
    "indexed.head()"
   ]
  },
  {
   "cell_type": "code",
   "execution_count": 95,
   "metadata": {
    "collapsed": true
   },
   "outputs": [],
   "source": [
    "new_submission.iloc[:, -3:] = np.round(indexed[['*','**','***']]).astype(int)"
   ]
  },
  {
   "cell_type": "code",
   "execution_count": 96,
   "metadata": {
    "collapsed": false
   },
   "outputs": [
    {
     "data": {
      "text/html": [
       "<div style=\"max-height:1000px;max-width:1500px;overflow:auto;\">\n",
       "<table border=\"1\" class=\"dataframe\">\n",
       "  <thead>\n",
       "    <tr style=\"text-align: right;\">\n",
       "      <th></th>\n",
       "      <th>date</th>\n",
       "      <th>restaurant_id</th>\n",
       "      <th>*</th>\n",
       "      <th>**</th>\n",
       "      <th>***</th>\n",
       "    </tr>\n",
       "    <tr>\n",
       "      <th>id</th>\n",
       "      <th></th>\n",
       "      <th></th>\n",
       "      <th></th>\n",
       "      <th></th>\n",
       "      <th></th>\n",
       "    </tr>\n",
       "  </thead>\n",
       "  <tbody>\n",
       "    <tr>\n",
       "      <th>14916</th>\n",
       "      <td>2014-12-17</td>\n",
       "      <td>nkOvZOBW</td>\n",
       "      <td>4</td>\n",
       "      <td>0</td>\n",
       "      <td>1</td>\n",
       "    </tr>\n",
       "    <tr>\n",
       "      <th>29767</th>\n",
       "      <td>2013-12-30</td>\n",
       "      <td>WwOaAnOB</td>\n",
       "      <td>4</td>\n",
       "      <td>0</td>\n",
       "      <td>1</td>\n",
       "    </tr>\n",
       "    <tr>\n",
       "      <th>29338</th>\n",
       "      <td>2011-04-08</td>\n",
       "      <td>we39kvOk</td>\n",
       "      <td>4</td>\n",
       "      <td>0</td>\n",
       "      <td>1</td>\n",
       "    </tr>\n",
       "    <tr>\n",
       "      <th>7219</th>\n",
       "      <td>2013-12-30</td>\n",
       "      <td>dj3d5Xo9</td>\n",
       "      <td>4</td>\n",
       "      <td>0</td>\n",
       "      <td>1</td>\n",
       "    </tr>\n",
       "    <tr>\n",
       "      <th>20979</th>\n",
       "      <td>2008-03-31</td>\n",
       "      <td>XJ3rBW3R</td>\n",
       "      <td>4</td>\n",
       "      <td>0</td>\n",
       "      <td>1</td>\n",
       "    </tr>\n",
       "  </tbody>\n",
       "</table>\n",
       "</div>"
      ],
      "text/plain": [
       "             date restaurant_id  *  **  ***\n",
       "id                                         \n",
       "14916  2014-12-17      nkOvZOBW  4   0    1\n",
       "29767  2013-12-30      WwOaAnOB  4   0    1\n",
       "29338  2011-04-08      we39kvOk  4   0    1\n",
       "7219   2013-12-30      dj3d5Xo9  4   0    1\n",
       "20979  2008-03-31      XJ3rBW3R  4   0    1"
      ]
     },
     "execution_count": 96,
     "metadata": {},
     "output_type": "execute_result"
    }
   ],
   "source": [
    "new_submission.head()"
   ]
  },
  {
   "cell_type": "code",
   "execution_count": 97,
   "metadata": {
    "collapsed": false
   },
   "outputs": [],
   "source": [
    "new_submission.to_csv('predictions/ols.csv')"
   ]
  },
  {
   "cell_type": "code",
   "execution_count": 115,
   "metadata": {
    "collapsed": true
   },
   "outputs": [],
   "source": [
    "#finish plots then work on feature transfomration\n",
    "# make sure that all of the submission restaurants are in the training set\n",
    "# jitter plots\n",
    "# make feature combining algorithm to choose which increase accuracy\n",
    "# with predicted scores clipped before and after averaging\n",
    "# with and without restaurant_id_number included. technically dont need it because each row corresponds with a restaurant"
   ]
  },
  {
   "cell_type": "code",
   "execution_count": 205,
   "metadata": {
    "collapsed": false
   },
   "outputs": [
    {
     "data": {
      "text/plain": [
       "(4071065, 142)"
      ]
     },
     "execution_count": 205,
     "metadata": {},
     "output_type": "execute_result"
    }
   ],
   "source": [
    "train_df.shape"
   ]
  },
  {
   "cell_type": "code",
   "execution_count": null,
   "metadata": {
    "collapsed": true
   },
   "outputs": [],
   "source": []
  }
 ],
 "metadata": {
  "kernelspec": {
   "display_name": "Python 2",
   "language": "python",
   "name": "python2"
  },
  "language_info": {
   "codemirror_mode": {
    "name": "ipython",
    "version": 2
   },
   "file_extension": ".py",
   "mimetype": "text/x-python",
   "name": "python",
   "nbconvert_exporter": "python",
   "pygments_lexer": "ipython2",
   "version": "2.7.10"
  }
 },
 "nbformat": 4,
 "nbformat_minor": 0
}
